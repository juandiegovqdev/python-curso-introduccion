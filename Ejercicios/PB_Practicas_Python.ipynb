{
 "cells": [
  {
   "cell_type": "code",
   "execution_count": 4,
   "id": "554cd2ac",
   "metadata": {},
   "outputs": [],
   "source": [
    "from random import seed\n",
    "from random import randint\n",
    "import time"
   ]
  },
  {
   "cell_type": "code",
   "execution_count": 5,
   "id": "e47e30e7",
   "metadata": {},
   "outputs": [],
   "source": [
    "# Página 23, ejercicio 3.1\n",
    "def ejercicio_3_1(a, b, c):\n",
    "    if a > b and a > c:  # a)\n",
    "        return \"Las ventas del producto A son las más elevadas.\"\n",
    "    elif a > 200 and b > 200 and c > 200:  # b)\n",
    "        return \"Ningún producto tiene unas ventas inferiores a 200.\"\n",
    "    elif a > 400 or b > 400 or c > 400:  # c)\n",
    "        return \"Algún producto tiene unas ventas superiores a 400.\"\n",
    "    elif (a + b + c) / 3 > 500:  # d)\n",
    "        return \"La media de ventas es superior a 500.\"\n",
    "    elif a > b and c > b:  # e)\n",
    "        return \"El producto B no es el más vendido.\"\n",
    "    elif 500 <= (a + b + c) <= 1000:  # f)\n",
    "        return \"El total de ventas esta entre 500 y 1000.\""
   ]
  },
  {
   "cell_type": "code",
   "execution_count": 5,
   "id": "3254dab1",
   "metadata": {},
   "outputs": [],
   "source": [
    "# Test: ejercicio 3.1\n"
   ]
  },
  {
   "cell_type": "code",
   "execution_count": 6,
   "id": "8fcb671a",
   "metadata": {},
   "outputs": [],
   "source": [
    "# Página 23, ejercicio 3.2\n",
    "def ejercicio_3_2(a):\n",
    "    vocales = \"aeiouAEIOU\"\n",
    "    if a.lower() in vocales:\n",
    "        return f'{a} es una vocal.'\n",
    "    elif a == a.lower():\n",
    "        return f'{a} es una letra minúscula.'\n",
    "    else:\n",
    "        return f'{a} no es una vocal.'"
   ]
  },
  {
   "cell_type": "code",
   "execution_count": 7,
   "id": "ef67354b",
   "metadata": {},
   "outputs": [],
   "source": [
    "# Test: ejercicio 3.2\n"
   ]
  },
  {
   "cell_type": "code",
   "execution_count": 10,
   "id": "70eb4503",
   "metadata": {},
   "outputs": [],
   "source": [
    "# Página 23, ejercicio 3.3\n",
    "def ejercicio_3_3(a):\n",
    "    sum = 0\n",
    "    for i in range(1, a):\n",
    "        if i == 1 or i == 2:\n",
    "            sum += i * 10.5\n",
    "        else:\n",
    "            sum += i * 4\n",
    "    return sum"
   ]
  },
  {
   "cell_type": "code",
   "execution_count": 11,
   "id": "84ba13bf",
   "metadata": {},
   "outputs": [
    {
     "data": {
      "text/plain": [
       "79.5"
      ]
     },
     "execution_count": 11,
     "metadata": {},
     "output_type": "execute_result"
    }
   ],
   "source": [
    "# Test: ejercicio 3.3\n",
    "ejercicio_3_3(6)"
   ]
  },
  {
   "cell_type": "code",
   "execution_count": 12,
   "id": "9ce9b8e0",
   "metadata": {},
   "outputs": [],
   "source": [
    "# Página 23, ejercicio 3.4\n",
    "def ejercicio_3_4():\n",
    "    password = \"iloveyou123\"\n",
    "    introducedPass = input(\"Introduce una contraseña: \")\n",
    "    if password == introducedPass:\n",
    "        print(\"La contraseña es correcta.\")\n",
    "    else:\n",
    "        print(\"La contraseña no es correcta.\")\n",
    "        ejercicio_3_4()"
   ]
  },
  {
   "cell_type": "code",
   "execution_count": null,
   "id": "1e4eca26",
   "metadata": {},
   "outputs": [],
   "source": [
    "# Test: ejercicio 3.4\n",
    "ejercicio_3_4()"
   ]
  },
  {
   "cell_type": "code",
   "execution_count": null,
   "id": "cab26a5d",
   "metadata": {},
   "outputs": [],
   "source": [
    "# Página 24, ejercicio 3.5\n",
    "def ejercicio_3_5():\n",
    "    numero = float(input(\"Introduce un número: \"))\n",
    "    if numero > 0:\n",
    "        return \"Positivo.\"\n",
    "    elif numero < 0:\n",
    "        return \"Negativo.\"\n",
    "    else:\n",
    "        return \"Cero.\""
   ]
  },
  {
   "cell_type": "code",
   "execution_count": null,
   "id": "de6054df",
   "metadata": {},
   "outputs": [],
   "source": [
    "# Test: ejercicio 3.5\n",
    "ejercicio_3_5()"
   ]
  },
  {
   "cell_type": "code",
   "execution_count": null,
   "id": "731524bb",
   "metadata": {},
   "outputs": [],
   "source": [
    "# Página 24, ejercicio 3.6\n",
    "def ejercicio_3_6(a, b, c):\n",
    "    if a == b == c:\n",
    "        return \"Es equilatero (tres lados iguales).\"\n",
    "    elif a == b and a == c or b == a and b == c or c == a and c == b:\n",
    "        return \"Es isósceles (dos lados iguales).\"\n",
    "    else:\n",
    "        return \"Es escaleno (tres lados diferentes).\""
   ]
  },
  {
   "cell_type": "code",
   "execution_count": null,
   "id": "d8d08cc1",
   "metadata": {},
   "outputs": [],
   "source": [
    "# Test: ejercicio 3.6\n",
    "ejercicio_3_6(22, 13, 20)"
   ]
  },
  {
   "cell_type": "code",
   "execution_count": null,
   "id": "959ad02c",
   "metadata": {},
   "outputs": [],
   "source": [
    "# Página 24, ejercicio 3.7\n"
   ]
  },
  {
   "cell_type": "code",
   "execution_count": null,
   "id": "7b9bd6d5",
   "metadata": {},
   "outputs": [],
   "source": [
    "# Test: ejercicio 3.7\n"
   ]
  },
  {
   "cell_type": "code",
   "execution_count": null,
   "id": "f3f5cd9a",
   "metadata": {},
   "outputs": [],
   "source": [
    "# Página 24, ejercicio 3.8\n"
   ]
  },
  {
   "cell_type": "code",
   "execution_count": null,
   "id": "b6bde0fe",
   "metadata": {},
   "outputs": [],
   "source": [
    "# Test: ejercicio 3.8\n"
   ]
  },
  {
   "cell_type": "code",
   "execution_count": null,
   "id": "91826619",
   "metadata": {},
   "outputs": [],
   "source": [
    "# Página 25, ejercicio 3.9\n",
    "def ejercicio_3_9(a, b):\n",
    "    if a == 0 and b != 0:\n",
    "        return \"No existe resolución.\"\n",
    "    elif a == 0 and b == 0:\n",
    "        return \"Existen soluciones infinitas.\"\n",
    "    else:\n",
    "        return f\"Solución: {-b / a}\""
   ]
  },
  {
   "cell_type": "code",
   "execution_count": null,
   "id": "17ad344a",
   "metadata": {},
   "outputs": [],
   "source": [
    "# Test: ejercicio 3.9\n"
   ]
  },
  {
   "cell_type": "code",
   "execution_count": null,
   "id": "b046ddce",
   "metadata": {},
   "outputs": [],
   "source": [
    "# Página 25, ejercicio 3.10\n",
    "def ejercicio_3_10():\n",
    "    tamano = float(input(\"Introduce el tamaño del tornillo (tamaño de 1 cm a 8.5 cm): \"))\n",
    "    if 1 <= tamano <= 3:\n",
    "        return \"Pequeño.\"\n",
    "    elif 3 <= tamano <= 5:\n",
    "        return \"Mediano.\"\n",
    "    elif 5 <= tamano <= 6.5:\n",
    "        return \"Grande.\"\n",
    "    else:\n",
    "        return \"Muy grande.\""
   ]
  },
  {
   "cell_type": "code",
   "execution_count": null,
   "id": "383a5803",
   "metadata": {},
   "outputs": [],
   "source": [
    "# Test: ejercicio 3.10\n",
    "ejercicio_3_10()"
   ]
  },
  {
   "cell_type": "code",
   "execution_count": null,
   "id": "ae6e556f",
   "metadata": {},
   "outputs": [],
   "source": [
    "# Página 25, ejercicio 3.11\n"
   ]
  },
  {
   "cell_type": "code",
   "execution_count": null,
   "id": "9e264f65",
   "metadata": {},
   "outputs": [],
   "source": [
    "# Test: ejercicio 3.11\n"
   ]
  },
  {
   "cell_type": "code",
   "execution_count": null,
   "id": "89abd826",
   "metadata": {},
   "outputs": [],
   "source": [
    "# Página 25, ejercicio 3.12\n",
    "# Si a < b: devuelve a si a es menor que c, si no, devuelve c.\n",
    "# Si a => b: devuelve b si b < c, si no, devuelve c.\n",
    "#\n",
    "# Una vez ha realizado todos esos cálculos, devuelve el resultado en un print,\n",
    "# mostrando por pantalla también el texto \"Resultado: \"."
   ]
  },
  {
   "cell_type": "code",
   "execution_count": null,
   "id": "26ac8ff3",
   "metadata": {},
   "outputs": [],
   "source": [
    "# Test: ejercicio 3.12\n"
   ]
  },
  {
   "cell_type": "code",
   "execution_count": null,
   "id": "df65d783",
   "metadata": {},
   "outputs": [],
   "source": [
    "# Página 25, ejercicio 3.13\n"
   ]
  },
  {
   "cell_type": "code",
   "execution_count": null,
   "id": "27c30359",
   "metadata": {},
   "outputs": [],
   "source": [
    "# Test: ejercicio 3.13\n"
   ]
  },
  {
   "cell_type": "code",
   "execution_count": null,
   "id": "7cea3dd0",
   "metadata": {},
   "outputs": [],
   "source": [
    "# Página 26, ejercicio 3.14\n",
    "def ejercicio_3_14(a, b, c):\n",
    "    # if a == 0:\n",
    "    #     return ej9(b, c) , x2(a, c, b)\n",
    "    # elif b*b-4*a*c < 0:\n",
    "    return x1(a, c, b), x2(a, c, b)\n",
    "\n",
    "def x1(a, b, c):\n",
    "    return (-b + math.qrt(b * b - 4 * a * c)) / (2 * a)\n",
    "\n",
    "def x2(a, c, b):\n",
    "    return (-b - math.qrt(b * b - 4 * a * c)) / (2 * a)"
   ]
  },
  {
   "cell_type": "code",
   "execution_count": null,
   "id": "6c22f6fd",
   "metadata": {},
   "outputs": [],
   "source": [
    "# Test: ejercicio 3.14\n"
   ]
  },
  {
   "cell_type": "code",
   "execution_count": null,
   "id": "2411d325",
   "metadata": {},
   "outputs": [],
   "source": [
    "# Página 26, ejercicio 3.15\n"
   ]
  },
  {
   "cell_type": "code",
   "execution_count": null,
   "id": "3d6db7c6",
   "metadata": {},
   "outputs": [],
   "source": [
    "# Test: ejercicio 3.15\n"
   ]
  },
  {
   "cell_type": "code",
   "execution_count": 1,
   "id": "01465cba",
   "metadata": {},
   "outputs": [],
   "source": [
    "# Página 31, ejercicio 4.12\n",
    "def ejercicio_4_12(anchura):\n",
    "    reversed_range = range(anchura, 0, -1)\n",
    "    \n",
    "    for i in range(0, anchura):\n",
    "        printAsteriscos(i)\n",
    "        \n",
    "    for i in reversed_range:\n",
    "        printAsteriscos(i)"
   ]
  },
  {
   "cell_type": "code",
   "execution_count": 2,
   "id": "97d35bd0",
   "metadata": {},
   "outputs": [],
   "source": [
    "#Pista: primero haz un programa que imprima una línea de asteriscos de una determinada longitud.\n",
    "def printAsteriscos(numero):\n",
    "    pintar = \"\"\n",
    "    for i in range(1, numero+1):\n",
    "        pintar = pintar + \"*\"\n",
    "        \n",
    "    print(pintar)"
   ]
  },
  {
   "cell_type": "code",
   "execution_count": 3,
   "id": "236d2396",
   "metadata": {},
   "outputs": [
    {
     "name": "stdout",
     "output_type": "stream",
     "text": [
      "\n",
      "*\n",
      "**\n",
      "***\n",
      "****\n",
      "*****\n",
      "****\n",
      "***\n",
      "**\n",
      "*\n"
     ]
    }
   ],
   "source": [
    "# Test: ejercicio 4.12\n",
    "ejercicio_4_12(5)"
   ]
  },
  {
   "cell_type": "code",
   "execution_count": 5,
   "id": "a5abf0e6",
   "metadata": {},
   "outputs": [],
   "source": [
    "# Página 29, ejercicio 4.5\n",
    "def ejercicio_4_5():\n",
    "    return 0\n",
    "\n",
    "def ejercicio_4_5_a():\n",
    "    a = input(\"Introduce el primer número: \")\n",
    "    b = input(\"Introduce el segundo número: \")\n",
    "    while(b < a):\n",
    "        b = input(\"Introduce el segundo número: \")\n",
    "    \n",
    "    return (a, b)\n",
    "\n",
    "def ejercicio_4_5_b():\n",
    "    a = input(\"Introduce un número: \")\n",
    "    b = input(\"Introduce otro número: \")\n",
    "    while(b > a):\n",
    "        a = b\n",
    "        b = input(\"Introduce otro número: \")\n",
    "    return 0\n",
    "\n",
    "def ejercicio_4_5_c():\n",
    "    limite = input(\"Introduce un límite: \")\n",
    "    sum = 0\n",
    "    while (sum < limite):\n",
    "        aux = input(\"Introduce un número a sumar: \")\n",
    "        sum += aux\n",
    "\n",
    "def ejercicio_4_5_d():\n",
    "    return 0\n",
    "\n",
    "def ejercicio_4_5_e():\n",
    "    return 0\n",
    "\n",
    "def ejercicio_4_5_f():\n",
    "    return 0"
   ]
  },
  {
   "cell_type": "code",
   "execution_count": 3,
   "id": "05219b3f",
   "metadata": {},
   "outputs": [],
   "source": [
    "# Test: ejercicio 4.5"
   ]
  },
  {
   "cell_type": "code",
   "execution_count": null,
   "id": "14b601f1",
   "metadata": {},
   "outputs": [],
   "source": [
    "# Página 29, ejercicio 4.6\n",
    "def ejercicio_4_6():\n",
    "    crono = time.time()\n",
    "    valor = randint(0, 100)"
   ]
  },
  {
   "cell_type": "code",
   "execution_count": null,
   "id": "634f52ea",
   "metadata": {},
   "outputs": [],
   "source": [
    "# Test: ejercicio X.XX \n"
   ]
  },
  {
   "cell_type": "code",
   "execution_count": null,
   "id": "2ad92844",
   "metadata": {},
   "outputs": [],
   "source": [
    "# Página XX, ejercicio X.XX\n"
   ]
  },
  {
   "cell_type": "code",
   "execution_count": null,
   "id": "93da8ba8",
   "metadata": {},
   "outputs": [],
   "source": [
    "# Test: ejercicio X.XX \n"
   ]
  },
  {
   "cell_type": "code",
   "execution_count": null,
   "id": "1ab96a1e",
   "metadata": {},
   "outputs": [],
   "source": [
    "# Página XX, ejercicio X.XX\n"
   ]
  },
  {
   "cell_type": "code",
   "execution_count": null,
   "id": "dd603836",
   "metadata": {},
   "outputs": [],
   "source": [
    "# Test: ejercicio X.XX \n"
   ]
  },
  {
   "cell_type": "code",
   "execution_count": null,
   "id": "8210f1fb",
   "metadata": {},
   "outputs": [],
   "source": [
    "# Página XX, ejercicio X.XX\n"
   ]
  },
  {
   "cell_type": "code",
   "execution_count": null,
   "id": "1267ca35",
   "metadata": {},
   "outputs": [],
   "source": [
    "# Test: ejercicio X.XX \n"
   ]
  },
  {
   "cell_type": "code",
   "execution_count": null,
   "id": "88a4a0bf",
   "metadata": {},
   "outputs": [],
   "source": [
    "# Página XX, ejercicio X.XX\n"
   ]
  },
  {
   "cell_type": "code",
   "execution_count": null,
   "id": "42f46ff6",
   "metadata": {},
   "outputs": [],
   "source": [
    "# Test: ejercicio X.XX \n"
   ]
  },
  {
   "cell_type": "code",
   "execution_count": null,
   "id": "446767cb",
   "metadata": {},
   "outputs": [],
   "source": [
    "# Página XX, ejercicio X.XX\n"
   ]
  },
  {
   "cell_type": "code",
   "execution_count": null,
   "id": "483eb181",
   "metadata": {},
   "outputs": [],
   "source": [
    "# Test: ejercicio X.XX \n"
   ]
  },
  {
   "cell_type": "code",
   "execution_count": null,
   "id": "57d01808",
   "metadata": {},
   "outputs": [],
   "source": [
    "# Página XX, ejercicio X.XX"
   ]
  },
  {
   "cell_type": "code",
   "execution_count": null,
   "id": "111fe5ca",
   "metadata": {},
   "outputs": [],
   "source": [
    "# Test: ejercicio X.XX "
   ]
  },
  {
   "cell_type": "code",
   "execution_count": null,
   "id": "3056162e",
   "metadata": {},
   "outputs": [],
   "source": [
    "# Página XX, ejercicio X.XX"
   ]
  },
  {
   "cell_type": "code",
   "execution_count": null,
   "id": "4dd03dda",
   "metadata": {},
   "outputs": [],
   "source": [
    "# Test: ejercicio X.XX "
   ]
  },
  {
   "cell_type": "code",
   "execution_count": null,
   "id": "eb9fb778",
   "metadata": {},
   "outputs": [],
   "source": [
    "# Página XX, ejercicio X.XX"
   ]
  },
  {
   "cell_type": "code",
   "execution_count": null,
   "id": "91a14fda",
   "metadata": {},
   "outputs": [],
   "source": [
    "# Test: ejercicio X.XX "
   ]
  },
  {
   "cell_type": "code",
   "execution_count": null,
   "id": "73671bfc",
   "metadata": {},
   "outputs": [],
   "source": [
    "# Página XX, ejercicio X.XX"
   ]
  },
  {
   "cell_type": "code",
   "execution_count": null,
   "id": "a3929ed0",
   "metadata": {},
   "outputs": [],
   "source": [
    "# Test: ejercicio X.XX "
   ]
  },
  {
   "cell_type": "code",
   "execution_count": null,
   "id": "29dade28",
   "metadata": {},
   "outputs": [],
   "source": [
    "# Página XX, ejercicio X.XX"
   ]
  },
  {
   "cell_type": "code",
   "execution_count": null,
   "id": "f310b982",
   "metadata": {},
   "outputs": [],
   "source": [
    "# Test: ejercicio X.XX "
   ]
  },
  {
   "cell_type": "code",
   "execution_count": null,
   "id": "ea19a15e",
   "metadata": {},
   "outputs": [],
   "source": [
    "# Página XX, ejercicio X.XX"
   ]
  },
  {
   "cell_type": "code",
   "execution_count": null,
   "id": "d097d622",
   "metadata": {},
   "outputs": [],
   "source": [
    "# Test: ejercicio X.XX "
   ]
  },
  {
   "cell_type": "code",
   "execution_count": null,
   "id": "a388e299",
   "metadata": {},
   "outputs": [],
   "source": [
    "# Página XX, ejercicio X.XX"
   ]
  },
  {
   "cell_type": "code",
   "execution_count": null,
   "id": "9d856d5b",
   "metadata": {},
   "outputs": [],
   "source": [
    "# Test: ejercicio X.XX "
   ]
  },
  {
   "cell_type": "code",
   "execution_count": null,
   "id": "6eedb60b",
   "metadata": {},
   "outputs": [],
   "source": [
    "# Página XX, ejercicio X.XX"
   ]
  },
  {
   "cell_type": "code",
   "execution_count": null,
   "id": "c4cf54f7",
   "metadata": {},
   "outputs": [],
   "source": [
    "# Test: ejercicio X.XX "
   ]
  }
 ],
 "metadata": {
  "kernelspec": {
   "display_name": "Python 3",
   "language": "python",
   "name": "python3"
  },
  "language_info": {
   "codemirror_mode": {
    "name": "ipython",
    "version": 3
   },
   "file_extension": ".py",
   "mimetype": "text/x-python",
   "name": "python",
   "nbconvert_exporter": "python",
   "pygments_lexer": "ipython3",
   "version": "3.8.8"
  }
 },
 "nbformat": 4,
 "nbformat_minor": 5
}
