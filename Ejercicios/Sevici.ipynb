{
 "cells": [
  {
   "cell_type": "markdown",
   "metadata": {},
   "source": [
    "# Ejercicio: Servicio de alquiler de bicicletas públicas de Sevilla (Sevici)\n",
    "**Autor**: Mariano González.      **Revisores**: Carlos G. Vallejo, José A. Troyano, Fermín Cruz.     **Última modificación:** 08/11/2018"
   ]
  },
  {
   "cell_type": "markdown",
   "metadata": {},
   "source": [
    "En este ejercicio vamos a trabajar con la red de estaciones del servicio de alquiler de bicicletas de Sevilla, Sevici. Para ello disponemos de los datos de las estaciones, obtenidos de https://citybik.es/.\n",
    "\n",
    "En primer lugar leeremos los datos de las estaciones desde un fichero CSV. Realizaremos algunas operaciones con los datos, como obtener las estaciones con bicicletas libres o las estaciones más próximas a nuestra ubicación. Finalmente, dibujaremos sobre el mapa las estaciones, distinguiendo entre las que tienen bicicletas disponibles y las que no las tienen.\n",
    "\n",
    "Las funciones que vamos a desarrollar son las siguientes:\n",
    "\n",
    "1. lee_estaciones: lee los datos de las estaciones desde un fichero csv\n",
    "2. estaciones_bicis_libres: crea una lista con las estaciones que tienen bicicletas libres, ordenada por el número de bicis libres\n",
    "3. calcula_distancia: calcular la distancia a una estación desde un punto dado\n",
    "4. estaciones_cercanas: crea una lista con las estaciones con bicis libres más cercanas a un punto dado, ordenadas de la más cercana a la más lejana\n",
    "5. ubicacion_estaciones: crear una lista con las coordenadas de todas las estaciones\n",
    "6. ubicacion_estaciones_libres: crear una lista con las coordenadas de todas las estaciones que tienen bicicletas libres"
   ]
  },
  {
   "cell_type": "markdown",
   "metadata": {},
   "source": [
    "## 1. Carga de datos\n",
    "Se dispone de los datos de las estaciones de la red de Sevici. Los datos se encuentran en un fichero CSV. Cada línea del fichero contiene seis datos:\n",
    "\n",
    "    Nombre de la estación\n",
    "    Número total de bornetas de la estación\n",
    "    Número de bornetas vacías\n",
    "    Número de bicicletas disponibles\n",
    "    Latitud\n",
    "    Longitud\n",
    "\n",
    "Los datos dependen del instante en que se obtiene el fichero, ya que el número de bicicletas y bornetas libres varía de forma continua. Estan serían, por ejemplo, las primeras líneas del fichero en un momento dado:\n",
    "\n",
    "        name,slots,empty_slots,free_bikes,latitude,longitude\n",
    "        149_CALLE ARROYO,20,11,9,37.397829929383,-5.97567172039552\n",
    "        257_TORRES ALBARRACIN,20,16,4,37.38376948792722,-5.908921914235877\n",
    "        243_GLORIETA DEL PRIMERO DE MAYO,15,6,9,37.380439481169994,-5.953481197462845\n",
    "        109_AVENIDA SAN FRANCISCO JAVIER,15,1,14,37.37988413609134,-5.974382770011586\n",
    "        073_PLAZA SAN AGUSTIN,15,10,4,37.38951386231434,-5.984362789545622\n",
    "\n",
    "Los principales aspectos que tendremos que resolver a la hora de procesar estos datos de entrada serán saltar la línea de encabezado del fichero, separar adecuadamente los campos mediante las comas e interpretar el formato de cada uno de los campos, que puede ser de tipo cadena, entero o real.\n",
    "\n",
    "Para resolver estos problemas haremos uso de algunas utilidades disponibles en la librería estándar de Python. En concreto, antes de empezar, deberemos importar los siguientes elementos:"
   ]
  },
  {
   "cell_type": "code",
   "execution_count": null,
   "metadata": {},
   "outputs": [],
   "source": [
    "import csv\n",
    "from math import sqrt\n",
    "from matplotlib import pyplot as plt\n",
    "from matplotlib import image as mpimg\n",
    "from collections import namedtuple"
   ]
  },
  {
   "cell_type": "markdown",
   "metadata": {},
   "source": [
    "### 1.1 Función de lectura de datos"
   ]
  },
  {
   "cell_type": "markdown",
   "metadata": {},
   "source": [
    "La siguiente función será la encargada de leer el fichero con las estaciones y construir a partir de él una estructura de datos en memoria."
   ]
  },
  {
   "cell_type": "code",
   "execution_count": null,
   "metadata": {},
   "outputs": [],
   "source": [
    "# Creación de un tipo de namedtuple para las estaciones\n",
    "Estacion = namedtuple('Estacion', 'nombre bornetas bornetas_vacias bicis_disponibles latitud longitud')\n",
    "\n",
    "# Función de lectura que crea una lista de Estaciones\n",
    "def lee_estaciones(fichero):\n",
    "    ''' Lee el fichero de datos y devuelve una lista de estaciones\n",
    "    \n",
    "    ENTRADA: \n",
    "       - fichero: nombre del fichero CSV -> str\n",
    "    SALIDA: \n",
    "       - lista de estaciones -> [Estacion(str, int, int, int, float, float)] \n",
    "    \n",
    "    Cada estación se representa con una tupla con los siguientes valores:\n",
    "    - Nombre de la estación\n",
    "    - Número total de bornetas\n",
    "    - Número de bornetas vacías\n",
    "    - Número de bicicletas disponibles\n",
    "    - Latitud\n",
    "    - Longitud\n",
    "    Usaremos el módulo csv de la librería estándar de Python para leer el\n",
    "    fichero de entrada.\n",
    "    Hay que saltar la línea de encabezado del fichero y comenzar a leer los datos\n",
    "    a partir de la segunda línea.\n",
    "    Hay que realizar un pequeño procesamiento con los datos numéricos. Hay que\n",
    "    pasar del formato cadena (que es lo que se interpreta al leer el csv) a un\n",
    "    valor numérico (para poder aplicar operaciones matemáticas si fuese necesario).\n",
    "    '''\n",
    "    pass"
   ]
  },
  {
   "cell_type": "code",
   "execution_count": null,
   "metadata": {},
   "outputs": [],
   "source": [
    "# Test de la función lee_estaciones\n",
    "estaciones_sevici = lee_estaciones('./data/estaciones.csv')\n",
    "print(estaciones_sevici[:5])"
   ]
  },
  {
   "cell_type": "markdown",
   "metadata": {},
   "source": [
    "## 2. Operaciones de consulta"
   ]
  },
  {
   "cell_type": "markdown",
   "metadata": {},
   "source": [
    "En esta sección veremos una serie de funciones que nos permitirán filtrar y extraer informaciones de la estructura de datos que estamos manejando para representar las estaciones (una lista de tuplas). Utilizaremos estas funciones de _consulta_ en distintos puntos del resto del ejercicio."
   ]
  },
  {
   "cell_type": "markdown",
   "metadata": {},
   "source": [
    "### 2.1 Estaciones con bicicletas libres"
   ]
  },
  {
   "cell_type": "markdown",
   "metadata": {},
   "source": [
    "La primera función de este tipo creará una lista con las estaciones que tienen un número de bicicletas libres superior a un valor dado, que por defecto es 5. La lista de salida estará formada por tuplas con dos elementos, el número de bicicletas libres y el nombre de la estación, y estará ordenada por el número de bicicletas libres"
   ]
  },
  {
   "cell_type": "code",
   "execution_count": null,
   "metadata": {},
   "outputs": [],
   "source": [
    "def estaciones_bicis_libres(estaciones, k=5):\n",
    "    ''' Estaciones que tienen bicicletas libres\n",
    "    \n",
    "    ENTRADA: \n",
    "       - estaciones: lista de estaciones disponibles -> [Estacion(str, int, int, int, float, float)]\n",
    "       - k: número mínimo requerido de bicicletas -> int\n",
    "    SALIDA: \n",
    "       - lista de estaciones seleccionadas -> [(int, str)] \n",
    "    \n",
    "    Toma como entrada una lista de estaciones y un número k.\n",
    "    Crea una lista formada por tuplas (número de bicicletas libres, nombre)\n",
    "    de las estaciones que tienen al menos k bicicletas libres. La lista\n",
    "    estará ordenada por el número de bicicletas libres.\n",
    "    '''\n",
    "    pass"
   ]
  },
  {
   "cell_type": "code",
   "execution_count": null,
   "metadata": {},
   "outputs": [],
   "source": [
    "# Test de la función estaciones_bicis_libres\n",
    "libres1 = estaciones_bicis_libres(estaciones_sevici)\n",
    "print(\"Hay\", len(libres1), \"estaciones con 5 o más bicis libres:\", libres1[:5])\n",
    "libres2 = estaciones_bicis_libres(estaciones_sevici, 10)\n",
    "print(\"Hay\", len(libres2), \"estaciones con 10 o más bicis libres:\", libres2[:5])\n",
    "libres3 = estaciones_bicis_libres(estaciones_sevici, 1)\n",
    "print(\"Hay\", len(libres3), \"estaciones con al menos una bici libre:\", libres3[:5])"
   ]
  },
  {
   "cell_type": "markdown",
   "metadata": {},
   "source": [
    "### 2.2 Estaciones cercanas a una ubicación"
   ]
  },
  {
   "cell_type": "markdown",
   "metadata": {},
   "source": [
    "La segunda función de consulta creará una lista con las estaciones más próximas a un punto dado que tengan bicicletas libres.\n",
    "\n",
    "En primer lugar vamos a escribir una función que calcule la distancia entre dos puntos dados por su latitud y longitud. Esta función nos permitirá calcular la distancia entre un punto (nuestra ubicación, por ejemplo) y las estaciones cercanas. Utilizaremos la distancia euclídea con una pequeña modificación para tener en cuenta el número de bicicletas libres que hay en la estación. El motivo es el siguiente: si tenemos dos estaciones a una distancia similar, lo más lógico es elegir aquella que tenga más bicicletas libres, ya que será más probable que encontremos una bicicleta cuando lleguemos a la estación.\n",
    "\n",
    "La fórmula que usaremos para calcular la distancia entre una ubicación dada por las coordenadas $(x, y)$ y una estación dada por las coordenadas $(xe, ye)$ que tiene $fb$ bicicletas libres será la siguiente:\n",
    "\n",
    "$$\n",
    "distancia = \\sqrt {(xe-x)^2 + (ye-y)^2} * (1 - \\frac{fb}{100})\n",
    "$$"
   ]
  },
  {
   "cell_type": "code",
   "execution_count": null,
   "metadata": {},
   "outputs": [],
   "source": [
    "def calcula_distancia(x1, y1, x2, y2, fb):\n",
    "    ''' Distancia entre un punto y una estación\n",
    "    \n",
    "    ENTRADA: \n",
    "       - x1: latitud del primer punto -> float\n",
    "       - y1: longitud del primer punto -> float\n",
    "       - x2: latitud del segundo punto -> float\n",
    "       - y2: longitud del segundo punto -> float\n",
    "       - fb: número de bicicletas libres -> int\n",
    "    SALIDA: \n",
    "       - distancia entre un punto y una estación -> float \n",
    "    \n",
    "    Toma como entrada la latitud y longitud de un punto, la longitud y\n",
    "    latitud de una estación y el número de bicicletas libres de la estación.\n",
    "    Calcula la distancia entre el punto y la estación aplicando la fórmula\n",
    "    \n",
    "        distancia = sqrt((x2-x1)**2 + (y2-y1)**2) * (1 - fb/100)\n",
    "    '''\n",
    "    pass"
   ]
  },
  {
   "cell_type": "markdown",
   "metadata": {},
   "source": [
    "Ahora vamos a escribir la función que calcula las estaciones más cercanas a una ubicación dada y que tienen bicicletas libres, utilizando la función anterior para calcular la distancia desde la ubicación hasta cada estación.\n",
    "\n",
    "La función recibe la lista de estaciones, las coordenadas de la ubicación y un número k, y crea una lista con las k estaciones más cercanas a la ubicación, ordenadas de menor a mayor distancia. La lista resultante está formada por tuplas con tres elementos: la distancia a la ubicación, el nombre de la estación y el número de bicicletas libres de la estación."
   ]
  },
  {
   "cell_type": "code",
   "execution_count": null,
   "metadata": {},
   "outputs": [],
   "source": [
    "def estaciones_cercanas(estaciones, latitud, longitud, k=5):\n",
    "    ''' Estaciones cercanas a un punto dado\n",
    "    \n",
    "    ENTRADA: \n",
    "       - estaciones: lista de estaciones disponibles -> [Estacion(str, int, int, int, float, float)]\n",
    "       - latitud: latitud del punto -> float\n",
    "       - longitud: longitud del punto -> float\n",
    "       - k: número de estaciones cercanas a calcular -> int\n",
    "    SALIDA: \n",
    "       - distancia, nombre y bicicletas libres de las estaciones seleccionadas -> [(float, str, int)] \n",
    "    \n",
    "    Toma como entrada una lista de estaciones, la latitud y longitud de un punto y\n",
    "    un valor k.\n",
    "    Crea una lista formada por tuplas (distancia, nombre de estación, bicicletas libres)\n",
    "    con las k estaciones con bicicletas libres más cercanas al punto dado, ordenada por\n",
    "    su distancia al punto.\n",
    "    '''\n",
    "    pass"
   ]
  },
  {
   "cell_type": "code",
   "execution_count": null,
   "metadata": {},
   "outputs": [],
   "source": [
    "# Test de la función\n",
    "cerca_de_mi = estaciones_cercanas(estaciones_sevici, 37.357659, -5.9863)\n",
    "print(cerca_de_mi)"
   ]
  },
  {
   "cell_type": "markdown",
   "metadata": {},
   "source": [
    "## 3. Visualización de estaciones"
   ]
  },
  {
   "cell_type": "markdown",
   "metadata": {},
   "source": [
    "Vamos a visualizar gráficamente algunos resultados. Para ello dibujaremos un mapa y sobre él marcaremos las estaciones que cumplan algunos requisitos, como por ejemplo tener un número mínimo de bicicletas libres.\n",
    "\n",
    "Ejecuta en primer lugar las dos siguientes funciones. La primera carga una imagen y la coloca como fondo del gráfico. La segunda muestra un conjunto de puntos que representan estaciones en la red. En las funciones que escribiremos más adelante llamaremos a estas funciones para crear el mapa y dibujar sobre él las estaciones."
   ]
  },
  {
   "cell_type": "code",
   "execution_count": null,
   "metadata": {},
   "outputs": [],
   "source": [
    "def dibuja_mapa():\n",
    "    ancho = 9\n",
    "    aspect_ratio = 1.09\n",
    "    img = mpimg.imread('./img/mapa.png')\n",
    "    plt.figure(figsize=(ancho, ancho * aspect_ratio))\n",
    "    plt.imshow(img, zorder=0, extent=[0, ancho, 0, ancho * aspect_ratio])    \n",
    "    plt.axis('off')    "
   ]
  },
  {
   "cell_type": "code",
   "execution_count": null,
   "metadata": {},
   "outputs": [],
   "source": [
    "def dibuja_estaciones(coordenadas, color=\"red\"):\n",
    "    ancho = 9\n",
    "    aspect_ratio = 1.09\n",
    "    xs = [(x - 37.31) * ancho * aspect_ratio / 0.13 for x, _ in coordenadas]\n",
    "    ys = [(y + 6.04) * ancho / 0.15 for _, y in coordenadas]\n",
    "    plt.scatter(ys, xs, zorder=1, s=10, color=color)"
   ]
  },
  {
   "cell_type": "markdown",
   "metadata": {},
   "source": [
    "### 3.1 Mostrar todas las estaciones"
   ]
  },
  {
   "cell_type": "markdown",
   "metadata": {},
   "source": [
    "En primer lugar vamos a mostrar sobre el mapa todas las estaciones de la red. Para ello crearemos una lista con las coordenadas (latitud y longitud) de todas las estaciones de la red."
   ]
  },
  {
   "cell_type": "code",
   "execution_count": null,
   "metadata": {},
   "outputs": [],
   "source": [
    "def ubicacion_estaciones(estaciones):\n",
    "    ''' Coordenadas de todas las estaciones\n",
    "    \n",
    "    ENTRADA: \n",
    "       - estaciones: lista de estaciones disponibles -> [Estacion(str, int, int, int, float, float)]\n",
    "    SALIDA: \n",
    "       - latitudes y longitudes de las estaciones -> [(float, float)] \n",
    "    \n",
    "    Recibe un lista de estaciones.\n",
    "    Crea una lista formada por tuplas (latitud, longitud) con todas las estaciones.\n",
    "    '''\n",
    "    pass"
   ]
  },
  {
   "cell_type": "code",
   "execution_count": null,
   "metadata": {},
   "outputs": [],
   "source": [
    "# Test de la función ubicacion_estaciones\n",
    "coordenadas = ubicacion_estaciones(estaciones_sevici)\n",
    "dibuja_mapa()\n",
    "dibuja_estaciones(coordenadas)\n",
    "plt.show()"
   ]
  },
  {
   "cell_type": "markdown",
   "metadata": {},
   "source": [
    "### 3.2 Mostrar todas las estaciones indicando si tienen o no bicis libres"
   ]
  },
  {
   "cell_type": "markdown",
   "metadata": {},
   "source": [
    "En segundo lugar vamos a mostrar en el mapa todas las estaciones, pero distinguiendo entre las que tienen bicicletas libres, que aparecerán en color verde, y las que no tienen bicicletas libres, que aparecerán en color rojo.\n",
    "\n",
    "Ya tenemos la función que calcula las coordenadas de todas las estaciones. Vamos a escribir ahora una nueva función que calcule las coordenadas de todas las estaciones que tienen un número mínimo de bicicletas libres. Este número será un parámetro de la función, y tendrá un valor por defecto que será 5."
   ]
  },
  {
   "cell_type": "code",
   "execution_count": null,
   "metadata": {},
   "outputs": [],
   "source": [
    "def ubicacion_estaciones_libres(estaciones, k=5):\n",
    "    ''' Coordenadas de las estaciones con bicicletas libres\n",
    "    \n",
    "    ENTRADA: \n",
    "       - estaciones: lista de estaciones disponibles -> [Estacion(str, int, int, int, float, float)]\n",
    "       - k: número mínimo requerido de bicicletas libres -> int\n",
    "    SALIDA: \n",
    "       - latitudes y longitudes de las estaciones seleccionadas -> [(float, float)] \n",
    "    \n",
    "    Recibe una lista de estaciones y un valor k.\n",
    "    Crea una lista formada por tuplas (latitud, longitud) con todas las estaciones\n",
    "    que tienen al menos k bicicletas libres.\n",
    "    '''\n",
    "    pass"
   ]
  },
  {
   "cell_type": "code",
   "execution_count": null,
   "metadata": {},
   "outputs": [],
   "source": [
    "# Test de la función ubicacion_estaciones_libres\n",
    "coordenadas_todas = ubicacion_estaciones(estaciones_sevici)\n",
    "coordenadas_libres = ubicacion_estaciones_libres(estaciones_sevici)\n",
    "dibuja_mapa()\n",
    "dibuja_estaciones(coordenadas_todas)\n",
    "dibuja_estaciones(coordenadas_libres, color=\"green\")\n",
    "plt.show()"
   ]
  }
 ],
 "metadata": {
  "anaconda-cloud": {},
  "kernelspec": {
   "display_name": "Python 3",
   "language": "python",
   "name": "python3"
  },
  "language_info": {
   "codemirror_mode": {
    "name": "ipython",
    "version": 3
   },
   "file_extension": ".py",
   "mimetype": "text/x-python",
   "name": "python",
   "nbconvert_exporter": "python",
   "pygments_lexer": "ipython3",
   "version": "3.6.4"
  }
 },
 "nbformat": 4,
 "nbformat_minor": 2
}
