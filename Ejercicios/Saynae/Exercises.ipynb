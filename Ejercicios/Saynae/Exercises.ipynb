{
 "cells": [
  {
   "cell_type": "code",
   "execution_count": null,
   "id": "dcd32cba",
   "metadata": {},
   "outputs": [],
   "source": [
    "'''\n",
    "1 - Definir una función max() que tome como argumento dos números y devuelva el mayor de ellos. (Es cierto que python tiene \n",
    "una función max() incorporada, pero hacerla nosotros mismos es un muy buen ejercicio.\n",
    "'''"
   ]
  },
  {
   "cell_type": "code",
   "execution_count": null,
   "id": "0da92a7c",
   "metadata": {},
   "outputs": [],
   "source": [
    "'''\n",
    "2 - Definir una función max_de_tres(), que tome tres números como argumentos y devuelva el mayor de ellos.\n",
    "'''"
   ]
  },
  {
   "cell_type": "code",
   "execution_count": null,
   "id": "8b0f1e27",
   "metadata": {},
   "outputs": [],
   "source": [
    "'''\n",
    "3 - Definir una función que calcule la longitud de una lista o una cadena dada. (Es cierto que python tiene la función len() \n",
    "incorporada, pero escribirla por nosotros mismos resulta un muy buen ejercicio.\n",
    "'''"
   ]
  },
  {
   "cell_type": "code",
   "execution_count": null,
   "id": "8a870a76",
   "metadata": {},
   "outputs": [],
   "source": [
    "'''\n",
    "4 - Escribir una función que tome un carácter y devuelva True si es una vocal, de lo contrario devuelve False.\n",
    "'''"
   ]
  },
  {
   "cell_type": "code",
   "execution_count": null,
   "id": "50aa62f6",
   "metadata": {},
   "outputs": [],
   "source": [
    "5 - Escribir una función sum() y una función multip() que sumen y multipliquen respectivamente todos los números de una lista. Por ejemplo: sum([1,2,3,4]) debería devolver 10 y multip([1,2,3,4]) debería devolver 24."
   ]
  },
  {
   "cell_type": "code",
   "execution_count": null,
   "id": "14376287",
   "metadata": {},
   "outputs": [],
   "source": [
    "6 - Definir una función inversa() que calcule la inversión de una cadena. Por ejemplo la cadena \"estoy probando\" debería devolver la cadena \"odnaborp yotse\""
   ]
  },
  {
   "cell_type": "code",
   "execution_count": null,
   "id": "76111285",
   "metadata": {},
   "outputs": [],
   "source": [
    "7 - Definir una función es_palindromo() que reconoce palíndromos (es decir, palabras que tienen el mismo aspecto escritas invertidas), ejemplo: es_palindromo (\"radar\") tendría que devolver True."
   ]
  },
  {
   "cell_type": "code",
   "execution_count": null,
   "id": "1de0654a",
   "metadata": {},
   "outputs": [],
   "source": [
    "8 - Definir una función superposicion() que tome dos listas y devuelva True si tienen al menos 1 miembro en común o devuelva False de lo contrario. Escribir la función usando el bucle for anidado."
   ]
  },
  {
   "cell_type": "code",
   "execution_count": null,
   "id": "381c31cf",
   "metadata": {},
   "outputs": [],
   "source": [
    "9 - Definir una función generar_n_caracteres() que tome un entero n y devuelva el caracter multiplicado por n. Por ejemplo: generar_n_caracteres(5, \"x\") debería devolver \"xxxxx\"."
   ]
  },
  {
   "cell_type": "code",
   "execution_count": null,
   "id": "633c62b1",
   "metadata": {},
   "outputs": [],
   "source": [
    "10 - Definir un histograma procedimiento() que tome una lista de números enteros e imprima un histograma en la pantalla. Ejemplo: procedimiento([4, 9, 7]) debería imprimir lo siguiente:"
   ]
  }
 ],
 "metadata": {
  "kernelspec": {
   "display_name": "Python 3",
   "language": "python",
   "name": "python3"
  },
  "language_info": {
   "codemirror_mode": {
    "name": "ipython",
    "version": 3
   },
   "file_extension": ".py",
   "mimetype": "text/x-python",
   "name": "python",
   "nbconvert_exporter": "python",
   "pygments_lexer": "ipython3",
   "version": "3.8.8"
  }
 },
 "nbformat": 4,
 "nbformat_minor": 5
}
