{
 "cells": [
  {
   "cell_type": "code",
   "execution_count": null,
   "id": "dcd32cba",
   "metadata": {},
   "outputs": [],
   "source": [
    "# Exercise 1:\n"
   ]
  },
  {
   "cell_type": "code",
   "execution_count": null,
   "id": "0b0cb425",
   "metadata": {},
   "outputs": [],
   "source": [
    "# Exercise 1. How to solve it:\n"
   ]
  }
 ],
 "metadata": {
  "kernelspec": {
   "display_name": "Python 3",
   "language": "python",
   "name": "python3"
  },
  "language_info": {
   "codemirror_mode": {
    "name": "ipython",
    "version": 3
   },
   "file_extension": ".py",
   "mimetype": "text/x-python",
   "name": "python",
   "nbconvert_exporter": "python",
   "pygments_lexer": "ipython3",
   "version": "3.8.8"
  }
 },
 "nbformat": 4,
 "nbformat_minor": 5
}
