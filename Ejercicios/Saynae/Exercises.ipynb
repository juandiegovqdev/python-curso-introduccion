{
 "cells": [
  {
   "cell_type": "code",
   "execution_count": null,
   "id": "dcd32cba",
   "metadata": {},
   "outputs": [],
   "source": [
    "'''\n",
    "1 - Definir una función max() que tome como argumento dos números y devuelva el mayor de ellos. (Es cierto que python tiene \n",
    "una función max() incorporada, pero hacerla nosotros mismos es un muy buen ejercicio.\n",
    "'''"
   ]
  },
  {
   "cell_type": "code",
   "execution_count": null,
   "id": "81ae670c",
   "metadata": {},
   "outputs": [],
   "source": [
    "'''\n",
    "2 - Definir una función max_de_tres(), que tome tres números como argumentos y devuelva el mayor de ellos.\n",
    "'''"
   ]
  },
  {
   "cell_type": "code",
   "execution_count": null,
   "id": "9f699647",
   "metadata": {},
   "outputs": [],
   "source": [
    "'''\n",
    "3 - Definir una función que calcule la longitud de una lista o una cadena dada. (Es cierto que python tiene la función len() \n",
    "incorporada, pero escribirla por nosotros mismos resulta un muy buen ejercicio.\n",
    "'''"
   ]
  },
  {
   "cell_type": "code",
   "execution_count": null,
   "id": "08cee69f",
   "metadata": {},
   "outputs": [],
   "source": [
    "'''\n",
    "4 - Escribir una función que tome un carácter y devuelva True si es una vocal, de lo contrario devuelve False.\n",
    "'''"
   ]
  },
  {
   "cell_type": "code",
   "execution_count": null,
   "id": "e4fc81fa",
   "metadata": {},
   "outputs": [],
   "source": [
    "'''\n",
    "5 - Escribir una función sum() y una función multip() que sumen y multipliquen respectivamente todos los números de una lista. \n",
    "Por ejemplo: sum([1,2,3,4]) debería devolver 10 y multip([1,2,3,4]) debería devolver 24.\n",
    "'''"
   ]
  },
  {
   "cell_type": "code",
   "execution_count": null,
   "id": "b2561183",
   "metadata": {},
   "outputs": [],
   "source": [
    "'''\n",
    "6 - Definir una función inversa() que calcule la inversión de una cadena. Por ejemplo la cadena \"estoy probando\" debería \n",
    "devolver la cadena \"odnaborp yotse\"\n",
    "'''"
   ]
  },
  {
   "cell_type": "code",
   "execution_count": null,
   "id": "bef8bf88",
   "metadata": {},
   "outputs": [],
   "source": [
    "'''\n",
    "7 - Definir una función es_palindromo() que reconoce palíndromos (es decir, palabras que tienen el mismo aspecto escritas \n",
    "invertidas), ejemplo: es_palindromo (\"radar\") tendría que devolver True.\n",
    "'''"
   ]
  },
  {
   "cell_type": "code",
   "execution_count": null,
   "id": "75c103ea",
   "metadata": {},
   "outputs": [],
   "source": [
    "'''\n",
    "8 - Definir una función superposicion() que tome dos listas y devuelva True si tienen al menos 1 miembro en común o devuelva \n",
    "False de lo contrario. Escribir la función usando el bucle for anidado.\n",
    "'''"
   ]
  },
  {
   "cell_type": "code",
   "execution_count": null,
   "id": "22725f6f",
   "metadata": {},
   "outputs": [],
   "source": [
    "'''\n",
    "9 - Definir una función generar_n_caracteres() que tome un entero n y devuelva el caracter multiplicado por n. \n",
    "Por ejemplo: generar_n_caracteres(5, \"x\") debería devolver \"xxxxx\".\n",
    "'''"
   ]
  },
  {
   "cell_type": "code",
   "execution_count": null,
   "id": "d5ff5540",
   "metadata": {},
   "outputs": [],
   "source": [
    "'''\n",
    "10 - Definir un histograma procedimiento() que tome una lista de números enteros e imprima un histograma en la pantalla. \n",
    "Ejemplo: procedimiento([4, 9, 7]) debería imprimir lo siguiente:\n",
    "'''"
   ]
  }
 ],
 "metadata": {
  "kernelspec": {
   "display_name": "Python 3",
   "language": "python",
   "name": "python3"
  },
  "language_info": {
   "codemirror_mode": {
    "name": "ipython",
    "version": 3
   },
   "file_extension": ".py",
   "mimetype": "text/x-python",
   "name": "python",
   "nbconvert_exporter": "python",
   "pygments_lexer": "ipython3",
   "version": "3.8.8"
  }
 },
 "nbformat": 4,
 "nbformat_minor": 5
}
