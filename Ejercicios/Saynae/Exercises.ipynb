{
 "cells": [
  {
   "cell_type": "code",
   "execution_count": null,
   "id": "dcd32cba",
   "metadata": {},
   "outputs": [],
   "source": [
    "'''\n",
    "1 - Definir una función max() que tome como argumento dos números y devuelva el mayor de ellos. (Es cierto que python tiene \n",
    "una función max() incorporada, pero hacerla nosotros mismos es un muy buen ejercicio.\n",
    "'''"
   ]
  },
  {
   "cell_type": "code",
   "execution_count": null,
   "id": "feeb1dd8",
   "metadata": {},
   "outputs": [],
   "source": [
    "def max (n1, n2):\n",
    "    if n1 < n2:\n",
    "        print n2\n",
    "    elif n2 < n1:\n",
    "        print n1\n",
    "    else:\n",
    "        print \"Son iguales\""
   ]
  },
  {
   "cell_type": "code",
   "execution_count": null,
   "id": "7ba7fd1a",
   "metadata": {},
   "outputs": [],
   "source": [
    "'''\n",
    "2 - Definir una función max_de_tres(), que tome tres números como argumentos y devuelva el mayor de ellos.\n",
    "'''"
   ]
  },
  {
   "cell_type": "code",
   "execution_count": null,
   "id": "4997f11f",
   "metadata": {},
   "outputs": [],
   "source": [
    "def max_de_tres (n1, n2, n3):\n",
    "    if n1 > n2 and n1 > n3:\n",
    "        print n1\n",
    "    elif n2 > n1 and n2 > n3:\n",
    "        print n2\n",
    "    elif n3 > n1 and n3 > n2:\n",
    "        print n3\n",
    "    else:\n",
    "        print \"Son iguales\""
   ]
  },
  {
   "cell_type": "code",
   "execution_count": null,
   "id": "36e3bda3",
   "metadata": {},
   "outputs": [],
   "source": [
    "'''\n",
    "3 - Definir una función que calcule la longitud de una lista o una cadena dada. (Es cierto que python tiene la función len() \n",
    "incorporada, pero escribirla por nosotros mismos resulta un muy buen ejercicio.\n",
    "'''"
   ]
  },
  {
   "cell_type": "code",
   "execution_count": null,
   "id": "5339bac6",
   "metadata": {},
   "outputs": [],
   "source": [
    "def largo_cadena (lista):\n",
    "    cont = 0\n",
    "    for i in lista:\n",
    "        cont += 1\n",
    "    return cont"
   ]
  },
  {
   "cell_type": "code",
   "execution_count": null,
   "id": "e3de3392",
   "metadata": {},
   "outputs": [],
   "source": [
    "'''\n",
    "4 - Escribir una función que tome un carácter y devuelva True si es una vocal, de lo contrario devuelve False.\n",
    "'''"
   ]
  },
  {
   "cell_type": "code",
   "execution_count": null,
   "id": "6c674876",
   "metadata": {},
   "outputs": [],
   "source": [
    "def es_vocal (x):\n",
    "    if x == \"a\" or x == \"e\" or x == \"i\" or x == \"o\" or x == \"u\":\n",
    "        return True\n",
    "    elif x == \"A\" or x == \"E\" or x == \"I\" or x == \"O\" or x == \"U\":\n",
    "        return True\n",
    "    else:\n",
    "        return False"
   ]
  },
  {
   "cell_type": "code",
   "execution_count": null,
   "id": "d765d103",
   "metadata": {},
   "outputs": [],
   "source": [
    "'''\n",
    "5 - Escribir una función sum() y una función multip() que sumen y multipliquen respectivamente todos los números de una lista. \n",
    "Por ejemplo: sum([1,2,3,4]) debería devolver 10 y multip([1,2,3,4]) debería devolver 24.\n",
    "'''"
   ]
  },
  {
   "cell_type": "code",
   "execution_count": null,
   "id": "68a5442a",
   "metadata": {},
   "outputs": [],
   "source": [
    "def sum (lista):\n",
    "    suma = 0\n",
    "    for i in lista:\n",
    "        suma += i\n",
    "    return suma"
   ]
  },
  {
   "cell_type": "code",
   "execution_count": null,
   "id": "0f4aa418",
   "metadata": {},
   "outputs": [],
   "source": [
    "def multip (lista):\n",
    "    multiplicacion = 1\n",
    "    for i in lista:\n",
    "        multiplicacion *= i\n",
    "    return multiplicacion"
   ]
  },
  {
   "cell_type": "code",
   "execution_count": null,
   "id": "ba229f0f",
   "metadata": {},
   "outputs": [],
   "source": [
    "'''\n",
    "6 - Definir una función inversa() que calcule la inversión de una cadena. Por ejemplo la cadena \"estoy probando\" debería \n",
    "devolver la cadena \"odnaborp yotse\"\n",
    "'''"
   ]
  },
  {
   "cell_type": "code",
   "execution_count": null,
   "id": "ce153401",
   "metadata": {},
   "outputs": [],
   "source": [
    "def inversa (cadena):\n",
    "    invertida = \"\"\n",
    "    cont = len(cadena)\n",
    "    indice = -1\n",
    "    while cont >= 1:\n",
    "        invertida += cadena[indice]\n",
    "        indice = indice + (-1)\n",
    "        cont -= 1\n",
    "    return invertida"
   ]
  },
  {
   "cell_type": "code",
   "execution_count": null,
   "id": "021cc0b8",
   "metadata": {},
   "outputs": [],
   "source": [
    "'''\n",
    "7 - Definir una función es_palindromo() que reconoce palíndromos (es decir, palabras que tienen el mismo aspecto escritas \n",
    "invertidas), ejemplo: es_palindromo (\"radar\") tendría que devolver True.\n",
    "'''"
   ]
  },
  {
   "cell_type": "code",
   "execution_count": null,
   "id": "7a7d6e78",
   "metadata": {},
   "outputs": [],
   "source": [
    "def inversa (cadena):\n",
    "    invertida = \"\"\n",
    "    cont = len(cadena)\n",
    "    indice = -1\n",
    "    while cont >= 1:\n",
    "        invertida += cadena[indice]\n",
    "        indice = indice + (-1)\n",
    "        cont -= 1\n",
    "    return invertida"
   ]
  },
  {
   "cell_type": "code",
   "execution_count": null,
   "id": "5d1aed1a",
   "metadata": {},
   "outputs": [],
   "source": [
    "def es_palindromo (cadena):\n",
    "    palabra_invertida = inversa (cadena)\n",
    "    indice = 0\n",
    "    cont = 0\n",
    "    for i in range (len(cadena)):\n",
    "        if palabra_invertida[indice] == cadena[indice]:\n",
    "            indice += 1\n",
    "            cont += 1\n",
    "        else:\n",
    "            print \"No es palindromo\"\n",
    "            break\n",
    "\n",
    "    if cont == len(cadena):   # Si el contador = a la cantidad de letras de la cadena\n",
    "        print \"Es palindromo\" # es porque recorrió todo el ciclo for y todas las\n",
    "                              # letras son iguales"
   ]
  },
  {
   "cell_type": "code",
   "execution_count": null,
   "id": "2d121762",
   "metadata": {},
   "outputs": [],
   "source": [
    "'''\n",
    "8 - Definir una función superposicion() que tome dos listas y devuelva True si tienen al menos 1 miembro en común o devuelva \n",
    "False de lo contrario. Escribir la función usando el bucle for anidado.\n",
    "'''"
   ]
  },
  {
   "cell_type": "code",
   "execution_count": null,
   "id": "0e3c43be",
   "metadata": {},
   "outputs": [],
   "source": [
    "def superposicion (lista1, lista2):\n",
    "    for i in lista1:\n",
    "        for x in lista2:\n",
    "            if i == x:\n",
    "                return True\n",
    "    return False"
   ]
  },
  {
   "cell_type": "code",
   "execution_count": null,
   "id": "4efec796",
   "metadata": {},
   "outputs": [],
   "source": [
    "'''\n",
    "9 - Definir una función generar_n_caracteres() que tome un entero n y devuelva el caracter multiplicado por n. \n",
    "Por ejemplo: generar_n_caracteres(5, \"x\") debería devolver \"xxxxx\".\n",
    "'''"
   ]
  },
  {
   "cell_type": "code",
   "execution_count": null,
   "id": "032e68f4",
   "metadata": {},
   "outputs": [],
   "source": [
    "def generar_n_caracteres (n, caracter):\n",
    "    print n * caracter"
   ]
  },
  {
   "cell_type": "code",
   "execution_count": null,
   "id": "68001a86",
   "metadata": {},
   "outputs": [],
   "source": [
    "'''\n",
    "10 - Definir un histograma procedimiento() que tome una lista de números enteros e imprima un histograma en la pantalla. \n",
    "Ejemplo: procedimiento([4, 9, 7]) debería imprimir lo siguiente:\n",
    "'''"
   ]
  },
  {
   "cell_type": "code",
   "execution_count": null,
   "id": "11efab88",
   "metadata": {},
   "outputs": [],
   "source": [
    "def procedimiento (lista):\n",
    "    for i in lista:\n",
    "        print i * \"x\""
   ]
  }
 ],
 "metadata": {
  "kernelspec": {
   "display_name": "Python 3",
   "language": "python",
   "name": "python3"
  },
  "language_info": {
   "codemirror_mode": {
    "name": "ipython",
    "version": 3
   },
   "file_extension": ".py",
   "mimetype": "text/x-python",
   "name": "python",
   "nbconvert_exporter": "python",
   "pygments_lexer": "ipython3",
   "version": "3.8.8"
  }
 },
 "nbformat": 4,
 "nbformat_minor": 5
}
