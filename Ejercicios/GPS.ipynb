{
 "cells": [
  {
   "cell_type": "markdown",
   "metadata": {},
   "source": [
    "# Ejercicio: Análisis de rutas GPS\n",
    "**Autor**: José A. Troyano.   **Revisores**: Mariano González, Miguel Toro, Fermín Cruz, Toñi Reina.   **Última modificación:** 22/11/2019"
   ]
  },
  {
   "attachments": {
    "image.png": {
     "image/png": "[encoded data removed]"
    }
   },
   "cell_type": "markdown",
   "metadata": {},
   "source": [
    "Las rutas GPS (también llamadas _tracks_) contienen información sobre los puntos de un determinado trayecto. Casi cualquier dispositivo que tenga GPS (móviles, relojes, pulseras fitbit, ...) permite registrar esta información. Existen varios formatos para representar rutas como, por ejemplo, <code>TCX</code>, <code>GPX</code>, <code>KML</code>, <code>GDB</code>, ... \n",
    "\n",
    "Para no complicar el ejercicio con la lectura de un formato complejo, trabajaremos con un formato simple: <code>CSV</code>. Los datos que acompañan el ejercicio se corresponden con una ruta real en formato <code>TCX</code> que ha sido procesada para extraer solo los valores que usaremos en el ejercicio. El formato <code>TCX</code> está basado en <code>XML</code>, contiene más información y es bastante más complejo que el formato con el que trabajaremos. He aquí, a modo de curiosidad, un fragmento del fichero <code>TCX</code> del que se han extraido los datos de entrada: \n",
    "\n",
    "\n",
    "![image.png](attachment:image.png)\n",
    "\n",
    "\n",
    "Para implementar algunas de las funciones que nos hacen falta, haremos uso de utilidades disponibles en la librería estándar de Python y en el paquete <code>matplotlib</code>. Para ello, antes de empezar, deberemos importar los siguientes elementos:"
   ]
  },
  {
   "cell_type": "code",
   "execution_count": null,
   "metadata": {},
   "outputs": [],
   "source": [
    "import csv\n",
    "from datetime import datetime\n",
    "from math import sin, cos, sqrt, atan2, radians\n",
    "from matplotlib import pyplot as plt\n",
    "from matplotlib import image as mpimg\n",
    "from collections import namedtuple"
   ]
  },
  {
   "cell_type": "markdown",
   "metadata": {},
   "source": [
    "## 1. Carga de datos"
   ]
  },
  {
   "cell_type": "markdown",
   "metadata": {},
   "source": [
    "El formato de entrada con el que trabajaremos contempla una línea por cada punto del trayecto que incluye cuatro informaciones:\n",
    "\n",
    "- <code>tiempo</code> en el que fue tomada la medición\n",
    "- <code>latitud</code> del punto en el que fue tomada la medición\n",
    "- <code>longitud</code> del punto en el que fue tomada la medición\n",
    "- <code>altitud</code> del punto en el que fue tomada la medición\n",
    "\n",
    "He aquí un fragmento de dicho fichero con las cinco primeras líneas:\n",
    "\n",
    "<pre>\n",
    "     00:00:00,36.74991256557405,-5.147951105609536,712.2000122070312\n",
    "     00:00:30,36.75008556805551,-5.148005923256278,712.7999877929688\n",
    "     00:01:30,36.75017642788589,-5.148165263235569,714.0\n",
    "     00:02:04,36.750248931348324,-5.148243047297001,714.5999755859375\n",
    "     00:02:19,36.750430315732956,-5.148255117237568,715.0\n",
    "</pre>\n",
    "\n",
    "### 1.1 Función de lectura\n",
    "\n",
    "La siguiente función será la encargada de leer el fichero de entrada, y construir a partir de él una estructura de datos en memoria. Usaremos una lista de <code>namedtuple</code> para almacenar todos los puntos que contiene una ruta:"
   ]
  },
  {
   "cell_type": "code",
   "execution_count": null,
   "metadata": {},
   "outputs": [],
   "source": [
    "# Creación de un tipo 'namedtuple' para los puntos\n",
    "Punto = namedtuple('Punto', 'tiempo latitud longitud altitud')\n",
    "\n",
    "def lee_puntos(fichero):\n",
    "    ''' Lee el fichero de entrada y devuelve una lista de puntos\n",
    "    \n",
    "    ENTRADA: \n",
    "       - fichero: nombre del fichero de datos -> str\n",
    "    SALIDA: \n",
    "       - lista de puntos del trayecto -> [Punto(datetime, float, float, float)] \n",
    "\n",
    "    Cada línea del fichero se corresponde con un punto del recorrido, y se representa\n",
    "    con una tupla con los siguientes valores:\n",
    "        - tiempo: momento en el que se realizó el registro\n",
    "        - latitud: número real con la latitud del punto en grados\n",
    "        - longitud: número real con la longitud del punto en grados\n",
    "        - altitud: número real con la altitud del punto en metros\n",
    "    \n",
    "    Para convertir una cadena con el formato HH:MM:SS en un objeto 'time' usaremos\n",
    "    la siguiente expresión:\n",
    "    \n",
    "        datetime.strptime(tiempo,'%H:%M:%S')\n",
    "    '''\n",
    "    pass"
   ]
  },
  {
   "cell_type": "code",
   "execution_count": null,
   "metadata": {
    "scrolled": true
   },
   "outputs": [],
   "source": [
    "# Test de la función lee_puntos\n",
    "puntos = lee_puntos('./data/ruta.csv')\n",
    "print(len(puntos))\n",
    "print(puntos[:5])"
   ]
  },
  {
   "cell_type": "markdown",
   "metadata": {},
   "source": [
    "## 2. Funciones de transformación y filtrado\n",
    "\n",
    "En esta sección implementaremos distintas funciones de filtrado, consulta y cálculo de nuevas informaciones, que nos servirán para obtener diversos indicadores sobre el trayecto analizado."
   ]
  },
  {
   "cell_type": "markdown",
   "metadata": {},
   "source": [
    "### 2.1. Filtrado por tiempos\n",
    "\n",
    "La primera de las funciones se llama <code>filtra_por_tiempo</code> y nos permitirá extraer un fragmento del trayecto dados dos instantes de tiempo. Las siguientes celdas contienen la implementación y el test, respectivamente, de esta función:"
   ]
  },
  {
   "cell_type": "code",
   "execution_count": null,
   "metadata": {},
   "outputs": [],
   "source": [
    "def filtra_por_tiempo(puntos, inicio, fin):\n",
    "    ''' Selecciona los puntos que se encuentren entre dos instantes de tiempo\n",
    "    \n",
    "    ENTRADA: \n",
    "       - puntos: lista de puntos del trayecto -> [Punto(datetime, float, float, float)] \n",
    "       - inicio: hora de inicio del filtro -> str\n",
    "       - fin: hora de fin del filtro -> str\n",
    "    SALIDA: \n",
    "       - lista de puntos del trayecto -> [(datetime, float, float, float)] \n",
    "\n",
    "    Toma como entrada una lista de puntos y dos instantes de tiempo en formato\n",
    "    'HH:MM:SS'. Produce como salida otra lista de puntos en la que solo se incluyen\n",
    "    aquellos que se han registrado entre ambos instantes de tiempo.\n",
    "    '''\n",
    "    pass"
   ]
  },
  {
   "cell_type": "code",
   "execution_count": null,
   "metadata": {},
   "outputs": [],
   "source": [
    "# Test de la función filtra_por_tiempo\n",
    "primera_parte = filtra_por_tiempo(puntos, '00:00:00', '11:48:00')\n",
    "print(len(primera_parte))\n",
    "print(primera_parte[:5])\n",
    "\n",
    "segunda_parte = filtra_por_tiempo(puntos, '11:48:01', '23:36:00')\n",
    "print(len(segunda_parte))\n",
    "print(segunda_parte[:5])"
   ]
  },
  {
   "cell_type": "markdown",
   "metadata": {},
   "source": [
    "### 2.2. Cálculo de distancias entre dos coordenadas geográficas\n",
    "\n",
    "Para que calcula la distancia (en kilómetros) entre dos coordenadas geográficas especificadas mediante latitud y longitud se puede usar la distancia <a href= 'https://es.wikipedia.org/wiki/F%C3%B3rmula_del_haversine'>haversine</a>. Proporcionamos implementada la función <code>distancia_haversine</code>:"
   ]
  },
  {
   "cell_type": "code",
   "execution_count": null,
   "metadata": {},
   "outputs": [],
   "source": [
    "def distancia_haversine(coord_a, coord_b):\n",
    "    ''' Cálculo de la distancia entre dos coordenadas geográficas\n",
    "    \n",
    "    ENTRADA: \n",
    "       - coord_a: coordenadas del primer punto -> (float, float) \n",
    "       - coord_b: coordenadas del segundo punto -> (float, float)\n",
    "    SALIDA: \n",
    "       - distancia entre ambos puntos -> float\n",
    "       \n",
    "    Recibe como entrada dos coordenadas, cada una de ellas representada mediante una tupla\n",
    "    (latitud,longitud) y calcula la distancia en kilómetros mediante la fórmula\n",
    "    del haversine.\n",
    "    '''\n",
    "    radio_tierra = 6373.0\n",
    "    latitud_a, longitud_a = radians(coord_a[0]), radians(coord_a[1])\n",
    "    latitud_b, longitud_b = radians(coord_b[0]), radians(coord_b[1])    \n",
    "    inc_lat  = latitud_b - latitud_a\n",
    "    inc_long = longitud_b - longitud_a\n",
    "\n",
    "    a = sin(inc_lat / 2)**2 + cos(latitud_a) * cos(latitud_b) * sin(inc_long / 2)**2\n",
    "    c = 2 * atan2(sqrt(a), sqrt(1 - a))\n",
    "    return radio_tierra * c"
   ]
  },
  {
   "cell_type": "code",
   "execution_count": null,
   "metadata": {},
   "outputs": [],
   "source": [
    "# Test de la función distancia_haversine\n",
    "sevilla = (37.3828300, -5.9731700)\n",
    "cadiz = (36.5008762, -6.2684345)\n",
    "print(distancia_haversine(sevilla, cadiz))"
   ]
  },
  {
   "cell_type": "markdown",
   "metadata": {},
   "source": [
    "La función <code>distancia_haversine</code> no tiene en cuenta la diferencia de altitud al calcular la distancia entre dos coordenadas. Para ello, implementaremos la función <code>distancia_haversine_3d</code> apoyándonos en el teorema de Pitágoras:\n",
    "\n",
    "$$\n",
    "distancia\\_3d = \\sqrt{(distancia\\_2d)^2 + (incremento\\_altitud)^2}\n",
    "$$"
   ]
  },
  {
   "cell_type": "code",
   "execution_count": null,
   "metadata": {},
   "outputs": [],
   "source": [
    "def distancia_haversine_3d(coord_a, coord_b):\n",
    "    ''' Cálculo de la distancia entre dos coordenadas geográficas considerando altitud\n",
    "    \n",
    "    ENTRADA: \n",
    "       - coord_a: coordenadas del primer punto -> (float, float, float) \n",
    "       - coord_b: coordenadas del segundo punto -> (float, float, float)\n",
    "    SALIDA: \n",
    "       - distancia entre ambos puntos -> float\n",
    "    \n",
    "    Recibe como entrada dos coordenadas, cada una de ellas representada mediante una tupla\n",
    "    (latitud,longitud,altitud) y calcula la distancia en kilómetros de la siguiente forma:\n",
    "       - Calcular la diferencia de altitud de los dos puntos (en kilómetros)\n",
    "       - Calcular la distancia_haversine de los dos puntos\n",
    "       - Usar ambos valores y el teorema de Pitágoras para calcular la distancia haversine_3d\n",
    "    '''\n",
    "    pass"
   ]
  },
  {
   "cell_type": "code",
   "execution_count": null,
   "metadata": {},
   "outputs": [],
   "source": [
    "# Test de la función distancia_haversine_3d\n",
    "coord_1 = (36.74991256557405,-5.147951105609536,712.2000122070312)\n",
    "coord_2 = (36.75008556805551,-5.148005923256278,712.7999877929688)\n",
    "print(distancia_haversine(coord_1, coord_2))      # Funciona bien con tuplas de 3 valores gracias al tipado dinámico de Python\n",
    "print(distancia_haversine_3d(coord_1, coord_2))"
   ]
  },
  {
   "cell_type": "markdown",
   "metadata": {},
   "source": [
    "### 2.3. Distancia y velocidad por trayecto\n",
    "\n",
    "En esta sección implementaremos dos funciones para calcular, respectivamente, la distancia y la velocidad en un determinado trayecto."
   ]
  },
  {
   "cell_type": "code",
   "execution_count": null,
   "metadata": {},
   "outputs": [],
   "source": [
    "def distancia_trayecto(puntos):\n",
    "    ''' Cálculo de la distancia de un trayecto\n",
    "    \n",
    "    ENTRADA: \n",
    "       - puntos: lista de puntos del trayecto -> [Punto(datetime, float, float, float)] \n",
    "    SALIDA: \n",
    "       - distancia total del trayecto -> float \n",
    "    \n",
    "    Recibe como entrada un trayecto representado mediante una lista de tuplas\n",
    "    (tiempo,latitud,longitud,altitud) y calcula la distancia total en kilómetros. \n",
    "    Se seguirán los siguientes pasos:\n",
    "       - Calcular a partir de la lista puntos una lista de coordenadas \n",
    "         (latitud,longitud,altitud)\n",
    "       - Calcular una lista de intervalos cada uno de ellos representado mediante\n",
    "         una tupla de dos coordenadas (inicio_intervalo, fin_intervalo)\n",
    "       - Usar la función distancia_haversine_3d para calcular la distancia total\n",
    "         del trayecto\n",
    "    '''\n",
    "    pass"
   ]
  },
  {
   "cell_type": "code",
   "execution_count": null,
   "metadata": {},
   "outputs": [],
   "source": [
    "# Test de la función distancia_trayecto\n",
    "print(distancia_trayecto(puntos))\n",
    "print(distancia_trayecto(primera_parte))\n",
    "print(distancia_trayecto(segunda_parte))"
   ]
  },
  {
   "cell_type": "code",
   "execution_count": null,
   "metadata": {},
   "outputs": [],
   "source": [
    "def velocidad_trayecto(puntos):\n",
    "    ''' Cálculo de la velocidad en un trayecto\n",
    "    \n",
    "    ENTRADA: \n",
    "       - puntos: lista de puntos del trayecto -> [Punto(datetime, float, float, float)] \n",
    "    SALIDA: \n",
    "       - velocidad media durante el trayecto -> float \n",
    "    \n",
    "    Recibe como entrada un trayecto representado mediante una lista de tuplas\n",
    "    (tiempo,latitud,longitud,altitud) y calcula la velocidad media en km/h\n",
    "    en dicho trayecto. Para calcular la duración, en horas, de un periodo de\n",
    "    tiempo comprendido entre los momentos inicio y fin se puede usar la \n",
    "    siguiente expresión:\n",
    "          duracion = (fin - inicio).seconds/3600\n",
    "    '''\n",
    "    pass"
   ]
  },
  {
   "cell_type": "code",
   "execution_count": null,
   "metadata": {},
   "outputs": [],
   "source": [
    "# Test de la función velocidad_trayecto\n",
    "print(velocidad_trayecto(puntos))\n",
    "print(velocidad_trayecto(primera_parte))\n",
    "print(velocidad_trayecto(segunda_parte))"
   ]
  },
  {
   "cell_type": "markdown",
   "metadata": {},
   "source": [
    "### 2.4. Desnivel acumulado\n",
    "\n",
    "La función de consulta <code>desnivel_acumulado</code> calcula, a partir de un trayecto, una tupla con dos informaciones:\n",
    "- **Desnivel acumulado de subida**: suma de la altitud ganada en todos los intervalos de subida.\n",
    "- **Desnivel acumulado de bajada**: suma de la altitud perdida en todos los intervalos de bajada."
   ]
  },
  {
   "cell_type": "code",
   "execution_count": null,
   "metadata": {},
   "outputs": [],
   "source": [
    "def desnivel_acumulado(puntos):\n",
    "    ''' Cálculo del desnivel acumulado (de subida y bajada) de un trayecto\n",
    "    \n",
    "    ENTRADA: \n",
    "       - puntos: lista de puntos del trayecto -> [Punto(datetime, float, float, float)] \n",
    "    SALIDA: \n",
    "       - desniveles acumulados de subida y bajada -> (float, float) \n",
    "    \n",
    "    Recibe como entrada un trayecto representado mediante una lista de tuplas\n",
    "    (tiempo,latitud,longitud,altitud) y calcula una tupla con los desniveles\n",
    "    acumulados de subida y bajada. Se pueden seguir los siguientes pasos:\n",
    "       - Calcular a partir de la lista puntos una lista de altitudes \n",
    "       - Calcular una lista de desniveles a partir de la lista de altitudes\n",
    "       - Calcular una lista de desniveles de subida a partir de la lista de desniveles\n",
    "       - Calcular una lista de desniveles de bajada a partir de la lista de desniveles\n",
    "    '''\n",
    "    pass"
   ]
  },
  {
   "cell_type": "code",
   "execution_count": null,
   "metadata": {},
   "outputs": [],
   "source": [
    "# Test de la función desnivel_acumulado\n",
    "print(desnivel_acumulado(puntos))\n",
    "print(desnivel_acumulado(primera_parte))\n",
    "print(desnivel_acumulado(segunda_parte))"
   ]
  },
  {
   "cell_type": "markdown",
   "metadata": {},
   "source": [
    "## 3. Funciones de visualización\n",
    "\n",
    "En esta sección implementaremos tres funciones de visualización que permitirán mostrar de forma gráfica aspectos interesantes del trayecto analizado."
   ]
  },
  {
   "cell_type": "markdown",
   "metadata": {},
   "source": [
    "### 3.1. Perfil del trayecto"
   ]
  },
  {
   "cell_type": "code",
   "execution_count": null,
   "metadata": {},
   "outputs": [],
   "source": [
    "def mostrar_perfil(puntos):\n",
    "    ''' Traza el perfil de un trayecto\n",
    "    \n",
    "    ENTRADA: \n",
    "       - puntos: lista de puntos del trayecto -> [Punto(datetime, float, float, float)] \n",
    "    SALIDA EN PANTALLA:\n",
    "       - gráfica con el perfil del trayecto\n",
    "\n",
    "    Toma como entrada un trayecto definido por una lista de puntos y produce como salida\n",
    "    el perfil del trayecto. En el eje X se muestran los kilómetros y en el eje Y las alturas\n",
    "    de los distintos puntos (en metros). Para generar la gráfica se usarán las siguientes\n",
    "    instrucciones:\n",
    "        plt.plot(kilometros,altitudes)\n",
    "        plt.show()\n",
    "    \n",
    "    Donde las variables kilometros y altitudes significan, respectivamente:\n",
    "        - kilometros: distancia al inicio (en kilómetros) de cada punto del trayecto\n",
    "        - altitudes: lista con las altitudes de cada punto del trayecto\n",
    "        \n",
    "    Para 'kilometros' se recomienda un esquema acumulativo de O(n), ya que la versión por compresión\n",
    "    (usando la función 'distancia_trayecto') sería de O(n^2). Con varios miles de puntos esto se traduce  \n",
    "    en un cálculo bastante lento.\n",
    "    '''\n",
    "    pass"
   ]
  },
  {
   "cell_type": "code",
   "execution_count": null,
   "metadata": {},
   "outputs": [],
   "source": [
    "# Test de la función mostrar_perfil\n",
    "mostrar_perfil(puntos)"
   ]
  },
  {
   "cell_type": "markdown",
   "metadata": {},
   "source": [
    "### 3.2. Velocidad por intervalos"
   ]
  },
  {
   "cell_type": "code",
   "execution_count": null,
   "metadata": {},
   "outputs": [],
   "source": [
    "def mostrar_velocidad_por_intervalo(puntos):\n",
    "    ''' Traza la evolución de la velocidad a lo largo del tiempo \n",
    "    \n",
    "    ENTRADA: \n",
    "       - puntos: lista de puntos del trayecto -> [Punto(datetime, float, float, float)] \n",
    "    SALIDA EN PANTALLA:\n",
    "       - gráfica con las velocidades por intervalo\n",
    "\n",
    "    Toma como entrada un trayecto definido por una lista de puntos y produce como salida\n",
    "    una gráfica con la velocidad en cada punto del trayecto. En el eje X se muestran los \n",
    "    kilómetros recorridos y en el eje Y las velocidades (en km/h). Para generar la gráfica\n",
    "    se usarán las siguientes instrucciones:\n",
    "        plt.plot(kilometros, velocidades)\n",
    "        plt.show()\n",
    "    \n",
    "    Se recomienda calcular las siguientes variables:\n",
    "        - kilometros: distancia al inicio (en kilómetros) de cada punto del trayecto\n",
    "        - distancias: lista con las distancias parciales recorridas en cada intervalo del trayecto.\n",
    "          La distacia parcial se calcula mediante la distancia entre los puntos de inicio y fin\n",
    "          de cada intervalo.\n",
    "        - tiempos: lista con el tiempo invertido en cada intervalo del trayecto\n",
    "        - velocidades: lista con las velocidades en cada intervalo del trayecto. En caso de que\n",
    "          para un intervalo el tiempo sea 0, se le asignará velocidad 0.\n",
    "\n",
    "    Para 'kilometros' se recomienda un esquema acumulativo de O(n), ya que la versión por compresión\n",
    "    (usando la función 'distancia_trayecto') sería de O(n^2). Con varios miles de puntos esto se traduce  \n",
    "    en un cálculo bastante lento.\n",
    "    '''\n",
    "    pass"
   ]
  },
  {
   "cell_type": "code",
   "execution_count": null,
   "metadata": {},
   "outputs": [],
   "source": [
    "# Test de la función mostrar_velocidad_por_intervalo\n",
    "mostrar_velocidad_por_intervalo(puntos)"
   ]
  },
  {
   "cell_type": "markdown",
   "metadata": {},
   "source": [
    "### 3.3. Ruta en el mapa"
   ]
  },
  {
   "cell_type": "code",
   "execution_count": null,
   "metadata": {},
   "outputs": [],
   "source": [
    "def mostrar_ruta_en_mapa(puntos, mapa, lado=9, lat_base=-36.665, long_base=5.282, escala=0.23):\n",
    "    ''' Traza un trayecto sobre un mapa\n",
    "    \n",
    "    ENTRADA: \n",
    "       - puntos: lista de puntos del trayecto -> [Punto(datetime, float, float, float)]\n",
    "       - mapa: nombre del archivo que contiene la imagen del mapa -> str\n",
    "       - lado: tamaño del cuadrado en el que se encaja la gráfica -> float\n",
    "       - lat_base: latitud correspondiente a la esquina inferior izquierda de la gráfica -> float\n",
    "       - long_base: latitud correspondiente a la esquina inferior izquierda de la gráfica -> float \n",
    "       - escala: escalado de la ruta para acomodarse al tamaño del mapa -> float\n",
    "    SALIDA EN PANTALLA:\n",
    "       - gráfica con el trayecto trazado sobre el mapa\n",
    "\n",
    "    Toma como entrada un trayecto definido por una lista de puntos y el nombre de un archivo\n",
    "    PNG que contenga un mapa. El resto de parámetros sirven para configurar el tamaño de la imagen, \n",
    "    y el desplazamiento y escalado de la ruta. Los valores por defecto de estos parámetros están\n",
    "    ajustados para el mapa del ejemplo.\n",
    "    \n",
    "    Para generar la gráfica se usarán las siguientes instrucciones:\n",
    "        img = mpimg.imread(mapa)\n",
    "        plt.figure(figsize=(lado, lado))\n",
    "        plt.imshow(img, zorder=0, extent=[0, lado, 0, lado])    \n",
    "        xs = [(x + lat_base) * lado  / 0.23 for x, _ in lats_longs]\n",
    "        ys = [(y + long_base) * lado / 0.23 for _, y in lats_longs]\n",
    "        plt.scatter(ys, xs, zorder=1, s=10, color='blue')\n",
    "        plt.axis('off')\n",
    "        plt.show()\n",
    "    \n",
    "    Solo es necesario calcular la siguiente variable:\n",
    "        - lats_longs: lista de tuplas (latitud, longitud) correspondientes a todos los puntos\n",
    "          del trayecto.\n",
    "    '''\n",
    "    pass"
   ]
  },
  {
   "cell_type": "code",
   "execution_count": null,
   "metadata": {},
   "outputs": [],
   "source": [
    "# Test de la función mostrar_ruta_en_mapa\n",
    "mostrar_ruta_en_mapa(puntos, './img/mapa_ronda.png')"
   ]
  },
  {
   "cell_type": "code",
   "execution_count": null,
   "metadata": {},
   "outputs": [],
   "source": []
  }
 ],
 "metadata": {
  "kernelspec": {
   "display_name": "Python 3",
   "language": "python",
   "name": "python3"
  },
  "language_info": {
   "codemirror_mode": {
    "name": "ipython",
    "version": 3
   },
   "file_extension": ".py",
   "mimetype": "text/x-python",
   "name": "python",
   "nbconvert_exporter": "python",
   "pygments_lexer": "ipython3",
   "version": "3.6.3"
  }
 },
 "nbformat": 4,
 "nbformat_minor": 2
}
