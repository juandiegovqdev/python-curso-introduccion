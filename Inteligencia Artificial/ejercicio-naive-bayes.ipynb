{
 "cells": [
  {
   "cell_type": "markdown",
   "id": "14330106",
   "metadata": {},
   "source": [
    "### Inteligencia Artificial. Tema 6: Introducción al Aprendizaje Automático\n",
    "\n",
    "### Implementación de un clasificador Naive Bayes\n",
    "\n",
    "José Luis Ruiz Reina - 28 de noviembre 2021"
   ]
  },
  {
   "cell_type": "markdown",
   "id": "2fe7e61b",
   "metadata": {},
   "source": [
    "En este ejercicio implementaremos un clasificador Naive Bayes (suponiendo atributos con valores categóricos), y lo usaremos para predecir el partido (demócrata o republicano) de un congresista USA, a partir de sus votaciones. La descripción del entrenamiento y predicción del modelo Naive Bayes está en el tema 6. "
   ]
  },
  {
   "cell_type": "markdown",
   "id": "32144c74",
   "metadata": {},
   "source": [
    "#### Conjuntos de datos"
   ]
  },
  {
   "cell_type": "markdown",
   "id": "8e29d7ed",
   "metadata": {},
   "source": [
    "Importamos los conjuntos de datos. En primer lugar, los que usan en la explicación del tema 6 (día adecuado para jugar al tenis)."
   ]
  },
  {
   "cell_type": "code",
   "execution_count": 1,
   "id": "075be3dc",
   "metadata": {},
   "outputs": [],
   "source": [
    "from jugar_tenis import X_tenis,y_tenis"
   ]
  },
  {
   "cell_type": "markdown",
   "id": "6f99f6ab",
   "metadata": {},
   "source": [
    "La variable `X_tenis` contiene una lista de listas. Cada una de esas listas es un ejemplo del conjunto de datos. En `y_tenis` están los correspondientes valores de clasificación (en el mismo orden).   "
   ]
  },
  {
   "cell_type": "code",
   "execution_count": 2,
   "id": "8e47d5fb",
   "metadata": {},
   "outputs": [
    {
     "data": {
      "text/plain": [
       "([['Soleado', 'Alta', 'Alta', 'Débil'],\n",
       "  ['Soleado', 'Alta', 'Alta', 'Fuerte'],\n",
       "  ['Nublado', 'Alta', 'Alta', 'Débil'],\n",
       "  ['Lluvia', 'Suave', 'Alta', 'Débil'],\n",
       "  ['Lluvia', 'Baja', 'Normal', 'Débil'],\n",
       "  ['Lluvia', 'Baja', 'Normal', 'Fuerte'],\n",
       "  ['Nublado', 'Baja', 'Normal', 'Fuerte'],\n",
       "  ['Soleado', 'Suave', 'Alta', 'Débil'],\n",
       "  ['Soleado', 'Baja', 'Normal', 'Débil'],\n",
       "  ['Lluvia', 'Suave', 'Normal', 'Débil'],\n",
       "  ['Soleado', 'Suave', 'Normal', 'Fuerte'],\n",
       "  ['Nublado', 'Suave', 'Alta', 'Fuerte'],\n",
       "  ['Nublado', 'Alta', 'Normal', 'Débil'],\n",
       "  ['Lluvia', 'Suave', 'Alta', 'Fuerte']],\n",
       " ['no',\n",
       "  'no',\n",
       "  'si',\n",
       "  'si',\n",
       "  'si',\n",
       "  'no',\n",
       "  'si',\n",
       "  'no',\n",
       "  'si',\n",
       "  'si',\n",
       "  'si',\n",
       "  'si',\n",
       "  'si',\n",
       "  'no'])"
      ]
     },
     "execution_count": 2,
     "metadata": {},
     "output_type": "execute_result"
    }
   ],
   "source": [
    "X_tenis,y_tenis"
   ]
  },
  {
   "cell_type": "markdown",
   "id": "a0649ffe",
   "metadata": {},
   "source": [
    "Vamos a usar también para probar la implementación, un conocido conjunto de datos. Se trata de un conjunto con las 16 votaciones (sobre distintos temas) realizadas a lo largo del año 1984 por 435 congresistas en Estados Unidos, junto con el partido al que pertenecen (republicano o demócrata) \n",
    "\n",
    "Los valores posibles de cada voto son sí (\"s\"), no (\"no\") y presente (\"?\"). El voto \"presente\", en el congreso de Estados Unidos, podríamos asimilarlo al voto en blanco (aunque no es exactamente lo mismo).   "
   ]
  },
  {
   "cell_type": "code",
   "execution_count": 3,
   "id": "04be0e47",
   "metadata": {},
   "outputs": [],
   "source": [
    "from votos import X_votos,y_votos"
   ]
  },
  {
   "cell_type": "code",
   "execution_count": 4,
   "id": "ba60a88d",
   "metadata": {},
   "outputs": [
    {
     "data": {
      "text/plain": [
       "(['n',\n",
       "  's',\n",
       "  'n',\n",
       "  's',\n",
       "  's',\n",
       "  's',\n",
       "  'n',\n",
       "  'n',\n",
       "  'n',\n",
       "  's',\n",
       "  '?',\n",
       "  's',\n",
       "  's',\n",
       "  's',\n",
       "  'n',\n",
       "  's'],\n",
       " 'republicano')"
      ]
     },
     "execution_count": 4,
     "metadata": {},
     "output_type": "execute_result"
    }
   ],
   "source": [
    "# El primero de los ejemplos:\n",
    "X_votos[0],y_votos[0]"
   ]
  },
  {
   "cell_type": "markdown",
   "id": "a8bcdd5b",
   "metadata": {},
   "source": [
    "#### Ejercicio 1"
   ]
  },
  {
   "cell_type": "markdown",
   "id": "3b74b32f",
   "metadata": {},
   "source": [
    "Definir una función `prob_prior(clase,y)` que calcula la probabilidad de una clase dada, a partir de un conjunto de datos (para esto, sólo es necesario la lista y de valores de clasificación). "
   ]
  },
  {
   "cell_type": "code",
   "execution_count": 5,
   "id": "8dc82149",
   "metadata": {},
   "outputs": [],
   "source": [
    "# -------   Solución:\n",
    "\n"
   ]
  },
  {
   "cell_type": "code",
   "execution_count": 6,
   "id": "ecdc9ace",
   "metadata": {},
   "outputs": [],
   "source": [
    "# Ejemplos:\n",
    "\n",
    "# >>> prob_prior(\"si\",y_tenis)\n",
    "# 0.6428571428571429\n",
    "\n",
    "# prob_prior(\"demócrata\",y_votos)\n",
    "# 0.6137931034482759"
   ]
  },
  {
   "cell_type": "markdown",
   "id": "23295695",
   "metadata": {},
   "source": [
    "#### Ejercicio 2\n",
    "\n",
    "Definir una función `prob_cond(atributo,valor,clase,X,y)` que devuelve la estimación de la probabilidad de que un atributo tome un valor, condicionado a que se pertenece a una clase dada. La estimación se obtiene a partir del conjunto de datos X,y.\n",
    "\n",
    "Los atributos los referenciaremos mediante el índice de la columna en la tabla de datos. Por ejemplo, en el conjunto de datos de jugar al tenis, el atributo Cielo es el 0, y el atributo Viento es el 3. "
   ]
  },
  {
   "cell_type": "code",
   "execution_count": 7,
   "id": "ba4cb489",
   "metadata": {},
   "outputs": [],
   "source": [
    "# ----  Solución:\n",
    "\n",
    "\n"
   ]
  },
  {
   "cell_type": "code",
   "execution_count": 8,
   "id": "34dc16ac",
   "metadata": {},
   "outputs": [],
   "source": [
    "# Ejemplos:\n",
    "\n",
    "# Probabilidad de Cielo soleado, dado que es un día bueno para jugar al tenis:\n",
    "# >>> prob_cond(0,\"Soleado\",\"si\",X_tenis,y_tenis)\n",
    "# 0.2222222222222222\n",
    "\n",
    "# Probabilidad de Cielo soleado, dado que es un día bueno para jugar al tenis:\n",
    "# >>> prob_cond(3,\"Fuerte\",\"no\",X_tenis,y_tenis)\n",
    "# 0.6"
   ]
  },
  {
   "cell_type": "markdown",
   "id": "b703c9fe",
   "metadata": {},
   "source": [
    "#### Ejercicio 3\n",
    "\n",
    "Para calcular todas las probabilidades a priori y condicionadas, podríamos llamar a las funciones anteriores para todas las combinaciones posibles de atributos, valores y clases. Pero si el conjunto de datos es muy grande, esto sería ineficiente, ya que cada llamada independiente realiza un recorrido por todo el conjunto de datos.\n",
    "\n",
    "Sería aconsejable calcular todas las probabilidades de una única pasada. Se pide definir una función `calcula_probs(X,y)` que devuelva todas las probabilidades estimadas, a partir del conjunto de datos X,y, recorriendo los datos una sóla vez. \n",
    "\n",
    "Devolver el resultado en forma de dos diccionarios:\n",
    "\n",
    "- Un diccionario cuyas claves son las clases y los valores son las probabilidades a priori de cada clase.\n",
    "- Un diccionario cuyas claves son las ternas `(atributo,valor,clase)`y cuyos valores son las correspondientes probabilidades condicionadas. \n"
   ]
  },
  {
   "cell_type": "code",
   "execution_count": 9,
   "id": "059f9787",
   "metadata": {},
   "outputs": [],
   "source": [
    "# ------ Solución:\n",
    "\n",
    "\n"
   ]
  },
  {
   "cell_type": "code",
   "execution_count": 10,
   "id": "6c01df92",
   "metadata": {},
   "outputs": [],
   "source": [
    "# ---- Ejemplos:\n",
    "\n",
    "# >>> calcula_probs(X_tenis,y_tenis)\n",
    "\n",
    "#({'no': 0.35714285714285715, 'si': 0.6428571428571429},\n",
    "# {(0, 'Nublado', 'no'): 0.0,\n",
    "#  (0, 'Nublado', 'si'): 0.4444444444444444,\n",
    "#  (0, 'Lluvia', 'no'): 0.4,\n",
    "#  (0, 'Lluvia', 'si'): 0.3333333333333333,\n",
    "#  (0, 'Soleado', 'no'): 0.6,\n",
    "#  (0, 'Soleado', 'si'): 0.2222222222222222,\n",
    "#  (1, 'Baja', 'no'): 0.2,\n",
    "#  (1, 'Baja', 'si'): 0.3333333333333333,\n",
    "#  (1, 'Suave', 'no'): 0.4,\n",
    "#  (1, 'Suave', 'si'): 0.4444444444444444,\n",
    "#  (1, 'Alta', 'no'): 0.4,\n",
    "#  (1, 'Alta', 'si'): 0.2222222222222222,\n",
    "#  (2, 'Normal', 'no'): 0.2,\n",
    "#  (2, 'Normal', 'si'): 0.6666666666666666,\n",
    "#  (2, 'Alta', 'no'): 0.8,\n",
    "#  (2, 'Alta', 'si'): 0.3333333333333333,\n",
    "#  (3, 'Fuerte', 'no'): 0.6,\n",
    "#  (3, 'Fuerte', 'si'): 0.3333333333333333,\n",
    "#  (3, 'Débil', 'no'): 0.4,\n",
    "#  (3, 'Débil', 'si'): 0.6666666666666666})"
   ]
  },
  {
   "cell_type": "markdown",
   "id": "5b5a990e",
   "metadata": {},
   "source": [
    "#### Ejercicio 4\n",
    "\n",
    "Una vez que hemos estimado las probabilidades a partir de los datos, vamos a definir una función `predicción_NB(probprior,probcond,ejemplo)` que a partir de las probabilidades calculadas, devuelve la clasificación que el modelo Naive Bayes predice para un ejemplo dado.    "
   ]
  },
  {
   "cell_type": "code",
   "execution_count": 11,
   "id": "cdf4342c",
   "metadata": {},
   "outputs": [],
   "source": [
    "# --------- Solución:\n",
    "\n",
    "\n"
   ]
  },
  {
   "cell_type": "code",
   "execution_count": 12,
   "id": "f2abc911",
   "metadata": {},
   "outputs": [],
   "source": [
    "# ----- Ejemplo:\n",
    "\n",
    "# >>> probpriors_tenis,probconds_tenis=calcula_probs(X_tenis,y_tenis)\n",
    "# >>> predicción_NB(probpriors_tenis,probconds_tenis,[\"Soleado\",\"Suave\",\"Alta\",\"Fuerte\"])\n",
    "# 'no'"
   ]
  },
  {
   "cell_type": "markdown",
   "id": "66f14c56",
   "metadata": {},
   "source": [
    "#### Ejercicio 4\n",
    "\n",
    "Recopilando lo realizado en los ejercicios anteriores, definir una clase `NaiveBayes` con dos métodos:\n",
    "\n",
    "- Un método `entrena` para la estimación de las probabilidades\n",
    "- Un método `predicción` para predecir nuevos ejemplos\n",
    "\n",
    "Estimar las probabilidades usando suavizado. La constante `k` de suavizado debe ser un argumento del constructor (por defecto `k=1`). \n"
   ]
  },
  {
   "cell_type": "code",
   "execution_count": 13,
   "id": "09e5b3f6",
   "metadata": {},
   "outputs": [],
   "source": [
    "# ----- Solución\n",
    "        \n",
    "    \n",
    "\n",
    "    \n",
    "    \n",
    "    "
   ]
  },
  {
   "cell_type": "code",
   "execution_count": 14,
   "id": "9fc82d4e",
   "metadata": {},
   "outputs": [],
   "source": [
    "# ----- Ejemplo:\n",
    "\n",
    "# >>> nb_tenis=NaiveBayes()\n",
    "# >>> nb_tenis.entrena(X_tenis,y_tenis)\n",
    "# >>> nb_tenis.predicción([\"Soleado\",\"Suave\",\"Alta\",\"Fuerte\"])\n",
    "# 'no'"
   ]
  },
  {
   "cell_type": "markdown",
   "id": "e0bbf9d1",
   "metadata": {},
   "source": [
    "#### Ejercicio 5"
   ]
  },
  {
   "cell_type": "markdown",
   "id": "7222ef90",
   "metadata": {},
   "source": [
    "Vamos a aplicar ahora el clasificador Naive Bayes al conjunto de datos de los votos. Pero antes, vamos a separar (aleatoriamente) una parte de los datos para entrenamiento, dejando otra parte para evaluar el rendimiento del clasificador obtenido. \n",
    "\n",
    "Para ello, definir una función `divide_entrenamiento_prueba(X,y,prop_test)`, que devuelve `X_entr`, `y_entr`, `X_test`, `y_test`, resultado de partir `X` e `y`en dos partes, aleatoriamente. El argumento `prop_test` marca la proporción del total de datos que se apartan para test (por defecto 0.2).  Nota: usar `random.shuffle`"
   ]
  },
  {
   "cell_type": "code",
   "execution_count": 15,
   "id": "3e1d1f67",
   "metadata": {},
   "outputs": [],
   "source": [
    "# ---------   Solución:\n",
    "\n",
    "\n"
   ]
  },
  {
   "cell_type": "code",
   "execution_count": 16,
   "id": "5b3d8b9b",
   "metadata": {},
   "outputs": [],
   "source": [
    "# ------ Ejemplo:\n",
    "\n",
    "# >>> X_votos_entr,y_votos_entr,X_votos_test,y_votos_test=divide_entrenamiento_prueba(X_votos,y_votos)\n",
    "# >>> len(X_votos),len(X_votos_entr),len(X_votos_test)\n",
    "# (435, 348, 87)"
   ]
  },
  {
   "cell_type": "markdown",
   "id": "42cadab3",
   "metadata": {},
   "source": [
    "#### Ejercicio 6\n",
    "\n",
    "Entrenar un clasificador Naive Bayes sobre el conjunto de entrenamiento de los votos, y probar algunas predicciones sobre ejemplos del conjunto de prueba, comparando la predicción con el valor de clasificación que se conoce.\n"
   ]
  },
  {
   "cell_type": "code",
   "execution_count": 17,
   "id": "4107746d",
   "metadata": {},
   "outputs": [],
   "source": [
    "# ---- Ejemplo (pueden ser otros resultados, debidoa la aleatoriedad):\n",
    "\n",
    "# Ejemplo 0. Predicción: demócrata. Clase real: demócrata.\n",
    "# Ejemplo 10. Predicción: demócrata. Clase real: demócrata.\n",
    "# Ejemplo 20. Predicción: republicano. Clase real: republicano.\n",
    "# Ejemplo 30. Predicción: republicano. Clase real: demócrata.\n",
    "# Ejemplo 40. Predicción: demócrata. Clase real: demócrata.\n",
    "# Ejemplo 50. Predicción: demócrata. Clase real: demócrata.\n",
    "# Ejemplo 60. Predicción: republicano. Clase real: republicano.\n",
    "# Ejemplo 70. Predicción: demócrata. Clase real: demócrata.\n",
    "# Ejemplo 80. Predicción: republicano. Clase real: republicano."
   ]
  },
  {
   "cell_type": "markdown",
   "id": "63f0ae7a",
   "metadata": {},
   "source": [
    "#### Ejercicio 7\n",
    "\n",
    "Definir una función `rendimiento(clasificador,X,y)`, que devuelve la proporción de aciertos de un clasificador (como los que define la clase NaiveBayes), sobre un conjunto de datos X,y. Calcular el rendimiento del clasificador Naive Bayes aprendido para el conjunto de los votos."
   ]
  },
  {
   "cell_type": "code",
   "execution_count": 18,
   "id": "6c23d5c4",
   "metadata": {},
   "outputs": [],
   "source": [
    "# ----- Solución:\n",
    "\n",
    "\n"
   ]
  },
  {
   "cell_type": "code",
   "execution_count": 19,
   "id": "e65391a6",
   "metadata": {},
   "outputs": [],
   "source": [
    "# ---Ejemplo (puede salir otro resultado, debido a la aleatoriedad ):\n",
    "\n",
    "# >>> rendimiento(nb_votos,X_votos_test,y_votos_test)\n",
    "# 0.8735632183908046"
   ]
  }
 ],
 "metadata": {
  "kernelspec": {
   "display_name": "Python 3 (ipykernel)",
   "language": "python",
   "name": "python3"
  },
  "language_info": {
   "codemirror_mode": {
    "name": "ipython",
    "version": 3
   },
   "file_extension": ".py",
   "mimetype": "text/x-python",
   "name": "python",
   "nbconvert_exporter": "python",
   "pygments_lexer": "ipython3",
   "version": "3.9.12"
  }
 },
 "nbformat": 4,
 "nbformat_minor": 5
}
