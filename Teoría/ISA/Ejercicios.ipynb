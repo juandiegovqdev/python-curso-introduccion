{
 "cells": [
  {
   "cell_type": "code",
   "execution_count": 36,
   "metadata": {},
   "outputs": [],
   "source": [
    "import csv"
   ]
  },
  {
   "cell_type": "code",
   "execution_count": 37,
   "metadata": {},
   "outputs": [],
   "source": [
    "registrosReader = []\n",
    "with open('Top200Movies.csv', encoding='utf-8') as f:\n",
    "    lector = csv.reader(f, delimiter=',')\n",
    "    next(lector)\n",
    "    for registro in lector:\n",
    "        \n",
    "        title = registro[0]\n",
    "        yearOfRelease = registro[1]\n",
    "        rating = registro[2]\n",
    "        numberOfReviews = registro[3]\n",
    "        popularityIndex = registro[4]\n",
    "        movieCast = registro[5]\n",
    "        director = registro[6]\n",
    "        description = registro[7]\n",
    "        \n",
    "        tupla = (title, yearOfRelease, rating, numberOfReviews, popularityIndex, movieCast, director, description)\n",
    "        registrosReader.append(tupla)"
   ]
  },
  {
   "cell_type": "code",
   "execution_count": 38,
   "metadata": {},
   "outputs": [
    {
     "name": "stdout",
     "output_type": "stream",
     "text": [
      "[('The Shawshank Redemption', '1994', '9.3', '2.6M', '66', \"['Tim Robbins', 'Morgan Freeman', 'Bob Gunton', 'William Sadler', 'Clancy Brown', 'Gil Bellows', 'Mark Rolston', 'James Whitmore', 'Jeffrey DeMunn', 'Larry Brandenburg', 'Neil Giuntoli', 'Brian Libby', 'David Proval', 'Joseph Ragno', 'Jude Ciccolella', 'Paul McCrane', 'Renee Blaine', 'Scott Mann']\", 'Frank Darabont', 'Two imprisoned men bond over a number of years, finding solace and eventual redemption through acts of common decency.')]\n"
     ]
    }
   ],
   "source": [
    "print(registrosReader[:1])"
   ]
  },
  {
   "cell_type": "code",
   "execution_count": 39,
   "metadata": {},
   "outputs": [],
   "source": [
    "# Pelicula con mayor numero de reseñas \n",
    "\n",
    "def masPopular(registros):\n",
    "    \n",
    "    popularityIndex = 0\n",
    "    title = \"\"\n",
    "    \n",
    "    for registro in registros:\n",
    "        if int(registro[4].replace(\",\", \"\")) > popularityIndex:\n",
    "            popularityIndex = int(registro[4].replace(\",\", \"\"))\n",
    "            title = registro[0]\n",
    "    \n",
    "    return (popularityIndex, title)"
   ]
  },
  {
   "cell_type": "code",
   "execution_count": 42,
   "metadata": {},
   "outputs": [
    {
     "name": "stdout",
     "output_type": "stream",
     "text": [
      "Titulo: Eternal Sunshine of the Spotless Mind\n",
      "Mayor popularidad: 260K\n"
     ]
    }
   ],
   "source": [
    "title = masPopular(registrosReader)[1]\n",
    "popularityIndex = masPopular(registrosReader)[0]\n",
    "print(\"Titulo:\", title)\n",
    "print(\"Mayor popularidad:\", popularityIndex)"
   ]
  },
  {
   "cell_type": "code",
   "execution_count": 33,
   "metadata": {},
   "outputs": [
    {
     "name": "stdout",
     "output_type": "stream",
     "text": [
      "1000000\n",
      "100000\n"
     ]
    }
   ],
   "source": [
    "numero = \"1000000millon\"\n",
    "numero = numero.replace(\"millon\", \"\")\n",
    "print(int(numero)) # numero = \"1000000\"\n",
    "\n",
    "numero2 = 100000\n",
    "print(str(numero2))"
   ]
  },
  {
   "cell_type": "code",
   "execution_count": 47,
   "metadata": {},
   "outputs": [],
   "source": [
    "def peliculaMasAntigua(registros):\n",
    "    yearOfRelease = 2023\n",
    "    title = \"\"\n",
    "    \n",
    "    for registro in registros:\n",
    "        if int(registro[1]) < yearOfRelease:\n",
    "            yearOfRelease = int(registro[1])\n",
    "            title = registro[0]\n",
    "    \n",
    "    return (yearOfRelease, title)"
   ]
  },
  {
   "cell_type": "code",
   "execution_count": 48,
   "metadata": {},
   "outputs": [
    {
     "name": "stdout",
     "output_type": "stream",
     "text": [
      "Titulo: Metropolis\n",
      "Año de estreno: 1927\n"
     ]
    }
   ],
   "source": [
    "title = peliculaMasAntigua(registrosReader)[1]\n",
    "yearOfRelease = peliculaMasAntigua(registrosReader)[0]\n",
    "print(\"Titulo:\", title)\n",
    "print(\"Año de estreno:\", yearOfRelease)"
   ]
  }
 ],
 "metadata": {
  "kernelspec": {
   "display_name": "Python 3 (ipykernel)",
   "language": "python",
   "name": "python3"
  },
  "language_info": {
   "codemirror_mode": {
    "name": "ipython",
    "version": 3
   },
   "file_extension": ".py",
   "mimetype": "text/x-python",
   "name": "python",
   "nbconvert_exporter": "python",
   "pygments_lexer": "ipython3",
   "version": "3.9.7"
  }
 },
 "nbformat": 4,
 "nbformat_minor": 4
}
