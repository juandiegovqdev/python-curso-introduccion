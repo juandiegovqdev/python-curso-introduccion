{
 "cells": [
  {
   "cell_type": "markdown",
   "metadata": {},
   "source": [
    "# Fundamentos de Programación\n",
    "\n",
    "\n",
    "# Expresiones, tipos predefinidos y entrada/salida\n",
    "**Autor**: Fermín Cruz.   **Revisor**: José A. Troyano, Carlos G. Vallejo, Mariano González   **Última modificación:** 2 de octubre de 2019"
   ]
  },
  {
   "cell_type": "markdown",
   "metadata": {},
   "source": [
    "## Índice de contenidos\n",
    "* [1. Variables](#sec_variables)\n",
    " * [1.1. Asignaciones](#sec_asignaciones)\n",
    " * [1.2. Name Error](#sec_nameerror)\n",
    " * [1.3 Normas para la construcción de nombres de variables](#sec_normas)\n",
    "* [2. Tipos predefinidos](#sec_tipos)\n",
    " * [2.1. Tipo lógico](#sec_logico)\n",
    " * [2.2. Tipos numéricos](#sec_numericos)\n",
    " * [2.3. Tipos cadena](#sec_cadena)\n",
    " * [2.4. Tipos contenedores](#sec_contenedores)\n",
    "   * [2.4.1. Tuplas](#sec_tuplas)\n",
    "   * [2.4.2. Listas](#sec_listas)\n",
    "   * [2.4.3. Conjuntos](#sec_conjuntos)\n",
    "   * [2.4.4. Diccionarios](#sec_diccionarios)\n",
    "   * [2.4.5. Operaciones con tipos contenedores](#sec_operaciones)\n",
    "* [3. Expresiones](#sec_expresiones)\n",
    " * [3.1. Prioridad de los operadores](#sec_prioridad)\n",
    " * [3.2. Conversión de tipos](#sec_conversion)\n",
    " * [3.3. Expresiones bien formadas](#sec_bienformadas)\n",
    "* [4. Entrada y salida estándar](#sec_4)\n",
    " * [4.1. Funciones input y print](#sec_4_1)\n",
    " * [4.2. Formateo de cadenas](#sec_4_2)\n",
    "* [5. Lectura y escritura de ficheros](#sec_5)\n",
    " * [5.1. Apertura y cierre de ficheros](#sec_5_1)\n",
    " * [5.2. Lectura y escritura de texto libre](#sec_5_2)\n",
    " * [5.3. Lectura y escritura de CSV](#sec_5_3) "
   ]
  },
  {
   "cell_type": "markdown",
   "metadata": {},
   "source": [
    "## 1. Variables <a name=\"sec_variables\"/>"
   ]
  },
  {
   "cell_type": "markdown",
   "metadata": {},
   "source": [
    "Una variable es un elemento de un programa que permite almacenar un valor en un momento de la ejecución, y utilizarlo en un momento posterior. Para usar una variable debemos escoger un nombre para la misma y darle algún valor inicial, como en los siguientes ejemplos:\n",
    "<a id=\"primer_ejemplo\"/>"
   ]
  },
  {
   "cell_type": "code",
   "execution_count": 1,
   "metadata": {},
   "outputs": [],
   "source": [
    "nombre = \"Augustino\"\n",
    "edad = 19\n",
    "peso = 69.4\n",
    "altura = 1.70"
   ]
  },
  {
   "cell_type": "markdown",
   "metadata": {},
   "source": [
    "Si más adelante hacemos uso de los nombres que hemos usado para las variables anteriores (*nombre*, *edad*, *peso* o *altura*), Python nos devolverá los valores almacenados previamente."
   ]
  },
  {
   "cell_type": "code",
   "execution_count": 2,
   "metadata": {},
   "outputs": [
    {
     "name": "stdout",
     "output_type": "stream",
     "text": [
      "Nombre:  Augustino\n",
      "Edad:  19\n",
      "Peso:  69.4\n",
      "Altura:  1.7\n"
     ]
    }
   ],
   "source": [
    "print(\"Nombre: \", nombre)\n",
    "print(\"Edad: \", edad)\n",
    "print(\"Peso: \", peso)\n",
    "print(\"Altura: \", altura)"
   ]
  },
  {
   "cell_type": "markdown",
   "metadata": {},
   "source": [
    "Aunque no es obligatorio, si en algún momento no necesitamos más una variable, podemos eliminarla de la memoria:"
   ]
  },
  {
   "cell_type": "code",
   "execution_count": 3,
   "metadata": {},
   "outputs": [],
   "source": [
    "# del(edad)\n",
    "# print(edad)"
   ]
  },
  {
   "cell_type": "markdown",
   "metadata": {},
   "source": [
    "### 1.1. Asignaciones <a name=\"sec_asignaciones\"/>\n",
    "\n",
    "Si volvemos a escribir una instrucción formada por el nombre de una variable que ya hemos usado anteriormente, el signo igual y un valor, estaremos sustituyendo el valor almacenado en la variable en cuestión. Llamamos a esta instrucción **asignación**. Por ejemplo, podemos hacer:"
   ]
  },
  {
   "cell_type": "code",
   "execution_count": 4,
   "metadata": {},
   "outputs": [
    {
     "name": "stdout",
     "output_type": "stream",
     "text": [
      "Bonifacio\n"
     ]
    }
   ],
   "source": [
    "nombre = \"Bonifacio\" # el valor anterior de la variable se pierde\n",
    "print(nombre)"
   ]
  },
  {
   "cell_type": "markdown",
   "metadata": {},
   "source": [
    "En Python es posible hacer **asignaciones múltiples**, lo que permite asignar valores a varias variables en una única instrucción:"
   ]
  },
  {
   "cell_type": "code",
   "execution_count": 5,
   "metadata": {},
   "outputs": [
    {
     "name": "stdout",
     "output_type": "stream",
     "text": [
      "21\n",
      "73.2\n",
      "Nombre1Nombre2\n",
      "Nombre2\n",
      "Nombre3\n"
     ]
    }
   ],
   "source": [
    "edad, peso = 21, 73.2\n",
    "print(edad)\n",
    "print(peso)\n",
    "\n",
    "nombre1, nombre2, nombre3 = \"Nombre1\", \"Nombre2\", \"Nombre3\"\n",
    "print(nombre1+nombre2)\n",
    "print(nombre2)\n",
    "print(nombre3)"
   ]
  },
  {
   "cell_type": "markdown",
   "metadata": {},
   "source": [
    "Las asignaciones múltiples se pueden usar para intercambiar los valores de dos variables. Mira este ejemplo:"
   ]
  },
  {
   "cell_type": "code",
   "execution_count": 6,
   "metadata": {},
   "outputs": [
    {
     "name": "stdout",
     "output_type": "stream",
     "text": [
      "Peso:  1.7\n",
      "Altura:  73.2\n"
     ]
    }
   ],
   "source": [
    "peso, altura = altura, peso\n",
    "print(\"Peso: \", peso)\n",
    "print(\"Altura: \", altura)"
   ]
  },
  {
   "cell_type": "markdown",
   "metadata": {},
   "source": [
    "### 1.2. Name Error <a name=\"sec_nameerror\"/>\n",
    "Es habitual confundirse al escribir el nombre de una variable existente en el programa. Mira el error que devuelve Python cuando esto ocurre; trata de recordarlo para cuando te ocurra en tus programas:"
   ]
  },
  {
   "cell_type": "code",
   "execution_count": 7,
   "metadata": {},
   "outputs": [],
   "source": [
    "# print(nombres)  # Hemos usado \"nombres\" en lugar de \"nombre\""
   ]
  },
  {
   "cell_type": "markdown",
   "metadata": {},
   "source": [
    "### 1.3. Normas para la construcción de nombres de variables <a name=\"sec_normas\"/>\n",
    "Podemos usar los nombres que queramos para nuestras variables, siempre que cumplamos las siguientes reglas:\n",
    "* Sólo podemos usar letras, números y la barra baja (_). No se pueden usar espacios.\n",
    "* El nombre puede comenzar por una letra o por la barra baja.\n",
    "* No se pueden usar determinadas palabras clave (*keywords*) que Python usa como instrucciones (por ejemplo, *def* o *if*) o como literales (por ejemplo, *True*). Aunque Python lo permite, tampoco es apropiado usar nombres de funciones predefinidas (por ejemplo, *print*).\n",
    "* Los nombres tienen que ser descriptivos de lo que representa la variable (¡sin pasarse!).\n",
    "\n",
    "Aquí tienes algunos ejemplos de nombres incorrectos de variables; observa los errores generados por Python."
   ]
  },
  {
   "cell_type": "code",
   "execution_count": 8,
   "metadata": {},
   "outputs": [],
   "source": [
    "edad4 = 10"
   ]
  },
  {
   "cell_type": "code",
   "execution_count": 9,
   "metadata": {},
   "outputs": [],
   "source": [
    "# if = 20"
   ]
  },
  {
   "cell_type": "code",
   "execution_count": 10,
   "metadata": {},
   "outputs": [],
   "source": [
    "# True = 15"
   ]
  },
  {
   "cell_type": "markdown",
   "metadata": {},
   "source": [
    "Puedes consultar todas las palabras claves (*keywords*) existentes en Python de la siguiente forma:"
   ]
  },
  {
   "cell_type": "code",
   "execution_count": 11,
   "metadata": {},
   "outputs": [
    {
     "name": "stdout",
     "output_type": "stream",
     "text": [
      "['False', 'None', 'True', '__peg_parser__', 'and', 'as', 'assert', 'async', 'await', 'break', 'class', 'continue', 'def', 'del', 'elif', 'else', 'except', 'finally', 'for', 'from', 'global', 'if', 'import', 'in', 'is', 'lambda', 'nonlocal', 'not', 'or', 'pass', 'raise', 'return', 'try', 'while', 'with', 'yield']\n"
     ]
    }
   ],
   "source": [
    "import keyword\n",
    "print(keyword.kwlist)"
   ]
  },
  {
   "cell_type": "markdown",
   "metadata": {},
   "source": [
    "### ¡Prueba tú!"
   ]
  },
  {
   "cell_type": "code",
   "execution_count": 12,
   "metadata": {},
   "outputs": [
    {
     "name": "stdout",
     "output_type": "stream",
     "text": [
      "40.5\n"
     ]
    }
   ],
   "source": [
    "# Declara una variable para almacenar el precio de un producto, y asígnale algún valor.\n",
    "precioProducto = 40.5\n",
    "\n",
    "# Muestra por pantalla el valor almacenado en la variable\n",
    "print(precioProducto)"
   ]
  },
  {
   "cell_type": "markdown",
   "metadata": {},
   "source": [
    "## 2. Tipos predefinidos <a name=\"sec_tipos\"/>"
   ]
  },
  {
   "cell_type": "markdown",
   "metadata": {},
   "source": [
    "En los ejemplos anteriores hemos guardado valores de distintos tipos en las variables: *nombre* almacena un valor de **tipo cadena de caracteres**, *edad* almacena un valor de **tipo número entero** y *peso* almacena un valor de **tipo número real**. Cada uno de estos son **tipos predefinidos en Python** (*built-in types*). Hablamos de *predefinidos* porque Python también permite al programador crear sus propios tipos, aunque esto no lo veremos por ahora. Los valores que hemos escrito para inicializar cada una de las variables se llaman **literales**.\n"
   ]
  },
  {
   "cell_type": "markdown",
   "metadata": {},
   "source": [
    "Un **tipo de datos** está definido por un conjunto de posibles valores (lo que en matemáticas conocemos como *dominio*) y un conjunto de operaciones asociadas. Por ejemplo, el tipo número entero (o tipo entero) se corresponde con los valores 0, -1, 1, -2, 2, ..., y con las operaciones aritméticas (suma, resta, multiplicación, ...).\n",
    "\n",
    "Un **literal** (es decir, un valor concreto de un tipo) tiene asociado un tipo determinado, simplemente por cómo está escrito dicho literal. Por contra, para saber el tipo asociado a una **variable**, debemos fijarnos en el valor que ha sido almacenado en la misma. <a href=\"#primer_ejemplo\">En el ejemplo de la sección anterior</a>, *nombre* es una variable de tipo cadena de caracteres (o tipo cadena), porque ha sido inicializada con un literal de dicho tipo (\"Augustino\"). \n",
    "\n",
    "Una **operación** recibe uno o varios valores de un tipo determinado y devuelve un valor del mismo u otro tipo. Las operaciones pueden estar representadas por un operador o por una llamada a función, como veremos más adelante.\n",
    "\n",
    "En las siguientes secciones se muestran distintos tipos predefinidos, la manera en que se escriben los literales y las operaciones asociadas más importantes."
   ]
  },
  {
   "cell_type": "markdown",
   "metadata": {},
   "source": [
    "### 2.1 Tipo lógico <a name=\"sec_logico\"/>"
   ]
  },
  {
   "cell_type": "markdown",
   "metadata": {},
   "source": [
    "El tipo lógico (**bool**) únicamente incluye dos valores en su dominio: verdadero (**True**) y falso (**False**). Estas dos palabras en negrita son precisamente los únicos **literales lógicos** permitidos en Python. El tipo lógico sirve para representar condiciones lógicas, por ejemplo, si un peso es o no mayor a un umbral, si un año es o no bisiesto, o si el personaje de un videojuego tiene o no una determinada habilidad. \n",
    "\n",
    "Los operadores lógicos son sólo tres: **and**, **or** y **not**, tal como se muestra en los siguientes ejemplos.\n",
    "<a id=\"operadores_logicos\"/>"
   ]
  },
  {
   "cell_type": "code",
   "execution_count": 13,
   "metadata": {},
   "outputs": [
    {
     "name": "stdout",
     "output_type": "stream",
     "text": [
      "Eres de estatura media\n"
     ]
    }
   ],
   "source": [
    "# Disyunción (también llamado \"o lógico\" y \"sumador lógico\")\n",
    "False or True\n",
    "\n",
    "# Puerta or --> DOMINA TRUE\n",
    "\n",
    "# False or False  --> False\n",
    "# False or True   --> True\n",
    "# True  or False  --> True \n",
    "# True  or True   --> True\n",
    "\n",
    "altura = 180\n",
    "\n",
    "if altura < 160: # False\n",
    "    print(\"Eres bajito\")\n",
    "elif altura > 160 or altura < 180: # True si altura es mayor de 160 o menor de 180\n",
    "    print(\"Eres de estatura media\")\n",
    "elif altura > 180 or altura < 190: # True si altura es mayor de 180 o menor de 190\n",
    "    print(\"Eres alto\")\n",
    "else: # True si no se cumplen las anteriores\n",
    "    print(\"Eres una persona muy alta\")"
   ]
  },
  {
   "cell_type": "code",
   "execution_count": 14,
   "metadata": {},
   "outputs": [
    {
     "data": {
      "text/plain": [
       "False"
      ]
     },
     "execution_count": 14,
     "metadata": {},
     "output_type": "execute_result"
    }
   ],
   "source": [
    "# Conjunción (también llamado \"y lógico\" y \"multiplicador lógico\")\n",
    "False and True \n",
    "\n",
    "# Puerta and --> DOMINA FALSE\n",
    "\n",
    "# False and False  --> False\n",
    "# False and True   --> False\n",
    "# True  and False  --> False\n",
    "# True  and True   --> True"
   ]
  },
  {
   "cell_type": "code",
   "execution_count": 15,
   "metadata": {},
   "outputs": [
    {
     "name": "stdout",
     "output_type": "stream",
     "text": [
      "not False:  True\n",
      "not True:  False\n",
      "not True:  False\n"
     ]
    }
   ],
   "source": [
    "# Negación\n",
    "booleano1 = not False\n",
    "booleano2 = not True\n",
    "booleano3 = not booleano1\n",
    "print(\"not False: \", booleano1)\n",
    "print(\"not True: \", booleano2)\n",
    "print(\"not True: \", booleano3)"
   ]
  },
  {
   "cell_type": "markdown",
   "metadata": {},
   "source": [
    "### ¡Prueba tú!"
   ]
  },
  {
   "cell_type": "code",
   "execution_count": 16,
   "metadata": {},
   "outputs": [
    {
     "name": "stdout",
     "output_type": "stream",
     "text": [
      "Disyunción: False\n",
      "Conjunción: False\n",
      "Negación: True\n"
     ]
    }
   ],
   "source": [
    "# Cambia los literales utilizados en las siguientes expresiones y observa cuál es el resultado en cada caso\n",
    "\n",
    "print(\"Disyunción:\", False or False)\n",
    "print(\"Conjunción:\", False and False)\n",
    "print(\"Negación:\", not False)"
   ]
  },
  {
   "cell_type": "markdown",
   "metadata": {},
   "source": [
    "### 2.2 Tipos numéricos <a name=\"sec_numericos\"/>"
   ]
  },
  {
   "cell_type": "markdown",
   "metadata": {},
   "source": [
    "Existen tres tipos que permiten trabajar con números en Python: enteros (**int**), reales (**float**) y complejos (**complex**). Nosotros sólo trabajaremos con los dos primeros. \n",
    "\n",
    "Los **literales enteros** se escriben tal como estamos acostumbrados, mediante una secuencia de dígitos. Por ejemplo: \n",
    "```python\n",
    "2018\n",
    "```\n",
    "Si escribimos el punto decimal (.), entonces diremos que se trata de un **literal real**:\n",
    "```python\n",
    "3.14159\n",
    "```\n",
    "\n",
    "Las operaciones disponibles incluyen a las **operaciones aritméticas** (suma, resta, multiplicación,...), las **operaciones relacionales** (mayor que, menor que,...), y algunas otras como el valor absoluto. Algunas operaciones se representan mediante un operador (por ejemplo, se usa el operador + para la suma), mientras que otras se representan mediante una llamada a función (por ejemplo, se usa la función predefinida *abs* para obtener el valor absoluto de un número). \n",
    "\n",
    "A continuación, se muestran ejemplos que deben ser autoexplicativos. Empezamos por las **operaciones aritméticas**, que son aquellas en las que tanto los operandos como el resultado son numéricos:\n",
    "<a id=\"operadores_aritmeticos\"/>"
   ]
  },
  {
   "cell_type": "code",
   "execution_count": 17,
   "metadata": {},
   "outputs": [
    {
     "data": {
      "text/plain": [
       "9"
      ]
     },
     "execution_count": 17,
     "metadata": {},
     "output_type": "execute_result"
    }
   ],
   "source": [
    "# suma\n",
    "3 + 6"
   ]
  },
  {
   "cell_type": "code",
   "execution_count": 18,
   "metadata": {},
   "outputs": [
    {
     "data": {
      "text/plain": [
       "-1"
      ]
     },
     "execution_count": 18,
     "metadata": {},
     "output_type": "execute_result"
    }
   ],
   "source": [
    "# resta\n",
    "3 - 4"
   ]
  },
  {
   "cell_type": "code",
   "execution_count": 19,
   "metadata": {},
   "outputs": [
    {
     "data": {
      "text/plain": [
       "12"
      ]
     },
     "execution_count": 19,
     "metadata": {},
     "output_type": "execute_result"
    }
   ],
   "source": [
    "# producto\n",
    "3 * 4"
   ]
  },
  {
   "cell_type": "code",
   "execution_count": 20,
   "metadata": {},
   "outputs": [
    {
     "data": {
      "text/plain": [
       "0.75"
      ]
     },
     "execution_count": 20,
     "metadata": {},
     "output_type": "execute_result"
    }
   ],
   "source": [
    "# división\n",
    "3 / 4"
   ]
  },
  {
   "cell_type": "code",
   "execution_count": 21,
   "metadata": {},
   "outputs": [
    {
     "data": {
      "text/plain": [
       "0"
      ]
     },
     "execution_count": 21,
     "metadata": {},
     "output_type": "execute_result"
    }
   ],
   "source": [
    "# división entera: devuelve el cociente, sin decimales\n",
    "3 // 4"
   ]
  },
  {
   "cell_type": "code",
   "execution_count": 22,
   "metadata": {},
   "outputs": [
    {
     "data": {
      "text/plain": [
       "3"
      ]
     },
     "execution_count": 22,
     "metadata": {},
     "output_type": "execute_result"
    }
   ],
   "source": [
    "# resto de la división entera\n",
    "3 % 4"
   ]
  },
  {
   "cell_type": "code",
   "execution_count": 23,
   "metadata": {},
   "outputs": [
    {
     "data": {
      "text/plain": [
       "-3"
      ]
     },
     "execution_count": 23,
     "metadata": {},
     "output_type": "execute_result"
    }
   ],
   "source": [
    "# opuesto\n",
    "- 3"
   ]
  },
  {
   "cell_type": "code",
   "execution_count": 24,
   "metadata": {},
   "outputs": [
    {
     "data": {
      "text/plain": [
       "3"
      ]
     },
     "execution_count": 24,
     "metadata": {},
     "output_type": "execute_result"
    }
   ],
   "source": [
    "# valor absoluto\n",
    "abs(-3)"
   ]
  },
  {
   "cell_type": "code",
   "execution_count": 25,
   "metadata": {},
   "outputs": [
    {
     "data": {
      "text/plain": [
       "81"
      ]
     },
     "execution_count": 25,
     "metadata": {},
     "output_type": "execute_result"
    }
   ],
   "source": [
    "# potencia\n",
    "3 ** 4"
   ]
  },
  {
   "cell_type": "markdown",
   "metadata": {},
   "source": [
    "### ¡Prueba tú!"
   ]
  },
  {
   "cell_type": "code",
   "execution_count": 26,
   "metadata": {},
   "outputs": [
    {
     "name": "stdout",
     "output_type": "stream",
     "text": [
      "Módulo 1:  0\n",
      "Módulo 2:  1\n",
      "Potencia:  81\n"
     ]
    }
   ],
   "source": [
    "# Escribe una expresión usando varios operadores aritméticos\n",
    "modulo1 = 25 % 5\n",
    "modulo2 = 25 % 4\n",
    "print(\"Módulo 1: \", modulo1)\n",
    "print(\"Módulo 2: \", modulo2)\n",
    "\n",
    "potencia = 3 ** 4\n",
    "print(\"Potencia: \", potencia)"
   ]
  },
  {
   "cell_type": "markdown",
   "metadata": {},
   "source": [
    "Continuamos con las **operaciones relacionales**, en las que los operandos son numéricos pero el resultado es de tipo lógico:\n",
    "<a id=\"operadores_relacionales\"/>"
   ]
  },
  {
   "cell_type": "code",
   "execution_count": 27,
   "metadata": {},
   "outputs": [
    {
     "name": "stdout",
     "output_type": "stream",
     "text": [
      "False\n"
     ]
    }
   ],
   "source": [
    "# mayor estricto\n",
    "mayorEstricto = 3 > 4\n",
    "print(mayorEstricto)"
   ]
  },
  {
   "cell_type": "code",
   "execution_count": 28,
   "metadata": {},
   "outputs": [
    {
     "data": {
      "text/plain": [
       "True"
      ]
     },
     "execution_count": 28,
     "metadata": {},
     "output_type": "execute_result"
    }
   ],
   "source": [
    "# menor estricto\n",
    "3 < 4"
   ]
  },
  {
   "cell_type": "code",
   "execution_count": 29,
   "metadata": {},
   "outputs": [
    {
     "data": {
      "text/plain": [
       "False"
      ]
     },
     "execution_count": 29,
     "metadata": {},
     "output_type": "execute_result"
    }
   ],
   "source": [
    "# mayor o igual\n",
    "3 >= 4"
   ]
  },
  {
   "cell_type": "code",
   "execution_count": 30,
   "metadata": {},
   "outputs": [
    {
     "data": {
      "text/plain": [
       "True"
      ]
     },
     "execution_count": 30,
     "metadata": {},
     "output_type": "execute_result"
    }
   ],
   "source": [
    "# menor o igual\n",
    "3 <= 4"
   ]
  },
  {
   "cell_type": "code",
   "execution_count": 31,
   "metadata": {},
   "outputs": [
    {
     "data": {
      "text/plain": [
       "False"
      ]
     },
     "execution_count": 31,
     "metadata": {},
     "output_type": "execute_result"
    }
   ],
   "source": [
    "# igual\n",
    "3 == 4"
   ]
  },
  {
   "cell_type": "code",
   "execution_count": 32,
   "metadata": {},
   "outputs": [
    {
     "data": {
      "text/plain": [
       "True"
      ]
     },
     "execution_count": 32,
     "metadata": {},
     "output_type": "execute_result"
    }
   ],
   "source": [
    "# distinto\n",
    "3 != 4"
   ]
  },
  {
   "cell_type": "markdown",
   "metadata": {},
   "source": [
    "Los operadores relacionales pueden concatenarse para formar una única expresión, de manera similar a como se hace en notación matemática (algo que no puede hacerse en otros lenguajes de programación, como C o Java). Por ejemplo:"
   ]
  },
  {
   "cell_type": "code",
   "execution_count": 33,
   "metadata": {},
   "outputs": [
    {
     "data": {
      "text/plain": [
       "True"
      ]
     },
     "execution_count": 33,
     "metadata": {},
     "output_type": "execute_result"
    }
   ],
   "source": [
    "3 < 4 <= 6"
   ]
  },
  {
   "cell_type": "markdown",
   "metadata": {},
   "source": [
    "### 2.3 Tipo cadena  <a name=\"sec_cadena\"/>"
   ]
  },
  {
   "cell_type": "markdown",
   "metadata": {},
   "source": [
    "El tipo cadena de caracteres (**str**), o como se suele abreviar, tipo cadena, nos permite trabajar con textos. Los **literales cadena** se escriben utilizando unas comillas simples o dobles para rodear al texto que queremos representar. Por ejemplo:\n",
    "\n",
    "```python\n",
    "\"Este es un literal cadena\"\n",
    "'Este es otro literal cadena'\n",
    "```\n",
    "\n",
    "Si usamos comillas simples, dentro del texto podemos emplear las comillas dobles sin problema. Igualmente, si usamos las comillas dobles para rodear al texto, dentro del mismo podemos usar las comillas simples. Por ejemplo:\n",
    "\n",
    "```python\n",
    "\"En este ejemplo usamos las 'comillas simples' dentro de un texto\"\n",
    "'En este ejemplo usamos las \"comillas dobles\" dentro de un texto'\n",
    "```\n",
    "\n",
    "En ocasiones querremos hacer referencia a caracteres especiales, como el tabulador o el salto de línea. En dichos casos, debemos usar el **carácter de escape**, que es la barra invertida \\\\. Por ejemplo, el tabulador se escribe como *\\t* y el salto de línea se escribe como *\\n*. Por ejemplo:\n",
    "\n",
    "```python\n",
    "\"Este texto tiene dos líneas.\\nEsta es la segunda línea.\"\n",
    "```\n",
    "\n",
    "También es posible utilizar tres comillas, simples o dobles, como delimitadores del texto, en cuyo caso podemos escribir texto de varias líneas, sin necesidad de usar *\\n*:\n",
    "\n",
    "```python\n",
    "\"\"\"Este texto tiene dos líneas.\n",
    "Esta es la segunda línea.\"\"\"\n",
    "```"
   ]
  },
  {
   "cell_type": "markdown",
   "metadata": {},
   "source": [
    "La mayoría de las operaciones sobre el tipo cadena son mediante llamadas a métodos, ya que las cadenas en Python son objetos. Veremos esto más adelante; por ahora, nos basta con ver las operaciones que podemos realizar mediante operadores o funciones predefinidas:"
   ]
  },
  {
   "cell_type": "code",
   "execution_count": 34,
   "metadata": {},
   "outputs": [
    {
     "name": "stdout",
     "output_type": "stream",
     "text": [
      "Número de caracteres del texto: 27\n",
      "E\n",
      "s\n",
      ".\n",
      ".\n"
     ]
    }
   ],
   "source": [
    "texto = \"Este es un texto de prueba.\"\n",
    "\n",
    "# Tamaño de una cadena, función predefinida len\n",
    "print(\"Número de caracteres del texto:\", len(texto))\n",
    "\n",
    "# El operador de acceso permite obtener un único carácter \n",
    "print(texto[0])  # El primer carácter se referencia mediante un cero\n",
    "print(texto[1])\n",
    "print(texto[26])\n",
    "print(texto[-1]) # Otra forma de acceder al último carácter de la cadena"
   ]
  },
  {
   "cell_type": "markdown",
   "metadata": {},
   "source": [
    "¡Cuidado con intentar acceder a un carácter que no existe! Observa el error que se produce:"
   ]
  },
  {
   "cell_type": "code",
   "execution_count": 35,
   "metadata": {},
   "outputs": [],
   "source": [
    "# print(texto[27])"
   ]
  },
  {
   "cell_type": "markdown",
   "metadata": {},
   "source": [
    "Python nos permite usar el operador + entre dos cadenas, y el operador * entre una cadena y un número entero:"
   ]
  },
  {
   "cell_type": "code",
   "execution_count": 36,
   "metadata": {},
   "outputs": [
    {
     "name": "stdout",
     "output_type": "stream",
     "text": [
      "Este es un texto de prueba. ¡Genial!\n"
     ]
    }
   ],
   "source": [
    "texto = texto + \" ¡Genial!\"\n",
    "print(texto)"
   ]
  },
  {
   "cell_type": "code",
   "execution_count": 37,
   "metadata": {},
   "outputs": [
    {
     "name": "stdout",
     "output_type": "stream",
     "text": [
      "Este es un texto de prueba. ¡Genial!Este es un texto de prueba. ¡Genial!Este es un texto de prueba. ¡Genial!Este es un texto de prueba. ¡Genial!\n"
     ]
    }
   ],
   "source": [
    "texto = texto * 4\n",
    "print(texto)"
   ]
  },
  {
   "cell_type": "markdown",
   "metadata": {},
   "source": [
    "También es posible usar los operadores relacionales entre cadenas, de manera que se utiliza el orden alfabético para decidir el resultado de las operaciones."
   ]
  },
  {
   "cell_type": "code",
   "execution_count": 38,
   "metadata": {},
   "outputs": [
    {
     "name": "stdout",
     "output_type": "stream",
     "text": [
      "Este es un texto de prueba.\n",
      "¡Genial!\n"
     ]
    }
   ],
   "source": [
    "\"Ana\" < \"María\"\n",
    "texto = \"Este es un texto de prueba.\\n¡Genial!\"\n",
    "print(texto)"
   ]
  },
  {
   "cell_type": "markdown",
   "metadata": {},
   "source": [
    "### ¡Prueba tú!"
   ]
  },
  {
   "cell_type": "code",
   "execution_count": 39,
   "metadata": {},
   "outputs": [],
   "source": [
    "# Declara una variable e inicialízala con algún texto.\n",
    "\n",
    "# Muestra el número de caracteres del texto, el carácter que ocupa la primera posición y el carácter que ocupa la última posición.\n"
   ]
  },
  {
   "cell_type": "markdown",
   "metadata": {},
   "source": [
    "### 2.4 Tipos contenedores  <a name=\"sec_contenedores\"/>"
   ]
  },
  {
   "cell_type": "markdown",
   "metadata": {},
   "source": [
    "En Python existen algunos tipos contenedores que permiten almacenar en una variable varios valores al mismo tiempo. Cada uno de estos valores puede tener a su vez su propio tipo (es decir, puedo guardar en una única variable dos valores de tipo entero y un valor de tipo cadena, por ejemplo). \n",
    "\n",
    "Entre otros, tenemos disponemos en Python de estos tipos contenedores.\n",
    "\n",
    "#### 2.4.1. Tuplas  <a name=\"sec_tuplas\"/>\n",
    "\n",
    "El tipo tupla (**tuple**) permite almacenar datos de cualquier tipo, en un orden determinado. Los literales se escriben concatenando los datos que se desea que estén incluidos en la tupla, separados por comas, y envolviéndolo todo con unos paréntesis. Por ejemplo:\n",
    "\n",
    "```python\n",
    "(\"Mark\", \"Lenders\", 15) \n",
    "```\n",
    "\n",
    "Si guardamos una tupla en una variable, podemos acceder a cada uno de los elementos de la tupla de la siguiente manera:\n",
    "<a id=\"ejemplo_tupla\"/>"
   ]
  },
  {
   "cell_type": "code",
   "execution_count": 40,
   "metadata": {},
   "outputs": [
    {
     "name": "stdout",
     "output_type": "stream",
     "text": [
      "Nombre: Mark\n",
      "Apellidos: Lenders\n",
      "Edad: 15\n",
      "Lugar de residencia: Sevilla\n"
     ]
    }
   ],
   "source": [
    "jugador = (\"Mark\", \"Lenders\", 15, \"Sevilla\")\n",
    "print(\"Nombre:\", jugador[0])\n",
    "print(\"Apellidos:\", jugador[1])\n",
    "print(\"Edad:\", jugador[2])\n",
    "print(\"Lugar de residencia:\", jugador[3])"
   ]
  },
  {
   "cell_type": "markdown",
   "metadata": {},
   "source": [
    "Las tuplas se usan frecuentemente como tipo de devolución de las funciones, ya que nos permiten que una función devuelva varios valores al mismo tiempo. Veremos esto más adelante."
   ]
  },
  {
   "cell_type": "markdown",
   "metadata": {},
   "source": [
    "Las tuplas son **inmutables**, lo que significa que una vez que se ha asignado un valor a una variable de tipo tupla ya no podemos cambiar los valores encapsulados en dicha tupla, ni añadir o eliminar elementos. Prueba a ejecutar el siguiente código y observa el error que se produce:"
   ]
  },
  {
   "cell_type": "code",
   "execution_count": 41,
   "metadata": {},
   "outputs": [
    {
     "name": "stdout",
     "output_type": "stream",
     "text": [
      "Edad: 26\n"
     ]
    }
   ],
   "source": [
    "# jugador[2] = 16\n",
    "\n",
    "jugador = (\"Mark\", \"Lenders\", 26, \"Sevilla\")\n",
    "print(\"Edad:\", jugador[2])"
   ]
  },
  {
   "cell_type": "markdown",
   "metadata": {},
   "source": [
    "#### 2.4.2. Listas <a name=\"sec_listas\"/>\n",
    "\n",
    "El tipo lista (**list**) permite almacenar datos de cualquier tipo, en un orden determinado, al igual que las tuplas. La principal diferencia es que son **mutables**, es decir, una vez inicializada una variable de tipo lista, es posible cambiar el valor de una posición, añadir nuevos elementos o eliminarlos. Los literales se escriben concatenando los datos que se desea que estén incluidos en la tupla, separados por comas, y envolviéndolo todo con unos corchetes. Por ejemplo:\n",
    "```python\n",
    "[32, 36, 35, 36, 32, 33, 34]\n",
    "```\n",
    "\n",
    "Aunque al igual que en las tuplas los elementos pueden tener cada uno un tipo distinto, lo más habitual en las listas es que todos los elementos sean de un mismo tipo. Para acceder a los elementos se usan los corchetes, al igual que con las tuplas, con la diferencia de que ahora también podemos asignar nuevos valores a una posición determinada de la lista:"
   ]
  },
  {
   "cell_type": "code",
   "execution_count": 42,
   "metadata": {},
   "outputs": [
    {
     "name": "stdout",
     "output_type": "stream",
     "text": [
      "Temperatura lunes: 32\n",
      "Temperatura lunes: 35\n"
     ]
    }
   ],
   "source": [
    "temperaturas = [32, 36, 35, 36, 32, 33]\n",
    "print(\"Temperatura lunes:\", temperaturas[0])\n",
    "temperaturas[0] = 35\n",
    "print(\"Temperatura lunes:\", temperaturas[0])"
   ]
  },
  {
   "cell_type": "markdown",
   "metadata": {},
   "source": [
    "#### 2.4.3. Conjuntos  <a name=\"sec_conjuntos\"/>\n",
    "El tipo conjunto (**set**) permite almacenar datos de cualquier tipo, sin ningún orden determinado, y sin posibilidad de elementos repetidos. Los literales se escriben concatenando los datos que se desea que estén incluidos en el conjunto (da igual el orden en que los escribamos), separados por comas, y envolviéndolo todo con unas llaves. Por ejemplo:\n",
    "```python\n",
    "{32, 33, 34, 35, 36}\n",
    "```\n"
   ]
  },
  {
   "cell_type": "markdown",
   "metadata": {},
   "source": [
    "Observa lo que ocurre si inicializamos un conjunto con datos repetidos:"
   ]
  },
  {
   "cell_type": "code",
   "execution_count": 43,
   "metadata": {},
   "outputs": [
    {
     "name": "stdout",
     "output_type": "stream",
     "text": [
      "{32, 33, 34, 35, 36}\n",
      "{'b', 'a', 'e', 'c'}\n"
     ]
    }
   ],
   "source": [
    "temperaturas_conjunto = {32,36,35,36,32,33,34}\n",
    "letras_conjunto = {'b','c','a','b','e','a'}\n",
    "print(temperaturas_conjunto)\n",
    "print(letras_conjunto)"
   ]
  },
  {
   "cell_type": "markdown",
   "metadata": {},
   "source": [
    "Como el orden de los elementos en un conjunto no es relevante, no podemos acceder a dichos elementos usando los corchetes, como hacíamos en las tuplas y listas. Más adelante veremos qué operaciones podemos hacer con los conjuntos. Por ahora basta saber que son **mutables**, al igual que las listas. "
   ]
  },
  {
   "cell_type": "markdown",
   "metadata": {},
   "source": [
    "#### 2.4.4. Diccionarios  <a name=\"sec_diccionarios\"/>\n",
    "\n",
    "El tipo diccionario (**dict**) permite almacenar datos de cualquier tipo, sin ningún orden determinado. Cada valor almacenado se asocia a una clave, de manera que para acceder a los valores se utilizan dichas claves. Los literales se escriben concatenando las parejas clave-valor mediante comas y envolviéndolo todo mediante llaves; cada una de las parejas se escribe separando la clave y el valor asociado mediante dos puntos. Por ejemplo:\n",
    "```python\n",
    "{\"Almería\": 19.9, \"Cádiz\": 19.1, \"Córdoba\": 19.1, \"Granada\": 16.6, \"Jaén\": 18.2, \"Huelva\": 19.0, \"Málaga\": 19.8, \"Sevilla\": 20.0}\n",
    "```\n",
    "Para acceder a un valor, debemos conocer la clave asociada. Los diccionarios son **mutables**. Observa el siguiente ejemplo de código:"
   ]
  },
  {
   "cell_type": "code",
   "execution_count": 44,
   "metadata": {},
   "outputs": [
    {
     "name": "stdout",
     "output_type": "stream",
     "text": [
      "Temperatura en Sevilla: 20.0\n",
      "{'Almería': 19.9, 'Cádiz': 19.1, 'Córdoba': 19.1, 'Granada': 16.6, 'Jaén': 18.2, 'Huelva': 19.0, 'Málaga': 19.8, 'Sevilla': 21.0}\n"
     ]
    }
   ],
   "source": [
    "temperaturas_por_provincias = {\"Almería\": 19.9, \"Cádiz\": 19.1, \"Córdoba\": 19.1, \"Granada\": 16.6, \"Jaén\": 18.2, \"Huelva\": 19.0, \"Málaga\": 19.8, \"Sevilla\": 20.0}\n",
    "print(\"Temperatura en Sevilla:\", temperaturas_por_provincias[\"Sevilla\"])\n",
    "temperaturas_por_provincias[\"Sevilla\"] = 21.0\n",
    "print(temperaturas_por_provincias)"
   ]
  },
  {
   "cell_type": "markdown",
   "metadata": {},
   "source": [
    "### ¡Prueba tú!\n",
    "Los valores de un tipo contenedor pueden ser a su vez de otro tipo contenedor. Completa la siguiente declaración de variable para que almacene listas de jugadores de equipos de fútbol, asociando cada lista a una clave con el nombre del equipo en cuestión. Puedes representar a cada jugador mediante una tupla con su nombre, apellidos y edad, al estilo del <a href=\"#ejemplo_tupla\">ejemplo anterior</a>."
   ]
  },
  {
   "cell_type": "code",
   "execution_count": 45,
   "metadata": {},
   "outputs": [
    {
     "name": "stdout",
     "output_type": "stream",
     "text": [
      "Sevilla FC:  ['Jesus Navas']\n",
      "Real Betis:  ['Joaquin']\n"
     ]
    }
   ],
   "source": [
    "equipos = {\"Sevilla\": [], \"Betis\": []}\n",
    "\n",
    "equipos[\"Sevilla\"].append(\"Jesus Navas\")\n",
    "equipos[\"Betis\"].append(\"Joaquin\")\n",
    "\n",
    "print(\"Sevilla FC: \", equipos[\"Sevilla\"])\n",
    "print(\"Real Betis: \", equipos[\"Betis\"])"
   ]
  },
  {
   "cell_type": "markdown",
   "metadata": {},
   "source": [
    "#### 2.4.5. Operaciones con tipos contenedores  <a name=\"sec_operaciones\"/>\n",
    "Dado que los tipos contenedores son tipos objeto, la mayoría de las operaciones con ellos se llevan a cabo mediante métodos. Más adelante haremos un repaso más detallado sobre los métodos disponibles para cada tipo contenedor, pero por ahora veremos cómo realizar las operaciones más básicas. \n"
   ]
  },
  {
   "cell_type": "code",
   "execution_count": 46,
   "metadata": {},
   "outputs": [
    {
     "name": "stdout",
     "output_type": "stream",
     "text": [
      "[35, 36, 35, 36, 32, 33]\n",
      "[35, 36, 35, 36, 32, 33, 29]\n",
      "{32, 33, 34, 35, 36}\n",
      "{32, 33, 34, 35, 36, 29}\n",
      "{'Almería': 19.9, 'Cádiz': 19.1, 'Córdoba': 19.1, 'Granada': 16.6, 'Jaén': 18.2, 'Huelva': 19.0, 'Málaga': 19.8, 'Sevilla': 21.0, 'Badajoz': 15.8}\n"
     ]
    }
   ],
   "source": [
    "# Añadir un elemento a una lista, un conjunto o un diccionario\n",
    "print(temperaturas)\n",
    "temperaturas.append(29) # append para añadir objetos a una lista\n",
    "print(temperaturas)\n",
    "\n",
    "print(temperaturas_conjunto)\n",
    "temperaturas_conjunto.add(29) # add para añadir objetos a un conjunto (Set)\n",
    "print(temperaturas_conjunto)\n",
    "\n",
    "temperaturas_por_provincias[\"Badajoz\"] = 15.8 # Basta con usar una clave que antes no existía\n",
    "print(temperaturas_por_provincias)"
   ]
  },
  {
   "cell_type": "code",
   "execution_count": 64,
   "metadata": {},
   "outputs": [
    {
     "name": "stdout",
     "output_type": "stream",
     "text": [
      "[35, 36, 32, 33, 29]\n",
      "[36, 32, 33, 29]\n",
      "{33, 34, 35, 36, 29}\n"
     ]
    },
    {
     "ename": "KeyError",
     "evalue": "32",
     "output_type": "error",
     "traceback": [
      "\u001b[0;31m---------------------------------------------------------------------------\u001b[0m",
      "\u001b[0;31mKeyError\u001b[0m                                  Traceback (most recent call last)",
      "\u001b[0;32m/var/folders/4c/3dtpk_lx5vxc01zb_tbycz700000gn/T/ipykernel_2607/245031060.py\u001b[0m in \u001b[0;36m<module>\u001b[0;34m\u001b[0m\n\u001b[1;32m      5\u001b[0m \u001b[0;34m\u001b[0m\u001b[0m\n\u001b[1;32m      6\u001b[0m \u001b[0mprint\u001b[0m\u001b[0;34m(\u001b[0m\u001b[0mtemperaturas_conjunto\u001b[0m\u001b[0;34m)\u001b[0m\u001b[0;34m\u001b[0m\u001b[0;34m\u001b[0m\u001b[0m\n\u001b[0;32m----> 7\u001b[0;31m \u001b[0mtemperaturas_conjunto\u001b[0m\u001b[0;34m.\u001b[0m\u001b[0mremove\u001b[0m\u001b[0;34m(\u001b[0m\u001b[0;36m32\u001b[0m\u001b[0;34m)\u001b[0m\u001b[0;34m\u001b[0m\u001b[0;34m\u001b[0m\u001b[0m\n\u001b[0m\u001b[1;32m      8\u001b[0m \u001b[0mprint\u001b[0m\u001b[0;34m(\u001b[0m\u001b[0mtemperaturas_conjunto\u001b[0m\u001b[0;34m)\u001b[0m\u001b[0;34m\u001b[0m\u001b[0;34m\u001b[0m\u001b[0m\n\u001b[1;32m      9\u001b[0m \u001b[0;34m\u001b[0m\u001b[0m\n",
      "\u001b[0;31mKeyError\u001b[0m: 32"
     ]
    }
   ],
   "source": [
    "# Eliminar un elemento de una lista, un conjunto o un diccionario\n",
    "print(temperaturas)\n",
    "del(temperaturas[0])\n",
    "print(temperaturas)\n",
    "\n",
    "print(temperaturas_conjunto)\n",
    "temperaturas_conjunto.remove(32)\n",
    "print(temperaturas_conjunto)\n",
    "\n",
    "del(temperaturas_por_provincias[\"Almería\"])\n",
    "print(temperaturas_por_provincias)"
   ]
  },
  {
   "cell_type": "code",
   "execution_count": 73,
   "metadata": {},
   "outputs": [
    {
     "name": "stdout",
     "output_type": "stream",
     "text": [
      "('Mark', 'Lenders', 26, 'Sevilla', 1.92, 81.2, 1.92, 81.2)\n",
      "[36, 32, 33, 29, 36, 32, 33, 29]\n",
      "[36, 32, 33, 29, 39, 36, 32, 33, 29, 39, 36, 32, 33, 29, 39]\n"
     ]
    }
   ],
   "source": [
    "# Concatenar varias tuplas o listas\n",
    "print(jugador + (1.92, 81.2))\n",
    "\n",
    "print(temperaturas + temperaturas)\n",
    "temperaturas.append(39)\n",
    "print(temperaturas * 3)  # Concatenar consigo misma 3 veces (temperatura + temperatura + temperatura)"
   ]
  },
  {
   "cell_type": "code",
   "execution_count": 74,
   "metadata": {},
   "outputs": [
    {
     "name": "stdout",
     "output_type": "stream",
     "text": [
      "6\n"
     ]
    }
   ],
   "source": [
    "# Consultar el número de elementos de una tupla, lista, conjunto o diccionario\n",
    "print(len(jugador)) # Prueba a cambiar \"temperaturas\" por las variables de los otros tipos estructura"
   ]
  },
  {
   "cell_type": "code",
   "execution_count": 75,
   "metadata": {},
   "outputs": [
    {
     "name": "stdout",
     "output_type": "stream",
     "text": [
      "True\n"
     ]
    }
   ],
   "source": [
    "# Consultar si un elemento forma parte de una tupla, lista, conjunto o diccionario\n",
    "print(39 in temperaturas)  # Prueba a cambiar \"temperaturas\" por las variables de los otros tipos estructura"
   ]
  },
  {
   "cell_type": "markdown",
   "metadata": {},
   "source": [
    "### ¡Prueba tú!"
   ]
  },
  {
   "cell_type": "code",
   "execution_count": 51,
   "metadata": {},
   "outputs": [],
   "source": [
    "lista1 = [1, 2, 3, 4, 5]\n",
    "lista2 = [-1, -2, -3, -4, -5]\n",
    "\n",
    "# Añade un nuevo número a lista1\n",
    "\n",
    "# Elimina el último elemento de lista2\n",
    "\n",
    "# Obtén una nueva lista (lista3) formada por 3 repeticiones de la lista1 y una de la lista2\n",
    "\n",
    "# Muestra la nueva lista en pantalla junto con el número de elementos\n"
   ]
  },
  {
   "cell_type": "markdown",
   "metadata": {},
   "source": [
    "## 3. Expresiones  <a name=\"sec_expresiones\"/>"
   ]
  },
  {
   "cell_type": "markdown",
   "metadata": {},
   "source": [
    "Aunque en los ejemplos anteriores hemos inicializado las variables utilizando un literal de algún tipo, esta es sólo una de las **expresiones** que podemos emplear. Una expresión puede ser cualquier de las siguientes cosas:\n",
    "\n",
    "* Un literal.\n",
    "* Una variable.\n",
    "* Un operador junto a sus operandos, cada uno de los cuales es a su vez una expresión.\n",
    "* Una llamada a una función o a un método, siempre que devuelvan algo; cada uno de los parámetros de la invocación a la función o al método es a su vez una expresión.\n",
    "* Unos paréntesis envolviendo a otra expresión.\n",
    "\n",
    "Fíjate en que la definición anterior es recursiva: por ejemplo, los operandos de una operación pueden ser a su vez expresiones. Esto hace que podamos tener expresiones tan largas como quieras imaginar (aunque por regla general intentaremos que no sean *demasiado* largas, pues eso las hace más difíciles de leer y entender).\n",
    "\n",
    "Mira los siguientes ejemplos de expresiones; si ejecutas cada trozo de código mostrado, obtendrás el **resultado** de la expresión. Decimos que la expresión es del **tipo** correspondiente al resultado de la misma. Prueba a llamar a la función predefinida *type* pasándole como parámetro cada una de las expresiones siguientes: al ejecutar, obtendrás el tipo de la expresión."
   ]
  },
  {
   "cell_type": "code",
   "execution_count": 76,
   "metadata": {},
   "outputs": [
    {
     "data": {
      "text/plain": [
       "39"
      ]
     },
     "execution_count": 76,
     "metadata": {},
     "output_type": "execute_result"
    }
   ],
   "source": [
    "# Un literal\n",
    "39"
   ]
  },
  {
   "cell_type": "code",
   "execution_count": 77,
   "metadata": {},
   "outputs": [
    {
     "data": {
      "text/plain": [
       "21"
      ]
     },
     "execution_count": 77,
     "metadata": {},
     "output_type": "execute_result"
    }
   ],
   "source": [
    "# Una variable\n",
    "edad"
   ]
  },
  {
   "cell_type": "code",
   "execution_count": 78,
   "metadata": {},
   "outputs": [
    {
     "data": {
      "text/plain": [
       "39"
      ]
     },
     "execution_count": 78,
     "metadata": {},
     "output_type": "execute_result"
    }
   ],
   "source": [
    "# Un operador junto a sus operando\n",
    "edad + 18"
   ]
  },
  {
   "cell_type": "code",
   "execution_count": 79,
   "metadata": {},
   "outputs": [
    {
     "data": {
      "text/plain": [
       "False"
      ]
     },
     "execution_count": 79,
     "metadata": {},
     "output_type": "execute_result"
    }
   ],
   "source": [
    "# Cada operando es a su vez una expresión, que puede estar formada por otros operadores y operandos\n",
    "edad + 18 < 30"
   ]
  },
  {
   "cell_type": "code",
   "execution_count": 56,
   "metadata": {},
   "outputs": [
    {
     "data": {
      "text/plain": [
       "12"
      ]
     },
     "execution_count": 56,
     "metadata": {},
     "output_type": "execute_result"
    }
   ],
   "source": [
    "# Una llamada a función (el parámetro, a su vez, es una expresión)\n",
    "len(temperaturas * 2)"
   ]
  },
  {
   "cell_type": "markdown",
   "metadata": {},
   "source": [
    "<a id=\"segundo_ejemplo\"/>"
   ]
  },
  {
   "cell_type": "code",
   "execution_count": 57,
   "metadata": {},
   "outputs": [
    {
     "data": {
      "text/plain": [
       "True"
      ]
     },
     "execution_count": 57,
     "metadata": {},
     "output_type": "execute_result"
    }
   ],
   "source": [
    "# Podemos usar paréntesis para indicar el orden de ejecución de las operaciones en una expresión\n",
    "((len(temperaturas) - len(temperaturas_conjunto)) < 2) and ((edad % 2) != 0)"
   ]
  },
  {
   "cell_type": "markdown",
   "metadata": {},
   "source": [
    "Cuando utilizamos una expresión para inicializar una variable, Python primero **evalúa** la expresión para obtener un resultado, y almacena dicho resultado en la variable:"
   ]
  },
  {
   "cell_type": "code",
   "execution_count": 81,
   "metadata": {},
   "outputs": [
    {
     "name": "stdout",
     "output_type": "stream",
     "text": [
      "Mark Lenders\n"
     ]
    }
   ],
   "source": [
    "nombre_completo = jugador[0] + \" \" + jugador[1]\n",
    "print(nombre_completo)"
   ]
  },
  {
   "cell_type": "markdown",
   "metadata": {},
   "source": [
    "Igualmente podemos usar expresiones en los parámetros de las llamadas a funciones o a métodos, de manera que Python evalúa las expresiones antes de proceder a ejecutar la función o método:"
   ]
  },
  {
   "cell_type": "code",
   "execution_count": 59,
   "metadata": {},
   "outputs": [
    {
     "name": "stdout",
     "output_type": "stream",
     "text": [
      "El nombre completo del jugador es Mark Lenders.\n"
     ]
    }
   ],
   "source": [
    "print(\"El nombre completo del jugador es \" + nombre_completo + \".\")"
   ]
  },
  {
   "cell_type": "markdown",
   "metadata": {},
   "source": [
    "### 3.1 Prioridad de las operaciones  <a name=\"sec_prioridad\"/>"
   ]
  },
  {
   "cell_type": "markdown",
   "metadata": {},
   "source": [
    "<a href=\"#segundo_ejemplo\">En uno de los ejemplos de expresiones</a> hemos utilizado los paréntesis para indicarle a Python en qué orden debe evaluar la expresión. Pero, ¿qué ocurre si no empleamos paréntesis y la expresión contiene varios operadores y/o llamadas a funciones?\n",
    "\n",
    "En este caso, Python decide el orden según la **prioridad de las operaciones**. En el caso de los <a href=\"#operadores_logicos\">operadores lógicos</a> y <a href=\"#operadores_aritmeticos\">aritméticos</a>, la prioridad coincide con el orden en que aparecen los ejemplos en este notebook (de menos a más prioridad). Así por ejemplo, la suma aritmética tiene menor prioridad que la multiplicación; por tanto, en la expresión `3 + 5 * 8` primero se evalúa `5 * 8` y posteriormente se evalúa `3 + 40`. \n",
    "\n",
    "En el caso de los <a href=\"#operadores_relacionales\">operadores relacionales</a>, todos tienen la misma prioridad. Si tenemos expresiones en las que aparezcan operadores de los tres tipos, en primer lugar se evalúan los operadores aritméticos, después los relacionales, y por último los lógicos. Trata de entender cómo se evalúa la siguiente expresión:"
   ]
  },
  {
   "cell_type": "code",
   "execution_count": 84,
   "metadata": {},
   "outputs": [
    {
     "name": "stdout",
     "output_type": "stream",
     "text": [
      "64\n",
      "43\n"
     ]
    }
   ],
   "source": [
    "(3 + 9) > 9 and 8 > 3\n",
    "print((3 + 5) * 8)\n",
    "print(3 + 5 * 8)"
   ]
  },
  {
   "cell_type": "markdown",
   "metadata": {},
   "source": [
    "En cuanto a las llamadas a funciones y métodos, éstas siempre se evalúan en primer lugar. Tienen por tanto mayor prioridad que el resto de operaciones. Dado que para evaluar una llamada es necesario ejecutar el código de la función o el método correspondiente, lo primero que hará Python es evaluar las expresiones usadas en los parámetros de estas funciones.\n",
    "\n",
    "Veamos un ejemplo de lo anterior:"
   ]
  },
  {
   "cell_type": "code",
   "execution_count": 87,
   "metadata": {},
   "outputs": [
    {
     "name": "stdout",
     "output_type": "stream",
     "text": [
      "True\n",
      "1\n"
     ]
    }
   ],
   "source": [
    "import math\n",
    "\n",
    "resultado = 5 + math.sqrt(10 * 10) < 20 - 2  \n",
    "print(resultado)\n",
    "print(math.ceil(1.72))\n",
    "print(math.floor(1.72))"
   ]
  },
  {
   "cell_type": "markdown",
   "metadata": {},
   "source": [
    "El orden de evaluación de la expresión `5 + math.sqrt(10 * 10) < 20 - 2` es el siguiente:\n",
    "* Se evalúa el parámetro de la llamada a la función math.sqrt: `10 * 10`, cuyo resultado es `100`.\n",
    "* Se evalúa la llamada a la función `math.sqrt(100)`, cuyo resultado es `10`.\n",
    "* Se evalúa la operación `5 + 10`, cuyo resultado es `15`.\n",
    "* Se evalúa la operación `20 - 2`, cuyo resultado es `18`.\n",
    "* Por último, se evalúa la operación `15 < 18`, cuyo resultado es `True`."
   ]
  },
  {
   "cell_type": "markdown",
   "metadata": {},
   "source": [
    "Como recomendación final, ten en cuenta que si en algún momento dudas de la prioridad de los operadores que estás usando, siempre puedes usar los paréntesis para asegurarte de que estás escribiendo lo que realmente quieres expresar."
   ]
  },
  {
   "cell_type": "markdown",
   "metadata": {},
   "source": [
    "### 3.2 Conversión de tipos  <a name=\"sec_conversion\"/>"
   ]
  },
  {
   "cell_type": "markdown",
   "metadata": {
    "collapsed": true
   },
   "source": [
    "Python tiene un **sistema fuerte de tipos**, lo que en pocas palabras significa que cada literal, variable o expresión que utilicemos tiene asociado un tipo determinado, y que Python nunca va a convertir ese tipo a otro tipo de manera automática. \n",
    "\n",
    "Para entender esto, ejecuta el siguiente ejemplo:\n",
    "<a id=\"malformada\"/>"
   ]
  },
  {
   "cell_type": "code",
   "execution_count": 88,
   "metadata": {},
   "outputs": [
    {
     "name": "stdout",
     "output_type": "stream",
     "text": [
      "El resultado del cálculo es  12.415190000000003\n"
     ]
    }
   ],
   "source": [
    "resultado = 10 * 3.141519 - 19\n",
    "print(\"El resultado del cálculo es \" + resultado)"
   ]
  },
  {
   "cell_type": "markdown",
   "metadata": {},
   "source": [
    "Como puedes observar, se ha producido un error (en concreto, un **TypeError**). Lo que nos dice el error en cuestión es que para poder realizar la operación de concatenación de cadenas, que aparece en la expresión `\"El resultado del cálculo es \" + resultado`, sería necesario que el segundo operador, `resultado`, fuera de tipo cadena (**str**). Esto no es así: `resultado` es de tipo **float**. Algunos lenguajes de programación realizan esta conversión de manera automática, convirtiendo el valor de resultado a una cadena de texto, antes de proceder a evaluar la expresión completa. **No es el caso de Python**: dado que tenemos un sistema fuerte de tipos, las conversiones de datos deben ser siempre explícitamente escritas por el programador.\n",
    "\n",
    "Para llevar a cabo una conversión del tipo de una expresión, debemos usar funciones predefinidas cuyos nombres coinciden con los nombres de los tipos básicos que hemos visto hasta ahora: **bool**, **int**, **float**, **str**, **tuple**, **list**, **set**, y **dict**. Para que el ejemplo anterior se pueda ejecutar, tendría que corregirse de la siguiente manera:"
   ]
  },
  {
   "cell_type": "code",
   "execution_count": 92,
   "metadata": {},
   "outputs": [
    {
     "name": "stdout",
     "output_type": "stream",
     "text": [
      "El resultado del cálculo es 12.415190000000003\n",
      "El resultado del cálculo es  12.415190000000003\n"
     ]
    }
   ],
   "source": [
    "resultado = 10 * 3.141519 - 19\n",
    "print(\"El resultado del cálculo es \" + str(resultado))\n",
    "print(\"El resultado del cálculo es\", resultado)"
   ]
  },
  {
   "cell_type": "markdown",
   "metadata": {},
   "source": [
    "Además del caso de la conversión de cualquier tipo a cadena, es también común la conversión de unos tipos contenedores a otros. Por ejemplo, si tengo una tupla puedo convertirla a lista:"
   ]
  },
  {
   "cell_type": "code",
   "execution_count": 95,
   "metadata": {},
   "outputs": [
    {
     "name": "stdout",
     "output_type": "stream",
     "text": [
      "('Mark', 'Lenders', 26, 'Sevilla', 1.92, 81.2)\n",
      "['Mark', 'Lenders', 26, 'Sevilla', 1.92, 81.2]\n",
      "['Mark', 'Lenders', 26, 'Sevilla', 1.92, 81.2, True]\n"
     ]
    }
   ],
   "source": [
    "print(jugador)\n",
    "jugador_lista = list(jugador)\n",
    "print(jugador_lista)\n",
    "jugador_lista.append(True)\n",
    "print(jugador_lista)"
   ]
  },
  {
   "cell_type": "markdown",
   "metadata": {},
   "source": [
    "O si tengo una lista, puedo convertirla en un conjunto (con lo que de camino estaremos eliminando los elementos duplicados, de manera sencilla):"
   ]
  },
  {
   "cell_type": "code",
   "execution_count": 98,
   "metadata": {},
   "outputs": [
    {
     "name": "stdout",
     "output_type": "stream",
     "text": [
      "[36, 32, 33, 29, 39, 33, 29, 40]\n",
      "[36, 32, 33, 29, 39, 33, 29, 40, 33, 29, 40]\n",
      "{32, 33, 36, 39, 40, 29}\n"
     ]
    }
   ],
   "source": [
    "print(temperaturas)\n",
    "temperaturas.append(33)\n",
    "temperaturas.append(29)\n",
    "temperaturas.append(40)\n",
    "print(temperaturas)\n",
    "temperaturas_sin_duplicados = set(temperaturas)\n",
    "print(temperaturas_sin_duplicados)"
   ]
  },
  {
   "cell_type": "markdown",
   "metadata": {},
   "source": [
    "No todas las conversiones se pueden realizar. En general, si la conversión es intuitiva, Python la llevará a cabo sin problemas. Pero si la conversión carece de sentido o no es intuitivamente clara, es posible que dé lugar a un error:"
   ]
  },
  {
   "cell_type": "code",
   "execution_count": 101,
   "metadata": {},
   "outputs": [
    {
     "name": "stdout",
     "output_type": "stream",
     "text": [
      "[36, 32, 33, 29, 39, 33, 29, 40, 33, 29, 40]\n"
     ]
    },
    {
     "ename": "TypeError",
     "evalue": "int() argument must be a string, a bytes-like object or a number, not 'list'",
     "output_type": "error",
     "traceback": [
      "\u001b[0;31m---------------------------------------------------------------------------\u001b[0m",
      "\u001b[0;31mTypeError\u001b[0m                                 Traceback (most recent call last)",
      "\u001b[0;32m/var/folders/4c/3dtpk_lx5vxc01zb_tbycz700000gn/T/ipykernel_2607/1304960551.py\u001b[0m in \u001b[0;36m<module>\u001b[0;34m\u001b[0m\n\u001b[1;32m      1\u001b[0m \u001b[0mprint\u001b[0m\u001b[0;34m(\u001b[0m\u001b[0mtemperaturas\u001b[0m\u001b[0;34m)\u001b[0m\u001b[0;34m\u001b[0m\u001b[0;34m\u001b[0m\u001b[0m\n\u001b[0;32m----> 2\u001b[0;31m \u001b[0mtemperaturas_entero\u001b[0m \u001b[0;34m=\u001b[0m \u001b[0mint\u001b[0m\u001b[0;34m(\u001b[0m\u001b[0mtemperaturas\u001b[0m\u001b[0;34m)\u001b[0m\u001b[0;34m\u001b[0m\u001b[0;34m\u001b[0m\u001b[0m\n\u001b[0m\u001b[1;32m      3\u001b[0m \u001b[0mprint\u001b[0m\u001b[0;34m(\u001b[0m\u001b[0mtemperaturas_entero\u001b[0m\u001b[0;34m)\u001b[0m\u001b[0;34m\u001b[0m\u001b[0;34m\u001b[0m\u001b[0m\n",
      "\u001b[0;31mTypeError\u001b[0m: int() argument must be a string, a bytes-like object or a number, not 'list'"
     ]
    }
   ],
   "source": [
    "print(temperaturas)\n",
    "temperaturas_entero = int(temperaturas)\n",
    "print(temperaturas_entero)"
   ]
  },
  {
   "cell_type": "markdown",
   "metadata": {},
   "source": [
    "### 3.3. Expresiones bien formadas <a id=\"sec_bienformadas\"/>\n",
    "\n",
    "Decimos que una expresión está **bien formada** (o también, que es una expresión **correcta**) cuando se cumple que:\n",
    "* Los literales que aparecen en la expresión están correctamente escritos según las reglas que hemos visto.\n",
    "* Las variables que aparecen en la expresión han sido definidas previamente (o importadas mediante la instrucción `import`).\n",
    "* Los operadores que aparecen en la expresión aparecen aplicados al número correcto de operandos, y los tipos de las expresiones que funcionan como operandos son los adecuados para dichos operadores.\n",
    "* Las llamadas a funciones o métodos que aparecen en la expresión corresponden a funciones o métodos definidos previamente (o importados mediante la instrucción `import`). Además, el número y tipo de las expresiones utilizadas como parámetros de las llamadas son los esperados por dichas funciones y métodos.\n",
    "\n",
    "Si una expresión no está bien formada, Python devolverá un error al tratar de ejecutar el código. Por ejemplo, la expresión escrita dentro de la llamada a la función `print` en <a href=\"#malformada\">este ejemplo</a> es una expresión mal formada. El resto de expresiones que hemos visto y que no dan error al ser ejecutadas son expresiones bien formadas."
   ]
  },
  {
   "cell_type": "markdown",
   "metadata": {},
   "source": [
    "### ¡Prueba tú!\n",
    "¿Sabrías identificar por qué razón las siguientes expresiones no están bien formadas? Trata de corregirlas."
   ]
  },
  {
   "cell_type": "code",
   "execution_count": 102,
   "metadata": {},
   "outputs": [
    {
     "ename": "SyntaxError",
     "evalue": "EOL while scanning string literal (1616501494.py, line 1)",
     "output_type": "error",
     "traceback": [
      "\u001b[0;36m  File \u001b[0;32m\"/var/folders/4c/3dtpk_lx5vxc01zb_tbycz700000gn/T/ipykernel_2607/1616501494.py\"\u001b[0;36m, line \u001b[0;32m1\u001b[0m\n\u001b[0;31m    13'2 * 5\u001b[0m\n\u001b[0m            ^\u001b[0m\n\u001b[0;31mSyntaxError\u001b[0m\u001b[0;31m:\u001b[0m EOL while scanning string literal\n"
     ]
    }
   ],
   "source": [
    "13'2 * 5"
   ]
  },
  {
   "cell_type": "code",
   "execution_count": 103,
   "metadata": {},
   "outputs": [
    {
     "ename": "NameError",
     "evalue": "name 'temperatura' is not defined",
     "output_type": "error",
     "traceback": [
      "\u001b[0;31m---------------------------------------------------------------------------\u001b[0m",
      "\u001b[0;31mNameError\u001b[0m                                 Traceback (most recent call last)",
      "\u001b[0;32m/var/folders/4c/3dtpk_lx5vxc01zb_tbycz700000gn/T/ipykernel_2607/664601329.py\u001b[0m in \u001b[0;36m<module>\u001b[0;34m\u001b[0m\n\u001b[0;32m----> 1\u001b[0;31m \u001b[0;34m(\u001b[0m\u001b[0mtemperatura\u001b[0m\u001b[0;34m[\u001b[0m\u001b[0;36m0\u001b[0m\u001b[0;34m]\u001b[0m \u001b[0;34m+\u001b[0m \u001b[0mtemperatura\u001b[0m\u001b[0;34m[\u001b[0m\u001b[0;36m1\u001b[0m\u001b[0;34m]\u001b[0m\u001b[0;34m)\u001b[0m \u001b[0;34m/\u001b[0m \u001b[0;36m2\u001b[0m\u001b[0;34m\u001b[0m\u001b[0;34m\u001b[0m\u001b[0m\n\u001b[0m",
      "\u001b[0;31mNameError\u001b[0m: name 'temperatura' is not defined"
     ]
    }
   ],
   "source": [
    "(temperatura[0] + temperatura[1]) / 2"
   ]
  },
  {
   "cell_type": "code",
   "execution_count": 104,
   "metadata": {},
   "outputs": [
    {
     "ename": "TypeError",
     "evalue": "can't multiply sequence by non-int of type 'float'",
     "output_type": "error",
     "traceback": [
      "\u001b[0;31m---------------------------------------------------------------------------\u001b[0m",
      "\u001b[0;31mTypeError\u001b[0m                                 Traceback (most recent call last)",
      "\u001b[0;32m/var/folders/4c/3dtpk_lx5vxc01zb_tbycz700000gn/T/ipykernel_2607/1589175638.py\u001b[0m in \u001b[0;36m<module>\u001b[0;34m\u001b[0m\n\u001b[0;32m----> 1\u001b[0;31m \u001b[0;34m\"Ajo\"\u001b[0m \u001b[0;34m*\u001b[0m \u001b[0;36m3.1\u001b[0m\u001b[0;34m\u001b[0m\u001b[0;34m\u001b[0m\u001b[0m\n\u001b[0m",
      "\u001b[0;31mTypeError\u001b[0m: can't multiply sequence by non-int of type 'float'"
     ]
    }
   ],
   "source": [
    "\"Ajo\" * 3.1"
   ]
  },
  {
   "cell_type": "code",
   "execution_count": 105,
   "metadata": {},
   "outputs": [
    {
     "ename": "TypeError",
     "evalue": "bad operand type for abs(): 'str'",
     "output_type": "error",
     "traceback": [
      "\u001b[0;31m---------------------------------------------------------------------------\u001b[0m",
      "\u001b[0;31mTypeError\u001b[0m                                 Traceback (most recent call last)",
      "\u001b[0;32m/var/folders/4c/3dtpk_lx5vxc01zb_tbycz700000gn/T/ipykernel_2607/1628741808.py\u001b[0m in \u001b[0;36m<module>\u001b[0;34m\u001b[0m\n\u001b[0;32m----> 1\u001b[0;31m \u001b[0mabs\u001b[0m\u001b[0;34m(\u001b[0m\u001b[0;34m\"-1.2\"\u001b[0m\u001b[0;34m)\u001b[0m\u001b[0;34m\u001b[0m\u001b[0;34m\u001b[0m\u001b[0m\n\u001b[0m",
      "\u001b[0;31mTypeError\u001b[0m: bad operand type for abs(): 'str'"
     ]
    }
   ],
   "source": [
    "abs(\"-1.2\")"
   ]
  },
  {
   "cell_type": "markdown",
   "metadata": {},
   "source": [
    "# 4. Entrada y salida estándar <a name=\"sec_4\"/>"
   ]
  },
  {
   "cell_type": "markdown",
   "metadata": {},
   "source": [
    "## 4.1. Funciones input y print <a name=\"sec_4_1\"/>"
   ]
  },
  {
   "cell_type": "markdown",
   "metadata": {},
   "source": [
    "Por regla general, cuando ejecutamos un programa en Python llamamos **entrada estándar** al teclado de nuestro ordenador, y **salida estándar** a la pantalla. Podemos leer datos desde el teclado mediante la función **input**, y escribir en la pantalla mediante la función **print**:"
   ]
  },
  {
   "cell_type": "code",
   "execution_count": 108,
   "metadata": {},
   "outputs": [
    {
     "name": "stdout",
     "output_type": "stream",
     "text": [
      "==== Cálculo de una potencia =====\n",
      "Introduzca un número entero (base):5\n",
      "Introduzca un número entero (exponente):2\n",
      "Introduce tu nombre:Juan Diego\n",
      "El resultado de 5 elevado a 2 es 25 .\n",
      "Nombre: Juan Diego\n"
     ]
    }
   ],
   "source": [
    "print(\"==== Cálculo de una potencia =====\")\n",
    "base = int(input(\"Introduzca un número entero (base):\")) # La función predefinida input permite leer texto desde el teclado\n",
    "exponente = int(input(\"Introduzca un número entero (exponente):\"))\n",
    "nombre = str(input(\"Introduce tu nombre:\"))\n",
    "print(\"El resultado de\", base, \"elevado a\", exponente, \"es\", base**exponente, '.')\n",
    "print(\"Nombre:\", nombre)"
   ]
  },
  {
   "cell_type": "markdown",
   "metadata": {},
   "source": [
    "La función **input** recibe opcionalmente un mensaje, que es mostrado al usuario para a continuación esperar que introduzca un texto. La ejecución del programa \"se espera\" en este punto, hasta que el usuario introduce el texto y pulsa la tecla *enter*. Entonces, **la función *input* devuelve el texto introducido por el usuario** (excluyendo la pulsación de la tecla *enter*, que no aparece en la cadena devuelta). Si en nuestro programa estábamos esperando un dato numérico, en lugar de una cadena, será necesario convertir la cadena al tipo deseado mediante alguna de las funciones de construcción de tipos que ya conocemos (por ejemplo, *int* para obtener un número entero o *float* para obtener un número real).\n",
    "\n",
    "Por su parte, la función **print** recibe una o varias expresiones por parámetros, y **muestra el resultado** de dichas expresiones en **pantalla**. Si el resultado de alguna de las expresiones es una cadena de texto, la muestra tal cual. Si el resultado de alguna de las expresiones es de cualquier otro tipo, la función *print* se encarga de convertir el resultado a cadena mediante el uso de la función *str*. Si recibe varias expresiones, por defecto *print* las muestra una tras otra, separadas por un espacio en blanco. Al finalizar de mostrar las expresiones, la ejecución de *print* finaliza imprimiendo un salto de línea; por consiguiente, la siguiente llamada a *print* escribirá en la siguiente línea de la pantalla. Ambas cosas, el carácter usado para separar las distintas expresiones y el carácter usado como finalizador, pueden cambiarse utilizando los parámetros opcionales adecuados:"
   ]
  },
  {
   "cell_type": "code",
   "execution_count": 110,
   "metadata": {},
   "outputs": [
    {
     "name": "stdout",
     "output_type": "stream",
     "text": [
      "[30, 32, 44, 22, 31, 68, 8, 80, 64, 28]\n",
      "Se han generado los siguientes números aleatorios: \n",
      "0 --> 30\n",
      "1 --> 32\n",
      "2 --> 44\n",
      "3 --> 22\n",
      "4 --> 31\n",
      "5 --> 68\n",
      "6 --> 8\n",
      "7 --> 80\n",
      "8 --> 64\n",
      "9 --> 28\n"
     ]
    }
   ],
   "source": [
    "import random\n",
    "numeros = [random.randint(1, 100) for _ in range(10)]\n",
    "print(numeros)\n",
    "print(\"Se han generado los siguientes números aleatorios: \")\n",
    "for i, numero in enumerate(numeros):\n",
    "    print(i, numero, sep=' --> ') # Se usa la cadena ': ' para separar las expresiones recibidas por print"
   ]
  },
  {
   "cell_type": "code",
   "execution_count": 118,
   "metadata": {},
   "outputs": [
    {
     "name": "stdout",
     "output_type": "stream",
     "text": [
      "-M-u-e-s-t-r-a-m-e- -c-o-n- -g-u-i-o-n-e-s"
     ]
    }
   ],
   "source": [
    "texto = \"Muestrame con guiones\"\n",
    "for caracter in texto:\n",
    "    print('-' + caracter, end='') # Se indica a print que no concatene ninguna cadena al final del mensaje a mostrar"
   ]
  },
  {
   "cell_type": "markdown",
   "metadata": {},
   "source": [
    "Aunque el uso de los parámetro opcionales *sep* y *end* nos da algunas opciones para obtener la salida que deseamos en pantalla, a veces se nos puede quedar corto. Por ejemplo, si queremos mostrar un mensaje formado por distintos trozos de texto y datos a extraer de variables o expresiones, puede que no siempre queramos usar el mismo separador entre cada dos expresiones. Un ejemplo sencillo lo tenemos en la siguiente sentencia que ya hemos escrito antes:"
   ]
  },
  {
   "cell_type": "code",
   "execution_count": 119,
   "metadata": {},
   "outputs": [
    {
     "name": "stdout",
     "output_type": "stream",
     "text": [
      "El resultado de 5 elevado a 2 es 25 .\n"
     ]
    }
   ],
   "source": [
    "print(\"El resultado de\", base, \"elevado a\", exponente, \"es\", base**exponente, '.')"
   ]
  },
  {
   "cell_type": "markdown",
   "metadata": {},
   "source": [
    "En este caso, nos interesa usar el espacio para separar los distintos trozos del mensaje a mostrar, salvo para el punto final, que debería aparecer a continuación del resultado de la expresión ``base**exponente``. Además, la forma en que las cadenas de texto y las expresiones se van intercalando en los parámetros del *print* complica un poco la legibilidad de la sentencia. Es por todo esto por lo que es apropiado usar el **formateo de cadenas** en estos casos."
   ]
  },
  {
   "cell_type": "markdown",
   "metadata": {},
   "source": [
    "## 4.2. Formateo de cadenas <a name=\"sec_4_2\"/>"
   ]
  },
  {
   "cell_type": "markdown",
   "metadata": {},
   "source": [
    "El método **format** de las cadenas devuelve una versión *formateada* de la cadena. Entre otras cosas, nos permite intercalar en una cadena los resultados de diversas expresiones, eligiendo el orden o el formato en que se representan dichos resultados. Esta flexibilidad hace de *format* una función perfecta para ser utilizada junto a *print* para mostrar mensajes más o menos complejos, con mucho más control sobre la salida obtenida del que tendríamos usando únicamente *print*. \n",
    "\n",
    "El uso más básico de *format* consiste en intercalar en la cadena parejas de llaves, de manera que el método devolverá una cadena en la que se sustituirán las llaves por los resultados de evaluar las expresiones que reciba como parámetros, en el mismo orden:"
   ]
  },
  {
   "cell_type": "code",
   "execution_count": 121,
   "metadata": {},
   "outputs": [
    {
     "name": "stdout",
     "output_type": "stream",
     "text": [
      "Introduce un número:4\n",
      "Introduce un número:3\n",
      "El resultado de 4 elevado a 3 es 64. Y de 4 por 3 es 12.\n"
     ]
    }
   ],
   "source": [
    "a = int(input('Introduce un número:'))\n",
    "b = int(input('Introduce un número:'))\n",
    "\n",
    "print('El resultado de {} elevado a {} es {}. Y de {} por {} es {}.'.format(a, b, a**b, a, b, a*b))"
   ]
  },
  {
   "cell_type": "markdown",
   "metadata": {},
   "source": [
    "Podemos hacer mención explícita entre las llaves a la expresión concreta que queremos intercalar. Para ello utilizamos números comenzando en cero (como si los parámetros recibidos por format fueran una lista):"
   ]
  },
  {
   "cell_type": "code",
   "execution_count": 124,
   "metadata": {},
   "outputs": [
    {
     "name": "stdout",
     "output_type": "stream",
     "text": [
      "El resultado de 5 multiplicado por 3 es 12\n"
     ]
    }
   ],
   "source": [
    "print('El resultado de {0} multiplicado por {1} es {2}'.format(a, b, a*b))"
   ]
  },
  {
   "cell_type": "markdown",
   "metadata": {},
   "source": [
    "Esto nos permite intercalar los datos en cualquier orden, o usarlos varias veces dentro de la cadena:"
   ]
  },
  {
   "cell_type": "code",
   "execution_count": 127,
   "metadata": {},
   "outputs": [
    {
     "name": "stdout",
     "output_type": "stream",
     "text": [
      "El resultado de 4 entre 3 es 1.3333333333333333, y el de 3 entre 4 es 0.75\n"
     ]
    }
   ],
   "source": [
    "print('El resultado de {0} entre {1} es {2}, y el de {1} entre {0} es {3}'.format(a, b, a/b, b/a))"
   ]
  },
  {
   "cell_type": "markdown",
   "metadata": {},
   "source": [
    "Podemos formatear los valores numéricos, por ejemplo indicando que queremos redondear a 2 decimales. La f del siguiente ejemplo indica que el número a mostrar es un real:"
   ]
  },
  {
   "cell_type": "code",
   "execution_count": 130,
   "metadata": {},
   "outputs": [
    {
     "name": "stdout",
     "output_type": "stream",
     "text": [
      "El resultado de 4 entre 3 es 1.33, y el de 3 entre 4 es 0.75\n"
     ]
    }
   ],
   "source": [
    "print('El resultado de {0} entre {1} es {2:.2f}, y el de {1} entre {0} es {3}'.format(a, b, a/b, b/a))"
   ]
  },
  {
   "cell_type": "markdown",
   "metadata": {},
   "source": [
    "También es posible conseguir que un dato ocupe un mínimo de caracteres, rellenando  los huecos con espacios si es necesario. Esto es especialmente útil cuando se desea mostrar información en forma de tabla, consiguiendo que las columnas queden alineadas. La d en el siguiente ejemplo indica que los números a mostrar son enteros:"
   ]
  },
  {
   "cell_type": "code",
   "execution_count": 134,
   "metadata": {},
   "outputs": [
    {
     "name": "stdout",
     "output_type": "stream",
     "text": [
      "Mostrando los cuadrados y los cubos de los números del 1 al 5:\n",
      "1  1   1\n",
      "2  4   8\n",
      "3  9  27\n",
      "4 16  64\n",
      "5 25 125\n"
     ]
    }
   ],
   "source": [
    "print(\"Mostrando los cuadrados y los cubos de los números del 1 al 5:\")\n",
    "for i in range(1,6):\n",
    "    print('{0} {1:2d} {2:3d}'.format(i, i*i, i*i*i))"
   ]
  },
  {
   "cell_type": "markdown",
   "metadata": {},
   "source": [
    "Si lo preferimos, podemos rellenar los huecos con ceros en lugar de espacios, como se muestra en este ejemplo:"
   ]
  },
  {
   "cell_type": "code",
   "execution_count": 137,
   "metadata": {},
   "outputs": [
    {
     "name": "stdout",
     "output_type": "stream",
     "text": [
      "Mostrando los cuadrados y los cubos de los números del 1 al 5:\n",
      "001 001 001\n",
      "002 004 008\n",
      "003 009 027\n",
      "004 016 064\n",
      "005 025 125\n"
     ]
    }
   ],
   "source": [
    "print(\"Mostrando los cuadrados y los cubos de los números del 1 al 5:\")\n",
    "for i in range(1,6):\n",
    "    print('{0:03d} {1:03d} {2:03d}'.format(i, i*i, i*i*i))"
   ]
  },
  {
   "cell_type": "markdown",
   "metadata": {},
   "source": [
    "En ocasiones, nombrar a las distintas expresiones que pasamos al método format puede mejorar la legibilidad. Para ello, usaremos parámetros con nombre en la llamada a format, y podremos referirnos a dichos nombres en las distintas llaves que utilicemos en la cadena a formatear:"
   ]
  },
  {
   "cell_type": "code",
   "execution_count": 140,
   "metadata": {},
   "outputs": [
    {
     "name": "stdout",
     "output_type": "stream",
     "text": [
      "Si x es igual a 4 e y es igual a 3, entonces la inecuación x < (y * 2) es True\n"
     ]
    }
   ],
   "source": [
    "print('Si x es igual a {x} e y es igual a {y}, entonces la inecuación x < (y * 2) es {inecuacion}'.\n",
    "             format(x=a, y=b, inecuacion = a<(b*2)))"
   ]
  },
  {
   "cell_type": "markdown",
   "metadata": {},
   "source": [
    "# 5. Lectura y escritura de ficheros <a name=\"sec_5\"/>"
   ]
  },
  {
   "cell_type": "markdown",
   "metadata": {},
   "source": [
    "Muchas veces no es suficiente con la introducción de datos desde el teclado por parte del usuario. Es muy habitual leer datos desde un fichero o archivo (que llamamos de entrada). Igualmente, es posible escribir datos en un fichero (que llamamos de salida).\n",
    "\n",
    "Tanto la lectura como la escritura de datos en un fichero se puede realizar de diversas formas:\n",
    "\n",
    "* Mediante cadenas de texto libres, en lo que llamamos **ficheros de texto**.\n",
    "* Mediante cadenas de texto de un formato predefinido, como es el caso de los ficheros **csv**.\n",
    "* Mediante algún formato estándar de intercambio de datos (por ejemplo, **json**), lo que nos permite guardar y recuperar más tarde fácilmente el contenido de las variables de nuestros programas. A este tipo de escrituras y lecturas las llamamos *serialización* y *deserialización*, respectivamente.\n",
    "* Mediante datos binarios, en lo que llamamos *ficheros binarios*. De esta forma, el programador tiene el control absoluto de los datos que se escriben o se leen de un fichero. Esto no lo veremos en esta asignatura."
   ]
  },
  {
   "cell_type": "markdown",
   "metadata": {},
   "source": [
    "## 5.1. Apertura y cierre de ficheros <a name=\"sec_5_1\"/>\n",
    "Lo primero que hay que hacer para poder trabajar con un fichero es abrirlo. Al abrir un fichero, establecemos la manera en que vamos a trabajar con él: si lo haremos en modo texto o modo binario, o si vamos a leer o escribir de él, entre otras cosas. \n",
    "\n",
    "La apertura de un fichero se realiza mediante la función **open**:"
   ]
  },
  {
   "cell_type": "code",
   "execution_count": null,
   "metadata": {},
   "outputs": [],
   "source": [
    "f = open('fichero.txt')"
   ]
  },
  {
   "cell_type": "markdown",
   "metadata": {},
   "source": [
    "Si la apertura del fichero se lleva a cabo sin problemas, la función nos devuelve un **descriptor del fichero**. Usaremos esta variable más adelante para leer o escribir en el fichero.\n",
    "\n",
    "Por defecto, el fichero se abre en modo texto para lectura. Podemos cambiar el modo en que se abre el fichero mediante el parámetro opcional **mode**, en el que pasaremos una cadena formada por alguno(s) de los caracteres siguientes:\n",
    "* 'r': abre el fichero en modo lectura.\n",
    "* 'w': abre el fichero en modo escritura. Si el archivo existía, lo sobrescribe (es decir, primero es borrado).\n",
    "* 'a': abre el fichero en modo escritura. Si el archivo existía, las escrituras se añadirán al final del fichero.\n",
    "* 't': abre el fichero en modo texto. Es el modo por defecto, así que normalmente no lo indicaremos y se entenderá que lo abrimos en modo texto. Es el modo que usaremos siempre en nuestra asignatura.\n",
    "* 'b': abre el fichero en modo binario.\n",
    "\n",
    "Veamos como ejemplo cómo abrir un fichero de texto para escribir en él, sobrescribiéndolo si ya existía:"
   ]
  },
  {
   "cell_type": "code",
   "execution_count": null,
   "metadata": {},
   "outputs": [],
   "source": [
    "f2 = open('fichero_escritura.txt', mode='w')"
   ]
  },
  {
   "cell_type": "markdown",
   "metadata": {},
   "source": [
    "Cuando abrimos un fichero de texto es importante que tengamos en cuenta la **codificación de caracteres** utilizada por el fichero. Existen diversos estándares, aunque el más utilizado hoy en día en el contexto de Internet es el **utf-8**. Será éste el que usaremos preferiblemente. Por defecto, la función *open* decide la codificación de caracteres en función de la configuración de nuestro sistema operativo. Para especificar explícitamente que se utilice *utf-8* lo haremos mediantes el parámetro opcional **encoding**:"
   ]
  },
  {
   "cell_type": "code",
   "execution_count": null,
   "metadata": {},
   "outputs": [],
   "source": [
    "f3 = open('fichero.txt', encoding='utf-8')"
   ]
  },
  {
   "cell_type": "markdown",
   "metadata": {},
   "source": [
    "Cuando terminemos de trabajar con el fichero (por ejemplo, al acabar de leer su contenido), es importante **cerrarlo**. De esta forma liberamos el recurso para que puedan trabajar con él otros procesos de nuestra máquina, y también nos aseguramos de que las escrituras que hayamos realizado se llevan a cabo de manera efectiva en disco (ya que las escrituras suelen utilizar un buffer en memoria para mejorar la eficiencia). Para cerrar un fichero usamos el método **close** sobre el descriptor del fichero que queremos cerrar:"
   ]
  },
  {
   "cell_type": "code",
   "execution_count": null,
   "metadata": {},
   "outputs": [],
   "source": [
    "f.close()\n",
    "f2.close()\n",
    "f3.close()"
   ]
  },
  {
   "cell_type": "markdown",
   "metadata": {},
   "source": [
    "Una forma de no olvidarnos de cerrar el fichero (algo muy habitual) es usar la sentencia **with**:"
   ]
  },
  {
   "cell_type": "code",
   "execution_count": null,
   "metadata": {},
   "outputs": [],
   "source": [
    "with open('fichero.txt', encoding='utf-8') as f:\n",
    "    print('Trabajamos con el fichero...')"
   ]
  },
  {
   "cell_type": "markdown",
   "metadata": {},
   "source": [
    "Una vez ejecutadas las instrucciones contenidas en el bloque *with*, el fichero es cerrado automáticamente. Esta variante tiene la ventaja además de que si se produce cualquier error mientras trabajamos con el fichero, que produzca la parada de la ejecución de nuestro programa, el fichero también es cerrado. Esto no ocurre si abrimos el fichero sin usar *with*."
   ]
  },
  {
   "cell_type": "markdown",
   "metadata": {},
   "source": [
    "## 5.2. Lectura y escritura de texto libre <a name=\"sec_5_2\"/>"
   ]
  },
  {
   "cell_type": "markdown",
   "metadata": {},
   "source": [
    "Una vez abierto un fichero en modo texto, podemos leer todo el contenido y guardarlo en una variable de tipo cadena mediante el método **read**:"
   ]
  },
  {
   "cell_type": "code",
   "execution_count": null,
   "metadata": {},
   "outputs": [],
   "source": [
    "with open('fichero.txt', encoding='utf-8') as f:\n",
    "    contenido = f.read()\n",
    "    print(contenido)  # Mostramos el contenido del fichero"
   ]
  },
  {
   "cell_type": "markdown",
   "metadata": {},
   "source": [
    "Aunque se puede hacer de esta forma, es más habitual leer los ficheros de texto línea a línea. De esta forma podemos procesar archivos muy grandes sin usar demasiada memoria. Para ello, podemos usar el descriptor del fichero dentro de un bucle *for*, como si se tratara de una secuencia de cadenas, de manera que en cada paso del bucle obtendremos la siguiente línea del fichero:"
   ]
  },
  {
   "cell_type": "code",
   "execution_count": null,
   "metadata": {},
   "outputs": [],
   "source": [
    "with open('fichero.txt', encoding='utf-8') as f:\n",
    "    for linea in f:\n",
    "        print(linea)"
   ]
  },
  {
   "cell_type": "markdown",
   "metadata": {},
   "source": [
    "Observarás que en el ejemplo anterior se está visualizando cada línea separada con una línea vacía. Esto es así porque la línea leida del fichero incluye al final un salto de línea, y a su vez la función *print* incluye un salto de línea tras la cadena a mostrar. Si queremos mostrar el contenido del fichero con el mismo formato que en el ejemplo anterior, podríamos hacer esto:"
   ]
  },
  {
   "cell_type": "code",
   "execution_count": null,
   "metadata": {},
   "outputs": [],
   "source": [
    "with open('fichero.txt', encoding='utf-8') as f:\n",
    "    for linea in f:\n",
    "        print(linea, end='')"
   ]
  },
  {
   "cell_type": "markdown",
   "metadata": {},
   "source": [
    "Para escribir texto en un fichero, usaremos el método **write** sobre el descriptor del fichero:"
   ]
  },
  {
   "cell_type": "code",
   "execution_count": null,
   "metadata": {},
   "outputs": [],
   "source": [
    "with open('fichero_escritura.txt', mode='w', encoding='utf-8') as f:\n",
    "    f.write('Este texto se almacenará en el fichero.')"
   ]
  },
  {
   "cell_type": "markdown",
   "metadata": {},
   "source": [
    "Comprobemos si se ha realizado la escritura correctamente:"
   ]
  },
  {
   "cell_type": "code",
   "execution_count": null,
   "metadata": {},
   "outputs": [],
   "source": [
    "with open('fichero_escritura.txt', encoding='utf-8') as f:\n",
    "    contenido = f.read()\n",
    "    print(contenido)"
   ]
  },
  {
   "cell_type": "markdown",
   "metadata": {},
   "source": [
    "## 5.3. Lectura y escritura de CSV <a name=\"sec_5_3\"/>"
   ]
  },
  {
   "cell_type": "markdown",
   "metadata": {},
   "source": [
    "Un tipo de fichero de texto que usamos en muchos ejercicios es el llamado formato **CSV** (por *Comma-Separated Values*). Estos ficheros se utilizan para almacenar datos de tipo tabular, al estilo de una hoja de cálculo. En este notebook se incluye un fichero con este formato, extraído del ejercicio \"Servicio de alquiler de bicicletas públicas de Sevilla (Sevici)\". Veamos un trozo de su contenido:"
   ]
  },
  {
   "cell_type": "code",
   "execution_count": null,
   "metadata": {},
   "outputs": [],
   "source": [
    "with open('estaciones.csv', encoding='utf-8') as f:\n",
    "    # Leemos las líneas del fichero junto con un número que indica la línea por la que vamos\n",
    "    for num_linea, linea in enumerate(f):  \n",
    "        print(linea, end='')\n",
    "        if num_linea == 10:   # Al llegar a las 10 líneas, paramos\n",
    "            break"
   ]
  },
  {
   "cell_type": "markdown",
   "metadata": {},
   "source": [
    "Como puedes observar, los datos vienen expresados por columnas. Cada columna o atributo representa un dato concreto, y cada línea representa una tupla o registro de valores para cada uno de los atributos. \n",
    "\n",
    "Para poder trabajar con estos datos, lo normal es que necesitemos acceder a cada atributo de cada registro por separado. Si leemos el fichero línea a línea, podríamos acceder a cada atributo si rompemos la cadena en cada uno de los trozos separados por una coma. Pero esto es complicado y puede hacerse de manera mucho más sencilla utilizando el paquete **csv**.\n",
    "\n",
    "Existen en Python dos mecanismos que nos permiten leer CSV de una forma más sencilla y robusta:\n",
    "* Mediante la función **csv.reader**, que nos permite recorrer cada registro del fichero en formato lista.\n",
    "* Mediante el objeto **csv.DictReader**, que nos permite recorrer cada registro del fichero en formato diccionario.\n",
    "\n",
    "Empecemos viendo un ejemplo de uso de **csv.reader**:"
   ]
  },
  {
   "cell_type": "code",
   "execution_count": null,
   "metadata": {},
   "outputs": [],
   "source": [
    "import csv # Hay que importar el paquete csv\n",
    "\n",
    "with open('estaciones.csv', encoding='utf-8') as f:\n",
    "    lector = csv.reader(f)\n",
    "    for registro in lector:\n",
    "        print(registro)\n",
    "        # Para este ejemplo, nos basta con ver el primer registro\n",
    "        break;"
   ]
  },
  {
   "cell_type": "markdown",
   "metadata": {},
   "source": [
    "En el CSV que estamos procesando, la primera línea contiene los nombres de los atributos. No es por tanto un registro como tal (no contiene valores), por lo que lo habitual es saltárnoslo. Esto se puede conseguir de la siguiente forma:"
   ]
  },
  {
   "cell_type": "code",
   "execution_count": null,
   "metadata": {},
   "outputs": [],
   "source": [
    "with open('estaciones.csv', encoding='utf-8') as f:\n",
    "    lector = csv.reader(f)\n",
    "    next(lector) # Nos saltamos la cabecera del CSV\n",
    "    for registro in lector:\n",
    "        print(registro)\n",
    "        # Para este ejemplo, nos basta con ver el primer registro\n",
    "        break;"
   ]
  },
  {
   "cell_type": "markdown",
   "metadata": {},
   "source": [
    "Normalmente, nos interesa almacenar los registros en alguna estructura de datos, para utilizarlos más adelante en nuestro programa. Podemos utilizar por ejemplo una lista para almacenar cada registro. Además, es conveniente que convirtamos cada atributo al tipo de datos de Python que mejor se adapte al tipo de dato que representa el atributo. En nuestro ejemplo, el primer atributo es una cadena de texto, los tres siguientes son números enteros, y los dos últimos números reales.\n",
    "\n",
    "Podríamos obtener una lista de tuplas, cada tupla representando un registro del fichero, de esta manera:"
   ]
  },
  {
   "cell_type": "code",
   "execution_count": null,
   "metadata": {},
   "outputs": [],
   "source": [
    "with open('estaciones.csv', encoding='utf-8') as f:\n",
    "    lector = csv.reader(f)\n",
    "    next(lector) # Nos saltamos la cabecera del CSV\n",
    "    registros = []\n",
    "    for registro in lector:\n",
    "        name = registro[0]\n",
    "        slots = int(registro[1])\n",
    "        empty_slots = int(registro[2])\n",
    "        free_bikes = int(registro[3])\n",
    "        latitude = float(registro[4])\n",
    "        longitude = float(registro[5])\n",
    "        tupla = (name, slots, empty_slots, free_bikes, latitude, longitude)\n",
    "        registros.append(tupla)\n",
    "\n",
    "# Mostremos los 10 primeros registros\n",
    "print(registros[:10])"
   ]
  },
  {
   "cell_type": "markdown",
   "metadata": {},
   "source": [
    "Si tenemos muchos atributos, es preferible utilizar **csv.DictReader** para leer el CSV. La diferencia con *csv.reader* es que cada registro devuelto está representado mediante un diccionario, en el que las claves son los nombres de los atributos (obtenidos a partir de la cabecera del CSV) y los valores asociados son los valores de los atributos correspondientes. Al hacer uso de los nombres de los atributos para acceder a los atributos se mejora la legibilidad del código:"
   ]
  },
  {
   "cell_type": "code",
   "execution_count": null,
   "metadata": {},
   "outputs": [],
   "source": [
    "with open('estaciones.csv', encoding='utf-8') as f:\n",
    "    lector = csv.DictReader(f)\n",
    "    registros = []\n",
    "    for registro in lector:\n",
    "        name = registro['name']\n",
    "        slots = int(registro['slots'])\n",
    "        empty_slots = int(registro['empty_slots'])\n",
    "        free_bikes = int(registro['free_bikes'])\n",
    "        latitude = float(registro['latitude'])\n",
    "        longitude = float(registro['longitude'])\n",
    "        tupla = (name, slots, empty_slots, free_bikes, latitude, longitude)\n",
    "        registros.append(tupla)\n",
    "\n",
    "# Mostremos los 10 primeros registros\n",
    "print(registros[:10])"
   ]
  },
  {
   "cell_type": "markdown",
   "metadata": {},
   "source": [
    "Si el CSV que utilizamos no tiene una primera línea de cabecera con los nombres de los atributos, podemos pasarle dichos nombres a *csv.DictReader* mediante el parámetro opcional **fieldnames**. Debemos pasar en dicho parámetro una lista de cadenas con los nombres que queremos asignarle a los atributos, en el mismo orden en que aparezcan en el CSV."
   ]
  }
 ],
 "metadata": {
  "anaconda-cloud": {},
  "kernelspec": {
   "display_name": "Python 3 (ipykernel)",
   "language": "python",
   "name": "python3"
  },
  "language_info": {
   "codemirror_mode": {
    "name": "ipython",
    "version": 3
   },
   "file_extension": ".py",
   "mimetype": "text/x-python",
   "name": "python",
   "nbconvert_exporter": "python",
   "pygments_lexer": "ipython3",
   "version": "3.9.7"
  }
 },
 "nbformat": 4,
 "nbformat_minor": 2
}
