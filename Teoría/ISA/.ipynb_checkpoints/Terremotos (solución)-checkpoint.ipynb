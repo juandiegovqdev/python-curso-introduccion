{
 "cells": [
  {
   "cell_type": "markdown",
   "metadata": {},
   "source": [
    "# Fundamentos de la Programación (Grado en Ingeniería de la Salud)\n",
    "## Ejercicio \"Terremotos\" (10 de septiembre de 2019)"
   ]
  },
  {
   "cell_type": "markdown",
   "metadata": {},
   "source": [
    "Antes de empezar, ejecutaremos la siguiente celda con las importaciones necesarias para poder realizar el ejercicio:"
   ]
  },
  {
   "cell_type": "code",
   "execution_count": 2,
   "metadata": {},
   "outputs": [],
   "source": [
    "import csv\n",
    "from matplotlib import pyplot as plt\n",
    "from collections import namedtuple"
   ]
  },
  {
   "cell_type": "markdown",
   "metadata": {},
   "source": [
    "## 1. Carga de datos (0.75 puntos)"
   ]
  },
  {
   "attachments": {},
   "cell_type": "markdown",
   "metadata": {},
   "source": [
    "Tomaremos los datos de un fichero de entrada llamado <code>earthquake.csv</code> en el que se encuentran registrados datos de movimientos sísmicos. El fichero se encuentra en la carpeta <code>./data</code>. Cada línea del fichero de entrada contiene las siguientes informaciones:\n",
    "\n",
    "- **year:** año del terremoto\n",
    "- **city:** ciudad en la que se registró el terremoto\n",
    "- **direction:** dirección a la que se encontraba el epicentro\n",
    "- **dist:** distancia al epicentro\n",
    "- **depth:** profundidad del epicentro\n",
    "- **richter:** intensidad del terremoto en la escala _Richter_\n",
    "\n",
    "\n",
    "He aquí un fragmento con las primeras líneas del fichero de entrada:\n",
    "\n",
    "<img src=\"./img/image.png\" alt=\"Drawing\" style=\"width:8cm;\"/>\n",
    "\n",
    "\n",
    "La primera función que implementaremos será la de lectura. Será la encargada de leer los datos del fichero de entrada y cargarlos en una lista de tuplas:"
   ]
  },
  {
   "cell_type": "code",
   "execution_count": 32,
   "metadata": {},
   "outputs": [],
   "source": [
    "Terremoto = namedtuple('Terremoto', 'year city direction dist depth richter')\n",
    "\n",
    "def lee_terremotos(fichero):\n",
    "    ''' Lee el fichero de entrada y devuelve una lista de registros\n",
    "    \n",
    "    ENTRADA:\n",
    "       - fichero: nombre del fichero de entrada\n",
    "    SALIDA:\n",
    "       - lista de registros -> [Terremoto(int, str, str, float, float, float)]\n",
    "\n",
    "    Hay que transformar ciertos elementos de la entrada en valores numéricos\n",
    "    para que puedan ser procesados posteriormente.\n",
    "    '''\n",
    "    registros = []\n",
    "    with open(fichero, 'r', encoding='utf-8') as f:\n",
    "        lector = csv.reader(f, delimiter=',')\n",
    "        next(lector)\n",
    "        registros = [Terremoto(int(year), city, direction, float(dist), float(depth), float(richter))\n",
    "                    for year, city, direction, dist, depth, richter in lector]\n",
    "    return registros"
   ]
  },
  {
   "cell_type": "code",
   "execution_count": 33,
   "metadata": {},
   "outputs": [
    {
     "name": "stdout",
     "output_type": "stream",
     "text": [
      "10062 [Terremoto(year=2003, city='bingol', direction='west', dist=0.1, depth=10.0, richter=0.0), Terremoto(year=2007, city='kocaeli', direction='west', dist=0.1, depth=5.2, richter=4.0)]\n"
     ]
    }
   ],
   "source": [
    "# TEST de 'lee_terremotos', la salida esperada es:\n",
    "#   10062 [Terremoto(año=2003, ciudad='bingol', direccion='west', distancia=0.1, profundidad=10.0, intensidad=0.0), \n",
    "#          Terremoto(año=2007, ciudad='kocaeli', direccion='west', distancia=0.1, profundidad=5.2, intensidad=4.0)]\n",
    "\n",
    "REGISTROS = lee_terremotos('earthquake.csv')\n",
    "print(len(REGISTROS), REGISTROS[:2])"
   ]
  },
  {
   "cell_type": "markdown",
   "metadata": {},
   "source": [
    "## 2. Consulta y filtrado (7.25 puntos)"
   ]
  },
  {
   "cell_type": "markdown",
   "metadata": {},
   "source": [
    "Una vez que hemos cargado los datos en una estructura en memoria ya podemos empezar a procesarlos. En esta sección implementaremos algunas funciones de consulta y filtrado que nos permitirán trabajar con ellos.\n",
    "\n",
    "La primera función se llama <code>ciudades_terremotos_intensos</code> y calcula un conjunto de ciudades en las que se ha registrado algún terremoto que supere un grado de intensidad recibido como parámetro:"
   ]
  },
  {
   "cell_type": "code",
   "execution_count": 37,
   "metadata": {},
   "outputs": [],
   "source": [
    "def ciudades_terremotos_intensos(registros, intensidad_minima=5):\n",
    "    ''' Conjunto de ciudades que han registrado terremotos que superen la intensidad mínima\n",
    "    \n",
    "    ENTRADA:\n",
    "       - registros: lista de registros -> [Terremoto(int, str, str, float, float, float)]\n",
    "       - intensidad_minima: umbral mínimo de intensidad para considerar la ciudad -> float\n",
    "    SALIDA:\n",
    "       - conjunto de ciudades que han tenido terremotos de mayor intensidad -> {str}\n",
    "    '''\n",
    "    ciudades = {r.city for r in registros if r.richter>intensidad_minima}\n",
    "    return ciudades"
   ]
  },
  {
   "cell_type": "code",
   "execution_count": 38,
   "metadata": {},
   "outputs": [],
   "source": [
    "def ciudades_terremotos_intensos(registros, intensidad_minima=5):\n",
    "    ''' Conjunto de ciudades que han registrado terremotos que superen la intensidad mínima\n",
    "    \n",
    "    ENTRADA:\n",
    "       - registros: lista de registros -> [Terremoto(int, str, str, float, float, float)]\n",
    "       - intensidad_minima: umbral mínimo de intensidad para considerar la ciudad -> float\n",
    "    SALIDA:\n",
    "       - conjunto de ciudades que han tenido terremotos de mayor intensidad -> {str}\n",
    "    '''\n",
    "    ciudades = []\n",
    "    for r in registros:\n",
    "        if r.richter>intensidad_minima:\n",
    "            ciudades.append(r.city)\n",
    "    return ciudades"
   ]
  },
  {
   "cell_type": "code",
   "execution_count": 39,
   "metadata": {},
   "outputs": [
    {
     "name": "stdout",
     "output_type": "stream",
     "text": [
      "['bursa', 'canakkale', 'cankiri', 'duzce', 'erzincan', 'karabuk', 'kutahya', 'manisa', 'tekirdag', 'tokat', 'van']\n"
     ]
    }
   ],
   "source": [
    "# TEST de 'ciudades_terremotos_intensos', la salida esperada es:\n",
    "#    ['bursa', 'canakkale', 'cankiri', 'duzce', 'erzincan', 'karabuk', 'kutahya', 'manisa', 'tekirdag', 'tokat', 'van']\n",
    "\n",
    "print(sorted(list(ciudades_terremotos_intensos(REGISTROS, 6.5))))"
   ]
  },
  {
   "cell_type": "markdown",
   "metadata": {},
   "source": [
    "La siguiente función es <code>porcentaje_terremotos_ciudad</code>. La función toma una lista de tuplas de registros y calcula qué proporción de esos terremotos fueron registrados en la ciudad recibida como parámetro:"
   ]
  },
  {
   "cell_type": "code",
   "execution_count": 40,
   "metadata": {},
   "outputs": [],
   "source": [
    "def proporcion_terremotos_ciudad(registros, ciudad):\n",
    "    ''' Proporción de terremotos en una ciudad\n",
    "    \n",
    "    ENTRADA:\n",
    "       - registros: lista de registros -> [Terremoto(int, str, str, float, float, float)]\n",
    "       - ciudad: de la que se calculará la proporción -> str\n",
    "    SALIDA:\n",
    "       - proporción de terremotos que se registraron en la ciudad -> float\n",
    "    '''\n",
    "    total = len(registros)\n",
    "    en_ciudad = len([r for r in registros if r.ciudad==ciudad])\n",
    "    return en_ciudad/total"
   ]
  },
  {
   "cell_type": "code",
   "execution_count": 7,
   "metadata": {},
   "outputs": [
    {
     "name": "stdout",
     "output_type": "stream",
     "text": [
      "0.018485390578413835\n",
      "0.03080898429735639\n",
      "0.016398330351818723\n",
      "0.06738223017292785\n"
     ]
    }
   ],
   "source": [
    "# TEST de 'proporcion_terremotos_ciudad', la salida esperada es:\n",
    "#   0.018485390578413835\n",
    "#   0.03080898429735639\n",
    "#   0.016398330351818723\n",
    "#   0.06738223017292785\n",
    "\n",
    "print(proporcion_terremotos_ciudad(REGISTROS,'bursa'))\n",
    "print(proporcion_terremotos_ciudad(REGISTROS,'canakkale'))\n",
    "print(proporcion_terremotos_ciudad(REGISTROS,'erzincan'))\n",
    "print(proporcion_terremotos_ciudad(REGISTROS,'kutahya'))"
   ]
  },
  {
   "cell_type": "markdown",
   "metadata": {},
   "source": [
    "La tercera función se llama <code>terremotos_mas_intensos</code>. Toma una lista de terremotos y produce como salida una lista con el _top-n_ de terremotos ordenados de mayor a menor intensidad, donde _n_ es un número entero recibido como parámetro:\n"
   ]
  },
  {
   "cell_type": "code",
   "execution_count": 8,
   "metadata": {},
   "outputs": [],
   "source": [
    "def terremotos_mas_intensos(registros, n=10):\n",
    "    ''' Selecciona el top-n de terremotos según su intensidad\n",
    "    \n",
    "    ENTRADA:\n",
    "       - registros: lista de registros -> [Terremoto(int, str, str, float, float, float)]\n",
    "       - n: número de terremotos a incluir en el listado -> int\n",
    "    SALIDA:\n",
    "       - lista de registros seleccionados -> [Terremoto(int, str, str, float, float, float)]\n",
    "    '''\n",
    "    ordenados = sorted(registros, key=lambda x:x.intensidad, reverse=True)\n",
    "    return ordenados[:n]"
   ]
  },
  {
   "cell_type": "code",
   "execution_count": 9,
   "metadata": {},
   "outputs": [
    {
     "data": {
      "text/plain": [
       "[Terremoto(año=1939, ciudad='erzincan', direccion='north_east', distancia=3.0, profundidad=20.0, intensidad=7.2),\n",
       " Terremoto(año=1970, ciudad='kutahya', direccion='north', distancia=0.8, profundidad=18.0, intensidad=7.0),\n",
       " Terremoto(año=1964, ciudad='bursa', direccion='north_east', distancia=1.5, profundidad=34.0, intensidad=7.0),\n",
       " Terremoto(año=2011, ciudad='van', direccion='north_west', distancia=1.5, profundidad=5.0, intensidad=6.7),\n",
       " Terremoto(año=1943, ciudad='cankiri', direccion='north_west', distancia=2.2, profundidad=10.0, intensidad=6.7)]"
      ]
     },
     "execution_count": 9,
     "metadata": {},
     "output_type": "execute_result"
    }
   ],
   "source": [
    "# TEST  de 'terremotos_mas_intensos', la salida esperada es:\n",
    "#   [Terremoto(año=1939, ciudad='erzincan', direccion='north_east', distancia=3.0, profundidad=20.0, intensidad=7.2),\n",
    "#    Terremoto(año=1970, ciudad='kutahya', direccion='north', distancia=0.8, profundidad=18.0, intensidad=7.0),\n",
    "#    Terremoto(año=1964, ciudad='bursa', direccion='north_east', distancia=1.5, profundidad=34.0, intensidad=7.0),\n",
    "#    Terremoto(año=2011, ciudad='van', direccion='north_west', distancia=1.5, profundidad=5.0, intensidad=6.7),\n",
    "#    Terremoto(año=1943, ciudad='cankiri', direccion='north_west', distancia=2.2, profundidad=10.0, intensidad=6.7)]\n",
    "\n",
    "terremotos_mas_intensos(REGISTROS, 5)"
   ]
  },
  {
   "cell_type": "markdown",
   "metadata": {},
   "source": [
    "La siguiente función de esta sección se llama <code>intensidad_media_por_año</code>. Toma como entrada una lista de registros, y produce como salida un diccionario cuyas claves son los años, y los valores son la intensidad media de los terremotos registrados cada año."
   ]
  },
  {
   "cell_type": "code",
   "execution_count": 10,
   "metadata": {},
   "outputs": [],
   "source": [
    "def intensidad_media_por_año(registros):\n",
    "    ''' Crea un diccionario con la intensidad media de los terremotos por año\n",
    "    \n",
    "    ENTRADA:\n",
    "       - registros: lista de registros -> [Terremoto(int, str, str, float, float, float)]\n",
    "    SALIDA:\n",
    "       - diccionario con la intensidad media por año -> {int: float}\n",
    "    '''\n",
    "    intensidades_medias = dict()\n",
    "    años = {r.año for r in registros}\n",
    "    for año in años:\n",
    "        intensidades = [r.intensidad for r in registros if r.año == año]\n",
    "        intensidades_medias[año] = sum(intensidades)/len(intensidades)\n",
    "    return intensidades_medias"
   ]
  },
  {
   "cell_type": "code",
   "execution_count": 11,
   "metadata": {},
   "outputs": [
    {
     "name": "stdout",
     "output_type": "stream",
     "text": [
      "4.5076923076923086\n",
      "0.5925233644859812\n",
      "3.865700483091787\n"
     ]
    }
   ],
   "source": [
    "# TEST  de 'intensidad_media_por_año', la salida esperada es:\n",
    "#  4.5076923076923086\n",
    "#  0.5925233644859812\n",
    "#  3.865700483091787\n",
    "\n",
    "intensidades = intensidad_media_por_año(REGISTROS)\n",
    "print(intensidades[1944])\n",
    "print(intensidades[1981])\n",
    "print(intensidades[2017])"
   ]
  },
  {
   "cell_type": "markdown",
   "metadata": {},
   "source": [
    "## 3. Visualización (2 puntos)"
   ]
  },
  {
   "cell_type": "markdown",
   "metadata": {},
   "source": [
    "La función de visualización que implementaremos será <code>records_de_intensidad_por_direccion</code>. Toma como entrada una lista de registros y una ciudad, y genera un diagrama de barras con la intensidad máxima para cada dirección posible. "
   ]
  },
  {
   "cell_type": "code",
   "execution_count": 12,
   "metadata": {},
   "outputs": [],
   "source": [
    "def records_de_intensidad_por_direccion(registros, ciudad):\n",
    "    ''' Genera un diagrama de barras con el record de intensidad para cada dirección posible\n",
    "        \n",
    "        ENTRADA:\n",
    "           - registros: lista de registros -> [Terremoto(int, str, str, float, float, float)]\n",
    "           - ciudad: para la que se genera la gráfica -> str\n",
    "        SALIDA EN PANTALLA:\n",
    "           - diagrama de barras con el record de intensidad por cada dirección\n",
    "           \n",
    "        Se usarán las siguientes instrucciones matplotlib para generar la gráfica:\n",
    "            plt.barh(direcciones, records_intensidad)\n",
    "            plt.show()\n",
    "            \n",
    "        Donde las dos variables usadas significan lo siguiente:\n",
    "            - direcciones: lista con todas las direcciones para las que se han registrado terremotos en la ciudad\n",
    "            - records_intensidad: lista (alineada con la anterior) con record de intensidad para cada dirección\n",
    "    '''\n",
    "    registros_ciudad = [r for r in REGISTROS if r.ciudad==ciudad]\n",
    "    direcciones = sorted(list({r.direccion for r in REGISTROS}))\n",
    "    records_intensidad = []\n",
    "    for direccion in direcciones:\n",
    "        intensidades_direccion = [r.intensidad for r in registros_ciudad if r.direccion==direccion]\n",
    "        records_intensidad.append(max(intensidades_direccion))\n",
    "    \n",
    "    plt.barh(direcciones, records_intensidad)\n",
    "    plt.show()\n"
   ]
  },
  {
   "attachments": {},
   "cell_type": "markdown",
   "metadata": {},
   "source": [
    "La salida de la celda de test debería ser la siguiente:\n",
    "\n",
    "<img src=\"./img/test.png\" alt=\"Drawing\" style=\"width:8cm;\"/>"
   ]
  },
  {
   "cell_type": "code",
   "execution_count": 13,
   "metadata": {},
   "outputs": [
    {
     "data": {
      "image/png": "[encoded data removed]",
      "text/plain": [
       "<Figure size 432x288 with 1 Axes>"
      ]
     },
     "metadata": {},
     "output_type": "display_data"
    }
   ],
   "source": [
    "# TEST de 'records_de_intensidad_por_direccion'\n",
    "records_de_intensidad_por_direccion(REGISTROS, 'bursa')"
   ]
  },
  {
   "cell_type": "code",
   "execution_count": null,
   "metadata": {},
   "outputs": [],
   "source": []
  }
 ],
 "metadata": {
  "kernelspec": {
   "display_name": "Python 3 (ipykernel)",
   "language": "python",
   "name": "python3"
  },
  "language_info": {
   "codemirror_mode": {
    "name": "ipython",
    "version": 3
   },
   "file_extension": ".py",
   "mimetype": "text/x-python",
   "name": "python",
   "nbconvert_exporter": "python",
   "pygments_lexer": "ipython3",
   "version": "3.9.7"
  }
 },
 "nbformat": 4,
 "nbformat_minor": 4
}
