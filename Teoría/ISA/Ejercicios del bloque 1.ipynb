{
 "cells": [
  {
   "cell_type": "markdown",
   "metadata": {},
   "source": [
    "# Ejercicios del bloque 1\n",
    "**Autor**: Mariano González. **Revisores**: Fermín Cruz. **Última modificación:** 1/10/2021"
   ]
  },
  {
   "cell_type": "markdown",
   "metadata": {},
   "source": [
    "### Ejercicio 1"
   ]
  },
  {
   "cell_type": "markdown",
   "metadata": {},
   "source": [
    "Escribe una función que reciba como entrada el peso y la estatura de una persona y calcule su índice de masa corporal o [IMC](https://es.wikipedia.org/wiki/%C3%8Dndice_de_masa_corporal)."
   ]
  },
  {
   "cell_type": "code",
   "execution_count": 1,
   "metadata": {},
   "outputs": [],
   "source": [
    "import math"
   ]
  },
  {
   "cell_type": "code",
   "execution_count": 2,
   "metadata": {},
   "outputs": [],
   "source": [
    "def imc(peso, estatura):\n",
    "    return peso/(estatura * estatura)"
   ]
  },
  {
   "cell_type": "markdown",
   "metadata": {},
   "source": [
    "Ahora prueba la función. Para ello, lee del teclado dos valores que representen el peso y la estatura de una persona y llama a la función  para calcular su IMC."
   ]
  },
  {
   "cell_type": "code",
   "execution_count": 3,
   "metadata": {},
   "outputs": [],
   "source": [
    "def pruebaImc():\n",
    "    peso = float(input(\"Introduzca el peso: \"))\n",
    "    estatura = float(input(\"Introduzca la estatura: \"))\n",
    "    print(\"Índice de Masa Corporal: \", imc(peso, estatura))\n",
    "    return (peso, estatura)"
   ]
  },
  {
   "cell_type": "code",
   "execution_count": 4,
   "metadata": {},
   "outputs": [],
   "source": [
    "# pruebaImc()"
   ]
  },
  {
   "cell_type": "markdown",
   "metadata": {},
   "source": [
    "### Ejercicio 2"
   ]
  },
  {
   "cell_type": "markdown",
   "metadata": {},
   "source": [
    "Escribe una función que reciba como entrada el peso y la estatura de una persona y calcule el estado nutricional de la persona de acuerdo con su IMC. El estado nutricional puede ser uno de los siguientes:\n",
    "- Bajo peso: imc < 18.5\n",
    "- Normal: 18.5 <= imc < 25\n",
    "- Sobrepeso: 25 <= imc < 30\n",
    "- Obesidad: imc >= 30"
   ]
  },
  {
   "cell_type": "code",
   "execution_count": 5,
   "metadata": {},
   "outputs": [],
   "source": [
    "def ejercicioDos(peso, estatura):\n",
    "    calculoImc = imc(peso, estatura)\n",
    "    print(\"\")\n",
    "    print(\"Calculo del estado nutricional\")\n",
    "    if (calculoImc <= 18.5):\n",
    "        print(\"Bajo peso: \", calculoImc)\n",
    "    elif (18.5 <= calculoImc < 25):\n",
    "        print(\"Normal: \", calculoImc)\n",
    "    elif (25 <= calculoImc < 30):\n",
    "        print(\"Sobrepeso: \", calculoImc)\n",
    "    else:\n",
    "        print(\"Obesidad: \", calculoImc)"
   ]
  },
  {
   "cell_type": "markdown",
   "metadata": {},
   "source": [
    "Ahora llama a esta función con el peso y la estatura leídos más arriba."
   ]
  },
  {
   "cell_type": "code",
   "execution_count": 6,
   "metadata": {},
   "outputs": [],
   "source": [
    "# (peso, estatura) = pruebaImc()\n",
    "# ejercicioDos(peso, estatura)"
   ]
  },
  {
   "cell_type": "markdown",
   "metadata": {},
   "source": [
    "### Ejercicio 3"
   ]
  },
  {
   "cell_type": "markdown",
   "metadata": {},
   "source": [
    "Escribe una función que lea el nombre y la edad de varias personas y almacene esta información (decide tu mismo cómo hacerlo). El número de personas a leer será un dato de entrada de la función."
   ]
  },
  {
   "cell_type": "code",
   "execution_count": 7,
   "metadata": {},
   "outputs": [],
   "source": [
    "def ejercicioTres(numPersonas):\n",
    "    nombres = []\n",
    "    edades = []\n",
    "    for i in range(0..numPersonas):\n",
    "        nombre = input(\"Introduce el nombre\")\n",
    "        edad = input(\"Introduce la edad\")\n",
    "        nombres.append(nombre)\n",
    "        edades.append(edad)\n",
    "        # No nos pide mostrarlo por pantalla, por lo que no usamos print, simplemente lo almacenamos y ya.\n",
    "    return (nombres, edades)"
   ]
  },
  {
   "cell_type": "markdown",
   "metadata": {},
   "source": [
    "Ahora llama a la función anterior para que lea 5 personas y muestre sus datos en pantalla."
   ]
  },
  {
   "cell_type": "code",
   "execution_count": 8,
   "metadata": {},
   "outputs": [],
   "source": [
    "# (nombres, edades) = ejercicioTres(5)\n",
    "# print(nombres)\n",
    "# print(edades)"
   ]
  },
  {
   "cell_type": "markdown",
   "metadata": {},
   "source": [
    "### Ejercicio 4"
   ]
  },
  {
   "cell_type": "markdown",
   "metadata": {},
   "source": [
    "Calcula la edad media de las personas."
   ]
  },
  {
   "cell_type": "code",
   "execution_count": 9,
   "metadata": {},
   "outputs": [],
   "source": [
    "def ejercicioCuatroUno(edades):\n",
    "    acumulador = 0\n",
    "    for i in range(0..len(edades)):\n",
    "        acumulador += edades[i]\n",
    "    return acumulador/len(edades)"
   ]
  },
  {
   "cell_type": "markdown",
   "metadata": {},
   "source": [
    "Crea una lista con los nombres de las personas mayores de 18 años."
   ]
  },
  {
   "cell_type": "code",
   "execution_count": 10,
   "metadata": {},
   "outputs": [],
   "source": [
    "def ejercicioCuatroDos(nombres, edades):\n",
    "    nombresMayores = []\n",
    "    for i in range(0..len(nombre)):\n",
    "        if(edades[i] > 18):\n",
    "            nombresMayores.append(nombres[i])\n",
    "            \n",
    "    return nombresMayores"
   ]
  },
  {
   "cell_type": "markdown",
   "metadata": {},
   "source": [
    "Crea un conjunto que contenga las edades de todas las personas, en orden creciente y sin que se repita ninguna."
   ]
  },
  {
   "cell_type": "code",
   "execution_count": 11,
   "metadata": {},
   "outputs": [],
   "source": [
    "def ejercicioCuatroTres():\n",
    "    return 0"
   ]
  },
  {
   "cell_type": "markdown",
   "metadata": {},
   "source": [
    "Escribe el nombre de la persona más joven."
   ]
  },
  {
   "cell_type": "code",
   "execution_count": 12,
   "metadata": {},
   "outputs": [],
   "source": [
    "def ejercicioCuatroCuatro(nombres, edades):\n",
    "    menor = 0\n",
    "    for i in range(0..len(edades)):\n",
    "        if(edades[i] < edades[menor]):\n",
    "            menor = i\n",
    "    \n",
    "    return nombres[menor]"
   ]
  },
  {
   "cell_type": "markdown",
   "metadata": {},
   "source": [
    "### Ejercicios propuestos"
   ]
  },
  {
   "cell_type": "markdown",
   "metadata": {},
   "source": [
    "Escribe las siguientes funciones. Para cada una, haz una prueba llamando a la función con los parámetros que necesite."
   ]
  },
  {
   "cell_type": "markdown",
   "metadata": {},
   "source": [
    "- Función que convierte grados Celsius a Fahrenheit, de acuerdo con la siguiente fórmula: C = 5/9 * (F - 32)\n",
    "- Función que recibe un año y devuelve un valor lógico true si el año es bisiesto, y false en caso contrario. Un año es bisiesto si es divisible por 400, o bien si es divisible por 4 pero no por 100.\n",
    "- Función que calcula el área de un trapecio de bases b1 y b2 y altura h. El área de un trapecio se obtiene mediante la fórmula ((b1 + b2) * h) / 2\n",
    "- Función que obtiene la edad de una persona a partir de su fecha de nacimiento.\n",
    "- Función que, dada una fecha, devuelve la estación del año, que puede tomar uno de los siguientes valores: PRIMAVERA, VERANO, OTOÑO, INVIERNO. Define unas variables para representar las fechas del inicio de la primavera (20 de marzo), verano (21 de junio), otoño (22 de septiembre) e invierno (22 de diciembre).\n",
    "- Función que recibe la velocidad del viento en un huracán y devuelve su categoría de acuerdo a los siguientes rangos de velocidad: categoría 1, de 118 a 152; categoría 2, de 153 a 176; categoría 3, de 177 a 208; categoría 4, de 209 a 248; y categoría 5, superior a 248.\n",
    "- Función que recibe la fecha de reserva de un hotel, y devuelve un valor que indica si esa fecha es considerada temporada alta, media o baja. Se consideran temporada alta los meses de julio, agosto y septiembre; temporada media mayo, junio y octubre; el resto de meses son temporada baja.\n",
    "- Función que recibe una fecha y devuelve el tipo de día de esa fecha. El tipo de día puede tomar dos valores: LABORABLE y FESTIVO. La función devolverá LABORABLE si la fecha corresponde a un lunes, martes, miércoles, jueves o viernes; devolverá FESTIVO si corresponde a un sábado o un domingo."
   ]
  },
  {
   "cell_type": "code",
   "execution_count": null,
   "metadata": {},
   "outputs": [],
   "source": []
  }
 ],
 "metadata": {
  "kernelspec": {
   "display_name": "Python 3",
   "language": "python",
   "name": "python3"
  },
  "language_info": {
   "codemirror_mode": {
    "name": "ipython",
    "version": 3
   },
   "file_extension": ".py",
   "mimetype": "text/x-python",
   "name": "python",
   "nbconvert_exporter": "python",
   "pygments_lexer": "ipython3",
   "version": "3.8.8"
  }
 },
 "nbformat": 4,
 "nbformat_minor": 2
}
