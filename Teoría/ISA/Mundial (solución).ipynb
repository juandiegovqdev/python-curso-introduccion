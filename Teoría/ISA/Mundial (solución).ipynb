{
 "cells": [
  {
   "cell_type": "markdown",
   "metadata": {},
   "source": [
    "# Convocatoria de septiembre: Mundial'18\n",
    "**Fecha:** 05/09/2018"
   ]
  },
  {
   "cell_type": "markdown",
   "metadata": {},
   "source": [
    "Antes de empezar, ejecutaremos la siguiente celda con las importaciones necesarias para poder realizar el ejercicio:"
   ]
  },
  {
   "cell_type": "code",
   "execution_count": 4,
   "metadata": {},
   "outputs": [],
   "source": [
    "import csv\n",
    "from datetime import datetime, date\n",
    "from matplotlib import pylab as plt\n",
    "from collections import namedtuple"
   ]
  },
  {
   "cell_type": "markdown",
   "metadata": {},
   "source": [
    "## 1. Carga de datos (2 puntos)"
   ]
  },
  {
   "cell_type": "markdown",
   "metadata": {},
   "source": [
    "Tomaremos los datos de un fichero de entrada llamado <code>partidos.csv</code> con datos de los 64 partidos disputados durante el Mundial de Fútbol de 2018. El fichero se encuentra en la carpeta <code>./csv</code>. Cada línea del fichero de entrada contiene cinco datos relativos un partido:\n",
    "- fecha: día en el que se jugó el partido\n",
    "- local: selección que jugó como local\n",
    "- vistitante: selección que jugó como visitante\n",
    "- goles_local: goles marcados por la selección local\n",
    "- goles_visitante: goles marcados por la selección visitante\n",
    "\n",
    "He aquí un fragmento con las primeras líneas del fichero de entrada:\n",
    "<pre>\n",
    "    14/06/2018,Rusia,Arabia Saudí,5,0\n",
    "    15/06/2018,Egipto,Uruguay,0,1\n",
    "    15/06/2018,Marruecos,Irán,0,1\n",
    "    15/06/2018,Portugal,España,3,3\n",
    "    16/06/2018,Francia,Australia,2,1\n",
    "    16/06/2018,Argentina,Islandia,1,1\n",
    "</pre>\n",
    "\n",
    "La primera función que implementaremos será la de lectura. Será la encargada de leer los datos del fichero de entrada y cargarlos en una lista de tuplas:"
   ]
  },
  {
   "cell_type": "code",
   "execution_count": 5,
   "metadata": {},
   "outputs": [],
   "source": [
    "def lee_partidos(fichero):\n",
    "    ''' Lee el fichero de entrada y devuelve una lista de tuplas\n",
    "    \n",
    "    Cada línea del fichero de entrada contiene cinco datos relativos un partido:\n",
    "    - fecha: día en el que se jugó el partido\n",
    "    - local: selección que jugó como local\n",
    "    - vistitante: selección que jugó como visitante\n",
    "    - goles_local: goles marcados por la selección local\n",
    "    - goles_visitante: goles marcados por la selección visitante\n",
    "    \n",
    "    Hay que transformar ciertos elementos de la entrada en valores numéricos o de tipo fecha\n",
    "    para que puedan ser procesados posteriormente. Para convertir una cadena de texto del\n",
    "    estilo de '14/06/2018' en una fecha, se podrá usar esta expresión:\n",
    "        fecha = datetime.strptime(fecha_en_cadena, '%d/%m/%Y').date()\n",
    "\n",
    "    '''\n",
    "    partidos = []\n",
    "    with open(fichero, encoding='utf-8') as f:\n",
    "        lector = csv.reader(f)\n",
    "        for fecha, local, visitante, goles_local, goles_visitante in lector:\n",
    "            fecha = datetime.strptime(fecha, '%d/%m/%Y').date()\n",
    "            goles_local = int(goles_local)\n",
    "            goles_visitante = int(goles_visitante)\n",
    "            partidos.append((fecha, local, visitante, goles_local, goles_visitante))\n",
    "    return partidos"
   ]
  },
  {
   "cell_type": "code",
   "execution_count": 9,
   "metadata": {},
   "outputs": [],
   "source": [
    "Partido = namedtuple('Partido', 'fecha local visitante goles_local goles_visitante')\n",
    "\n",
    "def lee_partidos(fichero):\n",
    "    ''' Lee el fichero de entrada y devuelve una lista de tuplas\n",
    "   \n",
    "    Cada línea del fichero de entrada contiene cinco datos relativos un partido:\n",
    "    - fecha: día en el que se jugó el partido\n",
    "    - local: selección que jugó como local\n",
    "    - vistitante: selección que jugó como visitante\n",
    "    - goles_local: goles marcados por la selección local\n",
    "    - goles_visitante: goles marcados por la selección visitante\n",
    "   \n",
    "    Hay que transformar ciertos elementos de la entrada en valores numéricos o de tipo fecha\n",
    "    para que puedan ser procesados posteriormente. Para convertir una cadena de texto del\n",
    "    estilo de '14/06/2018' en una fecha, se podrá usar esta expresión:\n",
    "        fecha = datetime.strptime(fecha_en_cadena, '%d/%m/%Y').date()\n",
    "\n",
    "    '''\n",
    "   \n",
    "    partidos = []\n",
    "    with open(fichero, 'r', encoding='utf-8') as f:\n",
    "        lector = csv.reader(f, delimiter=',')\n",
    "        next(lector)\n",
    "        partidos = [Partido(datetime.strptime(fecha, '%d/%m/%Y').date(), local, visitante, int(goles_local), int(goles_visitante)) \n",
    "                     for fecha, local, visitante, goles_local, goles_visitante in lector]\n",
    "    return partidos"
   ]
  },
  {
   "cell_type": "code",
   "execution_count": 10,
   "metadata": {},
   "outputs": [
    {
     "name": "stdout",
     "output_type": "stream",
     "text": [
      "63 [Partido(fecha=datetime.date(2018, 6, 15), local='Egipto', visitante='Uruguay', goles_local=0, goles_visitante=1), Partido(fecha=datetime.date(2018, 6, 15), local='Marruecos', visitante='Irán', goles_local=0, goles_visitante=1)]\n"
     ]
    }
   ],
   "source": [
    "# Test de la función lee_resultados\n",
    "partidos = lee_partidos('partidos.csv')\n",
    "\n",
    "# La salida esperada de la siguiente instrucción es: \n",
    "#    64 [(datetime.date(2018, 6, 14), 'Rusia', 'Arabia Saudí', 5, 0), (datetime.date(2018, 6, 15), 'Egipto', 'Uruguay', 0, 1)]\n",
    "print(len(partidos), partidos[:2])"
   ]
  },
  {
   "cell_type": "markdown",
   "metadata": {
    "collapsed": true
   },
   "source": [
    "## 2. Consulta y filtrado (6 puntos)"
   ]
  },
  {
   "cell_type": "markdown",
   "metadata": {},
   "source": [
    "Una vez que hemos cargado los datos en una estructura en memoria ya podemos empezar a procesarlos. En esta sección implementaremos algunas funciones de consulta y filtrado que nos permitirán trabajar con ellos.\n",
    "\n",
    "La primera función que implementaremos se llama <code>media_goles</code>. La función toma una lista de partidos y calcula la media de goles marcados en ellos:"
   ]
  },
  {
   "cell_type": "code",
   "execution_count": null,
   "metadata": {},
   "outputs": [],
   "source": [
    "def media_goles(partidos):\n",
    "    ''' Calcula la media de goles\n",
    "\n",
    "    Toma como entrada una lista de partidos y calcula la media de goles marcados en ellos\n",
    "    '''\n",
    "    goles = sum((goles_local+goles_visitante for _,_,_,goles_local,goles_visitante in partidos))\n",
    "    return goles / len(partidos)"
   ]
  },
  {
   "cell_type": "code",
   "execution_count": null,
   "metadata": {},
   "outputs": [],
   "source": [
    "# Test de la función media_goles\n",
    "media = media_goles(partidos)\n",
    "\n",
    "# La salida esperada de la siguiente instrucción es: \n",
    "#   2.640625\n",
    "print(media)"
   ]
  },
  {
   "cell_type": "markdown",
   "metadata": {},
   "source": [
    "La segunda función se llama <code>filtra_por_fechas</code>. Toma una lista de partidos y dos fechas, y selecciona solo los partidos entre ambas fechas, inclusive:"
   ]
  },
  {
   "cell_type": "code",
   "execution_count": null,
   "metadata": {},
   "outputs": [],
   "source": [
    "def filtra_por_fechas(partidos, inicio, fin):\n",
    "    ''' Selecciona partidos por fechas\n",
    "\n",
    "    Toma una lista de partidos y dos fechas (inicio y fin) y selecciona solo los partidos entre ambas fechas, inclusive:\n",
    "    '''\n",
    "    filtrados = [p for p in partidos if p[0]>=inicio and p[0]<=fin]\n",
    "    return filtrados"
   ]
  },
  {
   "cell_type": "code",
   "execution_count": null,
   "metadata": {},
   "outputs": [],
   "source": [
    "# Test de la función filtra_por_fechas\n",
    "partidos_fase_final = filtra_por_fechas(partidos, date(2018, 6, 30), date(2018, 7, 15))\n",
    "\n",
    "# La salida esperada de la siguiente instrucción es: \n",
    "# 16 [(datetime.date(2018, 6, 30), 'Francia', 'Argentina', 4, 3), (datetime.date(2018, 6, 30), 'Uruguay', 'Portugal', 2, 1)]\n",
    "print(len(partidos_fase_final), partidos_fase_final[:2])"
   ]
  },
  {
   "cell_type": "markdown",
   "metadata": {},
   "source": [
    "La siguiente función se llama <code>calcula_selecciones</code>. Toma como entrada una lista de partidos, y produce como salida un conjunto con todas las selecciones participantes en esos partidos."
   ]
  },
  {
   "cell_type": "code",
   "execution_count": null,
   "metadata": {},
   "outputs": [],
   "source": [
    "def calcula_selecciones(partidos):\n",
    "    ''' Calcula las selecciones participantes\n",
    "    \n",
    "    Toma como entrada una lista de partidos, y produce como salida un conjunto con todas\n",
    "    las selecciones participantes en esos partidos.\n",
    "    '''\n",
    "    locales = [local for _,local,_,_,_ in partidos]\n",
    "    visitantes = [visitante for _,_,visitante,_,_ in partidos]\n",
    "    return set(locales+visitantes)"
   ]
  },
  {
   "cell_type": "code",
   "execution_count": null,
   "metadata": {},
   "outputs": [],
   "source": [
    "# Test de la función calcula_selecciones\n",
    "selecciones = calcula_selecciones(partidos)\n",
    "\n",
    "# La salida esperada de la siguiente instrucción es la siguiente. Los conjuntos no tienen orden, por lo que \n",
    "# los nombres de las selecciones no tienen que aparecer siempre en el mismo orden:\n",
    "# 32 {'Colombia', 'Uruguay', 'Panamá', 'Arabia Saudí', 'Argentina', 'Japón', 'Bélgica', 'Australia', 'Rusia', \n",
    "#     'Alemania', 'Serbia', 'Brasil', 'Costa Rica', 'Corea del Sur', 'Inglaterra', 'Nigeria', 'Islandia', \n",
    "#     'Egipto', 'Marruecos', 'Croacia', 'Suiza', 'Irán', 'Senegal', 'Perú', 'España', 'Suecia', 'Portugal', \n",
    "#     'Túnez', 'Polonia', 'Francia', 'Dinamarca', 'México'}\n",
    "print(len(selecciones), selecciones)"
   ]
  },
  {
   "cell_type": "markdown",
   "metadata": {},
   "source": [
    "La última función de consulta se llama <code>resultados_por_seleccion</code>. Toma como entrada una lista de partidos y produce como salida un diccionario cuyas claves son los nombres de las selecciones participantes en esos partidos y los valores son listas de resultados para cada selección."
   ]
  },
  {
   "cell_type": "code",
   "execution_count": null,
   "metadata": {},
   "outputs": [],
   "source": [
    "def resultados_por_seleccion(partidos):\n",
    "    ''' Crea un diccionario con los resultados que ha obtenido cada selección\n",
    "    \n",
    "    Toma como entrada una lista de partidos y produce como salida un diccionario\n",
    "    cuyas claves son los nombres de las selecciones participantes en esos partidos y\n",
    "    los valores son listas de resultados para cada selección. Cada resultado se\n",
    "    representa con una tupla de tres valores:\n",
    "    - rival: selección con la que se enfrentó\n",
    "    - goles_favor: goles a favor\n",
    "    - goles_contra: goles en contra\n",
    "    '''\n",
    "    resultados = dict()\n",
    "    selecciones = calcula_selecciones(partidos)\n",
    "    for seleccion in selecciones:\n",
    "        resultados_local = [(rival,goles_local,goles_visitante) for \n",
    "                             _,s,rival,goles_local,goles_visitante in partidos if s == seleccion]\n",
    "        resultados_visitante = [(rival,goles_visitante,goles_local) for \n",
    "                                 _,rival,s,goles_local,goles_visitante in partidos if s == seleccion]\n",
    "        resultados[seleccion] = resultados_local + resultados_visitante\n",
    "    return resultados"
   ]
  },
  {
   "cell_type": "code",
   "execution_count": null,
   "metadata": {},
   "outputs": [],
   "source": [
    "# Test de la función resultados_por_seleccion\n",
    "resultados = resultados_por_seleccion(partidos)\n",
    "\n",
    "# La salida de las siguientes instrucciones es:\n",
    "# [('Marruecos', 2, 2), ('Rusia', 1, 1), ('Portugal', 3, 3), ('Irán', 1, 0)]\n",
    "# [('Australia', 2, 1), ('Perú', 1, 0), ('Argentina', 4, 3), ('Bélgica', 1, 0), ('Croacia', 4, 2), ('Dinamarca', 0, 0), ('Uruguay', 2, 0)]\n",
    "print(resultados['España'])\n",
    "print(resultados['Francia'])"
   ]
  },
  {
   "cell_type": "markdown",
   "metadata": {},
   "source": [
    "## 3. Visualización (2 puntos)"
   ]
  },
  {
   "cell_type": "markdown",
   "metadata": {},
   "source": [
    "La función de visualización que implementaremos será <code>muestra_puntos_por_seleccion</code>. Toma como entrada un diccionario de resultados (como el producido por la función <code>resultados_por_seleccion</code>, y genera un diagrama de barras en el que se muestran (ordenados de mayor a menor) el número de puntos obtenidos por cada selección."
   ]
  },
  {
   "cell_type": "code",
   "execution_count": null,
   "metadata": {},
   "outputs": [],
   "source": [
    "def muestra_puntos_por_seleccion(resultados):\n",
    "    ''' Genera una diagrama de barras con los puntos obtenidos por cada selección\n",
    "        \n",
    "        Toma como entrada un diccionario de resultados (como el producido por la función\n",
    "        resultados_por_seleccion) y genera un diagrama de barras en el que se muestran \n",
    "        (ordenados de mayor a menor) el número de puntos obtenidos por cada selección.\n",
    "        Un partido ganado se corresponde con 3 puntos y uno empatado con 1.\n",
    "    \n",
    "        Se usarán las siguientes instrucciones para generar el diagrama de barras:\n",
    "            selecciones = sorted(puntos_por_seleccion, key=puntos_por_seleccion.get, reverse=True)\n",
    "            puntos = [puntos_por_seleccion[s] for s in selecciones]\n",
    "            plt.bar(range(len(selecciones)), puntos, tick_label=selecciones)\n",
    "            plt.xticks(rotation=85)\n",
    "            plt.show()\n",
    "        \n",
    "        El ejercicio consiste en calcular 'puntos_por_seleccion' que es un diccionario en \n",
    "        el que se asocia a cada selección el número de puntos que ha obtenido en los partidos\n",
    "        que ha disputado.\n",
    "    '''\n",
    "    selecciones = list(resultados.keys())\n",
    "    puntos_por_seleccion = dict()\n",
    "    for seleccion in selecciones:\n",
    "        victorias = sum(3 for _,favor,contra  in resultados[seleccion] if favor>contra)\n",
    "        empates = sum(1 for _,favor,contra  in resultados[seleccion] if favor==contra)\n",
    "        puntos_por_seleccion[seleccion] = (victorias+empates)\n",
    "    selecciones = sorted(puntos_por_seleccion, key=puntos_por_seleccion.get, reverse=True)\n",
    "    puntos = [puntos_por_seleccion[s] for s in selecciones]\n",
    "    plt.bar(range(len(selecciones)), puntos, tick_label=selecciones)\n",
    "    plt.xticks(rotation=85)\n",
    "    plt.show()"
   ]
  },
  {
   "attachments": {
    "image.png": {
     "image/png": "[encoded data removed]"
    }
   },
   "cell_type": "markdown",
   "metadata": {},
   "source": [
    "La salida de la celda de test debería ser la siguiente:\n",
    "![image.png](attachment:image.png)"
   ]
  },
  {
   "cell_type": "code",
   "execution_count": null,
   "metadata": {},
   "outputs": [],
   "source": [
    "# Test de la función muestra_puntos_por_seleccion\n",
    "\n",
    "resultados_semifinalistas = {\n",
    "    'Croacia': [('Nigeria', 2, 0), ('Dinamarca', 1, 1), ('Inglaterra', 2, 1), ('Argentina', 3, 0), ('Islandia', 2, 1), ('Rusia', 2, 2), ('Francia', 2, 4)],\n",
    "    'Francia': [('Australia', 2, 1), ('Perú', 1, 0), ('Argentina', 4, 3), ('Bélgica', 1, 0), ('Croacia', 4, 2), ('Dinamarca', 0, 0), ('Uruguay', 2, 0)],\n",
    "    'Bélgica': [('Panamá', 3, 0), ('Túnez', 5, 2), ('Japón', 3, 2), ('Inglaterra', 2, 0), ('Inglaterra', 1, 0), ('Brasil', 2, 1), ('Francia', 0, 1)],\n",
    "    'Inglaterra': [('Panamá', 6, 1), ('Bélgica', 0, 1), ('Túnez', 2, 1), ('Colombia', 1, 1), ('Suecia', 2, 0), ('Croacia', 1, 2), ('Bélgica', 0, 2)]\n",
    "}\n",
    "\n",
    "muestra_puntos_por_seleccion(resultados_semifinalistas)\n",
    "#muestra_puntos_por_seleccion(resultados)"
   ]
  },
  {
   "attachments": {
    "image.png": {
     "image/png": "[encoded data removed]"
    }
   },
   "cell_type": "markdown",
   "metadata": {
    "collapsed": true
   },
   "source": [
    "Para todos los equipos participantes en el mundial (instrucción comentada en la celda de test) obtendríamos la siguiente gráfica:\n",
    "![image.png](attachment:image.png)    "
   ]
  },
  {
   "cell_type": "code",
   "execution_count": null,
   "metadata": {},
   "outputs": [],
   "source": []
  }
 ],
 "metadata": {
  "kernelspec": {
   "display_name": "Python 3 (ipykernel)",
   "language": "python",
   "name": "python3"
  },
  "language_info": {
   "codemirror_mode": {
    "name": "ipython",
    "version": 3
   },
   "file_extension": ".py",
   "mimetype": "text/x-python",
   "name": "python",
   "nbconvert_exporter": "python",
   "pygments_lexer": "ipython3",
   "version": "3.9.7"
  }
 },
 "nbformat": 4,
 "nbformat_minor": 2
}
