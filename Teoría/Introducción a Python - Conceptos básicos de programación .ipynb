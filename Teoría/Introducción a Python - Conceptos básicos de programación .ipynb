{
 "cells": [
  {
   "cell_type": "markdown",
   "metadata": {},
   "source": [
    "# Fundamentos de Programación\n",
    "# Una introducción a Python: Conceptos básicos de programación\n",
    "**Autor**: Fermín Cruz.   **Revisores**: José A. Troyano, Carlos G. Vallejo, Mariano González, Daniel Mateos.   **Última modificación:** 14 de octubre de 2020"
   ]
  },
  {
   "cell_type": "markdown",
   "metadata": {},
   "source": [
    "Este documento está pensado para que comiences a comprender los programas escritos en el lenguaje Python, y a escribir tus primeros programas. No tienes que tener ningún conocimiento previo para entenderlo, aunque algunos de los conceptos son un poco abstractos, por lo que es posible que tengas que leer las explicaciones varias veces, y despacito... No pretendemos profundizar en ninguno de los contenidos que aquí se presentan, sino más bien dar un primer vistazo a lo que te puedes encontrar en un programa escrito en Python. Más adelante, iremos profundizando en cada uno de estos contenidos:\n",
    "\n",
    "<a href=\"#instrucciones\">1. Instrucciones y funciones</a> <br>\n",
    "<a href=\"#expresiones\">2. Expresiones y tipos</a> <br>\n",
    "<a href=\"#listas\">3. Listas y tuplas</a> <br>\n",
    "<a href=\"#diccionarios\">4. Diccionarios</a> <br>\n",
    "<a href=\"#objetos\">5. Objetos</a> <br>\n",
    "<a href=\"#control\">6. Control de flujo de ejecución</a> <br>\n",
    "<a href=\"#modulos\">7. Módulos y paquetes</a> <br>\n",
    "<a href=\"#ficheros\">8. Ficheros</a> <br>\n",
    "<a href=\"#principal\">9. Función principal</a>\n",
    "\n",
    "\n",
    "Debes ir ejecutando cada una de las celdas de código\\* que vayas encontrado. Para hacer esto, puedes hacer clic en la celda en cuestión y luego en el botón con el icono de \"play\" que aparece en la barra de herramientas; también puedes pulsar las teclas \"Mayúsculas\" y \"Entrar\" al mismo tiempo. Si empiezas en la primera celda, puedes ir usando el mismo icono de \"play\" para ir ejecutando y avanzando a lo largo del notebook. Si \"ejecutas\" una celda como esta, que no contiene código, simplemente pasarás a la siguiente. **Debes ejecutar todas las celdas que contienen código**, si no lo haces es posible que algunos ejemplos de código\\* no funcionen. \n",
    "\n",
    "Los apartados marcados con el título **¡Prueba tú!** están pensados para que escribas pequeños trocitos de código\\*, de manera que compruebes si has comprendido lo que se te acaba de explicar. Es importante que no continúes leyendo hasta que no hayas resuelto lo que se te va pidiendo. Si no consigues resolver alguno de estos apartados, ya sabes: **pide ayuda a tu profesor**.\n",
    "\n",
    "\\* Cuando hablamos de \"código\" nos referimos a un trozo de texto sacado de un programa informático. En inglés, es frecuente usar el término **coding** para referirse al acto de escribir programas informáticos. Por cierto, ¿qué tal andas de inglés? Verás que gran parte de la información que hay que consultar para programar está en inglés, así que es mejor que te vayas acostumbrando...\n",
    "\n",
    "### ¿Empezamos?"
   ]
  },
  {
   "cell_type": "markdown",
   "metadata": {},
   "source": [
    "## 1. Instrucciones y funciones <a name=\"instrucciones\"> </a>"
   ]
  },
  {
   "cell_type": "markdown",
   "metadata": {
    "nbpresent": {
     "id": "71219fc3-c9cb-4700-9f0b-ab38b1b223da"
    },
    "slideshow": {
     "slide_type": "-"
    }
   },
   "source": [
    "Un programa Python está formado por **instrucciones** (a veces también son llamadas **sentencias**). Cada instrucción se escribe normalmente en una línea. Por ejemplo, la siguiente instrucción sirve para imprimir el mensaje \"Hola, mundo!\" en la pantalla.\n",
    "\n",
    "Para ejecutar la instrucción, haz clic sobre la celda de abajo y luego pulsa el icono de \"play\" (también puedes pulsar las teclas \"Mayúsculas+Entrar\")."
   ]
  },
  {
   "cell_type": "code",
   "execution_count": null,
   "metadata": {
    "collapsed": true,
    "jupyter": {
     "outputs_hidden": true
    },
    "nbpresent": {
     "id": "ae8725fa-30f7-4d7f-a2c2-5f86953d730b"
    }
   },
   "outputs": [],
   "source": [
    "print(\"Hola, mundo!\")"
   ]
  },
  {
   "cell_type": "markdown",
   "metadata": {
    "nbpresent": {
     "id": "86423d42-e808-47e6-b1a7-e925e195f821"
    }
   },
   "source": [
    "Si en un programa hay varias instrucciones, estas se ejecutan secuencialmente, una tras otra."
   ]
  },
  {
   "cell_type": "code",
   "execution_count": null,
   "metadata": {
    "collapsed": true,
    "jupyter": {
     "outputs_hidden": true
    },
    "nbpresent": {
     "id": "d0569bb0-fad8-48b7-8d48-0066bfb90401"
    }
   },
   "outputs": [],
   "source": [
    "print(\"Hola, mundo!\")\n",
    "print(\"Adiós, mundo!\")"
   ]
  },
  {
   "cell_type": "markdown",
   "metadata": {
    "nbpresent": {
     "id": "7adaaf8f-a83e-456b-b99a-d3b3d4cb6d1a"
    }
   },
   "source": [
    "La instrucción que hemos usado en los ejemplos anteriores, **print** (que significa imprimir en inglés), es una **función predefinida** (*built-in function*). Una función puede ser \"llamada\" (también se dice \"invocada\") desde un programa escribiendo su nombre y a continuación unos paréntesis de apertura y cierre. En ocasiones, las funciones reciben **parámetros**, que se escriben en la llamada dentro de los paréntesis, separados por comas si hay más de uno."
   ]
  },
  {
   "cell_type": "markdown",
   "metadata": {},
   "source": [
    "### ¡Prueba tú!"
   ]
  },
  {
   "cell_type": "code",
   "execution_count": null,
   "metadata": {
    "collapsed": true,
    "jupyter": {
     "outputs_hidden": true
    }
   },
   "outputs": [],
   "source": [
    "# Escribe una llamada a la función print para mostrar algún mensaje en pantalla.\n",
    "\n",
    "\n"
   ]
  },
  {
   "cell_type": "markdown",
   "metadata": {},
   "source": [
    "Hay muchas funciones predefinidas, por ejemplo la función **help** nos proporciona ayuda sobre cualquier otra función. "
   ]
  },
  {
   "cell_type": "code",
   "execution_count": null,
   "metadata": {
    "collapsed": true,
    "jupyter": {
     "outputs_hidden": true
    },
    "nbpresent": {
     "id": "998dc7f5-ab6d-4fb8-866f-4fa96a06aaaa"
    }
   },
   "outputs": [],
   "source": [
    "help(print)   # Nos muestra información de ayuda sobre la función predefinida print"
   ]
  },
  {
   "cell_type": "markdown",
   "metadata": {},
   "source": [
    "Por supuesto, la ayuda está en inglés. Habrá que acostumbrarse, porque la inmensa mayoría de documentación y ayudas que vas a encontrar para programar estará también en inglés..."
   ]
  },
  {
   "cell_type": "markdown",
   "metadata": {},
   "source": [
    "### ¡Prueba tú!"
   ]
  },
  {
   "cell_type": "code",
   "execution_count": null,
   "metadata": {
    "collapsed": true,
    "jupyter": {
     "outputs_hidden": true
    }
   },
   "outputs": [],
   "source": [
    "# Haz que se muestre la ayuda disponible sobre la propia función help\n",
    "\n",
    "help(help)\n"
   ]
  },
  {
   "cell_type": "markdown",
   "metadata": {
    "nbpresent": {
     "id": "829150e0-712b-4739-92d6-37b9c3d789cb"
    }
   },
   "source": [
    "En el ejemplo anterior hemos usado el carácter almohadilla (#) para escribir un **comentario** sobre el código. Los comentarios se usan en los programas para hacer aclaraciones, explicar el funcionamiento y, en general, hacer más fácil de entender nuestros programas. \n",
    "\n",
    "Las funciones anteriores se llaman funciones predefinidas porque ya vienen incluidas \"por defecto\" en Python. Por contra, los programadores pueden **definir** sus propias **funciones**, como se muestra a continuación."
   ]
  },
  {
   "cell_type": "code",
   "execution_count": null,
   "metadata": {
    "collapsed": true,
    "jupyter": {
     "outputs_hidden": true
    },
    "nbpresent": {
     "id": "8dce188c-36b7-41fa-9020-b5cb5502e452"
    }
   },
   "outputs": [],
   "source": [
    "def saluda(nombre):\n",
    "    ''' \n",
    "    Esta función imprime un saludo personalizado con el nombre indicado mediante el parámetro \"nombre\".\n",
    "    '''\n",
    "    print(\"Hola, \" + nombre)"
   ]
  },
  {
   "cell_type": "markdown",
   "metadata": {
    "nbpresent": {
     "id": "35a148d4-f201-4441-bf5e-8a07f93dea84"
    }
   },
   "source": [
    "La función que acabamos de definir se llama *saluda* y recibe un único parámetro. Después de la primera línea (llamada **cabecera** o **prototipo** de la función) vienen una o varias instrucciones (llamadas **cuerpo** de la función), que serán ejecutadas cuando alguien llame a la función. Date cuenta de que las instrucciones que conforman el cuerpo de la función aparecen indentadas, es decir, tienen un tabulador delante. \n",
    "\n",
    "Las primeras líneas del cuerpo de la función, que comienzan y acaban con tres comillas simples, se llaman **comentario de documentación** de la función, y, aunque no son obligatorias, sí es recomendable incluirlas. Cuando alguien llame a la función predefinida *help* para pedir ayuda sobre nuestra función, se mostrará precisamente el texto aquí incluido.\n",
    "\n",
    "Lo que hará la función cuando alguien la llame será mostrar un mensaje de saludo. Hagamos una llamada para probar la función: prueba a escribir tu nombre entre las comillas."
   ]
  },
  {
   "cell_type": "code",
   "execution_count": null,
   "metadata": {
    "collapsed": true,
    "jupyter": {
     "outputs_hidden": true
    },
    "nbpresent": {
     "id": "85d1ab90-cc65-4935-808b-a6f57ecc892e"
    }
   },
   "outputs": [],
   "source": [
    "saluda(\"Fermín\")"
   ]
  },
  {
   "cell_type": "markdown",
   "metadata": {
    "nbpresent": {
     "id": "d99a804c-9444-418b-bc94-3c2f064e2844"
    }
   },
   "source": [
    "Al definir una función conseguimos reutilizar la funcionalidad implementada las veces que queramos, simplemente llamando a la función en las partes del programa en que necesitemos dicha funcionalidad. Por ejemplo, ahora puedo realizar varios saludos, uno tras otro:"
   ]
  },
  {
   "cell_type": "code",
   "execution_count": null,
   "metadata": {
    "collapsed": true,
    "jupyter": {
     "outputs_hidden": true
    },
    "nbpresent": {
     "id": "86172e20-fe16-447d-859f-24a81e563011"
    }
   },
   "outputs": [],
   "source": [
    "saluda(\"John\")\n",
    "saluda(\"Paul\")\n",
    "saluda(\"George\")\n",
    "saluda(\"Ringo\")"
   ]
  },
  {
   "cell_type": "markdown",
   "metadata": {},
   "source": [
    "### ¡Prueba tú!"
   ]
  },
  {
   "cell_type": "markdown",
   "metadata": {},
   "source": [
    "Define una función llamada *saluda_educado* que reciba un nombre como parámetro, imprima el mismo saludo personalizado que la función saluda, y a continuación imprima el texto \"Encantado de conocerle\".\n",
    "\n",
    "**¡Truco!:** puedes llamar a la función anterior *saluda* desde el cuerpo de la nueva función *saluda_educado*."
   ]
  },
  {
   "cell_type": "code",
   "execution_count": null,
   "metadata": {
    "collapsed": true,
    "jupyter": {
     "outputs_hidden": true
    }
   },
   "outputs": [],
   "source": [
    "\n",
    "\n"
   ]
  },
  {
   "cell_type": "markdown",
   "metadata": {},
   "source": [
    "## 2. Expresiones y tipos <a name=\"expresiones\"> </a>"
   ]
  },
  {
   "cell_type": "markdown",
   "metadata": {
    "nbpresent": {
     "id": "9659b1c1-9aed-4d71-b830-4a60d408ad71"
    }
   },
   "source": [
    "En la instrucción que hemos escrito al definir la función *saluda*:\n",
    "```python \n",
    "print(\"Hola, \" + nombre)\n",
    "```\n",
    "\n",
    "hemos usado un **operador**, el signo +, que sirve para concatenar las dos cadenas de texto: la cadena *\"Hola, \"* y la cadena contenida en el parámetro *nombre*. \n",
    "\n",
    "El uso de operadores es habitual en todos los lenguajes de programación. Llamamos **expresiones** a las instrucciones formadas por operadores (como el +), literales (como la cadena *\"Hola, \"*) y variables (como el parámetro *nombre*) *[bueno, y más participantes que iremos viendo más adelante]*. Una expresión es siempre evaluada por Python, para obtener un resultado, antes de seguir ejecutando el resto de instrucciones del programa. \n",
    "\n",
    "Veamos algunos ejemplos de expresiones utilizando los **operadores aritméticos**. Prueba a cambiar los ejemplos que se muestran para experimentar un poco."
   ]
  },
  {
   "cell_type": "code",
   "execution_count": null,
   "metadata": {
    "collapsed": true,
    "jupyter": {
     "outputs_hidden": true
    },
    "nbpresent": {
     "id": "5a579720-fa62-4525-85e3-dd049cbd73be"
    }
   },
   "outputs": [],
   "source": [
    "3 + 5"
   ]
  },
  {
   "cell_type": "code",
   "execution_count": null,
   "metadata": {
    "collapsed": true,
    "jupyter": {
     "outputs_hidden": true
    },
    "nbpresent": {
     "id": "f6847886-4044-43a7-9edd-f18efddcb7a9"
    }
   },
   "outputs": [],
   "source": [
    "3 + 5 * 8"
   ]
  },
  {
   "cell_type": "code",
   "execution_count": null,
   "metadata": {
    "collapsed": true,
    "jupyter": {
     "outputs_hidden": true
    },
    "nbpresent": {
     "id": "5d433d13-f44a-45bb-91fd-406f60b33b67"
    }
   },
   "outputs": [],
   "source": [
    "(3 + 5) * 8"
   ]
  },
  {
   "cell_type": "code",
   "execution_count": null,
   "metadata": {
    "collapsed": true,
    "jupyter": {
     "outputs_hidden": true
    }
   },
   "outputs": [],
   "source": [
    "(3 + 5) * 8 / 14"
   ]
  },
  {
   "cell_type": "markdown",
   "metadata": {},
   "source": [
    "### ¡Prueba tú!"
   ]
  },
  {
   "cell_type": "code",
   "execution_count": null,
   "metadata": {
    "collapsed": true,
    "jupyter": {
     "outputs_hidden": true
    }
   },
   "outputs": [],
   "source": [
    "# Escribe alguna expresión usando operadores aritméticos. Además de los anteriores tienes los siguientes:\n",
    "# - // % **\n",
    "\n",
    "\n"
   ]
  },
  {
   "cell_type": "markdown",
   "metadata": {},
   "source": [
    "En las expresiones también podemos usar llamadas a funciones, siempre que sean funciones que devuelvan algún resultado. Para que una función devuelva un valor cuando sea invocada, usaremos la instrucción **return** en algún punto del cuerpo de la función (casi siempre, al final del cuerpo de la función). Por ejemplo:"
   ]
  },
  {
   "cell_type": "code",
   "execution_count": null,
   "metadata": {
    "collapsed": true,
    "jupyter": {
     "outputs_hidden": true
    }
   },
   "outputs": [],
   "source": [
    "def doble(x):\n",
    "    return x * 2\n",
    "\n",
    "doble(10)"
   ]
  },
  {
   "cell_type": "markdown",
   "metadata": {
    "nbpresent": {
     "id": "ee1bdf03-6e13-4f1f-9dc9-22d4e344fdba"
    }
   },
   "source": [
    "A veces necesitamos guardar el resultado de una expresión para utilizarlo más adelante en nuestro programa. Para esto se usan las **variables**. "
   ]
  },
  {
   "cell_type": "code",
   "execution_count": null,
   "metadata": {
    "collapsed": true,
    "jupyter": {
     "outputs_hidden": true
    },
    "nbpresent": {
     "id": "14d1a927-b37f-4323-9404-17d453f3b487"
    }
   },
   "outputs": [],
   "source": [
    "resultado = (3 + 5) * doble(8)\n",
    "print(resultado / 5)"
   ]
  },
  {
   "cell_type": "markdown",
   "metadata": {
    "nbpresent": {
     "id": "c71a78d7-9d0e-4825-9c84-9998f971317d"
    }
   },
   "source": [
    "Hemos **asignado** a la variable *resultado* el valor de la expresión que hemos escrito a la derecha del carácter igual (=), de manera que más adelante en el programa podremos utilizar ese valor haciendo mención a la variable. A este carácter igual lo llamamos instrucción de **asignación**."
   ]
  },
  {
   "cell_type": "markdown",
   "metadata": {},
   "source": [
    "### ¡Prueba tú!"
   ]
  },
  {
   "cell_type": "markdown",
   "metadata": {},
   "source": [
    "Intenta definir una función de nombre *descuento* que reciba como parámetro un valor y un porcentaje y devuelva el resultado de aplicar el descuento correspondiente al porcentaje sobre el valor indicado."
   ]
  },
  {
   "cell_type": "code",
   "execution_count": null,
   "metadata": {
    "collapsed": true,
    "jupyter": {
     "outputs_hidden": true
    }
   },
   "outputs": [],
   "source": [
    "# Define aquí la función\n",
    "\n",
    "\n",
    "\n"
   ]
  },
  {
   "cell_type": "markdown",
   "metadata": {},
   "source": [
    "Cuando la termines de escribir, puedes ejecutar esta prueba:"
   ]
  },
  {
   "cell_type": "code",
   "execution_count": null,
   "metadata": {
    "collapsed": true,
    "jupyter": {
     "outputs_hidden": true
    }
   },
   "outputs": [],
   "source": [
    "precio = 200\n",
    "print(\"Precio con 10% de descuento:\", descuento(precio, 10))"
   ]
  },
  {
   "cell_type": "markdown",
   "metadata": {},
   "source": [
    "En los ejemplos anteriores, hemos utilizado **literales** de tipo **cadena de caracteres** (por ejemplo, *\"Hola, mundo!\"*) y literales de tipo número **entero** (por ejemplo, *3*, *5* y *8*). Hay más tipos de literales, por ejemplo literales de tipo número **real** o de tipo **lógico**: "
   ]
  },
  {
   "cell_type": "code",
   "execution_count": null,
   "metadata": {
    "collapsed": true,
    "jupyter": {
     "outputs_hidden": true
    },
    "nbpresent": {
     "id": "80be6133-d85a-4e43-9964-6578abcbaaac"
    }
   },
   "outputs": [],
   "source": [
    "PI = 3.14159\n",
    "radio = 1.5\n",
    "area = PI * radio**2   # El operador ** sirve para calcular potencias\n",
    "print(\"El área del círculo es\", area)\n",
    "\n",
    "umbral = 100.0\n",
    "area_superior_umbral = area > umbral  \n",
    "# El carácter > es un operador relacional, se evalúa como True (verdadero) o False (falso)\n",
    "print(\"¿Es el área superior al umbral?\", area_superior_umbral)"
   ]
  },
  {
   "cell_type": "markdown",
   "metadata": {},
   "source": [
    "## 3. Listas y tuplas <a name=\"listas\"> </a>"
   ]
  },
  {
   "cell_type": "markdown",
   "metadata": {
    "nbpresent": {
     "id": "9b7597e9-aaa9-4d9f-ba0d-22f43d1a3900"
    }
   },
   "source": [
    "Cuando necesitamos almacenar varios datos en una sola variable, utilizamos literales de tipo **lista**:"
   ]
  },
  {
   "cell_type": "code",
   "execution_count": null,
   "metadata": {
    "collapsed": true,
    "jupyter": {
     "outputs_hidden": true
    },
    "nbpresent": {
     "id": "0281a659-abae-4cb9-b30f-b552b9db399e"
    }
   },
   "outputs": [],
   "source": [
    "temperaturas = [28.5, 27.8, 29.5, 32.1, 30.7, 25.5, 26.0]\n",
    "print(temperaturas)"
   ]
  },
  {
   "cell_type": "code",
   "execution_count": null,
   "metadata": {
    "collapsed": true,
    "jupyter": {
     "outputs_hidden": true
    }
   },
   "outputs": [],
   "source": [
    "heroes = [\"Spiderman\", \"Iron Man\", \"Lobezno\", \"Capitán América\", \"Hulk\"]\n",
    "print(heroes)"
   ]
  },
  {
   "cell_type": "markdown",
   "metadata": {},
   "source": [
    "O, a veces, de tipo **tupla**, que se escriben igual pero usando paréntesis en lugar de corchetes:"
   ]
  },
  {
   "cell_type": "code",
   "execution_count": null,
   "metadata": {
    "collapsed": true,
    "jupyter": {
     "outputs_hidden": true
    }
   },
   "outputs": [],
   "source": [
    "usuario = (\"Mark\", \"Lenders\")\n",
    "print(usuario)"
   ]
  },
  {
   "cell_type": "markdown",
   "metadata": {},
   "source": [
    "Ambos, listas y tuplas, se parecen mucho (ya veremos algunas diferencias más adelante). Podemos acceder a un elemento concreto, indicando el **índice** de dicho elemento (es decir, la posición que ocupa dentro de la lista o tupla, contando desde la izquierda):"
   ]
  },
  {
   "cell_type": "code",
   "execution_count": null,
   "metadata": {
    "collapsed": true,
    "jupyter": {
     "outputs_hidden": true
    }
   },
   "outputs": [],
   "source": [
    "temperaturas[0]   # La primera posición corresponde al índice 0"
   ]
  },
  {
   "cell_type": "code",
   "execution_count": null,
   "metadata": {
    "collapsed": true,
    "jupyter": {
     "outputs_hidden": true
    }
   },
   "outputs": [],
   "source": [
    "heroes[4]"
   ]
  },
  {
   "cell_type": "code",
   "execution_count": null,
   "metadata": {
    "collapsed": true,
    "jupyter": {
     "outputs_hidden": true
    }
   },
   "outputs": [],
   "source": [
    "usuario[1]"
   ]
  },
  {
   "cell_type": "code",
   "execution_count": null,
   "metadata": {
    "collapsed": true,
    "jupyter": {
     "outputs_hidden": true
    }
   },
   "outputs": [],
   "source": [
    "temperaturas[1] = 27.0\n",
    "# Puedo asignar un valor a una posición cualquiera de una lista\n",
    "print(temperaturas)"
   ]
  },
  {
   "cell_type": "code",
   "execution_count": null,
   "metadata": {
    "collapsed": true,
    "jupyter": {
     "outputs_hidden": true
    }
   },
   "outputs": [],
   "source": [
    "temperaturas[0] = temperaturas[0] + 0.5\n",
    "# Incrementamos en 0.5 grados la primera temperatura de la lista\n",
    "print(temperaturas)"
   ]
  },
  {
   "cell_type": "markdown",
   "metadata": {},
   "source": [
    "También podemos conocer en cualquier momento el número total de elementos dentro de una lista o una tupla mediante la función predefinida **len**:"
   ]
  },
  {
   "cell_type": "code",
   "execution_count": null,
   "metadata": {
    "collapsed": true,
    "jupyter": {
     "outputs_hidden": true
    }
   },
   "outputs": [],
   "source": [
    "len(temperaturas)"
   ]
  },
  {
   "cell_type": "code",
   "execution_count": null,
   "metadata": {
    "collapsed": true,
    "jupyter": {
     "outputs_hidden": true
    }
   },
   "outputs": [],
   "source": [
    "len(usuario)"
   ]
  },
  {
   "cell_type": "markdown",
   "metadata": {},
   "source": [
    "---\n",
    "**¡Cuidado!** No podemos asignar valores a las posiciones de una tupla. Prueba a ejecutar este código:"
   ]
  },
  {
   "cell_type": "code",
   "execution_count": null,
   "metadata": {
    "collapsed": true,
    "jupyter": {
     "outputs_hidden": true
    }
   },
   "outputs": [],
   "source": [
    "usuario[0] = \"Marcos\" # Cambiemos el nombre del usuario"
   ]
  },
  {
   "cell_type": "markdown",
   "metadata": {},
   "source": [
    "Decimos que las tuplas son un **tipo inmutable**, lo que significa que una vez que hemos guardado un valor en una variable de este tipo, ¡ya no podremos cambiarlo!\n",
    "\n",
    "Lo que acaba de ocurrir es un **error en tiempo de ejecución**. Estos errores ocurren frecuentemente mientras estamos escribiendo y probando nuestros programas, y significan que no hemos hecho algo de la manera correcta. Cuando se produce uno de estos errores, el programa deja de ejecutarse. Cuando nuestro programa esté acabado y bien probado, no debería ocurrir ninguno de estos errores... Aunque ocasionalmente ocurre. Seguro que te suena esta ventana:\n",
    "\n",
    "![title](img001.png)\n"
   ]
  },
  {
   "cell_type": "markdown",
   "metadata": {},
   "source": [
    "### ¡Prueba tú!"
   ]
  },
  {
   "cell_type": "markdown",
   "metadata": {},
   "source": [
    "Los elementos de la lista *temperaturas* son números reales. Pero una lista puede contener elementos del tipo que quieras. Intenta definir una lista *usuarios*, en la que cada elemento sea una tupla *(nombre, apellido)*, como la tupla *usuario* que hemos definido anteriormente. Aquí tienes algunos pares nombre-apellido que puedes meter en la lista:\n",
    "* Mark Lenders\n",
    "* Oliver Atom\n",
    "* Benji Price"
   ]
  },
  {
   "cell_type": "code",
   "execution_count": null,
   "metadata": {
    "collapsed": true,
    "jupyter": {
     "outputs_hidden": true
    }
   },
   "outputs": [],
   "source": [
    "# Completa la instrucción siguiente:\n",
    "usuarios = "
   ]
  },
  {
   "cell_type": "markdown",
   "metadata": {},
   "source": [
    "## 4. Diccionarios <a name=\"diccionarios\"> </a>\n",
    "\n",
    "Existen más tipos como las listas y las tuplas, que permiten almacenar conjuntos de datos. Uno muy utilizado es el **diccionario**. En un diccionario, cada valor almacenado se asocia a una clave, de manera que para acceder a los **valores** se utilizan dichas **claves** (de forma parecida a como para acceder a los valores de una lista se utilizan los índices).\n"
   ]
  },
  {
   "cell_type": "markdown",
   "metadata": {},
   "source": [
    "Puedes pensar en un diccionario como si se tratara de una tabla con dos columnas. Por ejemplo, un diccionario podría almacenar las temperaturas medias de las capitales andaluzas, indexando dichos valores mediante los nombres de las capitales:\n",
    "\n",
    "|Clave|Valor|\n",
    "|---|---|\n",
    "|\"Almería\"|19.9|\n",
    "|\"Cádiz\"| 19.1|\n",
    "|\"Córdoba\"| 19.1|\n",
    "|\"Granada\"|16.6|\n",
    "|\"Jaén\"|18.2|\n",
    "|\"Huelva\"|19.0|\n",
    "|\"Málaga\"|19.8|\n",
    "|\"Sevilla\"|20.0|\n",
    "\n",
    "Lo cual se escribiría en Python de la siguiente manera:"
   ]
  },
  {
   "cell_type": "code",
   "execution_count": null,
   "metadata": {
    "collapsed": true,
    "jupyter": {
     "outputs_hidden": true
    }
   },
   "outputs": [],
   "source": [
    "temperatura_media = {\"Almería\": 19.9, \"Cádiz\": 19.1, \"Córdoba\": 19.1, \"Granada\": 16.6, \n",
    "                    \"Jaén\": 18.2, \"Huelva\": 19.0, \"Málaga\": 19.8, \"Sevilla\": 20.0}\n",
    "print(temperatura_media)"
   ]
  },
  {
   "cell_type": "markdown",
   "metadata": {},
   "source": [
    "Ahora podemos trabajar con los datos del diccionario de forma parecida a las listas, aunque usando las claves para acceder a los valores, en lugar de los índices."
   ]
  },
  {
   "cell_type": "code",
   "execution_count": null,
   "metadata": {
    "collapsed": true,
    "jupyter": {
     "outputs_hidden": true
    }
   },
   "outputs": [],
   "source": [
    "print(\"Temperatura anterior:\", temperatura_media['Sevilla'])\n",
    "temperatura_media['Sevilla'] += 1.0   # ¡Cambio climático!\n",
    "print(\"Temperatura actual:\", temperatura_media['Sevilla'])"
   ]
  },
  {
   "cell_type": "markdown",
   "metadata": {},
   "source": [
    "### ¡Prueba tú!\n",
    "\n",
    "Intenta definir un diccionario en el que las claves sean los usuarios que definiste en el ejercicio anterior, y los valores asociados sean las contraseñas de acceso a un sistema."
   ]
  },
  {
   "cell_type": "code",
   "execution_count": null,
   "metadata": {
    "collapsed": true,
    "jupyter": {
     "outputs_hidden": true
    }
   },
   "outputs": [],
   "source": [
    "# Completa la instrucción siguiente:\n",
    "contraseñas = "
   ]
  },
  {
   "cell_type": "markdown",
   "metadata": {},
   "source": [
    "## 5. Objetos <a name=\"objetos\"> </a>"
   ]
  },
  {
   "cell_type": "markdown",
   "metadata": {},
   "source": [
    "Si queremos añadir un elemento a la lista *temperaturas*, podemos hacerlo así:"
   ]
  },
  {
   "cell_type": "code",
   "execution_count": null,
   "metadata": {
    "collapsed": true,
    "jupyter": {
     "outputs_hidden": true
    }
   },
   "outputs": [],
   "source": [
    "temperaturas.append(29.2)  # añade el valor 29.2 al final de la lista\n",
    "print(temperaturas)\n",
    "print(len(temperaturas))"
   ]
  },
  {
   "cell_type": "markdown",
   "metadata": {},
   "source": [
    "Cuando una variable (*temperaturas*) puede ser usada como en el ejemplo anterior, escribiendo un punto (.) y a continuación invocando a una función (*append*), decimos que la variable es un **objeto**, y a la función en cuestión la llamamos **método**. La principal diferencia entre un método y una función es que el primero sólo se puede llamar si tenemos previamente un objeto del tipo adecuado. Por ejemplo, el método *append* sólo puede ser invocado sobre un objeto de tipo lista. \n",
    "\n",
    "Intentemos llamar a *append* como si fuese una función:"
   ]
  },
  {
   "cell_type": "code",
   "execution_count": null,
   "metadata": {
    "collapsed": true,
    "jupyter": {
     "outputs_hidden": true
    }
   },
   "outputs": [],
   "source": [
    "append(29.2)"
   ]
  },
  {
   "cell_type": "markdown",
   "metadata": {},
   "source": [
    "Puedes ver todos los métodos que tiene un objeto mediante la función predefinida **dir**:"
   ]
  },
  {
   "cell_type": "code",
   "execution_count": null,
   "metadata": {
    "collapsed": true,
    "jupyter": {
     "outputs_hidden": true
    }
   },
   "outputs": [],
   "source": [
    "dir(temperaturas)"
   ]
  },
  {
   "cell_type": "markdown",
   "metadata": {},
   "source": [
    "Y si quieres una descripción más detallada de cada método, puedes usar la función **help**, que ya hemos usado anteriormente."
   ]
  },
  {
   "cell_type": "code",
   "execution_count": null,
   "metadata": {
    "collapsed": true,
    "jupyter": {
     "outputs_hidden": true
    }
   },
   "outputs": [],
   "source": [
    "help(temperaturas)"
   ]
  },
  {
   "cell_type": "markdown",
   "metadata": {},
   "source": [
    "### ¡Prueba tú!"
   ]
  },
  {
   "cell_type": "markdown",
   "metadata": {},
   "source": [
    "Intenta utilizar algunos de los métodos del objeto *temperaturas*:"
   ]
  },
  {
   "cell_type": "code",
   "execution_count": null,
   "metadata": {
    "collapsed": true,
    "jupyter": {
     "outputs_hidden": true
    }
   },
   "outputs": [],
   "source": [
    "\n",
    "\n",
    "\n"
   ]
  },
  {
   "cell_type": "markdown",
   "metadata": {},
   "source": [
    "## 6. Control del flujo de ejecución <a name=\"control\"> </a>"
   ]
  },
  {
   "cell_type": "markdown",
   "metadata": {},
   "source": [
    "Podemos utilizar la instrucción **for** para recorrer los elementos de una lista o una tupla. Llamamos a esto un **bucle**."
   ]
  },
  {
   "cell_type": "code",
   "execution_count": null,
   "metadata": {
    "collapsed": true,
    "jupyter": {
     "outputs_hidden": true
    }
   },
   "outputs": [],
   "source": [
    "for temperatura in temperaturas:    # Se puede leer así: para cada valor \"temperatura\" en la lista \"temperaturas\"\n",
    "    print(\"Temperatura:\", temperatura)"
   ]
  },
  {
   "cell_type": "markdown",
   "metadata": {},
   "source": [
    "En el código anterior, la instrucción que aparece indentada se ejecuta una vez para cada elemento de la lista *temperaturas*. En cada ejecución, la variable *temperatura* almacena un elemento distinto de la lista, comenzando por el primero y pasando por cada elemento secuencialmente. Date cuenta también de que la función predefinida *print* se puede usar con varios parámetros, en cuyo caso mostrará cada uno de ellos por pantalla.\n",
    "\n",
    "Veamos otro ejemplo de bucle:"
   ]
  },
  {
   "cell_type": "code",
   "execution_count": null,
   "metadata": {
    "collapsed": true,
    "jupyter": {
     "outputs_hidden": true
    }
   },
   "outputs": [],
   "source": [
    "suma = 0\n",
    "for temperatura in temperaturas:\n",
    "    suma += temperatura\n",
    "    # El operador += almacena en \"suma\" el resultado de sumar \"temperatura\" al valor anterior de \"suma\"\n",
    "print(\"La temperatura media en la semana ha sido\", suma / len(temperaturas), \"grados.\")"
   ]
  },
  {
   "cell_type": "markdown",
   "metadata": {},
   "source": [
    "Aunque realmente no hace falta hacer un bucle para sumar los elementos de una lista, ya que esto mismo podemos hacerlo en Python con la función predefinida **sum**."
   ]
  },
  {
   "cell_type": "code",
   "execution_count": null,
   "metadata": {
    "collapsed": true,
    "jupyter": {
     "outputs_hidden": true
    }
   },
   "outputs": [],
   "source": [
    "print(\"La temperatura media en la semana ha sido\", sum(temperaturas) / len(temperaturas), \"grados.\")"
   ]
  },
  {
   "cell_type": "markdown",
   "metadata": {},
   "source": [
    "La instrucción *for* es una instrucción de **control del flujo de ejecución**, pues permite que la secuencia en que se van ejecutando las distintas instrucciones varíe con respecto a la ejecución esperada (recordemos que, por defecto, las instrucciones se van ejecutando una tras otra, en el orden en que las hemos escrito, y una sola vez). Otra instrucción que también altera el flujo normal de ejecución es la instrucción **if**. Veamos un ejemplo:"
   ]
  },
  {
   "cell_type": "code",
   "execution_count": null,
   "metadata": {
    "collapsed": true,
    "jupyter": {
     "outputs_hidden": true
    }
   },
   "outputs": [],
   "source": [
    "def saluda(nombre, hora):\n",
    "    if hora < 12:     # Si el parámetro \"hora\" es menor de 12, se ejecuta el siguiente bloque de instrucciones\n",
    "        print(\"Buenos días, \" + nombre)\n",
    "    elif hora < 21:   # En otro caso, si el parámetro \"hora\" es menor de 21, se ejecuta el siguiente bloque de instrucciones\n",
    "        print(\"Buenas tardes, \" + nombre)\n",
    "    else:           # En cualquier otro caso, se ejecuta el siguiente bloque de instrucciones\n",
    "        print(\"Buenas noches, \" + nombre)\n",
    "\n",
    "saluda(\"Fermín\", 11)\n",
    "saluda(\"Fermín\", 16)\n",
    "saluda(\"Fermín\", 23)\n"
   ]
  },
  {
   "cell_type": "markdown",
   "metadata": {},
   "source": [
    "Observa que las **palabras clave** que se usan son **if**, **elif** y **else**, y que a continuación de las dos primeras se escribe una expresión lógica (es decir, una expresión cuyo resultado es de tipo lógico: verdadero o falso). Las instrucciones que aparecen tras la palabra **if** sólo se ejecutan si la expresión correspondiente se evalúa como verdadera. Las instrucciones que aparecen tras la palabra **elif** sólo se ejecutan si no se han ejecutado las anteriores, y si la expresión correspondiente se evalúa como verdadera. Las instrucciones que aparecen tras la palabra **else** sólo se ejecutan si no se han ejecutado ninguna de las anteriores. \n",
    "\n",
    "Aquí tienes otros ejemplos:"
   ]
  },
  {
   "cell_type": "code",
   "execution_count": null,
   "metadata": {
    "collapsed": true,
    "jupyter": {
     "outputs_hidden": true
    }
   },
   "outputs": [],
   "source": [
    "temperatura_actual = temperaturas[6]\n",
    "if temperatura_actual < 0:  # Si la temperatura es menor de cero grados\n",
    "    print(\"¡Cuidado! Riesgo de congelación.\")\n"
   ]
  },
  {
   "cell_type": "code",
   "execution_count": null,
   "metadata": {
    "collapsed": true,
    "jupyter": {
     "outputs_hidden": true
    }
   },
   "outputs": [],
   "source": [
    "# Si el primer elemento de la tupla \"usuario\" es igual a \"Mark\" y el segundo elemento es igual a \"Lenders\"\n",
    "if usuario[0] == \"Mark\" and usuario[1] == \"Lenders\": \n",
    "    print(\"Hola, Mark. Te estaba esperando.\")\n",
    "else:  # En otro caso\n",
    "    print(\"Hola, ¿nos conocemos?\")\n"
   ]
  },
  {
   "cell_type": "code",
   "execution_count": null,
   "metadata": {
    "collapsed": true,
    "jupyter": {
     "outputs_hidden": true
    }
   },
   "outputs": [],
   "source": [
    "def acceso_restringido(usuario):\n",
    "    if usuario[0] == \"Mark\" and usuario[1] == \"Lenders\": \n",
    "        print(\"Hola, Mark. Te estaba esperando.\")\n",
    "    elif usuario[0] == \"Oliver\" and usuario[1] == \"Atom\": \n",
    "        print(\"Hola, Oliver. Te estaba esperando.\")\n",
    "    elif usuario[0] == \"Benji\" and usuario[1] == \"Price\": \n",
    "        print(\"Hola, Benji. Te estaba esperando.\")\n",
    "    else:  \n",
    "        print(\"Hola, ¿nos conocemos?\")\n"
   ]
  },
  {
   "cell_type": "markdown",
   "metadata": {},
   "source": [
    "Para escribir las expresiones lógicas se usan distintos **operadores lógicos** (como el operador **and**) y **operadores relacionales** (como los operadores **>** o **==**). Iremos viendo más operadores de estos tipos a medida que los vayamos necesitando."
   ]
  },
  {
   "cell_type": "markdown",
   "metadata": {},
   "source": [
    "### ¡Prueba tú!"
   ]
  },
  {
   "cell_type": "markdown",
   "metadata": {},
   "source": [
    "Escribe un bucle *for* para llamar a la función *acceso_restringido* pasándole cada uno de los elementos de la lista *usuarios*."
   ]
  },
  {
   "cell_type": "code",
   "execution_count": null,
   "metadata": {
    "collapsed": true,
    "jupyter": {
     "outputs_hidden": true
    }
   },
   "outputs": [],
   "source": [
    "\n",
    "\n"
   ]
  },
  {
   "cell_type": "markdown",
   "metadata": {},
   "source": [
    "## 7. Módulos y paquetes <a name=\"modulos\"> </a>"
   ]
  },
  {
   "cell_type": "markdown",
   "metadata": {},
   "source": [
    "Además de las funciones predefinidas, hay muchas otras cosas que se pueden hacer con Python sin necesidad de implementar nosotros ninguna función ni tener que descargar o instalar nada en el ordenador. Eso sí, para poder hacer uso de estas funcionalidades incluidas en Python, es necesario **importar** el módulo o módulos donde están implementadas. Un **módulo** es cada uno de los ficheros con extensión .py en los que están escritos los programas en Python. Los módulos están agrupados en **paquetes**, que son parecidos a las carpetas del explorador de archivos de Windows.\n",
    "\n",
    "Por ejemplo, si queremos generar números aleatorios, podemos usar el módulo **random**. Antes de hacerlo, es necesario importarlo. Prueba a ejecutar varias veces el siguiente código y verás como cada vez se genera un número distinto:"
   ]
  },
  {
   "cell_type": "code",
   "execution_count": null,
   "metadata": {
    "collapsed": true,
    "jupyter": {
     "outputs_hidden": true
    }
   },
   "outputs": [],
   "source": [
    "import random\n",
    "\n",
    "print(random.randint(1, 10))"
   ]
  },
  {
   "cell_type": "markdown",
   "metadata": {},
   "source": [
    "Fíjate que para llamar a la función randint, que está definida dentro del módulo random, debemos escribir *random.randint(...)*. Si vamos a usar muy a menudo la función en nuestro código, también podemos importarla así:"
   ]
  },
  {
   "cell_type": "code",
   "execution_count": null,
   "metadata": {
    "collapsed": true,
    "jupyter": {
     "outputs_hidden": true
    }
   },
   "outputs": [],
   "source": [
    "from random import randint\n",
    "\n",
    "print(randint(1, 10))"
   ]
  },
  {
   "cell_type": "markdown",
   "metadata": {},
   "source": [
    "De esta manera ya no es necesario indicar la ubicación de la función cada vez que la llamemos. Aunque es más cómodo, no es del todo recomendable, como veremos más adelante.\n",
    "\n",
    "¿Y si queremos generar, pongamos, 20 números aleatorios, entre 1 y 10? Podemos hacerlo con la instrucción **for**, la misma que utilizamos antes para recorrer los elementos de una lista:"
   ]
  },
  {
   "cell_type": "code",
   "execution_count": null,
   "metadata": {
    "collapsed": true,
    "jupyter": {
     "outputs_hidden": true
    }
   },
   "outputs": [],
   "source": [
    "numeros = []\n",
    "for i in range(20):  # la función predefinida \"range\" devuelve los números enteros del 0 al 19.\n",
    "    numeros.append(randint(1, 10))\n",
    "print(numeros)"
   ]
  },
  {
   "cell_type": "markdown",
   "metadata": {},
   "source": [
    "En el siguiente ejemplo, usamos el módulo *datetime*, que nos permite, entre otras cosas, saber la hora actual en que se está ejecutando el programa."
   ]
  },
  {
   "cell_type": "code",
   "execution_count": null,
   "metadata": {
    "collapsed": true,
    "jupyter": {
     "outputs_hidden": true
    }
   },
   "outputs": [],
   "source": [
    "# El módulo se llama \"datetime\", y dentro hay definido un objeto que también se llama \"datetime\"\n",
    "from datetime import datetime\n",
    "hora_actual = datetime.now()  # El método now() devuelve un objeto de tipo datetime\n",
    "# El objeto hora_actual tiene un atributo hour que indica la hora actual (de 0 a 23)\n",
    "saluda(\"Fermín\", hora_actual.hour)"
   ]
  },
  {
   "cell_type": "markdown",
   "metadata": {},
   "source": [
    "En el ejemplo anterior, cuando escribimos *hora_actual.hour* estamos accediendo a un **atributo**, llamado *hour*, del objeto *hora_actual*. Por tanto, los objetos tienen, además de métodos, atributos, los cuales son parecidos a las variables (al igual que los métodos eran parecidos a las funciones). La manera de diferenciar si estamos accediendo a un atributo o llamando a un método es que en el segundo caso usamos los paréntesis."
   ]
  },
  {
   "cell_type": "markdown",
   "metadata": {},
   "source": [
    "Con los distintos módulos existentes para Python se puede hacer prácticamente de todo. Por ejemplo, dibujar gráficas de todo tipo, mediante la librería **matplotlib**. Cuando hablamos de una **librería** nos referimos a un conjunto de módulos relacionados entre sí por el tipo de funcionalidad que ofrecen. Generalmente, los módulos de una librería están agrupados dentro de un paquete, como es el caso de *matplotlib*."
   ]
  },
  {
   "cell_type": "code",
   "execution_count": null,
   "metadata": {
    "collapsed": true,
    "jupyter": {
     "outputs_hidden": true
    }
   },
   "outputs": [],
   "source": [
    "# Para que las gráficas se muestren sobre el propio notebook, en lugar de en una ventana, hay que escribir:\n",
    "%matplotlib notebook    \n",
    "\n",
    "from matplotlib import pyplot  # pyplot es el módulo que permite dibujar gráficas matemáticas\n",
    "\n",
    "x = []   # \"x\" es una lista vacía, es decir, aún no contiene elementos\n",
    "y = []   # \"y\" también es una lista vacía\n",
    "for i in range(20):\n",
    "    x.append(randint(-50, 50))\n",
    "    y.append(randint(-50, 50))\n",
    "\n",
    "# El tercer parámetro sirve para especificar el formato de la representación gráfica de los datos\n",
    "pyplot.plot(x, y, \"o\")"
   ]
  },
  {
   "cell_type": "markdown",
   "metadata": {},
   "source": [
    "Todos los paquetes, módulos y librerías más usados están ampliamente documentados en Internet: sólo tienes que hacer una consulta a tu buscador favorito. Por ejemplo, si quieres ver qué otras cosas se pueden hacer con la función *plot*, puedes verlo aquí: https://matplotlib.org/api/pyplot_api.html#matplotlib.pyplot.plot"
   ]
  },
  {
   "cell_type": "markdown",
   "metadata": {},
   "source": [
    "### ¡Prueba tú!"
   ]
  },
  {
   "cell_type": "markdown",
   "metadata": {},
   "source": [
    "Intenta completar el siguiente código para mostrar una gráfica de la función coseno para los valores de la x contenidos en el intervalo \\[-10,10\\]. Busca documentación sobre el módulo **math** para ver cómo calcular el coseno de un número [prueba buscando en Google \"math Python 3\"](https://www.google.es/search?q=math+Python+3)."
   ]
  },
  {
   "cell_type": "code",
   "execution_count": null,
   "metadata": {
    "collapsed": true,
    "jupyter": {
     "outputs_hidden": true
    }
   },
   "outputs": [],
   "source": [
    "%matplotlib notebook    \n",
    "import math\n",
    "\n",
    "lista_x = []  # En esta lista guardaremos los valores para los que vamos a calcular el coseno\n",
    "for i in range(-100, 101):\n",
    "    pass # ESCRIBE AQUÍ una instrucción para \"añadir a lista_x el valor i / 10\"\n",
    "    \n",
    "lista_y = []  # En esta lista guardaremos los cosenos de los valores anteriores\n",
    "for x in lista_x:\n",
    "    pass # ESCRIBE AQUÍ una instrucción para \"añadir a lista_y el valor coseno(x)\"\n",
    "    \n",
    "\n",
    "# ESCRIBE AQUÍ una instrucción para dibujar la gráfica correspondiente a las coordenadas lista_x y lista_y.\n",
    "# Elige las opciones de formato de la representación gráfica que quieras\n",
    "\n",
    "\n",
    "\n"
   ]
  },
  {
   "cell_type": "markdown",
   "metadata": {},
   "source": [
    "Cuando construimos una lista a partir de otra, como ocurre con *lista_y* en el código que acabas de completar, podemos hacerlo de una forma muy compacta llamada **definición de listas por comprensión**. Observa el siguiente ejemplo:"
   ]
  },
  {
   "cell_type": "code",
   "execution_count": null,
   "metadata": {
    "collapsed": true,
    "jupyter": {
     "outputs_hidden": true
    }
   },
   "outputs": [],
   "source": [
    "lista_y = [math.cos(x) for x in lista_x]\n",
    "print(lista_y)"
   ]
  },
  {
   "cell_type": "markdown",
   "metadata": {},
   "source": [
    "## 8. Ficheros <a name=\"ficheros\"> </a>"
   ]
  },
  {
   "cell_type": "markdown",
   "metadata": {},
   "source": [
    "Es muy habitual trabajar con **ficheros** (quizás estés acostumbrado a referirte a ellos como \"archivos\", que es un sinónimo). Aunque los ficheros pueden contener todo tipo de datos, nosotros trabajaremos con ficheros de texto. Al igual que haces tú mismo cuando quieres trabajar con un documento en el ordenador, para trabajar con un fichero en Python primero tenemos que abrirlo; después podemos leer o escribir datos en el mismo, y finalmente hemos de cerrarlo. Aquí tienes un pequeño ejemplo que abre un fichero de texto y muestra su contenido en pantalla:\n"
   ]
  },
  {
   "cell_type": "code",
   "execution_count": null,
   "metadata": {
    "collapsed": true,
    "jupyter": {
     "outputs_hidden": true
    }
   },
   "outputs": [],
   "source": [
    "with open(\"prueba.txt\") as f:\n",
    "    for linea in f:\n",
    "        print(linea)\n",
    "\n",
    "# El archivo se cierra automáticamente cuando acaban las instrucciones escritas dentro de la instrucción \"with\""
   ]
  },
  {
   "cell_type": "markdown",
   "metadata": {},
   "source": [
    "Si el código anterior ocasiona un error al ser ejecutado, asegúrate de que tienes el archivo *prueba.txt* en la misma carpeta desde la que estás ejecutando este notebook.\n",
    "\n",
    "También es posible que al ejecutar Python te devuelva un \"error de codificación\", o que te muestre el contenido del fichero de texto con algunos errores (algunos caracteres aparecen de manera extraña). Esto ocurre porque existen múltiples maneras de representar los caracteres de un fichero de texto en notación binaria. Es lo que se conoce como **codificación de caracteres**. Cada sistema operativo tiene su codificación por defecto, de manera que las líneas que acabamos de escribir para leer un fichero de texto dan por hecho que el fichero de texto está expresado en dicha codificación por defecto (la cuál puede no ser la correcta en tu caso). Para evitar estos problemas, siempre que trabajemos con ficheros de texto en la asignatura estableceremos que los ficheros de texto estén en codificación **UTF-8**. Esto se consigue añadiendo un parámetro a la función open:"
   ]
  },
  {
   "cell_type": "code",
   "execution_count": null,
   "metadata": {
    "collapsed": true,
    "jupyter": {
     "outputs_hidden": true
    }
   },
   "outputs": [],
   "source": [
    "with open(\"prueba.txt\", encoding='utf-8') as f:\n",
    "    for linea in f:\n",
    "        print(linea)\n",
    "\n",
    "# El archivo se cierra automáticamente cuando acaban las instrucciones escritas dentro de la instrucción \"with\""
   ]
  },
  {
   "cell_type": "markdown",
   "metadata": {},
   "source": [
    "## 9. Función principal <a name=\"principal\"> </a>"
   ]
  },
  {
   "cell_type": "markdown",
   "metadata": {},
   "source": [
    "Cuando escribimos nuestro código en un fichero de texto con extensión \".py\", estamos definiendo un módulo. Otros programadores podrán importar nuestro módulo, y hacer uso en sus programas de las funciones que hayamos definido en el mismo, o de las variables y objetos que aparezcan definidos sin indentar.\n",
    "\n",
    "Sin embargo, algunas veces queremos que el código que hemos escrito sea ejecutado por un usuario; es decir, estamos definiendo un **programa ejecutable**. En este caso, el usuario puede ejecutar el programa con el siguiente comando, escrito desde el **terminal** o **ventana de comandos** del sistema operativo:\n",
    "\n",
    "<pre>\n",
    "python nombre_fichero.py\n",
    "</pre>\n",
    "\n",
    "Cuando un programa es ejecutable, debe existir un **punto de entrada**. Un punto de entrada es un conjunto de instrucciones que se ejecutarán cuando se lance el programa. En Python, estas instrucciones se deben escribir dentro de un bloque **if** como el que se muestra a continuación:"
   ]
  },
  {
   "cell_type": "code",
   "execution_count": null,
   "metadata": {
    "collapsed": true,
    "jupyter": {
     "outputs_hidden": true
    }
   },
   "outputs": [],
   "source": [
    "if __name__ == '__main__':\n",
    "    # Aquí vienen las instrucciones que definen el punto de entrada del programa\n",
    "    hora_actual = datetime.now() \n",
    "    saluda(\"Fermín\", hora_actual.hour)\n",
    "    "
   ]
  },
  {
   "cell_type": "markdown",
   "metadata": {},
   "source": [
    "A veces, el conjunto de instrucciones que definen el punto de entrada se escribe dentro de una función, a la que se le suele dar el nombre **main**. Esto en Python no es obligatorio, aunque sí lo es en otros lenguajes de programación. Si queremos hacerlo así, entonces el programa ejecutable anterior quedaría como sigue (se muestra a continuación el programa completo, con las sentencias *import* y las definiciones de funciones necesarias):\n"
   ]
  },
  {
   "cell_type": "code",
   "execution_count": null,
   "metadata": {
    "collapsed": true,
    "jupyter": {
     "outputs_hidden": true
    }
   },
   "outputs": [],
   "source": [
    "from datetime import datetime\n",
    "\n",
    "\n",
    "def main():\n",
    "    hora_actual = datetime.now() \n",
    "    saluda(\"Fermín\", hora_actual.hour)\n",
    "\n",
    "\n",
    "def saluda(nombre, hora):\n",
    "    if hora < 12:     # Si el parámetro \"hora\" es menor de 12, se ejecuta el siguiente bloque de instrucciones\n",
    "        print(\"Buenos días, \" + nombre)\n",
    "    elif hora < 21:   # En otro caso, si el parámetro \"hora\" es menor de 21, se ejecuta el siguiente bloque de instrucciones\n",
    "        print(\"Buenas tardes, \" + nombre)\n",
    "    else:           # En cualquier otro caso, se ejecuta el siguiente bloque de instrucciones\n",
    "        print(\"Buenas noches, \" + nombre)\n",
    "\n",
    "\n",
    "if __name__ == '__main__':\n",
    "    main()\n",
    " "
   ]
  },
  {
   "cell_type": "markdown",
   "metadata": {},
   "source": [
    "### ¡Prueba tú!"
   ]
  },
  {
   "cell_type": "markdown",
   "metadata": {},
   "source": [
    "Escribe el código anterior en un fichero de texto llamado \"saluda.py\", y trata de ejecutarlo desde el terminal o ventana de comandos de tu sistema operativo."
   ]
  },
  {
   "cell_type": "markdown",
   "metadata": {},
   "source": [
    "---\n",
    "\n",
    "Ya sabes lo básico para entender programas simples escritos en Python y para escribir los tuyos propios. **¡Feliz programación!**"
   ]
  },
  {
   "cell_type": "code",
   "execution_count": null,
   "metadata": {
    "collapsed": true,
    "jupyter": {
     "outputs_hidden": true
    }
   },
   "outputs": [],
   "source": [
    "# ¿Conoces el \"Zen de Python\"?\n",
    "import this"
   ]
  }
 ],
 "metadata": {
  "anaconda-cloud": {},
  "celltoolbar": "Raw Cell Format",
  "kernelspec": {
   "display_name": "Python 3",
   "language": "python",
   "name": "python3"
  },
  "language_info": {
   "codemirror_mode": {
    "name": "ipython",
    "version": 3
   },
   "file_extension": ".py",
   "mimetype": "text/x-python",
   "name": "python",
   "nbconvert_exporter": "python",
   "pygments_lexer": "ipython3",
   "version": "3.7.4"
  },
  "nbpresent": {
   "slides": {
    "1390653e-bdb6-444a-b611-39c60ffb77a1": {
     "id": "1390653e-bdb6-444a-b611-39c60ffb77a1",
     "prev": "5c2c8cc8-3676-4c06-b94c-d3f866ade69b",
     "regions": {
      "620813b3-9326-41e6-9d30-f5ac4f858225": {
       "attrs": {
        "height": 0.8,
        "width": 0.8,
        "x": 0.1,
        "y": 0.1
       },
       "content": {
        "cell": "86423d42-e808-47e6-b1a7-e925e195f821",
        "part": "whole"
       },
       "id": "620813b3-9326-41e6-9d30-f5ac4f858225"
      }
     }
    },
    "21036f68-a492-4532-a832-b213435c0ad2": {
     "id": "21036f68-a492-4532-a832-b213435c0ad2",
     "prev": "2c1c7f11-e5ee-4a25-8975-f0b033ba739a",
     "regions": {
      "a3908958-0784-4faa-ac97-b9325abe8ede": {
       "attrs": {
        "height": 0.8,
        "width": 0.8,
        "x": 0.1,
        "y": 0.1
       },
       "content": {
        "cell": "9aa64747-dc13-4bd9-bf26-73606628ad1c",
        "part": "whole"
       },
       "id": "a3908958-0784-4faa-ac97-b9325abe8ede"
      }
     }
    },
    "2c1c7f11-e5ee-4a25-8975-f0b033ba739a": {
     "id": "2c1c7f11-e5ee-4a25-8975-f0b033ba739a",
     "prev": "f3f10f50-4cad-4149-b308-c66e6a493a72",
     "regions": {
      "9e2d820e-ec17-4915-b960-0e0d5f640379": {
       "attrs": {
        "height": 0.8,
        "width": 0.8,
        "x": 0.1,
        "y": 0.1
       },
       "content": {
        "cell": "0281a659-abae-4cb9-b30f-b552b9db399e",
        "part": "whole"
       },
       "id": "9e2d820e-ec17-4915-b960-0e0d5f640379"
      }
     }
    },
    "30509a9a-dbd8-4dbd-9fab-852a7266d894": {
     "id": "30509a9a-dbd8-4dbd-9fab-852a7266d894",
     "prev": "8b078b7a-c2c6-4129-a19f-2a4f5c4a26f3",
     "regions": {
      "7baa4379-8f84-4d8f-b002-5a5ffd051489": {
       "attrs": {
        "height": 0.8,
        "width": 0.8,
        "x": 0.1,
        "y": 0.1
       },
       "content": {
        "cell": "14d1a927-b37f-4323-9404-17d453f3b487",
        "part": "whole"
       },
       "id": "7baa4379-8f84-4d8f-b002-5a5ffd051489"
      }
     }
    },
    "42d1bd80-265e-4acf-bbc1-b202afddade3": {
     "id": "42d1bd80-265e-4acf-bbc1-b202afddade3",
     "prev": "9bfe6214-4631-45b5-a05e-8923f178bb57",
     "regions": {
      "f2340145-4108-4fed-a0bc-4b91ca6c10ae": {
       "attrs": {
        "height": 0.8,
        "width": 0.8,
        "x": 0.1,
        "y": 0.1
       },
       "content": {
        "cell": "80be6133-d85a-4e43-9964-6578abcbaaac",
        "part": "whole"
       },
       "id": "f2340145-4108-4fed-a0bc-4b91ca6c10ae"
      }
     }
    },
    "5c2c8cc8-3676-4c06-b94c-d3f866ade69b": {
     "id": "5c2c8cc8-3676-4c06-b94c-d3f866ade69b",
     "prev": "6c4bc874-f3fc-472c-a81c-cd415b91c24b",
     "regions": {
      "e1de7ab6-4ef2-4b14-92d7-b174bf32806e": {
       "attrs": {
        "height": 0.8,
        "width": 0.8,
        "x": 0.1,
        "y": 0.1
       },
       "content": {
        "cell": "ae8725fa-30f7-4d7f-a2c2-5f86953d730b",
        "part": "whole"
       },
       "id": "e1de7ab6-4ef2-4b14-92d7-b174bf32806e"
      }
     }
    },
    "5cab5674-74dc-4378-93d7-eaa79e90cdae": {
     "id": "5cab5674-74dc-4378-93d7-eaa79e90cdae",
     "prev": "ba274d18-2760-4e55-ad47-2727b824fd00",
     "regions": {
      "2178d7cf-bf1e-4850-95a2-1509f15febfa": {
       "attrs": {
        "height": 0.8,
        "width": 0.8,
        "x": 0.1,
        "y": 0.1
       },
       "content": {
        "cell": "5d433d13-f44a-45bb-91fd-406f60b33b67",
        "part": "whole"
       },
       "id": "2178d7cf-bf1e-4850-95a2-1509f15febfa"
      }
     }
    },
    "638df7e1-84d1-4fd4-a15c-c94b731d1bea": {
     "id": "638df7e1-84d1-4fd4-a15c-c94b731d1bea",
     "prev": "b9dddf99-da24-46e1-81d4-8ac33b6fc3a3",
     "regions": {
      "deba8b1f-d997-4426-8f1b-978df7f19b41": {
       "attrs": {
        "height": 0.8,
        "width": 0.8,
        "x": 0.1,
        "y": 0.1
       },
       "content": {
        "cell": "7adaaf8f-a83e-456b-b99a-d3b3d4cb6d1a",
        "part": "whole"
       },
       "id": "deba8b1f-d997-4426-8f1b-978df7f19b41"
      }
     }
    },
    "6bda9eb4-0724-4e53-9971-131d0cb5f9e2": {
     "id": "6bda9eb4-0724-4e53-9971-131d0cb5f9e2",
     "prev": "ee33e624-cd65-4b8c-b28b-c95623a56dbf",
     "regions": {
      "feffbbd2-27d1-4318-8359-7d57583ee2bc": {
       "attrs": {
        "height": 0.8,
        "width": 0.8,
        "x": 0.1,
        "y": 0.1
       },
       "content": {
        "cell": "8dce188c-36b7-41fa-9020-b5cb5502e452",
        "part": "whole"
       },
       "id": "feffbbd2-27d1-4318-8359-7d57583ee2bc"
      }
     }
    },
    "6c4bc874-f3fc-472c-a81c-cd415b91c24b": {
     "id": "6c4bc874-f3fc-472c-a81c-cd415b91c24b",
     "prev": null,
     "regions": {
      "c9eac7e8-d033-4b03-8bf7-abd58ffe8d41": {
       "attrs": {
        "height": 0.8,
        "width": 0.8,
        "x": 0.1,
        "y": 0.1
       },
       "content": {
        "cell": "71219fc3-c9cb-4700-9f0b-ab38b1b223da",
        "part": "whole"
       },
       "id": "c9eac7e8-d033-4b03-8bf7-abd58ffe8d41"
      }
     }
    },
    "6d7ab34f-9d99-4c74-9877-27b25abc73f0": {
     "id": "6d7ab34f-9d99-4c74-9877-27b25abc73f0",
     "prev": "febe7de9-9362-4079-bfe9-2d4dfddf00e2",
     "regions": {
      "2ee252de-db5f-43e7-b4b7-7f59bba29962": {
       "attrs": {
        "height": 0.8,
        "width": 0.8,
        "x": 0.1,
        "y": 0.1
       },
       "content": {
        "cell": "85d1ab90-cc65-4935-808b-a6f57ecc892e",
        "part": "whole"
       },
       "id": "2ee252de-db5f-43e7-b4b7-7f59bba29962"
      }
     }
    },
    "7ea582c3-439d-4ec2-9f27-dea18bcacc31": {
     "id": "7ea582c3-439d-4ec2-9f27-dea18bcacc31",
     "prev": "f0727a74-61a1-48c1-94a5-3e7490c29f0b",
     "regions": {
      "652960af-b61f-4c36-b122-3eacd714867b": {
       "attrs": {
        "height": 0.8,
        "width": 0.8,
        "x": 0.1,
        "y": 0.1
       },
       "content": {
        "cell": "86172e20-fe16-447d-859f-24a81e563011",
        "part": "whole"
       },
       "id": "652960af-b61f-4c36-b122-3eacd714867b"
      }
     }
    },
    "8b078b7a-c2c6-4129-a19f-2a4f5c4a26f3": {
     "id": "8b078b7a-c2c6-4129-a19f-2a4f5c4a26f3",
     "prev": "5cab5674-74dc-4378-93d7-eaa79e90cdae",
     "regions": {
      "dce1e605-9342-414d-b8c6-7dcb922fbf47": {
       "attrs": {
        "height": 0.8,
        "width": 0.8,
        "x": 0.1,
        "y": 0.1
       },
       "content": {
        "cell": "ee1bdf03-6e13-4f1f-9dc9-22d4e344fdba",
        "part": "whole"
       },
       "id": "dce1e605-9342-414d-b8c6-7dcb922fbf47"
      }
     }
    },
    "999513ad-b53e-4d84-b9ef-ed37967f74d6": {
     "id": "999513ad-b53e-4d84-b9ef-ed37967f74d6",
     "prev": "638df7e1-84d1-4fd4-a15c-c94b731d1bea",
     "regions": {
      "2e85c1b2-3c30-413e-9b0f-141281da3a2a": {
       "attrs": {
        "height": 0.8,
        "width": 0.8,
        "x": 0.1,
        "y": 0.1
       },
       "content": {
        "cell": "998dc7f5-ab6d-4fb8-866f-4fa96a06aaaa",
        "part": "whole"
       },
       "id": "2e85c1b2-3c30-413e-9b0f-141281da3a2a"
      }
     }
    },
    "9add3d79-8621-4167-8e1d-d4ae48fba71b": {
     "id": "9add3d79-8621-4167-8e1d-d4ae48fba71b",
     "prev": "7ea582c3-439d-4ec2-9f27-dea18bcacc31",
     "regions": {
      "d5f4537e-4d8c-4179-b14b-6c475f50b04e": {
       "attrs": {
        "height": 0.8,
        "width": 0.8,
        "x": 0.1,
        "y": 0.1
       },
       "content": {
        "cell": "9659b1c1-9aed-4d71-b830-4a60d408ad71",
        "part": "whole"
       },
       "id": "d5f4537e-4d8c-4179-b14b-6c475f50b04e"
      }
     }
    },
    "9bfe6214-4631-45b5-a05e-8923f178bb57": {
     "id": "9bfe6214-4631-45b5-a05e-8923f178bb57",
     "prev": "30509a9a-dbd8-4dbd-9fab-852a7266d894",
     "regions": {
      "aac53254-d149-49f2-8f92-670c6f2714bb": {
       "attrs": {
        "height": 0.8,
        "width": 0.8,
        "x": 0.1,
        "y": 0.1
       },
       "content": {
        "cell": "c71a78d7-9d0e-4825-9c84-9998f971317d",
        "part": "whole"
       },
       "id": "aac53254-d149-49f2-8f92-670c6f2714bb"
      }
     }
    },
    "b9dddf99-da24-46e1-81d4-8ac33b6fc3a3": {
     "id": "b9dddf99-da24-46e1-81d4-8ac33b6fc3a3",
     "prev": "1390653e-bdb6-444a-b611-39c60ffb77a1",
     "regions": {
      "0b31dbb4-f15b-4a16-9420-c5dc8ed4e871": {
       "attrs": {
        "height": 0.8,
        "width": 0.8,
        "x": 0.1,
        "y": 0.1
       },
       "content": {
        "cell": "d0569bb0-fad8-48b7-8d48-0066bfb90401",
        "part": "whole"
       },
       "id": "0b31dbb4-f15b-4a16-9420-c5dc8ed4e871"
      }
     }
    },
    "ba274d18-2760-4e55-ad47-2727b824fd00": {
     "id": "ba274d18-2760-4e55-ad47-2727b824fd00",
     "prev": "ed47079d-58cf-4b87-a9fa-a709d8a7c3c6",
     "regions": {
      "13000b51-bd66-4fb5-970b-20bfad440880": {
       "attrs": {
        "height": 0.8,
        "width": 0.8,
        "x": 0.1,
        "y": 0.1
       },
       "content": {
        "cell": "f6847886-4044-43a7-9edd-f18efddcb7a9",
        "part": "whole"
       },
       "id": "13000b51-bd66-4fb5-970b-20bfad440880"
      }
     }
    },
    "ed47079d-58cf-4b87-a9fa-a709d8a7c3c6": {
     "id": "ed47079d-58cf-4b87-a9fa-a709d8a7c3c6",
     "prev": "9add3d79-8621-4167-8e1d-d4ae48fba71b",
     "regions": {
      "a96aea94-1714-4020-83f9-dbc03e9fd55e": {
       "attrs": {
        "height": 0.8,
        "width": 0.8,
        "x": 0.1,
        "y": 0.1
       },
       "content": {
        "cell": "5a579720-fa62-4525-85e3-dd049cbd73be",
        "part": "whole"
       },
       "id": "a96aea94-1714-4020-83f9-dbc03e9fd55e"
      }
     }
    },
    "ee33e624-cd65-4b8c-b28b-c95623a56dbf": {
     "id": "ee33e624-cd65-4b8c-b28b-c95623a56dbf",
     "prev": "999513ad-b53e-4d84-b9ef-ed37967f74d6",
     "regions": {
      "325ae98d-0855-4d16-8408-6d12f47efa24": {
       "attrs": {
        "height": 0.8,
        "width": 0.8,
        "x": 0.1,
        "y": 0.1
       },
       "content": {
        "cell": "829150e0-712b-4739-92d6-37b9c3d789cb",
        "part": "whole"
       },
       "id": "325ae98d-0855-4d16-8408-6d12f47efa24"
      }
     }
    },
    "f0727a74-61a1-48c1-94a5-3e7490c29f0b": {
     "id": "f0727a74-61a1-48c1-94a5-3e7490c29f0b",
     "prev": "6d7ab34f-9d99-4c74-9877-27b25abc73f0",
     "regions": {
      "1666081e-448d-4f80-90f2-9f26f1568cdc": {
       "attrs": {
        "height": 0.8,
        "width": 0.8,
        "x": 0.1,
        "y": 0.1
       },
       "content": {
        "cell": "d99a804c-9444-418b-bc94-3c2f064e2844",
        "part": "whole"
       },
       "id": "1666081e-448d-4f80-90f2-9f26f1568cdc"
      }
     }
    },
    "f3f10f50-4cad-4149-b308-c66e6a493a72": {
     "id": "f3f10f50-4cad-4149-b308-c66e6a493a72",
     "prev": "42d1bd80-265e-4acf-bbc1-b202afddade3",
     "regions": {
      "4fc1185f-bdb8-46fc-99bd-b8d30defeca9": {
       "attrs": {
        "height": 0.8,
        "width": 0.8,
        "x": 0.1,
        "y": 0.1
       },
       "content": {
        "cell": "9b7597e9-aaa9-4d9f-ba0d-22f43d1a3900",
        "part": "whole"
       },
       "id": "4fc1185f-bdb8-46fc-99bd-b8d30defeca9"
      }
     }
    },
    "febe7de9-9362-4079-bfe9-2d4dfddf00e2": {
     "id": "febe7de9-9362-4079-bfe9-2d4dfddf00e2",
     "prev": "6bda9eb4-0724-4e53-9971-131d0cb5f9e2",
     "regions": {
      "42348103-1cd6-4bac-b346-33cd41aea444": {
       "attrs": {
        "height": 0.8,
        "width": 0.8,
        "x": 0.1,
        "y": 0.1
       },
       "content": {
        "cell": "35a148d4-f201-4441-bf5e-8a07f93dea84",
        "part": "whole"
       },
       "id": "42348103-1cd6-4bac-b346-33cd41aea444"
      }
     }
    }
   },
   "themes": {}
  }
 },
 "nbformat": 4,
 "nbformat_minor": 4
}
