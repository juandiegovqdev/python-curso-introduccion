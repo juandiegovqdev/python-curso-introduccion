{
 "cells": [
  {
   "cell_type": "markdown",
   "metadata": {},
   "source": [
    "# Fundamentos de la Programación (Grado en Ingeniería de la Salud)\n",
    "## Ejercicio \"Valor de Equipos de Fútbol\""
   ]
  },
  {
   "cell_type": "markdown",
   "metadata": {},
   "source": [
    "Antes de empezar, ejecutaremos la siguiente celda con las importaciones necesarias para poder realizar el ejercicio:"
   ]
  },
  {
   "cell_type": "code",
   "execution_count": 12,
   "metadata": {},
   "outputs": [],
   "source": [
    "import csv\n",
    "from matplotlib import pyplot as plt\n",
    "from collections import namedtuple, Counter"
   ]
  },
  {
   "cell_type": "markdown",
   "metadata": {},
   "source": [
    "## 1. Carga de datos (0.5 puntos)\n",
    "\n",
    "\n",
    "**AQUIIII**\n",
    "- Función previa a la de lectura (edad = {'JOVEN', 'MEDIA', 'VETERANO'}\n",
    "- ...\n",
    "- Penúltimo ejercicio:\n",
    "    - Contador genérico (parámetro \"extractor\")\n",
    "    - Llamadas (contar competición, edad)\n",
    "    \n",
    "**AQUIIII**"
   ]
  },
  {
   "cell_type": "markdown",
   "metadata": {},
   "source": [
    "Tomaremos los datos de un fichero de entrada llamado <code>cardio.csv</code> en el que se encuentran registrados datos médicos en relación a enfermedades cardiovasculares. El fichero se encuentra en la carpeta <code>./data</code>. Cada línea del fichero de entrada se corresponde con los datos de una persona y contiene las siguientes informaciones:\n",
    "\n",
    "- **edad:** edad de la persona en días\n",
    "- **genero:** género de la persona (*hombre*, o *mujer*)\n",
    "- **altura:** altura de la persona en centímetros\n",
    "- **peso:** peso de la persona en kilos\n",
    "- **colesterol:** nivel de colesterol (*hormal*, *alto*, o *muy alto*)\n",
    "- **glucosa:** nivel de glucosa (*hormal*, *alto*, o *muy alto*)\n",
    "- **fumador:** si la persona fuma (*sí* o *no*)\n",
    "- **actividad:** si la persona hace ejercicio (*sí* o *no*)\n",
    "- **enfermedad:** si la persona presenta una enfermedad cardiovascular (*sí* o *no*)\n",
    "\n",
    "He aquí un fragmento con las primeras líneas del fichero de entrada:\n",
    "\n",
    "<img src=\"./img/datos.png\" alt=\"Drawing\" style=\"width:15cm;\"/>\n",
    "\n",
    "La primera función que implementaremos será la de lectura. Será la encargada de leer los datos del fichero de entrada y cargarlos en una lista de tuplas:"
   ]
  },
  {
   "cell_type": "code",
   "execution_count": 2,
   "metadata": {},
   "outputs": [],
   "source": [
    "Registro = namedtuple('Registro', 'edad genero altura peso colesterol glucosa fumador actividad enfermedad')\n",
    "\n",
    "def lee_registros(fichero):\n",
    "    ''' Lee el fichero de entrada y devuelve una lista de registros\n",
    "    \n",
    "    ENTRADA:\n",
    "       - fichero: nombre del fichero de entrada\n",
    "    SALIDA:\n",
    "       - lista de registros -> [Registro(int, str, int, float, str, str, str, str, str)]\n",
    "\n",
    "    Hay que transformar ciertos elementos de la entrada en valores numéricospara que puedan \n",
    "    ser procesados posteriormente.\n",
    "    '''\n",
    "    registros = []\n",
    "    with open(fichero, 'r', encoding='utf-8') as f:\n",
    "        lector = csv.reader(f)\n",
    "        next(lector)\n",
    "        registros = [Registro(int(edad), genero, int(altura), float(peso), colesterol, glucosa, fumador, actividad, enfermedad)\n",
    "                    for edad, genero, altura, peso, colesterol, glucosa, fumador, actividad, enfermedad in lector]\n",
    "    return registros"
   ]
  },
  {
   "cell_type": "code",
   "execution_count": 3,
   "metadata": {},
   "outputs": [
    {
     "name": "stdout",
     "output_type": "stream",
     "text": [
      "70000 [Registro(edad=18393, genero='hombre', altura=168, peso=62.0, colesterol='normal', glucosa='normal', fumador='no', actividad='sí', enfermedad='no'), Registro(edad=20228, genero='mujer', altura=156, peso=85.0, colesterol='muy alto', glucosa='normal', fumador='no', actividad='sí', enfermedad='sí')]\n"
     ]
    }
   ],
   "source": [
    "# Test de la función lee_compras\n",
    "REGISTROS = lee_registros('./data/cardio.csv')\n",
    "\n",
    "# La salida esperada de la siguiente instrucción es: \n",
    "#   70000 [Registro(edad=18393, genero='hombre', altura=168, peso=62.0, colesterol='normal', glucosa='normal', fumador='no', actividad='sí', enfermedad='no'), \n",
    "#          Registro(edad=20228, genero='mujer', altura=156, peso=85.0, colesterol='muy alto', glucosa='normal', fumador='no', actividad='sí', enfermedad='sí')]\n",
    "print(len(REGISTROS), REGISTROS[:2])"
   ]
  },
  {
   "cell_type": "markdown",
   "metadata": {},
   "source": [
    "## 2. Consulta y filtrado (7.5 puntos)"
   ]
  },
  {
   "cell_type": "markdown",
   "metadata": {},
   "source": [
    "Una vez que hemos cargado los datos en una estructura en memoria ya podemos empezar a procesarlos. En esta sección implementaremos algunas funciones de consulta y filtrado que nos permitirán trabajar con ellos.\n",
    "\n",
    "La primera función se llama <code>calcula_alturas</code> y obtiene la lista de alturas presentes en el conjunto de datos, ordenada de mayor a menor."
   ]
  },
  {
   "cell_type": "code",
   "execution_count": 4,
   "metadata": {},
   "outputs": [],
   "source": [
    "def calcula_alturas(registros):\n",
    "    ''' Lista ordenada de alturas\n",
    "    \n",
    "    ENTRADA:\n",
    "       - registros: lista de registros -> [Registro(int, str, int, float, str, str, str, str, str)]\n",
    "    SALIDA:\n",
    "       - Lista de alturas distintas ordenanda de mayor a menor -> [int]\n",
    "    '''\n",
    "    return sorted(list({r.altura for r in registros}), reverse=True)"
   ]
  },
  {
   "cell_type": "code",
   "execution_count": 5,
   "metadata": {},
   "outputs": [
    {
     "name": "stdout",
     "output_type": "stream",
     "text": [
      "[250, 207, 200, 198, 197, 196, 195, 194, 193, 192, 191, 190, 189, 188, 187, 186, 185, 184, 183, 182, 181, 180, 179, 178, 177, 176, 175, 174, 173, 172, 171, 170, 169, 168, 167, 166, 165, 164, 163, 162, 161, 160, 159, 158, 157, 156, 155, 154, 153, 152, 151, 150, 149, 148, 147, 146, 145, 144, 143, 142, 141, 140, 139, 138, 137, 136, 135, 134, 133, 132, 131, 130, 128, 125, 122, 120, 119, 117, 113, 112, 111, 110, 109, 108, 105, 104, 100, 99, 98, 97, 96, 91, 81, 80, 76, 75, 74, 72, 71, 70, 68, 67, 66, 65, 64, 60, 59, 57, 55]\n"
     ]
    }
   ],
   "source": [
    "# Test de la función calcula_alturas\n",
    "\n",
    "# La salida esperada de las siguientes instrucciones es: \n",
    "# [250, 207, 200, 198, 197, 196, 195, 194, 193, 192, 191, 190, 189, 188, 187, 186, 185, 184, \n",
    "#  183, 182, 181, 180, 179, 178, 177, 176, 175, 174, 173, 172, 171, 170, 169, 168, 167, 166, \n",
    "#  165, 164, 163, 162, 161, 160, 159, 158, 157, 156, 155, 154, 153, 152, 151, 150, 149, 148, \n",
    "#  147, 146, 145, 144, 143, 142, 141, 140, 139, 138, 137, 136, 135, 134, 133, 132, 131, 130, \n",
    "#  128, 125, 122, 120, 119, 117, 113, 112, 111, 110, 109, 108, 105, 104, 100, 99, 98, 97, 96, \n",
    "#  91, 81, 80, 76, 75, 74, 72, 71, 70, 68, 67, 66, 65, 64, 60, 59, 57, 55]\n",
    "\n",
    "print(calcula_alturas(REGISTROS))"
   ]
  },
  {
   "cell_type": "markdown",
   "metadata": {},
   "source": [
    "La siguiente función se llama <code>filtra_por_colesterol_y_glucosa</code>. Toma una lista de registros, una lista de niveles de colesterol y otra de niveles de glucosa. Deberá seleccionar solamente aquellos registros con los niveles de colesterol y glucosa indicados."
   ]
  },
  {
   "cell_type": "code",
   "execution_count": 6,
   "metadata": {},
   "outputs": [],
   "source": [
    "def filtra_por_colesterol_y_glucosa(registros, niveles_colesterol, niveles_glucosa):\n",
    "    ''' Selecciona registros por niveles de colesterol y glucosa\n",
    "    \n",
    "    ENTRADA:\n",
    "       - registros: lista de registros -> [Registro(int, str, int, float, str, str, str, str, str)]\n",
    "       - niveles_colesterol: niveles de colesterol a tener en cuenta -> [str]\n",
    "       - niveles_glucosa: niveles de glucosa a tener en cuenta -> [str]\n",
    "    SALIDA:\n",
    "       - lista de registros seleccionados -> [Registro(int, str, int, float, str, str, str, str, str)]\n",
    "    '''\n",
    "    filtrados = [r for r in registros if r.colesterol in niveles_colesterol and r.glucosa in niveles_glucosa]\n",
    "    return filtrados"
   ]
  },
  {
   "cell_type": "code",
   "execution_count": 7,
   "metadata": {},
   "outputs": [
    {
     "name": "stdout",
     "output_type": "stream",
     "text": [
      "3988 [Registro(edad=22584, genero='hombre', altura=178, peso=95.0, colesterol='muy alto', glucosa='muy alto', fumador='no', actividad='sí', enfermedad='sí'), Registro(edad=14507, genero='mujer', altura=165, peso=77.0, colesterol='muy alto', glucosa='muy alto', fumador='no', actividad='sí', enfermedad='sí'), Registro(edad=19557, genero='mujer', altura=164, peso=103.0, colesterol='muy alto', glucosa='muy alto', fumador='no', actividad='no', enfermedad='sí')]\n"
     ]
    }
   ],
   "source": [
    "# Test de la función filtra_por_colesterol_y_glucosa\n",
    "\n",
    "# La salida esperada de las siguientes instrucciones es: \n",
    "# 3988 [Registro(edad=22584, genero='hombre', altura=178, peso=95.0, colesterol='muy alto', glucosa='muy alto', fumador='no', actividad='sí', enfermedad='sí'), \n",
    "#       Registro(edad=14507, genero='mujer', altura=165, peso=77.0, colesterol='muy alto', glucosa='muy alto', fumador='no', actividad='sí', enfermedad='sí'), \n",
    "#       Registro(edad=19557, genero='mujer', altura=164, peso=103.0, colesterol='muy alto', glucosa='muy alto', fumador='no', actividad='no', enfermedad='sí')]\n",
    "filtrados = filtra_por_colesterol_y_glucosa(REGISTROS, ['muy alto'], ['alto', 'muy alto'])\n",
    "print(len(filtrados), filtrados[:3])"
   ]
  },
  {
   "cell_type": "markdown",
   "metadata": {},
   "source": [
    "La siguiente función se llama <code>extrae_datos_numericos</code>. Toma una lista de registros y produce como salida una lista de tuplas <code>(altura, peso, edad)</code> ordenada de mayor a menor según la edad. Las edades deben ser pasadas de número de días a número de años (sin decimales)."
   ]
  },
  {
   "cell_type": "code",
   "execution_count": 8,
   "metadata": {},
   "outputs": [],
   "source": [
    "def extrae_datos_numericos(registros):\n",
    "    ''' Extrae las tres columnas de datos numéricos (altura, peso, edad) convirtiendo la edad a años.\n",
    "    \n",
    "    ENTRADA:\n",
    "       - registros: lista de registros -> [Registro(int, str, int, float, str, str, str, str, str)]\n",
    "    SALIDA:\n",
    "       - lista de tuplas (altura, peso, edad) -> [(int, float, int)]\n",
    "    \n",
    "    '''\n",
    "    resultado = [(r.altura, r.peso, r.edad//365) for r in registros]\n",
    "    \n",
    "    return sorted(resultado, reverse=True, key=lambda x:x[2])"
   ]
  },
  {
   "cell_type": "code",
   "execution_count": 9,
   "metadata": {},
   "outputs": [
    {
     "name": "stdout",
     "output_type": "stream",
     "text": [
      "70000 [(156, 45.0, 64), (162, 72.0, 64), (155, 57.0, 64), (156, 58.0, 64), (169, 73.0, 64), (166, 69.0, 64), (175, 75.0, 64), (158, 69.0, 64), (169, 68.0, 64), (181, 99.0, 64)]\n"
     ]
    }
   ],
   "source": [
    "# Test de la función extrae_datos_numericos\n",
    "\n",
    "# La salida esperada de las siguientes instrucciones es:\n",
    "# 70000 [(156, 45.0, 64), (162, 72.0, 64), (155, 57.0, 64), (156, 58.0, 64), (169, 73.0, 64), \n",
    "#        (166, 69.0, 64), (175, 75.0, 64), (158, 69.0, 64), (169, 68.0, 64), (181, 99.0, 64)]\n",
    "datos_numericos = extrae_datos_numericos(REGISTROS)\n",
    "print(len(datos_numericos), datos_numericos[:10])"
   ]
  },
  {
   "cell_type": "markdown",
   "metadata": {},
   "source": [
    "La siguiente función de esta sección se llama <code>cuenta_registros</code>. Toma como entradas una lista de registros y una función que define una condición, y calcula el número de registros que cumplen esa condición."
   ]
  },
  {
   "cell_type": "code",
   "execution_count": 10,
   "metadata": {},
   "outputs": [],
   "source": [
    "def cuenta_registros(registros, condicion):\n",
    "    ''' Cuenta cuántos registros cumplen la condición\n",
    "    \n",
    "    ENTRADA:\n",
    "       - registros: lista de registros -> [Registro(int, str, int, float, str, str, str, str, str)]\n",
    "       - condicion: nombre de función, o expresión lambda -> function (Registro -> bool)\n",
    "    SALIDA:\n",
    "       - número de registros que cumplen la condición -> int\n",
    "    '''\n",
    "    return len([r for r in registros if condicion(r)])"
   ]
  },
  {
   "cell_type": "code",
   "execution_count": 11,
   "metadata": {},
   "outputs": [
    {
     "name": "stdout",
     "output_type": "stream",
     "text": [
      "8066\n",
      "5162\n"
     ]
    }
   ],
   "source": [
    "### EJERCICIO: implementar dos llamadas de TEST de 'cuenta_registros' que obtengan:\n",
    "#  - El número de personas con nivel de colesterol 'muy alto'\n",
    "#  - El número de fumadores que además realizan actividad física\n",
    "\n",
    "# Las salidas esperadas para estas consultas son:\n",
    "#    8066\n",
    "#    5162\n",
    "\n",
    "print(cuenta_registros(REGISTROS, lambda r:r.colesterol=='muy alto'))\n",
    "print(cuenta_registros(REGISTROS, lambda r:r.fumador=='sí' and r.actividad=='sí'))"
   ]
  },
  {
   "cell_type": "markdown",
   "metadata": {},
   "source": [
    "La siguiente función se llama <code>porcentaje_enfermos_por_genero</code>. Toma como entrada una lista de registros, y produce como salida un diccionario cuyas claves son los valores posibles para el atributo <code>genero</code> y los valores son el porcentaje de personas con enfermedad de cada grupo. La implementación debe seguir un esquema genérico de agrupación y agregación."
   ]
  },
  {
   "cell_type": "code",
   "execution_count": 12,
   "metadata": {},
   "outputs": [],
   "source": [
    "def porcentaje_enfermos_por_genero(registros):\n",
    "    ''' Crea un diccionario con el porcentaje de enfermos según el género\n",
    "    \n",
    "    ENTRADA:\n",
    "       - registros: lista de registros -> [Registro(int, str, int, float, str, str, str, str, str)]\n",
    "    SALIDA:\n",
    "       - diccionario con los porcentajes -> {str: float}\n",
    "    '''\n",
    "    porcentajes = dict()\n",
    "    generos = {r.genero for r in registros}\n",
    "    for g in generos:\n",
    "        filtrados = [r for r in registros if r.genero==g]\n",
    "        porcentajes[g] = len([r for r in filtrados if r.enfermedad=='sí'])/len(filtrados)\n",
    "    return porcentajes"
   ]
  },
  {
   "cell_type": "code",
   "execution_count": 13,
   "metadata": {},
   "outputs": [
    {
     "data": {
      "text/plain": [
       "{'hombre': 0.5052308949734369, 'mujer': 0.4967274324621129}"
      ]
     },
     "execution_count": 13,
     "metadata": {},
     "output_type": "execute_result"
    }
   ],
   "source": [
    "# Test de la función porcentaje_enfermos_por_genero\n",
    "\n",
    "# La salida esperada de la siguiente instrucción es: \n",
    "#   {'hombre': 0.5052308949734369, 'mujer': 0.4967274324621129}\n",
    "porcentaje_enfermos_por_genero(REGISTROS)"
   ]
  },
  {
   "cell_type": "markdown",
   "metadata": {},
   "source": [
    "## 3. Visualización (2 puntos)"
   ]
  },
  {
   "cell_type": "markdown",
   "metadata": {},
   "source": [
    "La función de visualización que implementaremos será <code>muestra_distribucion_colesterol</code>. Toma como entrada una lista de registros, y genera un diagrama de tarta con la distribución según el nivel de colesterol."
   ]
  },
  {
   "cell_type": "code",
   "execution_count": 14,
   "metadata": {},
   "outputs": [],
   "source": [
    "def muestra_distribucion_colesterol(registros):\n",
    "    ''' Genera un diagrama de tarta con la distribución según el nivel de colesterol.\n",
    "    \n",
    "    ENTRADA: \n",
    "       - registros: lista de registros -> [Registro(int, str, int, float, str, str, str, str, str)]\n",
    "    SALIDA EN PANTALLA: \n",
    "       - diagrama con la distribución de niveles de colesterol\n",
    "\n",
    "    Estas son las instrucciones 'matplotlib' para trazar el gráfico:       \n",
    "            plt.pie(frecuencias, labels=niveles, autopct='%1.1f%%', shadow=True, startangle=30)\n",
    "            plt.show()\n",
    "    \n",
    "    Que se apoyan en las siguientes variables:\n",
    "        - niveles: lista con los posibles niveles de colesterol\n",
    "        - frecuencias: lista, alineada con la anterior, con el número de registros por cada nivel\n",
    "    '''\n",
    "    niveles = list(set(r.colesterol for r in registros))\n",
    "    frecuencias = []\n",
    "    for n in niveles:\n",
    "        frecuencias.append(len([r for r in registros if r.colesterol==n]))\n",
    "    \n",
    "    plt.pie(frecuencias, labels=niveles, autopct='%1.1f%%', shadow=True, startangle=30)\n",
    "    plt.show()"
   ]
  },
  {
   "cell_type": "markdown",
   "metadata": {},
   "source": [
    "La salida de la siguiente celda de test debería ser la siguiente:\n",
    "\n",
    "<img src=\"./img/distribucion.png\" alt=\"Drawing\" style=\"width:6.5cm;\"/>"
   ]
  },
  {
   "cell_type": "code",
   "execution_count": 15,
   "metadata": {},
   "outputs": [
    {
     "data": {
      "image/png": "[encoded data removed]",
      "text/plain": [
       "<Figure size 432x288 with 1 Axes>"
      ]
     },
     "metadata": {},
     "output_type": "display_data"
    }
   ],
   "source": [
    "# Test de la función muestra_distribucion_colesterol\n",
    "muestra_distribucion_colesterol(REGISTROS)"
   ]
  }
 ],
 "metadata": {
  "kernelspec": {
   "display_name": "Python 3 (ipykernel)",
   "language": "python",
   "name": "python3"
  },
  "language_info": {
   "codemirror_mode": {
    "name": "ipython",
    "version": 3
   },
   "file_extension": ".py",
   "mimetype": "text/x-python",
   "name": "python",
   "nbconvert_exporter": "python",
   "pygments_lexer": "ipython3",
   "version": "3.8.8"
  }
 },
 "nbformat": 4,
 "nbformat_minor": 4
}
