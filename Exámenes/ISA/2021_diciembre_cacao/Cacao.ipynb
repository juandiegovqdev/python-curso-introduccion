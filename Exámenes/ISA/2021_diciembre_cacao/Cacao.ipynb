{
 "cells": [
  {
   "cell_type": "markdown",
   "metadata": {},
   "source": [
    "# Fundamentos de la Programación (Grado en Ingeniería de la Salud)\n",
    "## Ejercicio \"Cacao\""
   ]
  },
  {
   "cell_type": "markdown",
   "metadata": {},
   "source": [
    "Antes de empezar, ejecutaremos la siguiente celda con las importaciones necesarias para poder realizar el ejercicio:"
   ]
  },
  {
   "cell_type": "code",
   "execution_count": null,
   "metadata": {},
   "outputs": [],
   "source": [
    "import csv\n",
    "from matplotlib import pyplot as plt\n",
    "from collections import namedtuple, Counter, defaultdict"
   ]
  },
  {
   "cell_type": "markdown",
   "metadata": {},
   "source": [
    "## 1. Carga de datos (0.5 puntos)"
   ]
  },
  {
   "cell_type": "markdown",
   "metadata": {},
   "source": [
    "Tomaremos los datos de un fichero de entrada llamado <code>cacao.csv</code> en el que se encuentran registrados datos de puntuaciones de distintos tipos de chocolates. El fichero se encuentra en la carpeta <code>./data</code>. Cada línea del fichero de entrada se corresponde con los datos de una valoración de chocolate y contiene las siguientes informaciones:\n",
    "\n",
    "- **marca:** marca del chocolate\n",
    "- **origen:** zona de origen del chocolate\n",
    "- **puntuacion:** puntuación dada al producto\n",
    "- **fecha_puntuacion:** año de la puntuación\n",
    "- **porcentaje_cacao:** porcentaje de cacao del chocolate\n",
    "- **pais_empresa:** país de la empresa productora\n",
    "- **tipo_semilla:** tipo de semilla con la que se elabora el chocolate\n",
    "- **pais_semilla:** país originario de la semilla\n",
    "\n",
    "He aquí un fragmento con las primeras líneas del fichero de entrada:\n",
    "\n",
    "\n",
    "<img src=\"./img/datos.PNG\" alt=\"Drawing\" style=\"width:15cm;\"/>\n",
    "\n",
    "La primera función que implementaremos será la de lectura. Será la encargada de leer los datos del fichero de entrada y cargarlos en una lista de tuplas:"
   ]
  },
  {
   "cell_type": "code",
   "execution_count": null,
   "metadata": {},
   "outputs": [],
   "source": [
    "Chocolate = namedtuple('Chocolate', 'marca origen puntuacion fecha_puntuacion porcentaje_cacao pais_empresa tipo_semilla pais_semilla')\n",
    "\n",
    "def lee_registros(fichero):\n",
    "    ''' Lee el fichero de entrada y devuelve una lista de registros\n",
    "    \n",
    "    ENTRADA:\n",
    "       - fichero: nombre del fichero de entrada\n",
    "    SALIDA:\n",
    "       - lista de registros -> [Chocolate(str, str, float, int, float, str, str, str)]\n",
    "\n",
    "    Hay que transformar ciertos elementos de la entrada en valores numéricos para que puedan \n",
    "    ser procesados posteriormente.\n",
    "    '''\n",
    "    pass"
   ]
  },
  {
   "cell_type": "code",
   "execution_count": null,
   "metadata": {},
   "outputs": [],
   "source": [
    "# Test de la función 'lee_registros'\n",
    "REGISTROS = lee_registros('./data/cacao.csv')\n",
    "\n",
    "# La salida esperada de la siguiente instrucción es: \n",
    "# 171 [Chocolate(marca='A. Morin', origen='Chuao', puntuacion=4.0, fecha_puntuacion=2013, porcentaje_cacao=70.0, pais_empresa='France', tipo_semilla='Trinitario', pais_semilla='Venezuela'), \n",
    "#      Chocolate(marca='A. Morin', origen='Madagascar', puntuacion=3.0, fecha_puntuacion=2013, porcentaje_cacao=70.0, pais_empresa='France', tipo_semilla='Criollo', pais_semilla='Madagascar')]\n",
    "print(len(REGISTROS), REGISTROS[:2])"
   ]
  },
  {
   "cell_type": "markdown",
   "metadata": {},
   "source": [
    "## 2. Consulta y filtrado (7.5 puntos)"
   ]
  },
  {
   "cell_type": "markdown",
   "metadata": {},
   "source": [
    "Una vez que hemos cargado los datos en una estructura en memoria ya podemos empezar a procesarlos. En esta sección implementaremos algunas funciones de consulta y filtrado que nos permitirán trabajar con ellos.\n",
    "\n",
    "La primera función se llama <code>calcula_tipo_semillas</code> y obtiene la lista del tipo de semillas distintas presentes en el conjunto de datos, ordenada alfabéticamente."
   ]
  },
  {
   "cell_type": "code",
   "execution_count": null,
   "metadata": {},
   "outputs": [],
   "source": [
    "def calcula_tipo_semillas(registros):\n",
    "    ''' Lista ordenada de tipos de semillas\n",
    "    \n",
    "    ENTRADA:\n",
    "       - lista de registros -> [Chocolate(str, str, float, int, float, str, str, str)]\n",
    "    SALIDA:\n",
    "       - lista del tipo de semillas distintas presentes en el conjunto de datos, \n",
    "         ordenada alfabéticamente.-> [str]\n",
    "    '''\n",
    "    pass"
   ]
  },
  {
   "cell_type": "code",
   "execution_count": null,
   "metadata": {},
   "outputs": [],
   "source": [
    "# Test de la función 'calcula_semillas'\n",
    "\n",
    "# La salida esperada de las siguientes instrucciones es: \n",
    "# ['Criollo', 'Forastero', 'Trinitario']\n",
    "\n",
    "print(calcula_tipo_semillas(REGISTROS))"
   ]
  },
  {
   "cell_type": "markdown",
   "metadata": {},
   "source": [
    "La siguiente función se llama <code>filtra_por_origenes</code>. Toma una lista de registros, y una lista de orígenes. Deberá seleccionar solamente aquellos registros cuyo origen sea alguno de los de la lista y devolver su marca, porcentaje de cacao y puntuación."
   ]
  },
  {
   "cell_type": "code",
   "execution_count": null,
   "metadata": {},
   "outputs": [],
   "source": [
    "def filtra_por_origenes(registros, origenes):\n",
    "    ''' Selecciona registros según una lista de orígenes\n",
    "    \n",
    "    ENTRADA:\n",
    "       - lista de registros -> [Chocolate(str, str, float, int, float, str, str, str)]\n",
    "       - origenes: lista de orígenes a tener en cuenta -> [str]\n",
    "    SALIDA:\n",
    "       - lista de tuplas para los registros seleccionados -> [Chocolate(str, float, float)]\n",
    "    '''\n",
    "    pass"
   ]
  },
  {
   "cell_type": "code",
   "execution_count": null,
   "metadata": {},
   "outputs": [],
   "source": [
    "# Test de la función 'filtra_por_origenes'\n",
    "\n",
    "# La salida esperada de las siguientes instrucciones es: \n",
    "# 6 [('Alain Ducasse', 75.0, 2.75), ('Cao', 75.0, 2.5), ('DAR', 72.0, 3.0), ('Edelmond', 68.0, 3.0),\n",
    "#    ('Frederic Blondeel', 80.0, 3.0), ('Rogue', 80.0, 3.75)]\n",
    "\n",
    "filtrados = filtra_por_origenes(REGISTROS, ['Porcelana', 'Vietnam'])\n",
    "print(len(filtrados), filtrados)"
   ]
  },
  {
   "cell_type": "markdown",
   "metadata": {},
   "source": [
    "La siguiente función se llama <code>cuenta_origen</code>. Toma una lista de registros, un único origen, y una puntuación mínima opcional. Produce como salida el número de registros para dicho origen y que, si se ha proporcionado, igualan o superan en puntuación a la puntuación mínima."
   ]
  },
  {
   "cell_type": "code",
   "execution_count": null,
   "metadata": {},
   "outputs": [],
   "source": [
    "def cuenta_origen(registros, origen, puntuacion_minima=None):\n",
    "    ''' Cuenta los registros de un origen dado\n",
    "    \n",
    "    ENTRADA:\n",
    "       - lista de registros -> [Chocolate(str, str, float, int, float, str, str, str)]\n",
    "       - origen: origen para el que se realiza el cálculo -> str\n",
    "       - puntuacion_minima -> valor mínimo para tener en cuenta un registro, \n",
    "                              por defecto None  -> float\n",
    "    SALIDA:\n",
    "       - número de registros tenidos en cuenta -> int\n",
    "       \n",
    "    Si puntuacion_minima es None, se cuentan todos los registros del origen dado.\n",
    "    '''\n",
    "    pass"
   ]
  },
  {
   "cell_type": "code",
   "execution_count": null,
   "metadata": {},
   "outputs": [],
   "source": [
    "# Test de la función 'cuenta_origen'\n",
    "\n",
    "# La salida esperada de las siguientes instrucciones es:\n",
    "# 46 \n",
    "# 23\n",
    "print(cuenta_origen(REGISTROS, 'Madagascar'))\n",
    "print(cuenta_origen(REGISTROS, 'Madagascar', 3.5))"
   ]
  },
  {
   "cell_type": "markdown",
   "metadata": {},
   "source": [
    "La siguiente función de esta sección se llama <code>cuenta_valores_atributos</code>. Toma como entradas una lista de registros y una función que define un extractor de atributo, y produce como resultado un diccionario con el número de apariciones de cada valor del atributo en cuestión. \n",
    "\n",
    "Un extractor de atributo es una función que, dado un registro, indica cómo acceder a un determinado atributo discreto (como <code>origen</code>, <code>tipo_semilla</code> o <code>pais_semilla</code>)."
   ]
  },
  {
   "cell_type": "code",
   "execution_count": null,
   "metadata": {},
   "outputs": [],
   "source": [
    "def cuenta_valores_atributo(registros, extractor):\n",
    "    ''' Calcula el número de apariciones de los valores de un determinado atributo\n",
    "    \n",
    "    ENTRADA:\n",
    "       - lista de registros -> [Chocolate(str, str, float, int, float, str, str, str)]\n",
    "       - extractor: función que establece cómo acceder al atributo -> function(Chocolate -> bool)\n",
    "    SALIDA:\n",
    "       - diccionario con el número de apariciones de cada valor -> {str:int}\n",
    "    '''\n",
    "    pass"
   ]
  },
  {
   "cell_type": "code",
   "execution_count": null,
   "metadata": {},
   "outputs": [],
   "source": [
    "### EJERCICIO: implementar dos llamadas de TEST de 'cuenta_valores_atributo' que obtengan:\n",
    "#  - El número de apariciones para cada valor del atributo 'pais_semilla'\n",
    "#  - El número de apariciones para cada valor del atributo 'tipo_semilla'\n",
    "\n",
    "# Las salidas esperadas para estas consultas son:\n",
    "# {'Venezuela': 33, 'Madagascar': 60, 'Vietnam': 6, 'Belize': 22, 'Grenada': 5, \n",
    "#   'Jamaica': 8, 'Trinidad': 18, 'Peru': 8, 'Ghana': 11}\n",
    "\n",
    "#{'Trinitario': 137, 'Criollo': 23, 'Forastero': 11}\n",
    "\n"
   ]
  },
  {
   "cell_type": "markdown",
   "metadata": {},
   "source": [
    "La siguiente función se llama <code>calcula_puntuaciones_medias_por_origen</code>. Toma como entrada una lista de registros, y produce como salida un diccionario cuyas claves son los distintos valores del atributo <code>origen</code> y los valores son las medias de las puntuaciones obtenidas en los registros de ese origen."
   ]
  },
  {
   "cell_type": "code",
   "execution_count": null,
   "metadata": {},
   "outputs": [],
   "source": [
    "def calcula_puntuaciones_medias_por_origen(registros):\n",
    "    ''' Calcula el número de apariciones de los valores de un determinado atributo\n",
    "    \n",
    "    ENTRADA:\n",
    "       - lista de registros -> [Chocolate(str, str, float, int, float, str, str, str)]\n",
    "    SALIDA:\n",
    "       - diccionario con la media de puntuacions por cada origen -> {str:float}\n",
    "    '''\n",
    "    pass"
   ]
  },
  {
   "cell_type": "code",
   "execution_count": null,
   "metadata": {},
   "outputs": [],
   "source": [
    "# Test de la función 'calcula_puntuaciones_medias_por_origen'\n",
    "\n",
    "# La salida esperada de la siguiente instrucción es: \n",
    "# {'Chuao': 3.4, 'Madagascar': 3.2880434782608696, 'Vietnam': 2.9166666666666665, \n",
    "#  'Ocumare': 3.1666666666666665, 'Belize': 3.173076923076923, 'Grenada': 3.4, 'Jamaica': 3.09375, \n",
    "#  'Trinidad': 3.075, 'Maya Mountain': 3.3055555555555554, 'Tien Giang': 3.3333333333333335, \n",
    "#  'Peru': 2.8125, 'Sambirano': 3.2142857142857144, 'Ghana': 3.0, 'Carenero Superior': 3.3, \n",
    "#  'Gran Couva': 3.45, 'Tumbes': 2.875, 'Porcelana': 3.0833333333333335, 'Rio Caribe': 3.125, \n",
    "#  'San Juan Estate, Gran Couva': 3.1666666666666665}\n",
    "\n",
    "print(calcula_puntuaciones_medias_por_origen(REGISTROS))"
   ]
  },
  {
   "cell_type": "markdown",
   "metadata": {},
   "source": [
    "## 3. Visualización (2 puntos)"
   ]
  },
  {
   "cell_type": "markdown",
   "metadata": {},
   "source": [
    "La función de visualización que implementaremos será <code>muestra_distribucion_por_pais_empresa</code>. Toma como entrada una lista de registros, y genera un diagrama de tarta con la distribución según el país de las empresas."
   ]
  },
  {
   "cell_type": "code",
   "execution_count": null,
   "metadata": {},
   "outputs": [],
   "source": [
    "def muestra_distribucion_por_pais_empresa(registros):\n",
    "    ''' Genera un diagrama de tarta con la distribución según el pais de las empresas\n",
    "    \n",
    "    ENTRADA: \n",
    "       - lista de registros -> [Chocolate(str, str, float, int, float, str, str, str)]\n",
    "    SALIDA EN PANTALLA: \n",
    "       - diagrama con la distribución de países de las empresas\n",
    "\n",
    "    Estas son las instrucciones 'matplotlib' para trazar el gráfico:       \n",
    "            plt.pie(frecuencias, labels=paises, autopct='%1.1f%%', shadow=True, startangle=30)\n",
    "            plt.show()\n",
    "    \n",
    "    Que se apoyan en las siguientes variables:\n",
    "        - paises: lista con los posibles paises de las empresas\n",
    "        - frecuencias: lista, alineada con la anterior, con el número de registros por cada país\n",
    "    '''\n",
    "    pass"
   ]
  },
  {
   "cell_type": "markdown",
   "metadata": {},
   "source": [
    "La salida de la siguiente celda de test debería ser la siguiente:\n",
    "\n",
    "<img src=\"./img/distribucion.png\" alt=\"Drawing\" cstyle=\"width:2.5cm;\"/>"
   ]
  },
  {
   "cell_type": "code",
   "execution_count": null,
   "metadata": {},
   "outputs": [],
   "source": [
    "# Test de la función 'muestra_distribucion_por_pais_empresa'\n",
    "muestra_distribucion_por_pais_empresa(REGISTROS)"
   ]
  }
 ],
 "metadata": {
  "kernelspec": {
   "display_name": "Python 3",
   "language": "python",
   "name": "python3"
  },
  "language_info": {
   "codemirror_mode": {
    "name": "ipython",
    "version": 3
   },
   "file_extension": ".py",
   "mimetype": "text/x-python",
   "name": "python",
   "nbconvert_exporter": "python",
   "pygments_lexer": "ipython3",
   "version": "3.8.8"
  }
 },
 "nbformat": 4,
 "nbformat_minor": 4
}
