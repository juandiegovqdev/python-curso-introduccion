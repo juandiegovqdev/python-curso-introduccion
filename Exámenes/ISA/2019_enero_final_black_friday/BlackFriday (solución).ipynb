{
 "cells": [
  {
   "cell_type": "markdown",
   "metadata": {},
   "source": [
    "# Fundamentos de la Programación (Grado en Ingeniería de la Salud)\n",
    "## Ejercicio \"Black Friday\" (1 de febrero de 2019)"
   ]
  },
  {
   "cell_type": "markdown",
   "metadata": {},
   "source": [
    "Antes de empezar, ejecutaremos la siguiente celda con las importaciones necesarias para poder realizar el ejercicio:"
   ]
  },
  {
   "cell_type": "code",
   "execution_count": 1,
   "metadata": {},
   "outputs": [],
   "source": [
    "import csv\n",
    "from matplotlib import pyplot as plt\n",
    "from collections import namedtuple"
   ]
  },
  {
   "cell_type": "markdown",
   "metadata": {},
   "source": [
    "## 1. Carga de datos (0.75 puntos)"
   ]
  },
  {
   "attachments": {
    "image.png": {
     "image/png": "[encoded data removed]"
    }
   },
   "cell_type": "markdown",
   "metadata": {},
   "source": [
    "Tomaremos los datos de un fichero de entrada llamado <code>black_friday.csv</code> en el que se encuentran registrados datos de compras realizadas durante un _black friday_. El fichero se encuentra en la carpeta <code>./data</code>. Cada línea del fichero de entrada contiene las siguientes informaciones:\n",
    "\n",
    "- **Gender:** sexo del comprador (<code>M</code> o <code>F</code>)\n",
    "- **Age:** edad del comprador (uno de estos rangos: <code>0-17</code>, <code>18-25</code>, <code>26-35</code>, <code>36-45</code>,<code>46-50</code>, <code>51-55</code>, <code>55+</code>)\n",
    "- **Marital_Status:** estado civil del comprador\n",
    "- **Purchase:** importe de la compra\n",
    "\n",
    "He aquí un fragmento con las primeras líneas del fichero de entrada:\n",
    "\n",
    "![image.png](attachment:image.png)\n",
    "\n",
    "La primera función que implementaremos será la de lectura. Será la encargada de leer los datos del fichero de entrada y cargarlos en una lista de tuplas:"
   ]
  },
  {
   "cell_type": "code",
   "execution_count": 9,
   "metadata": {},
   "outputs": [],
   "source": [
    "Compra = namedtuple('Compra', 'genero edad estado importe')\n",
    "\n",
    "def lee_compras(fichero):\n",
    "    ''' Lee el fichero de entrada y devuelve una lista de registros\n",
    "    \n",
    "    ENTRADA:\n",
    "       - fichero: nombre del fichero de entrada\n",
    "    SALIDA:\n",
    "       - lista de registros -> [Compra(str, str, str, float)]\n",
    "\n",
    "    Hay que transformar ciertos elementos de la entrada en valores numéricos\n",
    "    para que puedan ser procesados posteriormente.\n",
    "    '''\n",
    "    registros = []\n",
    "    with open(fichero, 'r', encoding='utf-8') as f:\n",
    "        lector = csv.reader(f)\n",
    "        next(lector)\n",
    "        registros = [Compra(genero, edad, estado, float(importe),)\n",
    "                    for genero, edad, estado, importe in lector]\n",
    "    return registros"
   ]
  },
  {
   "cell_type": "code",
   "execution_count": 10,
   "metadata": {},
   "outputs": [
    {
     "name": "stdout",
     "output_type": "stream",
     "text": [
      "537577 [Compra(genero='F', edad='0-17', estado='Single', importe=83.7), Compra(genero='F', edad='0-17', estado='Single', importe=152.0)]\n"
     ]
    }
   ],
   "source": [
    "# Test de la función lee_compras\n",
    "REGISTROS = lee_compras('./data/black_friday.csv')\n",
    "\n",
    "# La salida esperada de la siguiente instrucción es: \n",
    "#    537577 [Compra(genero='F', edad='0-17', estado='Single', importe=83.7), \n",
    "#            Compra(genero='F', edad='0-17', estado='Single', importe=152.0)]\n",
    "print(len(REGISTROS), REGISTROS[:2])"
   ]
  },
  {
   "cell_type": "markdown",
   "metadata": {},
   "source": [
    "## 2. Consulta y filtrado (7.25 puntos)"
   ]
  },
  {
   "cell_type": "markdown",
   "metadata": {},
   "source": [
    "Una vez que hemos cargado los datos en una estructura en memoria ya podemos empezar a procesarlos. En esta sección implementaremos algunas funciones de consulta y filtrado que nos permitirán trabajar con ellos.\n",
    "\n",
    "La primera función que implementaremos se llama <code>proporcion_por_edad</code>. La función toma una lista de tuplas de registros y calcula qué proporción de esas compras está realizada por el segmento de edad que recibe como parámetro:"
   ]
  },
  {
   "cell_type": "code",
   "execution_count": 4,
   "metadata": {},
   "outputs": [],
   "source": [
    "def proporcion_por_edad(registros, rango_edad):\n",
    "    ''' Proporción de compras del rango de edad\n",
    "    \n",
    "    ENTRADA:\n",
    "       - registros: lista de registros -> [Compra(str, str, str, float)]\n",
    "       - rango_edad: del que se calculará la proporción -> str\n",
    "    SALIDA:\n",
    "       - proporción de compras -> float\n",
    "    '''\n",
    "    total = len(registros)\n",
    "    en_rango = len([r for r in registros if r.edad==rango_edad])\n",
    "    return en_rango/total"
   ]
  },
  {
   "cell_type": "code",
   "execution_count": 5,
   "metadata": {},
   "outputs": [
    {
     "name": "stdout",
     "output_type": "stream",
     "text": [
      "0.027357941280969984\n",
      "0.18161863323765712\n",
      "0.39936604430621103\n",
      "0.19996949274243503\n",
      "0.08282720428887397\n",
      "0.0699769521389494\n",
      "0.038883732004903485\n"
     ]
    }
   ],
   "source": [
    "# Test de la función proporcion_por_edad\n",
    "\n",
    "# La salida esperada de las siguientes instrucciones es: \n",
    "# 0.027357941280969984\n",
    "# 0.18161863323765712\n",
    "# 0.39936604430621103\n",
    "# 0.19996949274243503\n",
    "# 0.08282720428887397\n",
    "# 0.0699769521389494\n",
    "# 0.038883732004903485\n",
    "\n",
    "print(proporcion_por_edad(REGISTROS,'0-17'))\n",
    "print(proporcion_por_edad(REGISTROS,'18-25'))\n",
    "print(proporcion_por_edad(REGISTROS,'26-35'))\n",
    "print(proporcion_por_edad(REGISTROS,'36-45'))\n",
    "print(proporcion_por_edad(REGISTROS,'46-50'))\n",
    "print(proporcion_por_edad(REGISTROS,'51-55'))\n",
    "print(proporcion_por_edad(REGISTROS,'55+'))"
   ]
  },
  {
   "cell_type": "markdown",
   "metadata": {},
   "source": [
    "La siguiente función se llama <code>filtra_por_genero_y_edad</code>. Toma una lista de registros, una lista de géneros y una lista de rangos de edad. Deberá seleccionar solamente aquellos registros que pertenezcan a los géneros y edades  indicadas."
   ]
  },
  {
   "cell_type": "code",
   "execution_count": 6,
   "metadata": {},
   "outputs": [],
   "source": [
    "def filtra_por_genero_y_edad(registros, generos, edades):\n",
    "    ''' Selecciona registros por género y edad\n",
    "    \n",
    "    ENTRADA:\n",
    "       - registros: lista de registros -> [Compra(str, str, str, float)]\n",
    "       - generos: lista de generos a seleccionar -> [str]\n",
    "       - edades: lista de rangos de edades a seleccionar -> [str]\n",
    "    SALIDA:\n",
    "       - lista de registros seleccionados -> [Compra(str, str, str, float)]\n",
    "    '''\n",
    "    filtrados = [r for r in registros if r.genero in generos and r.edad in edades]\n",
    "    return filtrados"
   ]
  },
  {
   "cell_type": "code",
   "execution_count": 7,
   "metadata": {},
   "outputs": [
    {
     "name": "stdout",
     "output_type": "stream",
     "text": [
      "26420 [Compra(genero='F', edad='36-45', estado='Married', importe=163.52), Compra(genero='F', edad='36-45', estado='Married', importe=88.86)]\n"
     ]
    }
   ],
   "source": [
    "# Test de la función filtra_por_genero_y_edad\n",
    "generos = ['F']\n",
    "edades = ['36-45', '45-50'] \n",
    "filtrados = filtra_por_genero_y_edad(REGISTROS, generos, edades)\n",
    "\n",
    "# La salida esperada de la siguiente instrucción es: \n",
    "#    26420 [Compra(genero='F', edad='36-45', estado='Married', importe=163.52), \n",
    "#           Compra(genero='F', edad='36-45', estado='Married', importe=88.86)]\n",
    "print(len(sorted(filtrados)), filtrados[:2])"
   ]
  },
  {
   "cell_type": "markdown",
   "metadata": {},
   "source": [
    "La tercera función se llama <code>filtra_por_importe</code>. Toma una lista de compras y produce como salida una lista de registros con las compras que estén dentro de un rango de importes:\n"
   ]
  },
  {
   "cell_type": "code",
   "execution_count": 8,
   "metadata": {},
   "outputs": [],
   "source": [
    "def filtra_por_importe(registros, minimo=None, maximo=None):\n",
    "    ''' Selecciona las compras que están en un rango de importes\n",
    "    \n",
    "    ENTRADA:\n",
    "       - registros: lista de registros -> [Compra(str, str, str, float)]\n",
    "       - minimo: importe mínimo de los registros a seleccionar -> float\n",
    "       - maximo: importe máximo de los registros a seleccionar -> float\n",
    "    SALIDA:\n",
    "       - lista de registros seleccionados -> [Compra(str, str, str, float)]\n",
    "       \n",
    "    Si los valores 'minimo' o 'maximo' son 'None' se sustituirán respectivamente por el máximo y el mínimo de\n",
    "    todos los importes.\n",
    "    '''\n",
    "    importes = {r.importe for r in registros}\n",
    "    if minimo==None:\n",
    "        minimo = min(importes)\n",
    "    if maximo==None:\n",
    "        maximo = max(importes)\n",
    "    return [r for r in registros if minimo<=r.importe<=maximo]"
   ]
  },
  {
   "cell_type": "code",
   "execution_count": 9,
   "metadata": {},
   "outputs": [
    {
     "name": "stdout",
     "output_type": "stream",
     "text": [
      "23497 [Compra(genero='F', edad='0-17', estado='Single', importe=14.22), Compra(genero='F', edad='0-17', estado='Single', importe=10.57)]\n",
      "501559 [Compra(genero='F', edad='0-17', estado='Single', importe=83.7), Compra(genero='F', edad='0-17', estado='Single', importe=152.0)]\n",
      "12521 [Compra(genero='M', edad='26-35', estado='Single', importe=204.42), Compra(genero='M', edad='26-35', estado='Single', importe=209.61)]\n"
     ]
    }
   ],
   "source": [
    "# Test de la función filtra_por_importe\n",
    "baratas = filtra_por_importe(REGISTROS,maximo=20)\n",
    "medias = filtra_por_importe(REGISTROS,20.01,199.99)\n",
    "caras = filtra_por_importe(REGISTROS,200)\n",
    "\n",
    "# La salida esperada de las siguientes instrucciones es: \n",
    "#    23497 [Compra(genero='F', edad='0-17', estado='Single', importe=14.22), \n",
    "#           Compra(genero='F', edad='0-17', estado='Single', importe=10.57)]\n",
    "#   501559 [Compra(genero='F', edad='0-17', estado='Single', importe=83.7), \n",
    "#           Compra(genero='F', edad='0-17', estado='Single', importe=152.0)]\n",
    "#    12521 [Compra(genero='M', edad='26-35', estado='Single', importe=204.42), \n",
    "#           Compra(genero='M', edad='26-35', estado='Single', importe=209.61)]\n",
    "print(len(baratas), baratas[:2])\n",
    "print(len(medias), medias[:2])\n",
    "print(len(caras), caras[:2])"
   ]
  },
  {
   "cell_type": "markdown",
   "metadata": {},
   "source": [
    "La siguiente función de esta sección se llama <code>compra_media_por_edad</code>. Toma como entrada una lista de registros, y produce como salida un diccionario cuyas claves son los distintos rangos de edad, y los valores son los importes medios de las compras realizadas en ese segmento de edad."
   ]
  },
  {
   "cell_type": "code",
   "execution_count": 10,
   "metadata": {},
   "outputs": [],
   "source": [
    "def compra_media_por_edad(registros):\n",
    "    ''' Crea un diccionario con el importe medio por rango de edad\n",
    "    \n",
    "    ENTRADA:\n",
    "       - registros: lista de registros -> [Compra(str, str, str, float)]\n",
    "    SALIDA:\n",
    "       - diccionario con el importe medio -> {str: float}\n",
    "    '''\n",
    "    importes_medios = dict()\n",
    "    edades = {r.edad for r in registros}\n",
    "    for edad in edades:\n",
    "        importes = [r.importe for r in registros if r.edad == edad]\n",
    "        importes_medios[edad] = sum(importes)/len(importes)\n",
    "    return importes_medios"
   ]
  },
  {
   "cell_type": "code",
   "execution_count": 11,
   "metadata": {},
   "outputs": [
    {
     "name": "stdout",
     "output_type": "stream",
     "text": [
      "93.1458897014295 96.20616619703335\n"
     ]
    }
   ],
   "source": [
    "# Test de la función compra_media_por_edad\n",
    "importes_medios = compra_media_por_edad(REGISTROS)\n",
    "\n",
    "# La salida esperada de la siguiente instrucción es: \n",
    "#   93.1458897014295 96.20616619703335\n",
    "print(importes_medios['26-35'], importes_medios['51-55'])"
   ]
  },
  {
   "cell_type": "markdown",
   "metadata": {},
   "source": [
    "## 3. Visualización (2 puntos)"
   ]
  },
  {
   "cell_type": "markdown",
   "metadata": {},
   "source": [
    "La función de visualización que implementaremos será <code>distribucion_por_edades</code>. Toma como entrada una lista de registros y genera un diagrama de tarta con la distribución del número de compras por rango de edad. "
   ]
  },
  {
   "cell_type": "code",
   "execution_count": 12,
   "metadata": {},
   "outputs": [],
   "source": [
    "def distribucion_por_edades(registros):\n",
    "    ''' Genera un diagrama de tarta con la distribución del número de compras por rango de edad\n",
    "        \n",
    "        ENTRADA:\n",
    "           - registros: lista de registros -> [Compra(str, str, str, float)]\n",
    "        SALIDA EN PANTALLA:\n",
    "           - diagrama de tarta con la proporción de compras\n",
    "           \n",
    "        Se usarán las siguientes instrucciones matplotlib para generar la curva:\n",
    "            fig1, ax1 = plt.subplots()\n",
    "            ax1.pie(compras, labels=edades, shadow=True, startangle=90)\n",
    "            ax1.axis('equal')\n",
    "            plt.show()\n",
    "        Donde las dos variables usadas significan lo siguiente:\n",
    "            - edades: lista ordenada con los distintos rangos de edades\n",
    "            - compras: lista (alineada con la anterior) con el número de compras por cada rango de edad\n",
    "    '''\n",
    "    edades = sorted(list({r.edad for r in registros}))\n",
    "    compras = []\n",
    "    for edad in edades:\n",
    "        compras.append(len([r for r in registros if r.edad==edad]))\n",
    "\n",
    "    fig1, ax1 = plt.subplots()\n",
    "    ax1.pie(compras, labels=edades, shadow=True, startangle=90)\n",
    "    ax1.axis('equal')\n",
    "    plt.show()\n"
   ]
  },
  {
   "attachments": {
    "image.png": {
     "image/png": "[encoded data removed]"
    }
   },
   "cell_type": "markdown",
   "metadata": {},
   "source": [
    "La salida de la siguiente celda de test debería ser la siguiente:\n",
    "![image.png](attachment:image.png)"
   ]
  },
  {
   "cell_type": "code",
   "execution_count": 13,
   "metadata": {},
   "outputs": [
    {
     "data": {
      "image/png": "[encoded data removed]",
      "text/plain": [
       "<Figure size 432x288 with 1 Axes>"
      ]
     },
     "metadata": {},
     "output_type": "display_data"
    }
   ],
   "source": [
    "# Test de la función distribucion_por_edades\n",
    "distribucion_por_edades(REGISTROS)"
   ]
  },
  {
   "cell_type": "code",
   "execution_count": null,
   "metadata": {},
   "outputs": [],
   "source": []
  }
 ],
 "metadata": {
  "kernelspec": {
   "display_name": "Python 3",
   "language": "python",
   "name": "python3"
  },
  "language_info": {
   "codemirror_mode": {
    "name": "ipython",
    "version": 3
   },
   "file_extension": ".py",
   "mimetype": "text/x-python",
   "name": "python",
   "nbconvert_exporter": "python",
   "pygments_lexer": "ipython3",
   "version": "3.7.3"
  }
 },
 "nbformat": 4,
 "nbformat_minor": 2
}
