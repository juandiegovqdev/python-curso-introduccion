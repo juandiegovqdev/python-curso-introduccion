{
 "cells": [
  {
   "cell_type": "markdown",
   "metadata": {},
   "source": [
    "# Fundamentos de la Programación (Grado en Ingeniería de la Salud)\n",
    "## Ejercicio \"Películas\" (11 de diciembre de 2019)"
   ]
  },
  {
   "cell_type": "markdown",
   "metadata": {},
   "source": [
    "Antes de empezar, ejecutaremos la siguiente celda con las importaciones necesarias para poder realizar el ejercicio:"
   ]
  },
  {
   "cell_type": "code",
   "execution_count": null,
   "metadata": {},
   "outputs": [],
   "source": [
    "import csv\n",
    "from datetime import datetime\n",
    "from matplotlib import pyplot as plt\n",
    "from collections import namedtuple"
   ]
  },
  {
   "cell_type": "markdown",
   "metadata": {},
   "source": [
    "## 1. Carga de datos (0.5 puntos)"
   ]
  },
  {
   "attachments": {
    "image.png": {
     "image/png": "[encoded data removed]"
    }
   },
   "cell_type": "markdown",
   "metadata": {},
   "source": [
    "Tomaremos los datos de un fichero de entrada llamado <code>peliculas.csv</code> en el que se encuentran registrados datos sobre una serie de películas. El fichero se encuentra en la carpeta <code>./data</code>. Cada línea del fichero de entrada contiene las siguientes informaciones:\n",
    "\n",
    "- **title:** título de la película\n",
    "- **genres:** géneros en los que se cataloga la película\n",
    "- **popularity:** grado de popularidad de la película\n",
    "- **release_date:** fecha de estreno de la película\n",
    "\n",
    "He aquí un fragmento con las primeras líneas del fichero de entrada:\n",
    "\n",
    "<img src=\"./img/datos.png\" alt=\"Drawing\" style=\"width:14cm;\"/>\n",
    "\n",
    "\n",
    "La primera función que implementaremos será la de lectura. Será la encargada de leer los datos del fichero de entrada y cargarlos en una lista de tuplas:"
   ]
  },
  {
   "cell_type": "code",
   "execution_count": null,
   "metadata": {},
   "outputs": [],
   "source": [
    "Pelicula = namedtuple('Pelicula', 'titulo generos popularidad fecha')\n",
    "\n",
    "def lee_peliculas(fichero):\n",
    "    ''' Lee el fichero de entrada y devuelve una lista de registros\n",
    "    \n",
    "    ENTRADA:\n",
    "       - fichero: nombre del fichero de entrada\n",
    "    SALIDA:\n",
    "       - lista de registros -> [Pelicula(str, str, float, datetime)]\n",
    "\n",
    "    Hay que transformar ciertos elementos de la entrada en valores numéricos o de otros tipos\n",
    "    para que puedan ser procesados posteriormente.\n",
    "    \n",
    "    Para convertir una cadena con el formato DD/MM/AAAA en un objeto 'date' usaremos\n",
    "    la siguiente expresión:\n",
    "    \n",
    "        datetime.strptime(fecha,'%d/%m/%Y')\n",
    "    '''\n",
    "    pass"
   ]
  },
  {
   "cell_type": "code",
   "execution_count": null,
   "metadata": {},
   "outputs": [],
   "source": [
    "# TEST de 'lee_peliculas', la salida esperada es:\n",
    "# 15698 [Pelicula(titulo='Ariel', generos='Drama|Crime', popularidad=0.8239040000000001, fecha=datetime.datetime(1988, 10, 21, 0, 0)), \n",
    "#        Pelicula(titulo='Four Rooms', generos='Crime|Comedy', popularidad=1.6980000000000002, fecha=datetime.datetime(1995, 12, 25, 0, 0))]\n",
    "REGISTROS = lee_peliculas('./data/peliculas.csv')\n",
    "print(len(REGISTROS), REGISTROS[:2])"
   ]
  },
  {
   "cell_type": "markdown",
   "metadata": {},
   "source": [
    "## 2. Consulta y filtrado (7.5 puntos)"
   ]
  },
  {
   "cell_type": "markdown",
   "metadata": {},
   "source": [
    "Una vez que hemos cargado los datos en una estructura en memoria ya podemos empezar a procesarlos. En esta sección implementaremos algunas funciones de consulta y filtrado que nos permitirán trabajar con ellos.\n",
    "\n",
    "La primera función se llama <code>calcula_generos</code> y calcula un conjunto de géneros presentes en la colección de datos:"
   ]
  },
  {
   "cell_type": "code",
   "execution_count": null,
   "metadata": {},
   "outputs": [],
   "source": [
    "def calcula_generos(registros):\n",
    "    ''' Conjunto de géneros presentes en una lista de registros\n",
    "    \n",
    "    ENTRADA:\n",
    "       - registros: lista de registros ->  [Pelicula(str, str, float, datetime)]\n",
    "    SALIDA:\n",
    "       - términos que aparecen al menos una vez en el campo géneros\n",
    "    '''\n",
    "    pass"
   ]
  },
  {
   "cell_type": "code",
   "execution_count": null,
   "metadata": {},
   "outputs": [],
   "source": [
    "# TEST de 'calcula_generos', la salida esperada es:\n",
    "#    ['Action', 'Adventure', 'Animation', 'Comedy', 'Crime', 'Documentary', 'Drama', \n",
    "#     'Family', 'Fantasy', 'Foreign', 'History', 'Horror', 'Music', 'Mystery', 'Romance', \n",
    "#     'Science Fiction', 'TV Movie', 'Thriller', 'War', 'Western']\n",
    "\n",
    "print(sorted(calcula_generos(REGISTROS)))"
   ]
  },
  {
   "cell_type": "markdown",
   "metadata": {},
   "source": [
    "La siguiente función es <code>filtra_por_años</code>. La función toma una lista de registros y selecciona solo aquellos que se corresponden con películas estrenadas en el rango de fechas indicado:"
   ]
  },
  {
   "cell_type": "code",
   "execution_count": null,
   "metadata": {},
   "outputs": [],
   "source": [
    "def filtra_por_años(registros, año_inicio=None, año_fin=None):\n",
    "    ''' Películas estrenadas en el rango de años indicado (ambos incluidos)\n",
    "    \n",
    "    ENTRADA:\n",
    "       - registros: lista de registros ->  [Pelicula(str, str, float, datetime)]\n",
    "       - año_inicio: año inicial del rango (None indica que el año inicial es el menor de la colección) -> int\n",
    "       - año_fin: año final del rango (None indica que el año final es el mayor de la colección) -> int\n",
    "    SALIDA:\n",
    "       -  lista de registros seleccionados -> [Pelicula(str, str, float, datetime)]\n",
    "       \n",
    "    Para obtener el año de un objeto fecha, se puede usar el campo '.year'\n",
    "    '''\n",
    "    pass"
   ]
  },
  {
   "cell_type": "code",
   "execution_count": null,
   "metadata": {},
   "outputs": [],
   "source": [
    "# TEST de 'filtra_por_años', la salida esperada es:\n",
    "#   4866\n",
    "#   9978\n",
    "#  10586\n",
    "#  10586\n",
    "#      8\n",
    "\n",
    "print(len(filtra_por_años(REGISTROS, 2000, 2010)))\n",
    "print(len(filtra_por_años(REGISTROS, año_inicio=2000)))\n",
    "print(len(filtra_por_años(REGISTROS, año_fin=2010)))\n",
    "print(len(filtra_por_años(REGISTROS, año_fin=2010)))\n",
    "print(len(filtra_por_años(REGISTROS, año_inicio=2020)))"
   ]
  },
  {
   "cell_type": "markdown",
   "metadata": {},
   "source": [
    "La siguiente función es <code>filtro_generico</code>. La función toma una lista de registros y selecciona solo aquellos para los que el criterio recibido como parámetro se cumple:"
   ]
  },
  {
   "cell_type": "code",
   "execution_count": null,
   "metadata": {},
   "outputs": [],
   "source": [
    "def filtro_generico(registros, criterio):\n",
    "    ''' Películas que cumplen el criterio recibido como parámetro\n",
    "    \n",
    "    ENTRADA:\n",
    "       - registros: lista de registros ->  [Pelicula(str, str, float, datetime)]\n",
    "       - criterio: nombre de función o expresión lambda -> function\n",
    "    SALIDA:\n",
    "       -  lista de registros seleccionados -> [Pelicula(str, str, float, datetime)]\n",
    "    '''\n",
    "    pass"
   ]
  },
  {
   "cell_type": "code",
   "execution_count": null,
   "metadata": {},
   "outputs": [],
   "source": [
    "# EJERCICIO: implementar cuatro llamadas de TEST para la función 'filtra_por_años':\n",
    "#   - Número de películas con fecha posterior a 2019\n",
    "#   - Número de películas del género 'Drama'\n",
    "#   - Número de películas que incluyan la palabra 'man' en el título\n",
    "#   - Número de películas con popularidad mayor que 1\n",
    "\n",
    "# Las salidas esperadas para estas consultas son:\n",
    "#  7336\n",
    "#   318\n",
    "#  8034\n",
    "\n",
    "pass"
   ]
  },
  {
   "cell_type": "markdown",
   "metadata": {},
   "source": [
    "La siguiente función se llama <code>agrupa_por_genero</code>. Toma como entrada una lista de registros, y produce como salida un diccionario cuyas claves son los generos, y los valores son los registros correspondientes a dicho género."
   ]
  },
  {
   "cell_type": "code",
   "execution_count": null,
   "metadata": {},
   "outputs": [],
   "source": [
    "def agrupa_por_genero(registros):\n",
    "    ''' Crea un diccionario con los registros por cada género\n",
    "    \n",
    "    ENTRADA:\n",
    "       - registros: lista de registros -> [Pelicula(str, str, float, datetime)]\n",
    "    SALIDA:\n",
    "       - diccionario con los registros de cada género -> {str: [Pelicula(str, str, float, datetime)]}\n",
    "    '''\n",
    "    pass"
   ]
  },
  {
   "cell_type": "code",
   "execution_count": null,
   "metadata": {},
   "outputs": [],
   "source": [
    "# TEST  de 'agrupa_por_genero', la salida esperada es:\n",
    "#    Foreign -> 52\n",
    "#    TV Movie -> 272\n",
    "#    Western -> 332\n",
    "#    Documentary -> 336\n",
    "#    Music -> 478\n",
    "#    War -> 488\n",
    "#    History -> 571\n",
    "#    Mystery -> 1106\n",
    "#    Animation -> 1170\n",
    "#    Fantasy -> 1308\n",
    "#    Science Fiction -> 1544\n",
    "#    Family -> 1568\n",
    "#    Horror -> 1962\n",
    "#    Crime -> 1987\n",
    "#    Adventure -> 2172\n",
    "#    Romance -> 2723\n",
    "#    Action -> 3527\n",
    "#    Thriller -> 3857\n",
    "#    Comedy -> 5094\n",
    "#    Drama -> 7336\n",
    "\n",
    "grupos_genero = agrupa_por_genero(REGISTROS)\n",
    "generos = sorted(grupos_genero, key=lambda x:len(grupos_genero.get(x)))\n",
    "\n",
    "for g in generos:\n",
    "    print(g, '->', len(grupos_genero[g]))"
   ]
  },
  {
   "cell_type": "markdown",
   "metadata": {},
   "source": [
    "## 3. Visualización (2 puntos)"
   ]
  },
  {
   "cell_type": "markdown",
   "metadata": {},
   "source": [
    "La función de visualización que implementaremos será <code>muestra_peliculas_mas_populares_de_genero</code>. Toma como entrada un diccionario de registros agrupados por género, y muestra un diagrama de barras con el ranking de las películas más populares de un determinado género."
   ]
  },
  {
   "cell_type": "code",
   "execution_count": null,
   "metadata": {},
   "outputs": [],
   "source": [
    "def muestra_peliculas_mas_populares_de_genero(grupos_genero, genero, top=10):\n",
    "    ''' Genera un diagrama de barras con el ranking de las películas más populares de un determinado género\n",
    "        \n",
    "    ENTRADA:\n",
    "        - grupos_genero: registros agrupados por géneros -> {str: [Pelicula(str, str, float, datetime)]}\n",
    "        - genero: para el que se genera la gráfica -> str\n",
    "        - top: número de películas a incluir en el ranking (por defecto 10) -> int\n",
    "    SALIDA EN PANTALLA:\n",
    "        - diagrama de barras con el ranking de las películas más populares del género\n",
    "           \n",
    "    Se usarán las siguientes instrucciones matplotlib para generar la gráfica:\n",
    "            plt.barh(peliculas, popularidades)\n",
    "            plt.show()\n",
    "            \n",
    "    Donde las dos variables usadas significan lo siguiente:\n",
    "        - titulos: lista (ordenada de mayor a menor popularidad) de las películas a mostrar\n",
    "        - popularidades: lista (alineada con la anterior) con los valores de popularidad\n",
    "    '''\n",
    "    pass"
   ]
  },
  {
   "attachments": {
    "image.png": {
     "image/png": "[encoded data removed]"
    }
   },
   "cell_type": "markdown",
   "metadata": {},
   "source": [
    "La salida de la primera celda de test debería ser la siguiente:\n",
    "\n",
    "<img src=\"./img/test1.png\" alt=\"Drawing\" style=\"width:8cm;\"/>"
   ]
  },
  {
   "cell_type": "code",
   "execution_count": null,
   "metadata": {},
   "outputs": [],
   "source": [
    "grupo_comedy = {'Comedy': \n",
    "          [Pelicula('The Emoji Movie', 'Comedy|Family|Animation', 10.83876, datetime(2017, 7, 28, 0, 0)),\n",
    "           Pelicula('Minions', 'Family|Animation|Adventure|Comedy', 156.093026, datetime(2015, 6, 17, 0, 0)), \n",
    "           Pelicula('Despicable Me 3', 'Science Fiction|Adventure|Animation|Comedy|Family', 79.053164, datetime(2017, 6, 15, 0, 0)), \n",
    "           Pelicula('Deadpool', 'Action|Adventure|Comedy|Romance', 32.101662, datetime(2016, 2, 9, 0, 0))]\n",
    "     }\n",
    "\n",
    "muestra_peliculas_mas_populares_de_genero(grupo_comedy, 'Comedy', top=3)"
   ]
  },
  {
   "cell_type": "markdown",
   "metadata": {},
   "source": [
    "La salida de la segunda celda de test debería ser la siguiente:\n",
    "\n",
    "<img src=\"./img/test2.png\" alt=\"Drawing\" style=\"width:14cm;\"/>"
   ]
  },
  {
   "cell_type": "code",
   "execution_count": null,
   "metadata": {},
   "outputs": [],
   "source": [
    "# TEST de 'muestra_peliculas_mas_populares_de_genero'\n",
    "grupos_genero = agrupa_por_genero(REGISTROS)\n",
    "muestra_peliculas_mas_populares_de_genero(grupos_genero, 'Comedy')"
   ]
  }
 ],
 "metadata": {
  "kernelspec": {
   "display_name": "Python 3",
   "language": "python",
   "name": "python3"
  },
  "language_info": {
   "codemirror_mode": {
    "name": "ipython",
    "version": 3
   },
   "file_extension": ".py",
   "mimetype": "text/x-python",
   "name": "python",
   "nbconvert_exporter": "python",
   "pygments_lexer": "ipython3",
   "version": "3.6.3"
  }
 },
 "nbformat": 4,
 "nbformat_minor": 2
}
