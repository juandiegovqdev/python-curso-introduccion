{
 "cells": [
  {
   "cell_type": "markdown",
   "metadata": {},
   "source": [
    "# Fundamentos de la Programación (Grado en Ingeniería de la Salud)\n",
    "## Ejercicio \"Óscar\" (8 de septiembre de 2020)"
   ]
  },
  {
   "cell_type": "markdown",
   "metadata": {},
   "source": [
    "Antes de empezar, ejecutaremos la siguiente celda con las importaciones necesarias para poder realizar el ejercicio:"
   ]
  },
  {
   "cell_type": "code",
   "execution_count": 1,
   "metadata": {},
   "outputs": [],
   "source": [
    "import csv\n",
    "from datetime import datetime\n",
    "from matplotlib import pyplot as plt\n",
    "from collections import namedtuple, Counter"
   ]
  },
  {
   "cell_type": "markdown",
   "metadata": {},
   "source": [
    "## 1. Carga de datos (0.5 puntos)"
   ]
  },
  {
   "attachments": {},
   "cell_type": "markdown",
   "metadata": {},
   "source": [
    "Tomaremos la información de un fichero de entrada llamado <code>premios_oscar.csv</code> en el que se encuentran registrados datos de los premios Óscar desde 1927 hasta 2015. El fichero se encuentra en la carpeta <code>./data/</code>. Cada línea del fichero de entrada contiene las siguientes informaciones:\n",
    "\n",
    "- **Year:** año en el que se hace entrega del premio. Algunos registros pueden tener dos años (por ejemplo 1927/1928) en esos casos nos quedaremos solo con el primero de ellos.\n",
    "- **Ceremony:** número de orden de la correspondiente ceremonia. La de 1927/1928 fue la primera, y la de 2015 fue la número 88.\n",
    "- **Award:** categoría del premio.\n",
    "- **Name:** nombre del premiado. Pueden ser actores, directores, productores, películas, etc.\n",
    "- **Film:** nombre de la película asociada al premio. Cuando el premio se da directamente a la película (aparece en la columna <code>Name</code>), este campo se aprovecha para incluir otras informaciones.\n",
    "\n",
    "He aquí un fragmento con las primeras líneas del fichero de entrada:\n",
    "\n",
    "<img src=\"./img/datos.png\" alt=\"Drawing\" style=\"width:14cm;\"/>\n",
    "\n",
    "La primera función que implementaremos será la de lectura. Será la encargada de leer los datos del fichero de entrada y cargarlos en una lista de tuplas:"
   ]
  },
  {
   "cell_type": "code",
   "execution_count": 2,
   "metadata": {},
   "outputs": [],
   "source": [
    "Premio = namedtuple('Premio', 'año ceremonia categoria premiado pelicula')\n",
    "\n",
    "def lee_premios(fichero):\n",
    "    ''' Lee el fichero de entrada y devuelve una lista de registros.\n",
    "    \n",
    "    Los años deben convertirse a números enteros. En el caso de años compuestos (como '1927/1928')\n",
    "    se obtendrá el número entero correspondiente al primero de los años.\n",
    "    \n",
    "    ENTRADA:\n",
    "       - fichero: nombre del fichero de entrada\n",
    "    SALIDA:\n",
    "       - lista de registros -> [Premio(int, int, str, str, str)]\n",
    "    '''\n",
    "    registros = []\n",
    "    with open(fichero, 'r', encoding='utf-8') as f:\n",
    "        lector = csv.reader(f)\n",
    "        next(lector)\n",
    "        registros = [Premio(int(año.split('/')[0]), int(ceremonia), categoria, premiado, pelicula)\n",
    "                    for año, ceremonia, categoria, premiado, pelicula in lector]\n",
    "    return registros"
   ]
  },
  {
   "cell_type": "code",
   "execution_count": 4,
   "metadata": {},
   "outputs": [
    {
     "name": "stdout",
     "output_type": "stream",
     "text": [
      "2016\n",
      "[Premio(año=1927, ceremonia=1, categoria='Actor', premiado='Emil Jannings', pelicula='The Last Command'), Premio(año=1927, ceremonia=1, categoria='Actress', premiado='Janet Gaynor', pelicula='7th Heaven'), Premio(año=1927, ceremonia=1, categoria='Art Direction', premiado='William Cameron Menzies', pelicula='The Dove; Tempest'), Premio(año=1927, ceremonia=1, categoria='Cinematography', premiado='Charles Rosher', pelicula='Sunrise'), Premio(año=1927, ceremonia=1, categoria='Cinematography', premiado='Karl Struss', pelicula='Sunrise')]\n"
     ]
    }
   ],
   "source": [
    "# TEST de 'lee_premios', la salida esperada es:\n",
    "#   2016 \n",
    "#   [Premio(año=1927, ceremonia=1, categoria='Actor', premiado='Emil Jannings', pelicula='The Last Command'), \n",
    "#    Premio(año=1927, ceremonia=1, categoria='Actress', premiado='Janet Gaynor', pelicula='7th Heaven'), \n",
    "#    Premio(año=1927, ceremonia=1, categoria='Art Direction', premiado='William Cameron Menzies', pelicula='The Dove; Tempest'), \n",
    "#    Premio(año=1927, ceremonia=1, categoria='Cinematography', premiado='Charles Rosher', pelicula='Sunrise'), \n",
    "#    Premio(año=1927, ceremonia=1, categoria='Cinematography', premiado='Karl Struss', pelicula='Sunrise')]\n",
    "REGISTROS = lee_premios('premios_oscar.csv')\n",
    "print(len(REGISTROS))\n",
    "print(REGISTROS[:5])"
   ]
  },
  {
   "cell_type": "markdown",
   "metadata": {},
   "source": [
    "## 2. Consulta y filtrado (7.5 puntos)"
   ]
  },
  {
   "cell_type": "markdown",
   "metadata": {},
   "source": [
    "Una vez que hemos cargado los datos en una estructura en memoria ya podemos empezar a procesarlos. En esta sección implementaremos algunas funciones de consulta y filtrado que nos permitirán trabajar con ellos.\n",
    "\n",
    "La primera función se llama <code>calcula_categorias</code> y obtiene el conjunto de las distintas categorías de premios que se han dado a lo largo de todas las ediciones."
   ]
  },
  {
   "cell_type": "code",
   "execution_count": 6,
   "metadata": {},
   "outputs": [],
   "source": [
    "def calcula_categorias(registros):\n",
    "    \n",
    "    ''' Categorías distintas a lo largo de la historia de los premios\n",
    "    \n",
    "    ENTRADA:\n",
    "       - registros: lista de registros ->  [Premio(int, int, str, str, str)]\n",
    "    SALIDA:\n",
    "       - Conjunto de categorías -> {str}\n",
    "    '''\n",
    "    \n",
    "    solucionAux = []\n",
    "    \n",
    "    for i in registros:\n",
    "        solucionAux.append(i[2])\n",
    "        \n",
    "    solucion = set(solucionAux)\n",
    "    \n",
    "    return solucion"
   ]
  },
  {
   "cell_type": "code",
   "execution_count": 8,
   "metadata": {},
   "outputs": [
    {
     "name": "stdout",
     "output_type": "stream",
     "text": [
      "105\n",
      "['Actor', 'Actor in a Leading Role', 'Actor in a Supporting Role', 'Actress', 'Actress in a Leading Role']\n"
     ]
    }
   ],
   "source": [
    "# TEST de 'calcula_categorias', la salida esperada es:\n",
    "#   105\n",
    "#   ['Actor', 'Actor in a Leading Role', 'Actor in a Supporting Role', 'Actress', 'Actress in a Leading Role']\n",
    "\n",
    "print(len(calcula_categorias(REGISTROS)))\n",
    "print(sorted(list(calcula_categorias(REGISTROS)))[:5])"
   ]
  },
  {
   "cell_type": "markdown",
   "metadata": {},
   "source": [
    "La siguiente función es <code>calcula_peliculas_super_premiadas</code>. La función toma una lista de registros y obtiene el conjunto de películas que han obtenido premios individuales y también globales. Aparecen, por tanto, en la columna <code>premiado</code> y también en la columna <code>pelicula</code>."
   ]
  },
  {
   "cell_type": "code",
   "execution_count": 19,
   "metadata": {},
   "outputs": [],
   "source": [
    "def calcula_peliculas_super_premiadas(registros):\n",
    "    ''' Películas que han obtenido premios individuales (aparecen en la columna 'pelicula') y también \n",
    "    globales (aparecen en la columna 'premiado')\n",
    "    \n",
    "    ENTRADA:\n",
    "       - registros: lista de registros ->  [Premio(int, int, str, str, str)]\n",
    "    SALIDA:\n",
    "       - Conjunto de películas que han obtenido ambos tipos de premios -> {str}\n",
    "    '''\n",
    "    \n",
    "    solucionAux = []\n",
    "    \n",
    "    for i in registros:\n",
    "        if i[2] == 'Cinematography':\n",
    "            solucionAux.append(i[4])\n",
    "        \n",
    "    solucion = set(solucionAux)\n",
    "    \n",
    "    return solucion"
   ]
  },
  {
   "cell_type": "code",
   "execution_count": 20,
   "metadata": {},
   "outputs": [
    {
     "name": "stdout",
     "output_type": "stream",
     "text": [
      "50\n",
      "['Andrew Lesnie', 'Anthony Dod Mantle', 'Billy Williams, Ronnie Taylor', 'Burnett Guffey', 'Charles Bryant Lang, Jr.']\n"
     ]
    }
   ],
   "source": [
    "# TEST de 'calcula_peliculas_super_premiadas', la salida esperada es:\n",
    "#   154\n",
    "#   ['12 Years a Slave', 'A Beautiful Mind', 'A Double Life', 'A Man for All Seasons', 'A Passage to India']\n",
    "print(len(calcula_peliculas_super_premiadas(REGISTROS)))\n",
    "print(sorted(list(calcula_peliculas_super_premiadas(REGISTROS)))[:5])"
   ]
  },
  {
   "cell_type": "markdown",
   "metadata": {},
   "source": [
    "La siguiente función que implementarremos es <code>filtro_generico</code>. Esta función toma una lista de registros y devuelve una selección de registros que cumplen el criterio recibido como parámetro."
   ]
  },
  {
   "cell_type": "code",
   "execution_count": null,
   "metadata": {},
   "outputs": [],
   "source": [
    "def filtro_generico(registros, criterio):\n",
    "    \n",
    "    ''' Selección de registros que cumplen un determinado criterio\n",
    "    \n",
    "    ENTRADA:\n",
    "       - registros: lista de registros ->  [Premio(int, int, str, str, str)]\n",
    "       - criterio: nombre de función, o expresión lambda -> function\n",
    "    SALIDA:\n",
    "       - registros que cumplen el criterio ->  [Premio(int, int, str, str, str)]\n",
    "    '''\n",
    "    \n",
    "    pass"
   ]
  },
  {
   "cell_type": "code",
   "execution_count": null,
   "metadata": {},
   "outputs": [],
   "source": [
    "### EJERCICIO: implementar tres llamadas de TEST de 'filtro_generico' que obtengan:\n",
    "#  - El número de registros en los que aparezca la palabra 'love' (en mayúsculas o minúsculas) en la columna 'pelicula'\n",
    "#  - El número de registros en los que aparezca el nombre 'john' (en mayúsculas o minúsculas) en la columna 'premiado'\n",
    "#  - El número de registros en los que el año sea múltiplo de 4\n",
    "\n",
    "# Las salidas esperadas para estas consultas son:\n",
    "#    3\n",
    "#    9\n",
    "#  501\n",
    "\n"
   ]
  },
  {
   "cell_type": "markdown",
   "metadata": {},
   "source": [
    "La siguiente función es <code>calcula_palmares</code>. Esta función toma una lista de registros y un número de ceremonia, y calcula un diccionario en el que las claves son los premiados en esa ceremonia (aparecen en columnas <code>premiado</code> o <code>pelicula</code>), y los valores reflejan el número de veces que han sido premiados."
   ]
  },
  {
   "cell_type": "code",
   "execution_count": null,
   "metadata": {},
   "outputs": [],
   "source": [
    "def calcula_palmares(registros, ceremonia):\n",
    "    ''' Cálculo del número de premios que ha recibido cada premiado\n",
    "    \n",
    "    ENTRADA:\n",
    "       - registros: lista de registros ->  [Premio(int, int, str, str, str)]\n",
    "       - ceremonia: número de la ceremonia para la que se calcula el palmarés -> int\n",
    "    SALIDA:\n",
    "       - diccionario con el número de premios de cada premiado ->  {str:int}\n",
    "    '''\n",
    "    pass"
   ]
  },
  {
   "cell_type": "code",
   "execution_count": null,
   "metadata": {},
   "outputs": [],
   "source": [
    "# TEST de 'calcula_palmares', la salida esperada es:\n",
    "#   {'Emil Jannings': 1,\n",
    "#    'Janet Gaynor': 1,\n",
    "#    'William Cameron Menzies': 1,\n",
    "#    'Charles Rosher': 1,\n",
    "#    'Karl Struss': 1,\n",
    "#    'Lewis Milestone': 1,\n",
    "#    'Frank Borzage': 1,\n",
    "#    'Roy Pomeroy': 1,\n",
    "#    'Paramount Famous Lasky': 1,\n",
    "#    'Fox': 1,\n",
    "#    'Benjamin Glazer': 1,\n",
    "#    'Ben Hecht': 1,\n",
    "#    'Warner Brothers': 1,\n",
    "#    'Charles Chaplin': 1,\n",
    "#    'The Last Command': 1,\n",
    "#    '7th Heaven': 3,\n",
    "#    'The Dove; Tempest': 1,\n",
    "#    'Sunrise': 3,\n",
    "#    'Two Arabian Knights': 1,\n",
    "#    'Wings': 2,\n",
    "#    'Underworld': 1,\n",
    "#    'The Jazz Singer': 1,\n",
    "#    'The Circus': 1}\n",
    "calcula_palmares(REGISTROS, 1)"
   ]
  },
  {
   "cell_type": "markdown",
   "metadata": {},
   "source": [
    "## 3. Visualización (2 puntos)"
   ]
  },
  {
   "cell_type": "markdown",
   "metadata": {},
   "source": [
    "La función de visualización que implementaremos será <code>muestra_triunfadores</code>. Toma como entrada una lista de registros, y muestra una curva con la evolución del número de premios del triunfador de cada edición. Este número se calculará con el máximo de los valores del diccionario obtenido con la función <code>calcula_palmares</code> para cada ceremonia. "
   ]
  },
  {
   "cell_type": "code",
   "execution_count": null,
   "metadata": {},
   "outputs": [],
   "source": [
    "def muestra_triunfadores(registros):\n",
    "    ''' Genera una curva con la evolución del número de premios obtenidos por el triunfador de cada ceremonia\n",
    "    \n",
    "    ENTRADA:\n",
    "        - registros: lista de registros ->  [Premio(int, int, str, str, str)]\n",
    "    SALIDA EN PANTALLA:\n",
    "        - curva con las ceremonias en el eje 'X', y el número de premios en el eje 'Y'\n",
    "           \n",
    "    Se usarán las siguientes instrucciones matplotlib para generar la gráfica:\n",
    "        plt.plot(ceremonias, premios_triunfadores)\n",
    "        plt.show()\n",
    "            \n",
    "    Donde las dos variables usadas significan lo siguiente:\n",
    "        - ceremonias: lista con el número de cada ceremonia ordenada de menor a mayor\n",
    "        - premios_triunfadores: lista (alineada con la anterior) con el número de premios del triunfador de cada ceremonia\n",
    "    '''\n",
    "    pass"
   ]
  },
  {
   "cell_type": "code",
   "execution_count": null,
   "metadata": {},
   "outputs": [],
   "source": [
    "# TEST de 'muestra_triunfadores'\n",
    "muestra_triunfadores(REGISTROS)"
   ]
  },
  {
   "attachments": {},
   "cell_type": "markdown",
   "metadata": {},
   "source": [
    "La salida de la celda de test anterior debería ser la siguiente:\n",
    "\n",
    "<img src=\"./img/test.png\" alt=\"Drawing\" style=\"width:8cm;\"/> "
   ]
  }
 ],
 "metadata": {
  "kernelspec": {
   "display_name": "Python 3 (ipykernel)",
   "language": "python",
   "name": "python3"
  },
  "language_info": {
   "codemirror_mode": {
    "name": "ipython",
    "version": 3
   },
   "file_extension": ".py",
   "mimetype": "text/x-python",
   "name": "python",
   "nbconvert_exporter": "python",
   "pygments_lexer": "ipython3",
   "version": "3.9.12"
  }
 },
 "nbformat": 4,
 "nbformat_minor": 4
}
