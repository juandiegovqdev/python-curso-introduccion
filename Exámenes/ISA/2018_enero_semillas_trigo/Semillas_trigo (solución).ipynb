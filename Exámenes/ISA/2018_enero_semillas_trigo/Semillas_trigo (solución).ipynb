{
 "cells": [
  {
   "cell_type": "markdown",
   "metadata": {},
   "source": [
    "# Prueba de laboratorio: Semillas de Trigo\n",
    "**Fecha:** 18/01/2018"
   ]
  },
  {
   "cell_type": "markdown",
   "metadata": {},
   "source": [
    "Antes de empezar, ejecutaremos la siguiente celda con las importaciones necesarias para poder realizar el ejercicio:"
   ]
  },
  {
   "cell_type": "code",
   "execution_count": 1,
   "metadata": {
    "collapsed": true
   },
   "outputs": [],
   "source": [
    "import csv\n",
    "from matplotlib import pylab as plt"
   ]
  },
  {
   "cell_type": "markdown",
   "metadata": {},
   "source": [
    "## 1. Carga de datos (2 puntos)"
   ]
  },
  {
   "cell_type": "markdown",
   "metadata": {},
   "source": [
    "Tomaremos los datos de un fichero de entrada llamado <code>semillas_trigo.csv</code> en el que se encuentran distintas mediciones de semillas de tres variedades de trigo: _kama_, _rosa_ y _canadian_. El fichero se encuentra en la carpeta <code>./csv</code>. Cada línea del fichero de entrada se corresponde con la medición de una semilla y contiene cinco informaciones sobre la semilla:\n",
    "- longitud\n",
    "- anchura\n",
    "- densidad\n",
    "- asimetria\n",
    "- tipo\n",
    "\n",
    "He aquí un fragmento con las primeras líneas del fichero de entrada:\n",
    "<pre>\n",
    "    longitud,anchura,densidad,asimetria,tipo\n",
    "    5.763,3.312,0.871,2.221,kama\n",
    "    5.553999999999999,3.333,0.8811,1.018,kama\n",
    "    5.291,3.3369999999999997,0.905,2.699,kama\n",
    "    5.324,3.3789999999999996,0.8955,2.259,kama\n",
    "    5.6579999999999995,3.562,0.9034,1.355,kama\n",
    "</pre>\n",
    "\n",
    "La primera función que implementaremos será la de lectura. Será la encargada de leer los datos del fichero de entrada y cargarlos en una lista de tuplas:"
   ]
  },
  {
   "cell_type": "code",
   "execution_count": 2,
   "metadata": {
    "collapsed": true
   },
   "outputs": [],
   "source": [
    "def lee_semillas(fichero):\n",
    "    ''' Lee el fichero de entrada y devuelve una lista de medidas de semillas\n",
    "\n",
    "    Cada línea del fichero se corresponde con una semilla, y se representa\n",
    "    con una tupla con los siguientes valores:\n",
    "        - longitud\n",
    "        - anchura\n",
    "        - densidad\n",
    "        - asimetria\n",
    "        - tipo\n",
    "    Hay que transformar ciertos elementos de la entrada en valores numéricos\n",
    "    para que puedan ser procesados posteriormente.\n",
    "    '''\n",
    "    medidas = []\n",
    "    with open(fichero, 'r') as f:\n",
    "        lector = csv.reader(f)\n",
    "        next(lector)\n",
    "        for longitud, anchura, densidad, asimetria, tipo in lector:\n",
    "            longitud = float(longitud)\n",
    "            anchura = float(anchura)\n",
    "            densidad = float(densidad)\n",
    "            asimetria = float(asimetria)\n",
    "            medidas.append((longitud, anchura, densidad, asimetria, tipo))\n",
    "    return medidas"
   ]
  },
  {
   "cell_type": "code",
   "execution_count": 3,
   "metadata": {},
   "outputs": [
    {
     "name": "stdout",
     "output_type": "stream",
     "text": [
      "210 [(5.763, 3.312, 0.871, 2.221, 'kama'), (5.553999999999999, 3.333, 0.8811, 1.018, 'kama')]\n"
     ]
    }
   ],
   "source": [
    "# Test de la función lee_semillas\n",
    "medidas = lee_semillas('./csv/semillas_trigo.csv')\n",
    "\n",
    "# La salida esperada de la siguiente instrucción es: \n",
    "#    210 [(5.763, 3.312, 0.871, 2.221, 'kama'), (5.553999999999999, 3.333, 0.8811, 1.018, 'kama')] \n",
    "print(len(medidas), medidas[:2])"
   ]
  },
  {
   "cell_type": "markdown",
   "metadata": {
    "collapsed": true
   },
   "source": [
    "## 2. Consulta y filtrado (6 puntos)"
   ]
  },
  {
   "cell_type": "markdown",
   "metadata": {},
   "source": [
    "Una vez que hemos cargado los datos en una estructura en memoria ya podemos empezar procesarlos. En esta sección implementaremos algunas funciones de consulta y filtrado que nos permitirán trabajar con ellos.\n",
    "\n",
    "La primera de las funciones se llama <code>muestra_rangos</code>. Toma como entrada una lista de tuplas de medidas, y calcula el máximo y el mínimo de cada medida. Las posiciones de cada medida en las tuplas son las siguientes:\n",
    "- _longitud_: posición 0\n",
    "- _anchura_: posición 1\n",
    "- _densidad_: posición 2\n",
    "- _asimetria_: posición 3"
   ]
  },
  {
   "cell_type": "code",
   "execution_count": 4,
   "metadata": {
    "collapsed": true
   },
   "outputs": [],
   "source": [
    "def muestra_rangos(medidas):\n",
    "    ''' Muestra el máximo y el mínimo de cada una de las cuatro medidas\n",
    "    \n",
    "    Toma como entrada una lista de tuplas de medidas, y calcula el máximo\n",
    "    y el mínimo de cada medida. Las posiciones de cada medida en las tuplas\n",
    "    son las siguientes:\n",
    "        - longitud: posición 0\n",
    "        - anchura: posición 1\n",
    "        - densidad: posición 2\n",
    "        - asimetria: posición 3\n",
    "    La función no devuelve nada, mostrará un mensaje como el siguiente:\n",
    "        El rango de valores para la longitud es [4.899,6.675]\n",
    "        El rango de valores para la anchura es [2.63,4.033]\n",
    "        El rango de valores para la densidad es [0.8081,0.9183]\n",
    "        El rango de valores para la asimetria es [0.7651,8.456]\n",
    "    '''\n",
    "    longitudes = []\n",
    "    anchuras = []\n",
    "    densidades = []\n",
    "    asimetrias = []\n",
    "    for longitud, anchura, densidad, asimetria, _ in medidas:\n",
    "        longitudes.append(longitud)\n",
    "        anchuras.append(anchura)\n",
    "        densidades.append(densidad)\n",
    "        asimetrias.append(asimetria)\n",
    "    print(\"El rango de valores para la longitud es [{},{}]\".format(min(longitudes), max(longitudes)))\n",
    "    print(\"El rango de valores para la anchura es [{},{}]\".format(min(anchuras), max(anchuras)))\n",
    "    print(\"El rango de valores para la densidad es [{},{}]\".format(min(densidades), max(densidades)))\n",
    "    print(\"El rango de valores para la asimetria es [{},{}]\".format(min(asimetrias), max(asimetrias)))"
   ]
  },
  {
   "cell_type": "code",
   "execution_count": 5,
   "metadata": {},
   "outputs": [
    {
     "name": "stdout",
     "output_type": "stream",
     "text": [
      "El rango de valores para la longitud es [4.899,6.675]\n",
      "El rango de valores para la anchura es [2.63,4.033]\n",
      "El rango de valores para la densidad es [0.8081,0.9183]\n",
      "El rango de valores para la asimetria es [0.7651,8.456]\n"
     ]
    }
   ],
   "source": [
    "# Test de la función muestra_rangos\n",
    "muestra_rangos(medidas)"
   ]
  },
  {
   "cell_type": "markdown",
   "metadata": {},
   "source": [
    "La segunda de las funciones se llama <code>filtra_por_asimetria</code>, toma una lista de tuplas de medidas y selecciona solo aquellas cuya asimetría se encuentra entre los valores <code>max_asimetria</code> y <code>min_asimetria</code>:"
   ]
  },
  {
   "cell_type": "code",
   "execution_count": null,
   "metadata": {
    "collapsed": true
   },
   "outputs": [],
   "source": [
    "def filtra_por_asimetria(medidas, min_asimetria, max_asimetria):\n",
    "    ''' Selecciona tuplas de medidas en función de la asimetría\n",
    "\n",
    "    Toma como entrada una lista de tuplas de medidas, y produce como\n",
    "    salida otra lista de tuplas en la que solo se incluyen aquellas cuya\n",
    "    asimetria se encuentra entre min_asimetria y max_asimetria.\n",
    "    '''\n",
    "    filtradas = [(l, a, d, asim, t) for l, a, d, asim, t in medidas\n",
    "                 if asim >= min_asimetria and asim <= max_asimetria]\n",
    "    return filtradas"
   ]
  },
  {
   "cell_type": "code",
   "execution_count": null,
   "metadata": {
    "collapsed": true
   },
   "outputs": [],
   "source": [
    "# Test de la función filtra_por_asimetria\n",
    "filtradas = filtra_por_asimetria(medidas, 2, 3)\n",
    "\n",
    "# La salida esperada de la siguiente instrucción es: \n",
    "#    49 [(5.763, 3.312, 0.871, 2.221, 'kama'), (5.291, 3.3369999999999997, 0.905, 2.699, 'kama')]  \n",
    "print(len(filtradas), filtradas[:2])"
   ]
  },
  {
   "cell_type": "markdown",
   "metadata": {},
   "source": [
    "La última función de consulta se llama <code>agrupa_por_tipo</code>. Toma como entrada una lista de tuplas de medidas, y produce como salida un diccionario cuyas claves son los tipos de semillas encontrados. Los valores del diccionario son listas de tuplas con las correspondientes medidas."
   ]
  },
  {
   "cell_type": "code",
   "execution_count": null,
   "metadata": {
    "collapsed": true
   },
   "outputs": [],
   "source": [
    "def agrupa_por_tipo(medidas):\n",
    "    ''' Crea un diccionario de medidas indexado por el tipo de semillas\n",
    "    \n",
    "    Toma como entrada una lista de tuplas de medidas, y produce como salida un\n",
    "    diccionario cuyas claves son los tipos de semillas encontrados. Los valores\n",
    "    asociados a cada clave serán listas de tuplas con las cuatro medidas. Las tuplas\n",
    "    se construirán manteniendo el orden de las medidas originales, es decir:\n",
    "        - longitud: posición 0\n",
    "        - anchura: posición 1\n",
    "        - densidad: posición 2\n",
    "        - asimetria: posición 3\n",
    "    \n",
    "    La solución debe ser genérica y adaptarse a los datos que\n",
    "    se reciben como parámetro para calcular el conjunto de claves del\n",
    "    diccionario.\n",
    "    '''\n",
    "    tipos = [t for _, _, _, _, t in medidas]\n",
    "    grupos = {t:[] for t in tipos}\n",
    "    for longitud, anchura, densidad, asimetria, tipo in medidas:\n",
    "        grupos[tipo].append((longitud, anchura, densidad, asimetria))\n",
    "    return grupos"
   ]
  },
  {
   "cell_type": "code",
   "execution_count": null,
   "metadata": {
    "collapsed": true
   },
   "outputs": [],
   "source": [
    "# Test de la función agrupa_por_tipo\n",
    "grupos = agrupa_por_tipo(medidas)\n",
    "\n",
    "# La salida esperada de las siguientes instrucciones es: \n",
    "#    70 [(5.763, 3.312, 0.871, 2.221), (5.553999999999999, 3.333, 0.8811, 1.018)]\n",
    "#    70 [(6.191, 3.5610000000000004, 0.8673, 4.0760000000000005), (5.997999999999999, 3.484, 0.8623, 4.675)]\n",
    "#    70 [(5.472, 2.9939999999999998, 0.848, 5.303999999999999), (5.541, 3.073, 0.8613, 7.035)]\n",
    "for tipo in grupos:\n",
    "    print(len(grupos[tipo]), grupos[tipo][:2])"
   ]
  },
  {
   "cell_type": "markdown",
   "metadata": {},
   "source": [
    "## 3. Visualización (2 puntos)"
   ]
  },
  {
   "cell_type": "markdown",
   "metadata": {},
   "source": [
    "La función de visualización que implementaremos será <code>muestra_proporcion_por_tipo</code>. Toma como entrada una lista de tuplas de medidas y genera un diagrama de tarta con un sector por cada tipo de semilla encontrado. "
   ]
  },
  {
   "cell_type": "code",
   "execution_count": null,
   "metadata": {
    "collapsed": true
   },
   "outputs": [],
   "source": [
    "def muestra_proporcion_por_tipo(medidas):\n",
    "    ''' Genera una diagrama de tarta con la distribución por tipos de semilla\n",
    "\n",
    "    Toma como entrada una lista de tuplas de medidas y genera un diagrama de tarta\n",
    "    con un sector por cada tipo de semilla encontrado.\n",
    "\n",
    "    Supondremos que como máximo habrá tres tipos de semillas, por lo que con una paleta\n",
    "    de tres colores será suficiente:\n",
    "        paleta = ['blue', 'red', 'green']\n",
    "    \n",
    "    Se usarán las siguientes instrucciones matplotlib para generar el diagrama\n",
    "    de tarta:\n",
    "        plt.pie(valores, labels=tipos, colors=colores, autopct='%1.1f%%', startangle=140)\n",
    "        plt.axis('equal')\n",
    "        plt.show()\n",
    "    '''\n",
    "    paleta = ['blue', 'red', 'green']\n",
    "    grupos = agrupa_por_tipo(medidas)\n",
    "    tipos = grupos.keys()\n",
    "    valores = [len(grupos[t]) for t in tipos]\n",
    "    colores = paleta[:len(tipos)]\n",
    "    plt.pie(valores, labels=tipos, colors=colores, autopct='%1.1f%%', startangle=140)\n",
    "    plt.axis('equal')\n",
    "    plt.show()"
   ]
  },
  {
   "cell_type": "markdown",
   "metadata": {},
   "source": [
    "La salida de la celda de test debería ser la siguiente:\n",
    "![title](./diagrama_tarta.png)"
   ]
  },
  {
   "cell_type": "code",
   "execution_count": null,
   "metadata": {
    "collapsed": true
   },
   "outputs": [],
   "source": [
    "# Test de la función muestra_proporcion_por_tipo\n",
    "filtradas = filtra_por_asimetria(medidas, 2, 3)\n",
    "muestra_proporcion_por_tipo(filtradas)"
   ]
  }
 ],
 "metadata": {
  "kernelspec": {
   "display_name": "Python 3",
   "language": "python",
   "name": "python3"
  },
  "language_info": {
   "codemirror_mode": {
    "name": "ipython",
    "version": 3
   },
   "file_extension": ".py",
   "mimetype": "text/x-python",
   "name": "python",
   "nbconvert_exporter": "python",
   "pygments_lexer": "ipython3",
   "version": "3.6.3"
  }
 },
 "nbformat": 4,
 "nbformat_minor": 2
}
