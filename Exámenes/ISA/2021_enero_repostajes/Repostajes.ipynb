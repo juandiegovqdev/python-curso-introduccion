{
 "cells": [
  {
   "cell_type": "markdown",
   "metadata": {},
   "source": [
    "# Fundamentos de la Programación (Grado en Ingeniería de la Salud)\n",
    "## Ejercicio \"Repostajes\""
   ]
  },
  {
   "cell_type": "markdown",
   "metadata": {},
   "source": [
    "Antes de empezar, ejecutaremos la siguiente celda con las importaciones necesarias para poder realizar el ejercicio:"
   ]
  },
  {
   "cell_type": "code",
   "execution_count": null,
   "metadata": {},
   "outputs": [],
   "source": [
    "import csv\n",
    "from datetime import datetime\n",
    "from matplotlib import pyplot as plt\n",
    "from collections import namedtuple"
   ]
  },
  {
   "cell_type": "markdown",
   "metadata": {},
   "source": [
    "## 1. Carga de datos (0.5 puntos)"
   ]
  },
  {
   "cell_type": "markdown",
   "metadata": {},
   "source": [
    "Tomaremos los datos de un fichero de entrada llamado <code>Repostajes.csv</code> en el que se encuentran registrados datos de los repostajes de gasolina realizados en un vehículo. El fichero se encuentra en la carpeta <code>./data</code>. Cada línea del fichero de entrada se corresponde con un repostaje y contiene las siguientes informaciones:\n",
    "\n",
    "- **Fecha:** fecha del repostaje\n",
    "- **Euros:** importe total abonado\n",
    "- **Precio:** precio en euros/litro pagado\n",
    "- **Litros:** litros introducidos en el depósito \n",
    "- **Kilometraje:** total de kilometros recorridos por el vehículo en el momento de repostar\n",
    "- **Gasolinera:** estación de servicio en la que se ha realizado el repostaje\n",
    "\n",
    "He aquí un fragmento con las primeras líneas del fichero de entrada:\n",
    "\n",
    "<img src=\"./img/datos.PNG\" alt=\"Drawing\" style=\"width:15cm;\"/>\n",
    "\n",
    "La primera función que implementaremos será la de lectura. Será la encargada de leer los datos del fichero de entrada y cargarlos en una lista de tuplas:"
   ]
  },
  {
   "cell_type": "code",
   "execution_count": null,
   "metadata": {},
   "outputs": [],
   "source": [
    "Repostaje = namedtuple('Repostaje', 'fecha euros precio litros kilometraje gasolinera')\n",
    "\n",
    "def lee_repostajes(fichero):\n",
    "    ''' Lee el fichero de entrada y devuelve una lista de registros\n",
    "    \n",
    "    ENTRADA:\n",
    "       - fichero: nombre del fichero de entrada\n",
    "    SALIDA:\n",
    "       - lista de registros -> [Repostaje(date, float, float, float, int, str)]\n",
    "\n",
    "    Hay que transformar ciertos elementos de la entrada en valores numéricos\n",
    "    para que puedan ser procesados posteriormente.\n",
    "    \n",
    "    Las fechas deben convertirse a objetos 'datetime' con la siguiente instrucción:\n",
    "        datetime.strptime(fecha, '%d/%m/%Y').date()\n",
    "    '''\n",
    "    pass"
   ]
  },
  {
   "cell_type": "code",
   "execution_count": null,
   "metadata": {},
   "outputs": [],
   "source": [
    "# Test de la función lee_compras\n",
    "REGISTROS = lee_repostajes('./data/Repostajes.csv')\n",
    "\n",
    "# La salida esperada de la siguiente instrucción es: \n",
    "#    179 [Repostaje(fecha=datetime.date(2011, 10, 11, 0, 0), euros=40.0, precio=1.295, litros=30.89, kilometraje=6, gasolinera='B'), \n",
    "#         Repostaje(fecha=datetime.date(2011, 10, 15, 0, 0), euros=50.0, precio=1.302, litros=38.4, kilometraje=345, gasolinera='C')]\n",
    "print(len(REGISTROS), REGISTROS[:2])"
   ]
  },
  {
   "cell_type": "markdown",
   "metadata": {},
   "source": [
    "## 2. Consulta y filtrado (7.5 puntos)"
   ]
  },
  {
   "cell_type": "markdown",
   "metadata": {},
   "source": [
    "Una vez que hemos cargado los datos en una estructura en memoria ya podemos empezar a procesarlos. En esta sección implementaremos algunas funciones de consulta y filtrado que nos permitirán trabajar con ellos.\n",
    "\n",
    "La primera función se llama <code>calcula_gasolineras</code> y obtiene la lista de gasolineras, ordenada alfabéticamente, en las que se ha realizado algún repostaje."
   ]
  },
  {
   "cell_type": "code",
   "execution_count": null,
   "metadata": {},
   "outputs": [],
   "source": [
    "def calcula_gasolineras(registros):\n",
    "    ''' Lista ordenada de gasolineras\n",
    "    \n",
    "    ENTRADA:\n",
    "       - registros: lista de registros -> [Repostaje(date, float, float, float, int, str)]\n",
    "    SALIDA:\n",
    "       - Lista de gasolineras ordenanda alfabéticamente -> [str]\n",
    "    '''\n",
    "    pass"
   ]
  },
  {
   "cell_type": "code",
   "execution_count": null,
   "metadata": {},
   "outputs": [],
   "source": [
    "# Test de la función calcula_gasolineras\n",
    "\n",
    "# La salida esperada de las siguientes instrucciones es: \n",
    "# ['A', 'B', 'C']\n",
    "\n",
    "print(calcula_gasolineras(REGISTROS))"
   ]
  },
  {
   "cell_type": "markdown",
   "metadata": {},
   "source": [
    "La siguiente función se llama <code>filtra_por_fecha_y_gasolinera</code>. Toma una lista de registros, una lista de gasolineras y dos fechas que delimitan el periodo de interés. Deberá seleccionar solamente aquellos repostajes realizados en las gasolineras indicadas y entre las fechas especificadas."
   ]
  },
  {
   "cell_type": "code",
   "execution_count": null,
   "metadata": {},
   "outputs": [],
   "source": [
    "def filtra_por_fecha_y_gasolinera(registros, gasolineras, fecha_inicio, fecha_fin):\n",
    "    ''' Selecciona registros por gasolinera y fecha\n",
    "    \n",
    "    ENTRADA:\n",
    "       - registros: lista de registros -> [Repostaje(date, float, float, float, int, str)]\n",
    "       - gasolinera: lista de gasolineras a considerar -> [str]\n",
    "       - fecha_inicio: fecha incial del periodo a considerar -> date\n",
    "       - fecha_fin: fecha final del periodo a considerar -> date\n",
    "    SALIDA:\n",
    "       - lista de registros seleccionados -> [Repostaje(date, float, float, float, int, str)]\n",
    "    '''\n",
    "    pass"
   ]
  },
  {
   "cell_type": "code",
   "execution_count": null,
   "metadata": {},
   "outputs": [],
   "source": [
    "# Test de la función filtra_por_fecha_y_gasolinera\n",
    "gasolineras = ['B', 'C']\n",
    "inicio = datetime.strptime('01/01/2020', '%d/%m/%Y').date()\n",
    "fin = datetime.strptime('01/06/2020', '%d/%m/%Y').date()\n",
    "filtrados = filtra_por_fecha_y_gasolinera(REGISTROS, gasolineras, inicio, fin)\n",
    "\n",
    "# La salida esperada de la siguiente instrucción es: \n",
    "#    3 [Repostaje(fecha=datetime.date(2020, 1, 28, 0, 0), euros=70.25, precio=1.259, litros=55.8, kilometraje=97663, gasolinera='C'), \n",
    "#       Repostaje(fecha=datetime.date(2020, 2, 14, 0, 0), euros=46.0, precio=1.225, litros=37.55, kilometraje=98185, gasolinera='C'), \n",
    "#       Repostaje(fecha=datetime.date(2020, 2, 21, 0, 0), euros=67.6, precio=1.235, litros=54.74, kilometraje=99058, gasolinera='B')]\n",
    "print(len(filtrados), filtrados)"
   ]
  },
  {
   "cell_type": "markdown",
   "metadata": {},
   "source": [
    "La siguiente función se llama <code>detecta_errores</code>. Toma una lista de repostajes y produce como salida otra lista con aquellos en los que los datos de 'euros', 'precio' y 'litros' son incoherentes, teniendo en cuento un margen de error permitido."
   ]
  },
  {
   "cell_type": "code",
   "execution_count": null,
   "metadata": {},
   "outputs": [],
   "source": [
    "def detecta_errores(registros, margen=0.05):\n",
    "    ''' Identifica los repostajes con datos erróneos ('litros' * 'precio' debe ser cercano a 'euros').\n",
    "    \n",
    "    ENTRADA:\n",
    "       - registros: lista de registros -> [Repostaje(date, float, float, float, int, str)]\n",
    "       - margen: margen de error permitido entre el dato calculado ('litros' * 'precio') y el \n",
    "       registrado ('euros'). Por defecto será un 5%, es decir 'litros'*'precio' no podrá exceder o bajar en \n",
    "       más de un 5% con respecto a 'euros'.\n",
    "    SALIDA:\n",
    "       - lista de errores detectados -> [Repostaje(date, float, float, float, int, str)]\n",
    "    '''\n",
    "    pass"
   ]
  },
  {
   "cell_type": "code",
   "execution_count": null,
   "metadata": {},
   "outputs": [],
   "source": [
    "# Test de la función detecta_errores\n",
    "\n",
    "# La salida esperada de las siguientes instrucciones es: \n",
    "# >>>> Margen=0.05\n",
    "# [Repostaje(fecha=datetime.date(2012, 8, 3), euros=50.0, precio=1.406, litros=40.56, kilometraje=15435, gasolinera='C'), \n",
    "#  Repostaje(fecha=datetime.date(2014, 4, 21), euros=500.0, precio=1.358, litros=36.82, kilometraje=31621, gasolinera='C'), \n",
    "#  Repostaje(fecha=datetime.date(2016, 10, 29), euros=30.0, precio=1.229, litros=26.57, kilometraje=58206, gasolinera='B')]\n",
    "#\n",
    "# >>>> Margen=0.15\n",
    "# [Repostaje(fecha=datetime.date(2014, 4, 21), euros=500.0, precio=1.358, litros=36.82, kilometraje=31621, gasolinera='C')]\n",
    "\n",
    "print('>>>> Margen=0.05')\n",
    "print(detecta_errores(REGISTROS))\n",
    "\n",
    "print('\\n>>>> Margen=0.15')\n",
    "print(detecta_errores(REGISTROS, margen=0.15))"
   ]
  },
  {
   "cell_type": "markdown",
   "metadata": {},
   "source": [
    "La siguiente función de esta sección se llama <code>gasto_medio_por_gasolinera</code>. Toma como entrada una lista de registros y produce como salida un diccionario cuyas claves son las distintas gasolineras, y los valores son el gasto medio de los repostajes realizados en esas gasolineras."
   ]
  },
  {
   "cell_type": "code",
   "execution_count": null,
   "metadata": {},
   "outputs": [],
   "source": [
    "def gasto_medio_por_gasolinera(registros):\n",
    "    ''' Crea un diccionario con el gasto medio por gasolinera\n",
    "    \n",
    "    ENTRADA:\n",
    "       - registros: lista de registros -> [Repostaje(date, float, float, float, int, str)]\n",
    "    SALIDA:\n",
    "       - diccionario con el gasto medio -> {str: float}\n",
    "    '''\n",
    "    pass"
   ]
  },
  {
   "cell_type": "code",
   "execution_count": null,
   "metadata": {},
   "outputs": [],
   "source": [
    "# Test de la función gasto_medio_por_gasolinera\n",
    "\n",
    "# La salida esperada de las siguientes instrucciones es: \n",
    "#   52.325087719298246 49.36156862745099 59.81591549295778\n",
    "gastos_medios = gasto_medio_por_gasolinera(REGISTROS)\n",
    "print(gastos_medios['A'], gastos_medios['B'], gastos_medios['C'])"
   ]
  },
  {
   "cell_type": "markdown",
   "metadata": {},
   "source": [
    "La siguiente función de esta sección se llama <code>agrega_precios</code>. Toma como entrada una lista de registros y una función que indica la operación a realizar sobre la lista de precios que se obtiene a partir de dichos registros, que será lo que deba devolver la función."
   ]
  },
  {
   "cell_type": "code",
   "execution_count": null,
   "metadata": {},
   "outputs": [],
   "source": [
    "def agrega_precios(registros, operacion):\n",
    "    ''' Aplicación de una operación de agregación sobre los precios de una lista de registros\n",
    "    \n",
    "    ENTRADA:\n",
    "       - registros: lista de registros ->  [Repostaje(date, float, float, float, int, str)]\n",
    "       - operacion: nombre de función, o expresión lambda -> function ([float] -> float)\n",
    "    SALIDA:\n",
    "       - resultado de aplicar 'operacion' sobre el campo 'precio' -> float\n",
    "    '''\n",
    "    pass"
   ]
  },
  {
   "cell_type": "code",
   "execution_count": null,
   "metadata": {},
   "outputs": [],
   "source": [
    "### EJERCICIO: implementar dos llamadas de TEST de 'agrega_precios' que obtengan:\n",
    "#  - El precio mínimo de la lista REGISTROS\n",
    "#  - La media de precios de la lista REGISTROS\n",
    "\n",
    "# Las salidas esperadas para estas consultas son:\n",
    "#  0.949\n",
    "#  1.2591564245810054\n"
   ]
  },
  {
   "cell_type": "markdown",
   "metadata": {},
   "source": [
    "## 3. Visualización (2 puntos)"
   ]
  },
  {
   "cell_type": "markdown",
   "metadata": {},
   "source": [
    "La función de visualización que implementaremos será <code>muestra_evolucion_precio</code>. Toma como entrada una lista de registros y un año y genera una curva con el precio de la gasolina en los repostajes de ese año."
   ]
  },
  {
   "cell_type": "code",
   "execution_count": null,
   "metadata": {},
   "outputs": [],
   "source": [
    "def muestra_evolucion_precio(registros, año):\n",
    "    ''' Genera una curva con la evolución del precio de la gasolina en el año indicado.\n",
    "    \n",
    "    ENTRADA: \n",
    "       - registros: lista de registros -> [Repostaje(date, float, float, float, int, str)]\n",
    "       - año: año para el que se debe mostrar la evolución\n",
    "    SALIDA EN PANTALLA: \n",
    "       - diagrama con la evolución del precio de la gasolina\n",
    "\n",
    "    Estas son las instrucciones 'matplotlib' para trazar el gráfico a partir de:\n",
    "       - una cadena con el título que se va a mostrar en el gráfico,\n",
    "       - una lista de fechas y\n",
    "       - otra lista con los precios (con el mismo orden)\n",
    "        \n",
    "        plt.title(titulo)\n",
    "        plt.plot(l_fechas,l_precios)\n",
    "        plt.xticks(rotation=45)\n",
    "        plt.show()\n",
    "    \n",
    "    Para extraer el año de un objeto datetime podemos acceder al campo 'year' (Ejemplo: miFecha.year)\n",
    "    '''\n",
    "    pass"
   ]
  },
  {
   "cell_type": "markdown",
   "metadata": {},
   "source": [
    "La salida de la siguiente celda de test debería ser la siguiente:\n",
    "\n",
    "<img src=\"./img/evolucion.png\" alt=\"Drawing\" style=\"width:10cm;\"/>"
   ]
  },
  {
   "cell_type": "code",
   "execution_count": null,
   "metadata": {},
   "outputs": [],
   "source": [
    "# Test de la función muestra_evolucion_precio\n",
    "muestra_evolucion_precio(REGISTROS, 2018)"
   ]
  }
 ],
 "metadata": {
  "kernelspec": {
   "display_name": "Python 3",
   "language": "python",
   "name": "python3"
  },
  "language_info": {
   "codemirror_mode": {
    "name": "ipython",
    "version": 3
   },
   "file_extension": ".py",
   "mimetype": "text/x-python",
   "name": "python",
   "nbconvert_exporter": "python",
   "pygments_lexer": "ipython3",
   "version": "3.7.4"
  }
 },
 "nbformat": 4,
 "nbformat_minor": 4
}
