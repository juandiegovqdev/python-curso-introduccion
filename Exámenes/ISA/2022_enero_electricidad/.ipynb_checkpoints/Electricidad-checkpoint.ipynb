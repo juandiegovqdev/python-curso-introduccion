{
 "cells": [
  {
   "cell_type": "markdown",
   "metadata": {},
   "source": [
    "# Fundamentos de la Programación (Grado en Ingeniería de la Salud)\n",
    "## Ejercicio \"Electricidad\""
   ]
  },
  {
   "cell_type": "markdown",
   "metadata": {},
   "source": [
    "Antes de empezar, ejecutaremos la siguiente celda con las importaciones necesarias para poder realizar el ejercicio:"
   ]
  },
  {
   "cell_type": "code",
   "execution_count": 1,
   "metadata": {},
   "outputs": [],
   "source": [
    "import csv\n",
    "from datetime import datetime\n",
    "from matplotlib import pyplot as plt\n",
    "from collections import namedtuple"
   ]
  },
  {
   "cell_type": "markdown",
   "metadata": {},
   "source": [
    "## 1. Carga de datos (0.5 puntos)"
   ]
  },
  {
   "cell_type": "markdown",
   "metadata": {},
   "source": [
    "Tomaremos los datos de un fichero de entrada llamado <code>data.csv</code> en el que se encuentran registrados datos sobre los precios de la electricidad agrupados por días para los últimos años. El fichero se encuentra en la carpeta <code>./data</code>. Cada línea del fichero de entrada contiene las siguientes informaciones:\n",
    "\n",
    "geoid,geoname,precio,fecha\n",
    "- **geoid:** identificador de la zona geográfica\n",
    "- **geoname:** nombre de la zona geográfica\n",
    "- **precio:** precio de la electricidad\n",
    "- **fecha:** fecha a la que corresponden los datos\n",
    "\n",
    "He aquí un fragmento con las primeras líneas del fichero de entrada:\n",
    "\n",
    "<img src=\"./img/data.PNG\" alt=\"Drawing\" width=\"500\"/>\n",
    "\n",
    "La primera función que implementaremos será la de lectura. Será la encargada de leer los datos del fichero de entrada y cargarlos en una lista de tuplas:"
   ]
  },
  {
   "cell_type": "code",
   "execution_count": 6,
   "metadata": {},
   "outputs": [],
   "source": [
    "Registro = namedtuple('Registro', 'geoid geoname precio fecha')\n",
    "\n",
    "def lee_registros(fichero):\n",
    "    ''' Lee el fichero de entrada y devuelve una lista de registros\n",
    "    \n",
    "    ENTRADA:\n",
    "       - fichero: nombre del fichero de entrada\n",
    "    SALIDA:\n",
    "       - lista de registros -> [Registro(int, str, float, datetime.date)]\n",
    "\n",
    "    Hay que transformar ciertos elementos de la entrada con los tipos correctos para que puedan \n",
    "    ser procesados posteriormente.\n",
    "    \n",
    "    Para convertir la fecha del registro de tipo str a datetime puedes usar la expresión:\n",
    "       datetime.strptime(fecha, '%Y-%m-%d').date()\n",
    "    '''\n",
    "    registros = []\n",
    "    with open(fichero, 'r', encoding='utf-8') as f:\n",
    "        lector = csv.reader(f)\n",
    "        next(lector)\n",
    "        for geoid, geoname, precio, fecha in lector:\n",
    "            geoid = int(geoid)\n",
    "            geoname = geoname\n",
    "            precio = float(precio)\n",
    "            fecha = fecha\n",
    "            registros.append((geoid, geoname, precio, fecha))\n",
    "    return registros"
   ]
  },
  {
   "cell_type": "code",
   "execution_count": 7,
   "metadata": {},
   "outputs": [
    {
     "name": "stdout",
     "output_type": "stream",
     "text": [
      "1090 [(8741, 'Península', 166.77125, '2021-06-01'), (8742, 'Canarias', 166.77125, '2021-06-01'), (8743, 'Baleares', 166.77125, '2021-06-01'), (8744, 'Ceuta', 166.77833333333334, '2021-06-01'), (8745, 'Melilla', 166.77833333333334, '2021-06-01')]\n"
     ]
    }
   ],
   "source": [
    "# Test de la función lee_registros\n",
    "REGISTROS = lee_registros(r'data.csv')\n",
    "\n",
    "# La salida esperada de la siguiente instrucción es: \n",
    "# 1090 [Registro(geoid=8741, geoname='Península', precio=166.77125, fecha=datetime.datetime(2021, 6, 1)),\n",
    "#     Registro(geoid=8742, geoname='Canarias', precio=166.77125, fecha=datetime.datetime(2021, 6, 1)),\n",
    "#     Registro(geoid=8743, geoname='Baleares', precio=166.77125, fecha=datetime.datetime(2021, 6, 1)),\n",
    "#     Registro(geoid=8744, geoname='Ceuta', precio=166.77833333333334, fecha=datetime.datetime(2021, 6, 1)),\n",
    "#     Registro(geoid=8745, geoname='Melilla', precio=166.77833333333334, fecha=datetime.datetime(2021, 6, 1))]\n",
    "print(len(REGISTROS), REGISTROS[:5])"
   ]
  },
  {
   "cell_type": "markdown",
   "metadata": {},
   "source": [
    "## 2. Consulta y filtrado (7.5 puntos)"
   ]
  },
  {
   "cell_type": "markdown",
   "metadata": {},
   "source": [
    "Una vez que hemos cargado los datos en una estructura en memoria ya podemos empezar a procesarlos. En esta sección implementaremos algunas funciones de consulta y filtrado que nos permitirán trabajar con ellos.\n",
    "\n",
    "La primera función se llama <code>calcula_zonas</code> y obtiene la lista de los nombres de zonas geográficas presentes en el conjunto de datos, ordenada alfabéticamente."
   ]
  },
  {
   "cell_type": "code",
   "execution_count": 10,
   "metadata": {},
   "outputs": [],
   "source": [
    "def calcula_zonas(registros):\n",
    "    ''' Lista ordenada de los nombres de las zonas geográficas\n",
    "    \n",
    "    ENTRADA:\n",
    "       - registros: lista de registros -> [Registro(int, str, float, datetime.date)]\n",
    "    SALIDA:\n",
    "       - Lista de regiones distintas ordenada alfabéticamente -> [str]\n",
    "    '''\n",
    "    solucion = []\n",
    "    for i in registros:\n",
    "        solucion.append(i[1])\n",
    "    return set(solucion)"
   ]
  },
  {
   "cell_type": "code",
   "execution_count": 11,
   "metadata": {},
   "outputs": [
    {
     "name": "stdout",
     "output_type": "stream",
     "text": [
      "{'Baleares', 'Ceuta', 'Melilla', 'Canarias', 'Península'}\n"
     ]
    }
   ],
   "source": [
    "# Test de la función calcula_zonas\n",
    "\n",
    "# La salida esperada de las siguientes instrucciones es: \n",
    "# ['Baleares', 'Canarias', 'Ceuta', 'Melilla', 'Península']\n",
    "\n",
    "print(calcula_zonas(REGISTROS))"
   ]
  },
  {
   "cell_type": "markdown",
   "metadata": {},
   "source": [
    "La siguiente función se llama <code>filtra_precios_por_zonas</code>. Toma una lista de registros, una lista de zonas que pueden venir especificadas por sus identificadores (geoid) o sus nombres (geoname). Deberá seleccionar solamente aquellos registros de las zonas indicadas."
   ]
  },
  {
   "cell_type": "code",
   "execution_count": 14,
   "metadata": {},
   "outputs": [],
   "source": [
    "def filtra_precios_por_zonas(registros, zonas):\n",
    "    ''' Selecciona registros por zonas, que pueden venir especificadas usando sus identificadores o sus nombres.\n",
    "    \n",
    "    ENTRADA:\n",
    "       - registros: lista de registros -> [Registro(int, str, float, datetime.date)]\n",
    "       - zonas: zonas geográficas a tener en cuenta -> [str|int]\n",
    "    SALIDA:\n",
    "       - lista de registros seleccionados -> [Registro(int, str, float, datetime.date)]\n",
    "    '''\n",
    "    solucion = []\n",
    "    for i in registros:\n",
    "        if i[0] == zonas[1] or i[1] == zonas[0]:\n",
    "            solucion.append(i)\n",
    "    return solucion"
   ]
  },
  {
   "cell_type": "code",
   "execution_count": 15,
   "metadata": {},
   "outputs": [
    {
     "name": "stdout",
     "output_type": "stream",
     "text": [
      "436 [(8744, 'Ceuta', 166.77833333333334, '2021-06-01'), (8745, 'Melilla', 166.77833333333334, '2021-06-01'), (8744, 'Ceuta', 164.77875, '2021-06-02')]\n"
     ]
    }
   ],
   "source": [
    "# Test de la función filtra_precios_por_zonas\n",
    "\n",
    "# La salida esperada de las siguientes instrucciones es: \n",
    "# 436 [Registro(geoid=8744, geoname='Ceuta', precio=166.77833333333334, datetime.datetime(2021, 6, 1)), \n",
    "#      Registro(geoid=8745, geoname='Melilla', precio=166.77833333333334, fecha=datetime.datetime(2021, 6, 1)), \n",
    "#      Registro(geoid=8744, geoname='Ceuta', precio=164.77875, fecha=datetime.datetime(2021, 6, 2))]\n",
    "\n",
    "filtrados = filtra_precios_por_zonas(REGISTROS, ['Ceuta', 8745])\n",
    "print(len(filtrados), filtrados[:3])"
   ]
  },
  {
   "cell_type": "markdown",
   "metadata": {},
   "source": [
    "La siguiente función se llama <code>extrae_datos_por_precios</code>. Toma una lista de registros, un precio mínimo y el tamaño máximo de la lista a devolver. Produce como salida una lista de tuplas <code>(geoname, precio, fecha)</code> con los datos que superan el precio mínimo, respetando el tamaño máximo indicado y por orden decreciente de precios."
   ]
  },
  {
   "cell_type": "code",
   "execution_count": 31,
   "metadata": {},
   "outputs": [],
   "source": [
    "def extrae_datos_por_precios(registros, minimo, limite=10):\n",
    "    ''' Extrae las tres columnas (geoname, precio, fecha) para los registros que superan el precio 'minimo'\n",
    "        devolviendo una lista de tuplas ordenada de forma decreciente por precio y con el tamaño máximo que\n",
    "        indique 'limite'.\n",
    "    \n",
    "    ENTRADA:\n",
    "       - registros: lista de registros -> [Registro(int, str, float, datetime.date)]\n",
    "       - minimo: precio mínimo de los registros a extraer -> float\n",
    "       - limite: tamaño máximo de la lista a devolver -> int\n",
    "    SALIDA:\n",
    "       - lista de tuplas (fecha, casos, omicron) -> [(str, float, str)]\n",
    "    \n",
    "    '''\n",
    "    solucion = []\n",
    "    for i in registros:\n",
    "        if i[2] >= minimo:\n",
    "            solucion.append((i[0], i[1], i[3]))\n",
    "    solucion.sort(key = lambda x: x[1])\n",
    "    solucion.reverse()\n",
    "    return solucion[:10]"
   ]
  },
  {
   "cell_type": "code",
   "execution_count": 32,
   "metadata": {},
   "outputs": [
    {
     "name": "stdout",
     "output_type": "stream",
     "text": [
      "10 [(8741, 'Península', '2022-01-04'), (8741, 'Península', '2022-01-03'), (8741, 'Península', '2021-12-31'), (8741, 'Península', '2021-12-30'), (8741, 'Península', '2021-12-29'), (8741, 'Península', '2021-12-26'), (8741, 'Península', '2021-12-25'), (8741, 'Península', '2021-12-24'), (8741, 'Península', '2021-12-23'), (8741, 'Península', '2021-12-22')]\n"
     ]
    }
   ],
   "source": [
    "# Test de la función extrae_datos_por_precios\n",
    "\n",
    "# La salida esperada de las siguientes instrucciones es:\n",
    "# 5 [('Península', 491.9525, datetime.datetime(2021, 12, 23)), \n",
    "#    ('Canarias', 491.9525, datetime.datetime(2021, 12, 23)), \n",
    "#    ('Baleares', 491.9525, datetime.datetime(2021, 12, 23)), \n",
    "#    ('Ceuta', 491.9504166666667, datetime.datetime(2021, 12, 23)), \n",
    "#    ('Melilla', 491.9504166666667, datetime.datetime(2021, 12, 23))]\n",
    "datos = extrae_datos_por_precios(REGISTROS, 200.0, 5)\n",
    "print(len(datos), datos[:10])"
   ]
  },
  {
   "cell_type": "markdown",
   "metadata": {},
   "source": [
    "La siguiente función de esta sección se llama <code>divide_datos</code>. Toma como entradas una lista de registros y una función que recibe un registro y devuelve un valor True si el registro debe ir en la primera lista o False si debe ir en la segunda."
   ]
  },
  {
   "cell_type": "code",
   "execution_count": 34,
   "metadata": {},
   "outputs": [],
   "source": [
    "def divide_datos(registros, criterio):\n",
    "    ''' Separa los datos de entrada en dos listas según lo indicado por una función 'criterio', la cual \n",
    "        recibe un registro y devuelve un valor True o False indicando que el registro debe ir en la primera\n",
    "        o segunda lista a devolver respectivamente.\n",
    "    \n",
    "    ENTRADA:\n",
    "       - registros: lista de registros -> [Registro(int, str, float, datetime.date)]\n",
    "       - criterio: nombre de función, o expresión lambda -> function (Registro -> bool)\n",
    "    SALIDA:\n",
    "       - listas en donde quedan los registros de entrada almacenados según 'criterio' -> ([Registro],[Registro])\n",
    "    '''\n",
    "    criterio1 = []\n",
    "    criterio2 = []\n",
    "    for i in registros:\n",
    "        if criterio(i) == True:\n",
    "            criterio1.add(i)\n",
    "        else:\n",
    "            criterio2.add(i)\n",
    "    return (criterio1, criterio2)"
   ]
  },
  {
   "cell_type": "code",
   "execution_count": null,
   "metadata": {},
   "outputs": [],
   "source": [
    "### EJERCICIO: implementar una llamada de TEST de 'divide_datos' que separe los datos en 2 listas:\n",
    "#   lista 1: registros de la península\n",
    "#   lista 2: registros del resto de zonas geográficas\n",
    "\n",
    "# La salida esperada para esta consulta es:\n",
    "# 218 [Registro(geoid=8741, geoname='Península', precio=166.77125, fecha=datetime.datetime(2021, 6, 1)),\n",
    "#     Registro(geoid=8741, geoname='Península', precio=164.775, fecha=datetime.datetime(2021, 6, 2)),\n",
    "#     Registro(geoid=8741, geoname='Península', precio=159.23, fecha=datetime.datetime(2021, 6, 3))]\n",
    "#\n",
    "# 872 [Registro(geoid=8742, geoname='Canarias', precio=166.77125, fecha=datetime.datetime(2021, 6, 1)),\n",
    "#     Registro(geoid=8743, geoname='Baleares', precio=166.77125, fecha=datetime.datetime(2021, 6, 1)),\n",
    "#     Registro(geoid=8744, geoname='Ceuta', precio=166.77833333333334, fecha=datetime.datetime(2021, 6, 1))]"
   ]
  },
  {
   "cell_type": "markdown",
   "metadata": {},
   "source": [
    "La siguiente función se llama <code>precio_medio_por_zona</code>. Toma como entrada una lista de registros y produce como salida un diccionario cuyas claves son las zonas geográficas (por nombre) y los valores son los precios medios para cada zona geográfica."
   ]
  },
  {
   "cell_type": "code",
   "execution_count": 53,
   "metadata": {},
   "outputs": [],
   "source": [
    "def precio_medio_por_zona(registros):\n",
    "    ''' Crea un diccionario con el precio medio por zona geográfica\n",
    "    \n",
    "    ENTRADA:\n",
    "       - registros: lista de registros -> [Registro(int, str, float, datetime.date)]\n",
    "    SALIDA:\n",
    "       - diccionario con los precios medios por cada nombre de zona geográfica -> {str: float}\n",
    "    '''\n",
    "    solucion = []\n",
    "    diccionario = {}\n",
    "    diccionarioCount = {}\n",
    "    diccionarioSolucion = {}\n",
    "    \n",
    "    for i in calcula_zonas(registros):\n",
    "        diccionario[i] = []\n",
    "        diccionarioCount[i] = 0\n",
    "        diccionarioSolucion[i] = 0\n",
    "    \n",
    "    for i in registros:\n",
    "    \n",
    "        diccionario[i[1]].append(i[2])\n",
    "        diccionarioCount[i[1]] = diccionarioCount[i[1]] +1\n",
    "    \n",
    "    for i in calcula_zonas(registros):\n",
    "        diccionarioSolucion[i] = sum(diccionario[i]) / diccionarioCount[i]\n",
    "    \n",
    "    return diccionarioSolucion"
   ]
  },
  {
   "cell_type": "code",
   "execution_count": 54,
   "metadata": {},
   "outputs": [
    {
     "data": {
      "text/plain": [
       "{'Baleares': 217.56263195718654,\n",
       " 'Ceuta': 217.5666590978593,\n",
       " 'Melilla': 217.5666590978593,\n",
       " 'Canarias': 217.56263195718654,\n",
       " 'Península': 217.56263195718654}"
      ]
     },
     "execution_count": 54,
     "metadata": {},
     "output_type": "execute_result"
    }
   ],
   "source": [
    "# Test de la función precio_medio_por_zona\n",
    "\n",
    "# La salida esperada de la siguiente instrucción es (el orden de los elementos puede variar): \n",
    "#   {'Baleares': 217.56263195718654,\n",
    "#    'Canarias': 217.56263195718654,\n",
    "#    'Melilla': 217.5666590978593,\n",
    "#    'Ceuta': 217.5666590978593,\n",
    "#    'Península': 217.56263195718654}\n",
    "precio_medio_por_zona(REGISTROS)"
   ]
  },
  {
   "cell_type": "markdown",
   "metadata": {},
   "source": [
    "## 3. Visualización (2 puntos)"
   ]
  },
  {
   "cell_type": "markdown",
   "metadata": {},
   "source": [
    "La función de visualización que implementaremos será <code>muestra_evolucion</code>. Toma como entrada una lista de registros, una fecha y una lista de regiones y genera una gráfica de barras con una barra para cada región indicando su número de casos para la fecha indicada."
   ]
  },
  {
   "cell_type": "code",
   "execution_count": null,
   "metadata": {},
   "outputs": [],
   "source": [
    "def muestra_evolucion(registros, zona, fecha_ini, fecha_fin):\n",
    "    ''' Genera una curva con la evolución del precio de una zona geográfica entre dos fechas dadas. \n",
    "        La zona geográfica puede darse como su nombre o su identificador numérico.\n",
    "        Podremos presuponer que los datos están ya ordenados por fecha.\n",
    "    \n",
    "    ENTRADA: \n",
    "       - registros: lista de tuplas -> [Registro(int, str, float, str)]\n",
    "       - zona: de la que se generará la gráfica -> str|int\n",
    "       - fecha_ini: fecha límite inferior -> datetime.date\n",
    "       - fecha_fin: fecha límite superior -> datetime.date\n",
    "    SALIDA EN PANTALLA: \n",
    "       - diagrama con la evolución de los precios de la zona\n",
    "\n",
    "    Estas son las instrucciones 'matplotlib' para trazar el gráfico:\n",
    "        plt.title(titulo)\n",
    "        plt.xticks(range(len(l_fechas)), l_fechas, rotation='vertical')\n",
    "        plt.plot(l_fechas,l_precios)\n",
    "        plt.show()\n",
    "\n",
    "    Que se apoyan en las siguientes variables:\n",
    "        - titulo: una cadena con el título que se va a mostrar en el gráfico\n",
    "        - l_fechas: lista de fechas para las que se muestran los datos\n",
    "        - l_precios: lista de precios alineada con la lista de fechas (con el mismo orden)\n",
    "        \n",
    "    Para convertir un objeto de tipo date a str puedes usar la expresión:\n",
    "        fecha.strftime(\"%d/%m/%Y\")\n",
    "    '''\n",
    "    pass\n",
    "\n"
   ]
  },
  {
   "cell_type": "markdown",
   "metadata": {},
   "source": [
    "La salida de la siguiente celda de test debería ser la siguiente:\n",
    "\n",
    "<img src=\"./img/evolucion.PNG\" alt=\"Drawing\" width=\"400\"/>"
   ]
  },
  {
   "cell_type": "code",
   "execution_count": null,
   "metadata": {},
   "outputs": [],
   "source": [
    "# Test de la función muestra_comparativa_regiones\n",
    "muestra_evolucion(REGISTROS, 'Península', datetime(2021,12,1).date(), datetime(2021,12,10).date())"
   ]
  }
 ],
 "metadata": {
  "kernelspec": {
   "display_name": "Python 3 (ipykernel)",
   "language": "python",
   "name": "python3"
  },
  "language_info": {
   "codemirror_mode": {
    "name": "ipython",
    "version": 3
   },
   "file_extension": ".py",
   "mimetype": "text/x-python",
   "name": "python",
   "nbconvert_exporter": "python",
   "pygments_lexer": "ipython3",
   "version": "3.9.7"
  }
 },
 "nbformat": 4,
 "nbformat_minor": 4
}
