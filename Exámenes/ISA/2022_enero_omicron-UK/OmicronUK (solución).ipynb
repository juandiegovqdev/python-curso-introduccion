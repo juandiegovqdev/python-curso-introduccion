{
 "cells": [
  {
   "cell_type": "markdown",
   "metadata": {},
   "source": [
    "# Fundamentos de la Programación (Grado en Ingeniería de la Salud)\n",
    "## Ejercicio \"Omicron-UK\""
   ]
  },
  {
   "cell_type": "markdown",
   "metadata": {},
   "source": [
    "Antes de empezar, ejecutaremos la siguiente celda con las importaciones necesarias para poder realizar el ejercicio:"
   ]
  },
  {
   "cell_type": "code",
   "execution_count": 1,
   "metadata": {},
   "outputs": [],
   "source": [
    "import csv\n",
    "from datetime import datetime\n",
    "from matplotlib import pyplot as plt\n",
    "from collections import namedtuple"
   ]
  },
  {
   "cell_type": "markdown",
   "metadata": {},
   "source": [
    "## 1. Carga de datos (0.5 puntos)"
   ]
  },
  {
   "cell_type": "markdown",
   "metadata": {},
   "source": [
    "Tomaremos los datos de un fichero de entrada llamado <code>omicron.csv</code> en el que se encuentran registrados datos sobre los casos en Reino Unido de covid-19 indicando los que corresponden a la variante 'omicron'. El fichero se encuentra en la carpeta <code>./data</code>. Cada línea del fichero de entrada contiene las siguientes informaciones:\n",
    "\n",
    "- **region:** región de Reino Unido a la que corresponden los datos\n",
    "- **fecha:** fecha a la que corresponden los datos\n",
    "- **casos:** número de casos registrados\n",
    "- **omicron:** indica si los casos corresponden a la variante omicron (*True*, o *False*)\n",
    "\n",
    "He aquí un fragmento con las primeras líneas del fichero de entrada:\n",
    "\n",
    "<img src=\"./img/datos.PNG\" alt=\"Drawing\"/>\n",
    "\n",
    "La primera función que implementaremos será la de lectura. Será la encargada de leer los datos del fichero de entrada y cargarlos en una lista de tuplas:"
   ]
  },
  {
   "cell_type": "code",
   "execution_count": 2,
   "metadata": {},
   "outputs": [],
   "source": [
    "Registro = namedtuple('Registro', 'region fecha casos omicron')\n",
    "\n",
    "def lee_registros(fichero):\n",
    "    ''' Lee el fichero de entrada y devuelve una lista de registros\n",
    "    \n",
    "    ENTRADA:\n",
    "       - fichero: nombre del fichero de entrada\n",
    "    SALIDA:\n",
    "       - lista de registros -> [Registro(str, datetime.date, int, bool)]\n",
    "\n",
    "    Hay que transformar ciertos elementos de la entrada con los tipos correctos para que puedan \n",
    "    ser procesados posteriormente.\n",
    "    Para convertir la fecha del registro de tipo str a datetime puedes usar la expresión:\n",
    "       datetime.strptime(fecha, '%d/%m/%Y').date()\n",
    "       \n",
    "    '''\n",
    "    registros = []\n",
    "    with open(fichero, 'r', encoding='utf-8') as f:\n",
    "        lector = csv.reader(f)\n",
    "        next(lector)\n",
    "        registros = [Registro(region, datetime.strptime(fecha, '%d/%m/%Y').date(), int(casos), omicron=='True')\n",
    "                    for region, fecha, casos, omicron in lector]\n",
    "    return registros"
   ]
  },
  {
   "cell_type": "code",
   "execution_count": 3,
   "metadata": {},
   "outputs": [
    {
     "name": "stdout",
     "output_type": "stream",
     "text": [
      "670 [Registro(region='East Midlands', fecha=datetime.date(2021, 11, 1), casos=874, omicron=False), Registro(region='East Midlands', fecha=datetime.date(2021, 11, 2), casos=724, omicron=False), Registro(region='East Midlands', fecha=datetime.date(2021, 11, 2), casos=1, omicron=True)]\n"
     ]
    }
   ],
   "source": [
    "# Test de la función lee_registros\n",
    "REGISTROS = lee_registros('./data/omicron.csv')\n",
    "\n",
    "# La salida esperada de la siguiente instrucción es: \n",
    "# 670 [Registro(region='East Midlands', fecha=datetime.date(2021, 11, 1), casos=874, omicron=False), \n",
    "#      Registro(region='East Midlands', fecha=datetime.date(2021, 11, 2), casos=724, omicron=False), \n",
    "#      Registro(region='East Midlands', fecha=datetime.date(2021, 11, 2), casos=1, omicron=True)]\n",
    "print(len(REGISTROS), REGISTROS[:3])"
   ]
  },
  {
   "cell_type": "markdown",
   "metadata": {},
   "source": [
    "## 2. Consulta y filtrado (7.5 puntos)"
   ]
  },
  {
   "cell_type": "markdown",
   "metadata": {},
   "source": [
    "Una vez que hemos cargado los datos en una estructura en memoria ya podemos empezar a procesarlos. En esta sección implementaremos algunas funciones de consulta y filtrado que nos permitirán trabajar con ellos.\n",
    "\n",
    "La primera función se llama <code>calcula_regiones</code> y obtiene la lista de regiones presentes en el conjunto de datos, ordenada alfabéticamente."
   ]
  },
  {
   "cell_type": "code",
   "execution_count": 4,
   "metadata": {},
   "outputs": [],
   "source": [
    "def calcula_regiones(registros):\n",
    "    ''' Lista ordenada de regiones\n",
    "    \n",
    "    ENTRADA:\n",
    "       - registros: lista de registros -> [Registro(str, datetime.date, int, bool)]\n",
    "    SALIDA:\n",
    "       - Lista de regiones distintas ordenada alfabéticamente -> [str]\n",
    "    '''\n",
    "    return sorted(list({r.region for r in registros}))"
   ]
  },
  {
   "cell_type": "code",
   "execution_count": 5,
   "metadata": {},
   "outputs": [
    {
     "name": "stdout",
     "output_type": "stream",
     "text": [
      "['East Midlands', 'East of England', 'London', 'North East', 'North West', 'South East', 'South West', 'West Midlands', 'Yorkshire and Humber']\n"
     ]
    }
   ],
   "source": [
    "# Test de la función calcula_regiones\n",
    "\n",
    "# La salida esperada de las siguientes instrucciones es: \n",
    "# ['East Midlands', 'East of England', 'London', 'North East', 'North West', \n",
    "#  'South East', 'South West', 'West Midlands', 'Yorkshire and Humber']\n",
    "\n",
    "print(calcula_regiones(REGISTROS))"
   ]
  },
  {
   "cell_type": "markdown",
   "metadata": {},
   "source": [
    "La siguiente función se llama <code>filtra_omicron_por_region</code>. Toma una lista de registros, una lista de regiones y un parámetro para indicar si queremos los casos de omicron o los que no lo son. Deberá seleccionar solamente aquellos registros de las regiones indicadas y el tipo de virus indicado."
   ]
  },
  {
   "cell_type": "code",
   "execution_count": 6,
   "metadata": {},
   "outputs": [],
   "source": [
    "def filtra_omicron_por_region(registros, regiones=None, omicron=True):\n",
    "    ''' Selecciona registros por regiones y tipo de virus. \n",
    "        Si el parámetro 'regiones' es None se tendrán en cuenta todas las regiones.\n",
    "    \n",
    "    ENTRADA:\n",
    "       - registros: lista de registros -> [Registro(str, datetime.date, int, bool)]\n",
    "       - regiones: regiones a tener en cuenta -> [str]\n",
    "       - omicron: tipo de virus (omicron o no) a tener en cuenta -> bool\n",
    "    SALIDA:\n",
    "       - lista de registros seleccionados -> [Registro(str, datetime.date, int, bool)]\n",
    "    '''\n",
    "    if regiones is None:\n",
    "        filtrados = [r for r in registros if r.omicron == omicron]\n",
    "    else:\n",
    "        filtrados = [r for r in registros if r.region in regiones and r.omicron == omicron]\n",
    "    return filtrados"
   ]
  },
  {
   "cell_type": "code",
   "execution_count": 7,
   "metadata": {},
   "outputs": [
    {
     "name": "stdout",
     "output_type": "stream",
     "text": [
      "283 [Registro(region='East Midlands', fecha=datetime.date(2021, 11, 2), casos=1, omicron=True), Registro(region='East Midlands', fecha=datetime.date(2021, 11, 5), casos=1, omicron=True), Registro(region='East Midlands', fecha=datetime.date(2021, 11, 8), casos=4, omicron=True)]\n",
      "\n",
      "86 [Registro(region='East Midlands', fecha=datetime.date(2021, 11, 1), casos=874, omicron=False), Registro(region='East Midlands', fecha=datetime.date(2021, 11, 2), casos=724, omicron=False), Registro(region='East Midlands', fecha=datetime.date(2021, 11, 3), casos=757, omicron=False)]\n"
     ]
    }
   ],
   "source": [
    "# Test de la función filtra_omicron_por_region\n",
    "\n",
    "# La salida esperada de las siguientes instrucciones es: \n",
    "# 283 [Registro(region='East Midlands', fecha=datetime.date(2021, 11, 2), casos=1, omicron=True), \n",
    "#      Registro(region='East Midlands', fecha=datetime.date(2021, 11, 5), casos=1, omicron=True), \n",
    "#      Registro(region='East Midlands', fecha=datetime.date(2021, 11, 8), casos=4, omicron=True)]\n",
    "#\n",
    "# 86 [Registro(region='East Midlands', fecha=datetime.date(2021, 11, 1), casos=874, omicron=False), \n",
    "#     Registro(region='East Midlands', fecha=datetime.date(2021, 11, 2), casos=724, omicron=False), \n",
    "#     Registro(region='East Midlands', fecha=datetime.date(2021, 11, 3), casos=757, omicron=False)]\n",
    "\n",
    "filtrados = filtra_omicron_por_region(REGISTROS)\n",
    "print(len(filtrados), filtrados[:3])\n",
    "print()\n",
    "filtrados = filtra_omicron_por_region(REGISTROS, ['East Midlands', 'London'], False)\n",
    "print(len(filtrados), filtrados[:3])"
   ]
  },
  {
   "cell_type": "markdown",
   "metadata": {},
   "source": [
    "La siguiente función se llama <code>extrae_region_por_fecha</code>. Toma una lista de registros, una región y dos fechas entre las que debe encontrarse la fecha de los registros seleccionados (estas fechas están en formato <code>datetime</code>, no <code>str</code>). Produce como salida una lista de tuplas <code>(fecha, casos, omicron)</code> por orden decreciente de número de casos."
   ]
  },
  {
   "cell_type": "code",
   "execution_count": 8,
   "metadata": {},
   "outputs": [],
   "source": [
    "def extrae_region_por_fecha(registros, region, fecha_ini, fecha_fin):\n",
    "    ''' Extrae las tres columnas (fecha, casos, omicron) para los registros de la región indicada y \n",
    "        con fecha entre las dos indicadas (o igual a cualquiera de ellas).\n",
    "    \n",
    "    ENTRADA:\n",
    "       - registros: lista de registros -> [Registro(str, datetime.date, int, bool)]\n",
    "       - region: para la que se extraerán los datos -> str\n",
    "       - fecha_ini: fecha inicial del periodo de interés -> datetime\n",
    "       - fecha_fin: fecha final del periodo de interés -> datetime\n",
    "    SALIDA:\n",
    "       - lista de tuplas (fecha, casos, omicron) -> [(datetime.date, int, bool)]\n",
    "    \n",
    "    '''\n",
    "    resultado = [(r.fecha, r.casos, r.omicron) for r in registros if r.region == region and fecha_ini <= r.fecha <= fecha_fin]\n",
    "    \n",
    "    return sorted(resultado, reverse=True, key=lambda x:x[1])"
   ]
  },
  {
   "cell_type": "code",
   "execution_count": 9,
   "metadata": {},
   "outputs": [
    {
     "name": "stdout",
     "output_type": "stream",
     "text": [
      "14 [(datetime.date(2021, 12, 6), 2300, False), (datetime.date(2021, 12, 7), 2056, False), (datetime.date(2021, 12, 4), 1888, False), (datetime.date(2021, 12, 1), 1708, False), (datetime.date(2021, 12, 2), 1619, False), (datetime.date(2021, 12, 3), 1552, False), (datetime.date(2021, 12, 5), 1400, False), (datetime.date(2021, 12, 7), 655, True), (datetime.date(2021, 12, 6), 355, True), (datetime.date(2021, 12, 5), 161, True)]\n"
     ]
    }
   ],
   "source": [
    "# Test de la función extrae_datos_por_fecha\n",
    "\n",
    "# La salida esperada de las siguientes instrucciones es:\n",
    "# 14 [(datetime.date(2021, 12, 6), 2300, False), (datetime.date(2021, 12, 7), 2056, False),\n",
    "#    (datetime.date(2021, 12, 4), 1888, False), (datetime.date(2021, 12, 1), 1708, False),\n",
    "#    (datetime.date(2021, 12, 2), 1619, False), (datetime.date(2021, 12, 3), 1552, False),\n",
    "#    (datetime.date(2021, 12, 5), 1400, False), (datetime.date(2021, 12, 7), 655, True),\n",
    "#    (datetime.date(2021, 12, 6), 355, True), (datetime.date(2021, 12, 5), 161, True)]\n",
    "fecha1 = datetime(2021, 12, 1).date()\n",
    "fecha2 = datetime(2021, 12, 7).date()\n",
    "datos = extrae_region_por_fecha(REGISTROS, 'London', fecha1, fecha2)\n",
    "print(len(datos), datos[:10])"
   ]
  },
  {
   "cell_type": "markdown",
   "metadata": {},
   "source": [
    "La siguiente función de esta sección se llama <code>seleccionar_regiones</code>. Toma como entradas una lista de registros y una función que define una condición, y devuelve la lista de regiones sin repetición para las que hay al menos un registro que cumpla esa condición."
   ]
  },
  {
   "cell_type": "code",
   "execution_count": 10,
   "metadata": {},
   "outputs": [],
   "source": [
    "def seleccionar_regiones(registros, condicion):\n",
    "    ''' Calcula las regiones para las que hay al menos un registro que cumple la condición\n",
    "    \n",
    "    ENTRADA:\n",
    "       - registros: lista de registros -> [Registro(str, datetime.date, int, bool)]\n",
    "       - condicion: nombre de función, o expresión lambda -> function (Registro -> bool)\n",
    "    SALIDA:\n",
    "       - regiones para las que hay registros que cumplen la condición -> [str]\n",
    "    '''\n",
    "    return set([r.region for r in registros if condicion(r)])"
   ]
  },
  {
   "cell_type": "code",
   "execution_count": 11,
   "metadata": {},
   "outputs": [
    {
     "name": "stdout",
     "output_type": "stream",
     "text": [
      "{'East of England', 'London', 'North West'}\n"
     ]
    }
   ],
   "source": [
    "### EJERCICIO: implementar una llamada de TEST de 'seleccionar_regiones' que obtenga las regiones\n",
    "# en las que ha habido más de 1200 casos de omicron en un mismo día.\n",
    "\n",
    "# La salida esperada para esta consulta es:\n",
    "#    {'London', 'North West', 'East of England'}\n",
    "\n",
    "print(seleccionar_regiones(REGISTROS, lambda r:r.casos > 1200 and r.omicron == True))"
   ]
  },
  {
   "cell_type": "markdown",
   "metadata": {},
   "source": [
    "La siguiente función se llama <code>casos_por_fecha</code>. Toma como entrada una lista de registros y una región, y produce como salida un diccionario cuyas claves son las fechas y los valores son tuplas con el número de casos total y el porcentaje de casos omicron para esa fecha en esa región."
   ]
  },
  {
   "cell_type": "code",
   "execution_count": 12,
   "metadata": {},
   "outputs": [],
   "source": [
    "def casos_por_fecha(registros, region):\n",
    "    ''' Crea un diccionario con el total de casos y el porcentaje de omicron por fecha\n",
    "    \n",
    "    ENTRADA:\n",
    "       - registros: lista de registros -> [Registro(str, datetime.date, int, bool)]\n",
    "       - region: región a tener en cuenta -> str\n",
    "    SALIDA:\n",
    "       - diccionario con los totales y porcentajes -> {datetime.date: (int, float)}\n",
    "    '''\n",
    "    resultado = dict()\n",
    "    registros = [r for r in registros if r.region == region]\n",
    "    fechas = {r.fecha for r in registros}\n",
    "    for fecha in fechas:\n",
    "        casos_omicron = sum([r.casos for r in registros if r.fecha == fecha and r.omicron == True])\n",
    "        casos_no_omicron = sum([r.casos for r in registros if r.fecha == fecha and r.omicron == False])\n",
    "        casos_total = casos_omicron+casos_no_omicron\n",
    "        resultado[fecha] = (casos_total, casos_omicron/casos_total)\n",
    "    return resultado"
   ]
  },
  {
   "cell_type": "code",
   "execution_count": 13,
   "metadata": {},
   "outputs": [
    {
     "data": {
      "text/plain": [
       "{datetime.date(2021, 12, 5): (1561, 0.1031390134529148),\n",
       " datetime.date(2021, 11, 25): (1807, 0.0016602102933038186),\n",
       " datetime.date(2021, 11, 16): (1657, 0.0024140012070006035),\n",
       " datetime.date(2021, 12, 7): (2711, 0.2416082626337145),\n",
       " datetime.date(2021, 11, 3): (1277, 0.0015661707126076742),\n",
       " datetime.date(2021, 11, 26): (1608, 0.006218905472636816),\n",
       " datetime.date(2021, 12, 9): (3765, 0.40185922974767596),\n",
       " datetime.date(2021, 11, 8): (1314, 0.00380517503805175),\n",
       " datetime.date(2021, 12, 4): (2001, 0.05647176411794103),\n",
       " datetime.date(2021, 11, 1): (1057, 0.000946073793755913),\n",
       " datetime.date(2021, 11, 20): (1360, 0.0007352941176470588),\n",
       " datetime.date(2021, 11, 7): (593, 0.0),\n",
       " datetime.date(2021, 12, 6): (2655, 0.1337099811676083),\n",
       " datetime.date(2021, 11, 29): (2285, 0.00787746170678337),\n",
       " datetime.date(2021, 11, 10): (1166, 0.0),\n",
       " datetime.date(2021, 11, 11): (1151, 0.0008688097306689834),\n",
       " datetime.date(2021, 11, 13): (1120, 0.0008928571428571428),\n",
       " datetime.date(2021, 11, 5): (952, 0.0010504201680672268),\n",
       " datetime.date(2021, 11, 28): (1107, 0.008130081300813009),\n",
       " datetime.date(2021, 11, 14): (679, 0.0),\n",
       " datetime.date(2021, 11, 2): (1063, 0.0018814675446848542),\n",
       " datetime.date(2021, 12, 13): (3271, 0.7346377254662183),\n",
       " datetime.date(2021, 12, 2): (1655, 0.02175226586102719),\n",
       " datetime.date(2021, 11, 30): (1783, 0.01346045989904655),\n",
       " datetime.date(2021, 12, 12): (3075, 0.5960975609756097),\n",
       " datetime.date(2021, 11, 15): (1663, 0.0018039687312086591),\n",
       " datetime.date(2021, 11, 9): (1465, 0.0013651877133105802),\n",
       " datetime.date(2021, 11, 17): (1670, 0.0017964071856287425),\n",
       " datetime.date(2021, 11, 22): (1762, 0.0028376844494892167),\n",
       " datetime.date(2021, 12, 8): (3058, 0.34924787442773053),\n",
       " datetime.date(2021, 11, 18): (1926, 0.0020768431983385254),\n",
       " datetime.date(2021, 11, 19): (1395, 0.002867383512544803),\n",
       " datetime.date(2021, 11, 24): (1585, 0.0031545741324921135),\n",
       " datetime.date(2021, 11, 12): (1024, 0.001953125),\n",
       " datetime.date(2021, 12, 10): (4547, 0.4449087310314493),\n",
       " datetime.date(2021, 12, 3): (1601, 0.030605871330418487),\n",
       " datetime.date(2021, 12, 1): (1735, 0.015561959654178675),\n",
       " datetime.date(2021, 12, 11): (1723, 0.5089959373186302),\n",
       " datetime.date(2021, 11, 23): (1694, 0.0011806375442739079),\n",
       " datetime.date(2021, 11, 4): (962, 0.0010395010395010396),\n",
       " datetime.date(2021, 11, 21): (1365, 0.0),\n",
       " datetime.date(2021, 11, 27): (1452, 0.008264462809917356),\n",
       " datetime.date(2021, 11, 6): (637, 0.0031397174254317113)}"
      ]
     },
     "execution_count": 13,
     "metadata": {},
     "output_type": "execute_result"
    }
   ],
   "source": [
    "# Test de la función casos_por_fecha\n",
    "\n",
    "# La salida esperada de la siguiente instrucción es (el orden de los elementos puede variar): \n",
    "#   {datetime.date(2021, 11, 5): (952, 0.0010504201680672268),\n",
    "#   datetime.date(2021, 12, 8): (3058, 0.34924787442773053),\n",
    "#   datetime.date(2021, 11, 6): (637, 0.0031397174254317113),\n",
    "#   ...}\n",
    "casos_por_fecha(REGISTROS, 'London')"
   ]
  },
  {
   "cell_type": "markdown",
   "metadata": {},
   "source": [
    "## 3. Visualización (2 puntos)"
   ]
  },
  {
   "cell_type": "markdown",
   "metadata": {},
   "source": [
    "La función de visualización que implementaremos será <code>muestra_comparativa_regiones</code>. Toma como entrada una lista de registros, una fecha y una lista de regiones y genera una gráfica de barras con una barra para cada región indicando su número de casos para la fecha indicada."
   ]
  },
  {
   "cell_type": "code",
   "execution_count": 14,
   "metadata": {},
   "outputs": [],
   "source": [
    "def muestra_comparativa_regiones(registros, fecha, regiones):\n",
    "    ''' Genera una gráfica de barras en la que se muestra la comparativa del\n",
    "    número de casos omicron en un día concreto para las regiones indicadas\n",
    "    \n",
    "    ENTRADA: \n",
    "       - registros: lista de registros -> [Registro(str, datetime.date, int, bool)]\n",
    "       - fecha: para la que se generará la gráfica -> datetime.date\n",
    "       - regiones: de las que se generará la gráfica -> [str]\n",
    "    SALIDA EN PANTALLA: \n",
    "       - diagrama de barras con la comparativa del número de casos por regiones\n",
    "\n",
    "    Estas son las instrucciones 'matplotlib' para trazar el diagrama de barras:\n",
    "        plt.title(titulo)\n",
    "        indice = range(len(l_regiones))\n",
    "        plt.bar(indice, l_casos)\n",
    "        plt.xticks(indice, l_regiones, fontsize=8)\n",
    "        plt.show()\n",
    "\n",
    "    Que se apoyan en las siguientes variables:\n",
    "        - titulo: una cadena con el título que se va a mostrar en el gráfico\n",
    "        - l_regiones: lista de regiones para las que hay datos en la fecha dada\n",
    "        - l_casos: lista con el total de casos (omicron o no) para la fecha dada en dichas regiones (con el mismo orden)\n",
    "        \n",
    "    Para convertir un objeto de tipo date a str puedes usar la expresión:\n",
    "        fecha.strftime(\"%d/%m/%Y\")\n",
    "    '''\n",
    "    registros = [r for r in registros if r.region in regiones and r.fecha == fecha]\n",
    "    l_regiones = list({r.region for r in registros})\n",
    "    l_casos = [sum(r.casos for r in registros if r.region == region) for region in l_regiones]\n",
    "    titulo = 'Casos el ' + fecha.strftime(\"%d/%m/%Y\")\n",
    "    plt.title(titulo)\n",
    "    indice = range(len(l_regiones))\n",
    "    plt.bar(indice, l_casos)\n",
    "    plt.xticks(indice, l_regiones, fontsize=8)\n",
    "    plt.show()"
   ]
  },
  {
   "cell_type": "markdown",
   "metadata": {},
   "source": [
    "La salida de la siguiente celda de test debería ser la siguiente:\n",
    "\n",
    "<img src=\"./img/visualizacion.PNG\" alt=\"Drawing\" width=\"400\"/>"
   ]
  },
  {
   "cell_type": "code",
   "execution_count": 15,
   "metadata": {},
   "outputs": [
    {
     "data": {
      "image/png": "[encoded data removed]",
      "text/plain": [
       "<Figure size 432x288 with 1 Axes>"
      ]
     },
     "metadata": {
      "needs_background": "light"
     },
     "output_type": "display_data"
    }
   ],
   "source": [
    "# Test de la función muestra_comparativa_regiones\n",
    "muestra_comparativa_regiones(REGISTROS,datetime(2021, 11, 21).date(), ['London', 'North West', 'East of England'])"
   ]
  },
  {
   "cell_type": "code",
   "execution_count": null,
   "metadata": {},
   "outputs": [],
   "source": []
  }
 ],
 "metadata": {
  "kernelspec": {
   "display_name": "Python 3",
   "language": "python",
   "name": "python3"
  },
  "language_info": {
   "codemirror_mode": {
    "name": "ipython",
    "version": 3
   },
   "file_extension": ".py",
   "mimetype": "text/x-python",
   "name": "python",
   "nbconvert_exporter": "python",
   "pygments_lexer": "ipython3",
   "version": "3.8.8"
  }
 },
 "nbformat": 4,
 "nbformat_minor": 4
}
