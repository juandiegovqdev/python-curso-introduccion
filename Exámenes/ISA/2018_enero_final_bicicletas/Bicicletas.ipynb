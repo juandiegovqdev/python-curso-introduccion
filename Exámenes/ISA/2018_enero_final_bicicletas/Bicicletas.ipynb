{
 "cells": [
  {
   "cell_type": "markdown",
   "metadata": {},
   "source": [
    "# Prueba de laboratorio: Bicicletas\n",
    "**Fecha:** 23/01/2018"
   ]
  },
  {
   "cell_type": "markdown",
   "metadata": {},
   "source": [
    "Antes de empezar, ejecutaremos la siguiente celda con las importaciones necesarias para poder realizar el ejercicio:"
   ]
  },
  {
   "cell_type": "code",
   "execution_count": 1,
   "metadata": {},
   "outputs": [],
   "source": [
    "import csv\n",
    "from matplotlib import pylab as plt"
   ]
  },
  {
   "cell_type": "markdown",
   "metadata": {},
   "source": [
    "## 1. Carga de datos (2 puntos)"
   ]
  },
  {
   "cell_type": "markdown",
   "metadata": {},
   "source": [
    "Tomaremos los datos de un fichero de entrada llamado <code>bicicletas.csv</code> en el que se encuentra registrado el uso de un sistema de alquiler de bicicletas. El fichero se encuentra en la carpeta <code>./csv</code>. Cada línea del fichero de entrada contiene siete informaciones relativas a la fecha, hora, condiciones meteorológicas y número de bicicletas alquiladas:\n",
    "\n",
    "- mes: de 1 a 12\n",
    "- dia: desde 0 (domingo) hasta 6 (sábado)\n",
    "- hora: de 0 a 23\n",
    "- temperatura: temperatura del aire\n",
    "- humedad: humedad relativa\n",
    "- viento: velocidad del viento\n",
    "- alquiladas: número de bicicletas alquiladas\n",
    "\n",
    "He aquí un fragmento con las primeras líneas del fichero de entrada:\n",
    "<pre>\n",
    "    mes,dia,hora,temperatura,humedad,viento,alquiladas\n",
    "    1,6,0,0.24,0.81,0.0,16\n",
    "    1,6,1,0.22,0.8,0.0,40\n",
    "    1,6,2,0.22,0.8,0.0,32\n",
    "    1,6,3,0.24,0.75,0.0,13\n",
    "    1,6,4,0.24,0.75,0.0,1\n",
    "</pre>\n",
    "\n",
    "La primera función que implementaremos será la de lectura. Será la encargada de leer los datos del fichero de entrada y cargarlos en una lista de tuplas:"
   ]
  },
  {
   "cell_type": "code",
   "execution_count": 2,
   "metadata": {},
   "outputs": [],
   "source": [
    "def lee_bicicletas(fichero):\n",
    "    ''' Lee el fichero de entrada y devuelve una lista de tuplas\n",
    "    \n",
    "    Cada línea del fichero de entrada contiene siete informaciones\n",
    "    relativas a la fecha, hora, condiciones meteorológicas y número\n",
    "    de bicicletas alquiladas:\n",
    "        - mes: de 1 a 12\n",
    "        - dia: de 0 (domingo) a 6 (sábado)\n",
    "        - hora: de 0 a 23\n",
    "        - temperatura: temperatura del aire\n",
    "        - humedad: humedad relativa\n",
    "        - viento: velocidad del viento\n",
    "        - alquiladas: número de bicicletas alquiladas\n",
    "    Hay que transformar ciertos elementos de la entrada en valores numéricos\n",
    "    para que puedan ser procesados posteriormente.\n",
    "    '''\n",
    "    registros = []\n",
    "    with open(fichero, 'r', encoding='utf-8') as f:\n",
    "        lector = csv.reader(f)\n",
    "        next(lector)\n",
    "        for mes,dia,hora,temperatura,humedad,viento,alquiladas in lector:\n",
    "            mes = int(mes)\n",
    "            dia = int(dia)\n",
    "            hora = int(hora)\n",
    "            temperatura = float(temperatura)\n",
    "            humedad = float(humedad)\n",
    "            viento = float(viento)\n",
    "            alquiladas = int(alquiladas)\n",
    "            registros.append((mes,dia,hora,temperatura,humedad,viento,alquiladas))\n",
    "    return registros"
   ]
  },
  {
   "cell_type": "code",
   "execution_count": 3,
   "metadata": {},
   "outputs": [
    {
     "name": "stdout",
     "output_type": "stream",
     "text": [
      "17379 [(1, 6, 0, 0.24, 0.81, 0.0, 16), (1, 6, 1, 0.22, 0.8, 0.0, 40)]\n"
     ]
    }
   ],
   "source": [
    "# Test de la función lee_biciletas\n",
    "registros = lee_bicicletas('bicicletas.csv')\n",
    "\n",
    "# La salida esperada de la siguiente instrucción es: \n",
    "#    17379 [(1, 6, 0, 0.24, 0.81, 0.0, 16), (1, 6, 1, 0.22, 0.8, 0.0, 40)]\n",
    "print(len(registros), registros[:2])"
   ]
  },
  {
   "cell_type": "markdown",
   "metadata": {
    "collapsed": true
   },
   "source": [
    "## 2. Consulta y filtrado (6 puntos)"
   ]
  },
  {
   "cell_type": "markdown",
   "metadata": {},
   "source": [
    "Una vez que hemos cargado los datos en una estructura en memoria ya podemos empezar a procesarlos. En esta sección implementaremos algunas funciones de consulta y filtrado que nos permitirán trabajar con ellos.\n",
    "\n",
    "La primera función que implementaremos se llama <code>proporcion_fin_de_semana</code>. La función toma una lista de tuplas de registros y calcula qué proporción de bicicletas se alquila durante los fines de semana:"
   ]
  },
  {
   "cell_type": "code",
   "execution_count": 4,
   "metadata": {},
   "outputs": [],
   "source": [
    "def proporcion_fin_de_semana(registros):\n",
    "    ''' Proporcion de bicicletas alquiladas los fines de semana\n",
    "\n",
    "    Toma como entrada una lista de tuplas de registros y calcula qué proporción\n",
    "    de bicicletas se alquila durante los fines de semana:\n",
    "    '''\n",
    "    pass"
   ]
  },
  {
   "cell_type": "code",
   "execution_count": 5,
   "metadata": {},
   "outputs": [
    {
     "name": "stdout",
     "output_type": "stream",
     "text": [
      "None\n"
     ]
    }
   ],
   "source": [
    "# Test de la función proporcion_fin_de_semana\n",
    "proporcion = proporcion_fin_de_semana(registros)\n",
    "\n",
    "# La salida esperada de la siguiente instrucción es: \n",
    "#   0.27996473388386783\n",
    "print(proporcion)"
   ]
  },
  {
   "cell_type": "markdown",
   "metadata": {},
   "source": [
    "La segunda función se llama <code>filtra_por_meses</code>. Toma una lista de registros y una lista de meses, y selecciona solo los registros de los meses indicados:"
   ]
  },
  {
   "cell_type": "code",
   "execution_count": 6,
   "metadata": {},
   "outputs": [],
   "source": [
    "def filtra_por_meses(registros, meses):\n",
    "    ''' Selecciona registros por meses\n",
    "\n",
    "    Toma una lista de registros y una lista de meses, y selecciona\n",
    "    solo los registros de los meses indicados\n",
    "    '''\n",
    "    pass"
   ]
  },
  {
   "cell_type": "code",
   "execution_count": 7,
   "metadata": {},
   "outputs": [
    {
     "ename": "TypeError",
     "evalue": "object of type 'NoneType' has no len()",
     "output_type": "error",
     "traceback": [
      "\u001b[0;31m---------------------------------------------------------------------------\u001b[0m",
      "\u001b[0;31mTypeError\u001b[0m                                 Traceback (most recent call last)",
      "\u001b[0;32m/var/folders/4c/3dtpk_lx5vxc01zb_tbycz700000gn/T/ipykernel_86812/1277251825.py\u001b[0m in \u001b[0;36m<module>\u001b[0;34m\u001b[0m\n\u001b[1;32m      4\u001b[0m \u001b[0;31m# La salida esperada de la siguiente instrucción es:\u001b[0m\u001b[0;34m\u001b[0m\u001b[0;34m\u001b[0m\u001b[0m\n\u001b[1;32m      5\u001b[0m \u001b[0;31m# 4251 [(2, 2, 0, 0.16, 0.64, 0.1045, 8), (2, 2, 1, 0.16, 0.69, 0.1045, 3)]\u001b[0m\u001b[0;34m\u001b[0m\u001b[0;34m\u001b[0m\u001b[0m\n\u001b[0;32m----> 6\u001b[0;31m \u001b[0mprint\u001b[0m\u001b[0;34m(\u001b[0m\u001b[0mlen\u001b[0m\u001b[0;34m(\u001b[0m\u001b[0mfiltrados\u001b[0m\u001b[0;34m)\u001b[0m\u001b[0;34m,\u001b[0m \u001b[0mfiltrados\u001b[0m\u001b[0;34m[\u001b[0m\u001b[0;34m:\u001b[0m\u001b[0;36m2\u001b[0m\u001b[0;34m]\u001b[0m\u001b[0;34m)\u001b[0m\u001b[0;34m\u001b[0m\u001b[0;34m\u001b[0m\u001b[0m\n\u001b[0m",
      "\u001b[0;31mTypeError\u001b[0m: object of type 'NoneType' has no len()"
     ]
    }
   ],
   "source": [
    "# Test de la función filtra_por_meses\n",
    "filtrados = filtra_por_meses(registros, [2,3,4])\n",
    "\n",
    "# La salida esperada de la siguiente instrucción es: \n",
    "# 4251 [(2, 2, 0, 0.16, 0.64, 0.1045, 8), (2, 2, 1, 0.16, 0.69, 0.1045, 3)]\n",
    "print(len(filtrados), filtrados[:2])"
   ]
  },
  {
   "cell_type": "markdown",
   "metadata": {},
   "source": [
    "La última función de esta sección se llama <code>agrupa_por_dias</code>. Toma como entrada una lista de registros, y produce como salida un diccionario cuyas claves son los dias. Los valores del diccionario son las listas de los registros correspondientes a cada dia."
   ]
  },
  {
   "cell_type": "code",
   "execution_count": null,
   "metadata": {},
   "outputs": [],
   "source": [
    "def agrupa_por_dias(registros):\n",
    "    ''' Crea un diccionario de registros indexado por dias\n",
    "    \n",
    "    Toma como entrada una lista de registros, y produce como\n",
    "    salida un diccionario cuyas claves son los dias. Los valores\n",
    "    del diccionario son listas de registros correspondientes\n",
    "    a cada dia.\n",
    "    \n",
    "    La solución debe ser genérica y adaptarse a los datos que\n",
    "    se reciben como parámetro para calcular el conjunto de claves del\n",
    "    diccionario.\n",
    "    '''\n",
    "    pass"
   ]
  },
  {
   "cell_type": "code",
   "execution_count": null,
   "metadata": {},
   "outputs": [],
   "source": [
    "# Test de la función agrupa_por_dias\n",
    "grupos = agrupa_por_dias(registros)\n",
    "\n",
    "# La salida esperada de las siguientes instrucciones es: \n",
    "#   0 2502 [(1, 0, 0, 0.46, 0.88, 0.2985, 17), (1, 0, 1, 0.44, 0.94, 0.2537, 17)]\n",
    "#   1 2479 [(1, 1, 0, 0.22, 0.44, 0.3582, 5), (1, 1, 1, 0.2, 0.44, 0.4179, 2)]\n",
    "#   2 2453 [(1, 2, 0, 0.16, 0.55, 0.1045, 5), (1, 2, 1, 0.16, 0.59, 0.1045, 2)]\n",
    "#   3 2475 [(1, 3, 0, 0.2, 0.64, 0.0, 6), (1, 3, 1, 0.16, 0.74, 0.0896, 6)]\n",
    "#   4 2471 [(1, 4, 0, 0.18, 0.55, 0.0, 11), (1, 4, 1, 0.16, 0.64, 0.0, 4)]\n",
    "#   5 2487 [(1, 5, 0, 0.2, 0.64, 0.19399999999999998, 17), (1, 5, 1, 0.2, 0.69, 0.2239, 7)]\n",
    "#   6 2512 [(1, 6, 0, 0.24, 0.81, 0.0, 16), (1, 6, 1, 0.22, 0.8, 0.0, 40)]\n",
    "\n",
    "for dia in grupos:\n",
    "    print(dia, len(grupos[dia]), grupos[dia][:2])"
   ]
  },
  {
   "cell_type": "markdown",
   "metadata": {},
   "source": [
    "## 3. Visualización (2 puntos)"
   ]
  },
  {
   "cell_type": "markdown",
   "metadata": {},
   "source": [
    "La función de visualización que implementaremos será <code>muestra_distribucion_dias</code>. Toma como entrada una lista de registros, y genera un diagrama de barras en el que cada barra corresponde al número total de bicicletas alquiladas un día de la semana."
   ]
  },
  {
   "cell_type": "code",
   "execution_count": 35,
   "metadata": {},
   "outputs": [],
   "source": [
    "def muestra_distribucion_dias(registros):\n",
    "    ''' Genera una diagrama de barras con la distribución por días del número de\n",
    "        bicicletas alquiladas\n",
    "        \n",
    "        Toma como entrada una lista de registros. Genera un diagrama de barras en\n",
    "        el que cada barra corresponde al número total de bicicletas alquiladas un\n",
    "        día de la semana.\n",
    "    \n",
    "        Se usarán las siguientes instrucciones matplotlib para generar el diagrama\n",
    "        de barras:\n",
    "            plt.bar(range(len(nombres_dias)), conteos_dias, tick_label=nombres_dias)\n",
    "            plt.show()\n",
    "        \n",
    "        Donde las variables significan lo siguiente:\n",
    "            - nombres_dias: lista con los nombres de los días\n",
    "            - conteos_dias: lista con el número de bicicletas alquiladas cada día\n",
    "    '''\n",
    "    \n",
    "    x = [\"Domingo\", \"Lunes\", \"Martes\", \"Miércoles\", \"Jueves\", \"Viernes\", \"Sábado\"]\n",
    "    y = []\n",
    "    \n",
    "    domingo = 0\n",
    "    lunes = 0\n",
    "    martes = 0\n",
    "    miercoles = 0\n",
    "    jueves = 0\n",
    "    viernes = 0\n",
    "    sabado = 0\n",
    "    \n",
    "    for i in registros:\n",
    "        domingo = domingo + float(i[0])\n",
    "        lunes = lunes + float(i[1])\n",
    "        martes = martes + float(i[2])\n",
    "        miercoles = miercoles + float(i[3])\n",
    "        jueves = jueves + float(i[4])\n",
    "        viernes = viernes + float(i[5])\n",
    "        sabado = sabado + float(i[6])\n",
    "        \n",
    "    y.append(domingo)\n",
    "    y.append(lunes)\n",
    "    y.append(martes)\n",
    "    y.append(miercoles)\n",
    "    y.append(jueves)\n",
    "    y.append(viernes)\n",
    "    y.append(sabado)\n",
    "    \n",
    "    plt.bar(x, y)\n",
    "    plt.show()"
   ]
  },
  {
   "cell_type": "markdown",
   "metadata": {},
   "source": [
    "La salida de la celda de test debería ser la siguiente:\n",
    "![title](./diagrama_barras.png)"
   ]
  },
  {
   "cell_type": "code",
   "execution_count": 36,
   "metadata": {},
   "outputs": [
    {
     "data": {
      "image/png": "[encoded data removed]",
      "text/plain": [
       "<Figure size 432x288 with 1 Axes>"
      ]
     },
     "metadata": {
      "needs_background": "light"
     },
     "output_type": "display_data"
    }
   ],
   "source": [
    "# Test de la función muestra_distribucion_dias\n",
    "muestra_distribucion_dias(registros)"
   ]
  },
  {
   "cell_type": "code",
   "execution_count": null,
   "metadata": {},
   "outputs": [],
   "source": []
  },
  {
   "cell_type": "code",
   "execution_count": null,
   "metadata": {},
   "outputs": [],
   "source": []
  }
 ],
 "metadata": {
  "kernelspec": {
   "display_name": "Python 3 (ipykernel)",
   "language": "python",
   "name": "python3"
  },
  "language_info": {
   "codemirror_mode": {
    "name": "ipython",
    "version": 3
   },
   "file_extension": ".py",
   "mimetype": "text/x-python",
   "name": "python",
   "nbconvert_exporter": "python",
   "pygments_lexer": "ipython3",
   "version": "3.9.7"
  }
 },
 "nbformat": 4,
 "nbformat_minor": 2
}
