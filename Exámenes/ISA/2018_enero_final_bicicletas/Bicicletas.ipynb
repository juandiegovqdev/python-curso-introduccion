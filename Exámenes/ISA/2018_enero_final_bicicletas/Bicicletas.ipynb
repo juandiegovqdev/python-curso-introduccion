{
 "cells": [
  {
   "cell_type": "markdown",
   "metadata": {},
   "source": [
    "# Prueba de laboratorio: Bicicletas\n",
    "**Fecha:** 23/01/2018"
   ]
  },
  {
   "cell_type": "markdown",
   "metadata": {},
   "source": [
    "Antes de empezar, ejecutaremos la siguiente celda con las importaciones necesarias para poder realizar el ejercicio:"
   ]
  },
  {
   "cell_type": "code",
   "execution_count": null,
   "metadata": {
    "collapsed": true
   },
   "outputs": [],
   "source": [
    "import csv\n",
    "from matplotlib import pylab as plt"
   ]
  },
  {
   "cell_type": "markdown",
   "metadata": {},
   "source": [
    "## 1. Carga de datos (2 puntos)"
   ]
  },
  {
   "cell_type": "markdown",
   "metadata": {},
   "source": [
    "Tomaremos los datos de un fichero de entrada llamado <code>bicicletas.csv</code> en el que se encuentra registrado el uso de un sistema de alquiler de bicicletas. El fichero se encuentra en la carpeta <code>./csv</code>. Cada línea del fichero de entrada contiene siete informaciones relativas a la fecha, hora, condiciones meteorológicas y número de bicicletas alquiladas:\n",
    "\n",
    "- mes: de 1 a 12\n",
    "- dia: desde 0 (domingo) hasta 6 (sábado)\n",
    "- hora: de 0 a 23\n",
    "- temperatura: temperatura del aire\n",
    "- humedad: humedad relativa\n",
    "- viento: velocidad del viento\n",
    "- alquiladas: número de bicicletas alquiladas\n",
    "\n",
    "He aquí un fragmento con las primeras líneas del fichero de entrada:\n",
    "<pre>\n",
    "    mes,dia,hora,temperatura,humedad,viento,alquiladas\n",
    "    1,6,0,0.24,0.81,0.0,16\n",
    "    1,6,1,0.22,0.8,0.0,40\n",
    "    1,6,2,0.22,0.8,0.0,32\n",
    "    1,6,3,0.24,0.75,0.0,13\n",
    "    1,6,4,0.24,0.75,0.0,1\n",
    "</pre>\n",
    "\n",
    "La primera función que implementaremos será la de lectura. Será la encargada de leer los datos del fichero de entrada y cargarlos en una lista de tuplas:"
   ]
  },
  {
   "cell_type": "code",
   "execution_count": null,
   "metadata": {
    "collapsed": true
   },
   "outputs": [],
   "source": [
    "def lee_bicicletas(fichero):\n",
    "    ''' Lee el fichero de entrada y devuelve una lista de tuplas\n",
    "    \n",
    "    Cada línea del fichero de entrada contiene siete informaciones\n",
    "    relativas a la fecha, hora, condiciones meteorológicas y número\n",
    "    de bicicletas alquiladas:\n",
    "        - mes: de 1 a 12\n",
    "        - dia: de 0 (domingo) a 6 (sábado)\n",
    "        - hora: de 0 a 23\n",
    "        - temperatura: temperatura del aire\n",
    "        - humedad: humedad relativa\n",
    "        - viento: velocidad del viento\n",
    "        - alquiladas: número de bicicletas alquiladas\n",
    "    Hay que transformar ciertos elementos de la entrada en valores numéricos\n",
    "    para que puedan ser procesados posteriormente.\n",
    "    '''\n",
    "    pass"
   ]
  },
  {
   "cell_type": "code",
   "execution_count": null,
   "metadata": {
    "collapsed": true
   },
   "outputs": [],
   "source": [
    "# Test de la función lee_biciletas\n",
    "registros = lee_bicicletas('./csv/bicicletas.csv')\n",
    "\n",
    "# La salida esperada de la siguiente instrucción es: \n",
    "#    17379 [(1, 6, 0, 0.24, 0.81, 0.0, 16), (1, 6, 1, 0.22, 0.8, 0.0, 40)]\n",
    "print(len(registros), registros[:2])"
   ]
  },
  {
   "cell_type": "markdown",
   "metadata": {
    "collapsed": true
   },
   "source": [
    "## 2. Consulta y filtrado (6 puntos)"
   ]
  },
  {
   "cell_type": "markdown",
   "metadata": {},
   "source": [
    "Una vez que hemos cargado los datos en una estructura en memoria ya podemos empezar a procesarlos. En esta sección implementaremos algunas funciones de consulta y filtrado que nos permitirán trabajar con ellos.\n",
    "\n",
    "La primera función que implementaremos se llama <code>proporcion_fin_de_semana</code>. La función toma una lista de tuplas de registros y calcula qué proporción de bicicletas se alquila durante los fines de semana:"
   ]
  },
  {
   "cell_type": "code",
   "execution_count": null,
   "metadata": {
    "collapsed": true
   },
   "outputs": [],
   "source": [
    "def proporcion_fin_de_semana(registros):\n",
    "    ''' Proporcion de bicicletas alquiladas los fines de semana\n",
    "\n",
    "    Toma como entrada una lista de tuplas de registros y calcula qué proporción\n",
    "    de bicicletas se alquila durante los fines de semana:\n",
    "    '''\n",
    "    pass"
   ]
  },
  {
   "cell_type": "code",
   "execution_count": null,
   "metadata": {
    "collapsed": true
   },
   "outputs": [],
   "source": [
    "# Test de la función proporcion_fin_de_semana\n",
    "proporcion = proporcion_fin_de_semana(registros)\n",
    "\n",
    "# La salida esperada de la siguiente instrucción es: \n",
    "#   0.27996473388386783\n",
    "print(proporcion)"
   ]
  },
  {
   "cell_type": "markdown",
   "metadata": {},
   "source": [
    "La segunda función se llama <code>filtra_por_meses</code>. Toma una lista de registros y una lista de meses, y selecciona solo los registros de los meses indicados:"
   ]
  },
  {
   "cell_type": "code",
   "execution_count": null,
   "metadata": {
    "collapsed": true
   },
   "outputs": [],
   "source": [
    "def filtra_por_meses(registros, meses):\n",
    "    ''' Selecciona registros por meses\n",
    "\n",
    "    Toma una lista de registros y una lista de meses, y selecciona\n",
    "    solo los registros de los meses indicados\n",
    "    '''\n",
    "    pass"
   ]
  },
  {
   "cell_type": "code",
   "execution_count": null,
   "metadata": {
    "collapsed": true
   },
   "outputs": [],
   "source": [
    "# Test de la función filtra_por_meses\n",
    "filtrados = filtra_por_meses(registros, [2,3,4])\n",
    "\n",
    "# La salida esperada de la siguiente instrucción es: \n",
    "# 4251 [(2, 2, 0, 0.16, 0.64, 0.1045, 8), (2, 2, 1, 0.16, 0.69, 0.1045, 3)]\n",
    "print(len(filtrados), filtrados[:2])"
   ]
  },
  {
   "cell_type": "markdown",
   "metadata": {},
   "source": [
    "La última función de esta sección se llama <code>agrupa_por_dias</code>. Toma como entrada una lista de registros, y produce como salida un diccionario cuyas claves son los dias. Los valores del diccionario son las listas de los registros correspondientes a cada dia."
   ]
  },
  {
   "cell_type": "code",
   "execution_count": null,
   "metadata": {
    "collapsed": true
   },
   "outputs": [],
   "source": [
    "def agrupa_por_dias(registros):\n",
    "    ''' Crea un diccionario de registros indexado por dias\n",
    "    \n",
    "    Toma como entrada una lista de registros, y produce como\n",
    "    salida un diccionario cuyas claves son los dias. Los valores\n",
    "    del diccionario son listas de registros correspondientes\n",
    "    a cada dia.\n",
    "    \n",
    "    La solución debe ser genérica y adaptarse a los datos que\n",
    "    se reciben como parámetro para calcular el conjunto de claves del\n",
    "    diccionario.\n",
    "    '''\n",
    "    pass"
   ]
  },
  {
   "cell_type": "code",
   "execution_count": null,
   "metadata": {
    "collapsed": true
   },
   "outputs": [],
   "source": [
    "# Test de la función agrupa_por_dias\n",
    "grupos = agrupa_por_dias(registros)\n",
    "\n",
    "# La salida esperada de las siguientes instrucciones es: \n",
    "#   0 2502 [(1, 0, 0, 0.46, 0.88, 0.2985, 17), (1, 0, 1, 0.44, 0.94, 0.2537, 17)]\n",
    "#   1 2479 [(1, 1, 0, 0.22, 0.44, 0.3582, 5), (1, 1, 1, 0.2, 0.44, 0.4179, 2)]\n",
    "#   2 2453 [(1, 2, 0, 0.16, 0.55, 0.1045, 5), (1, 2, 1, 0.16, 0.59, 0.1045, 2)]\n",
    "#   3 2475 [(1, 3, 0, 0.2, 0.64, 0.0, 6), (1, 3, 1, 0.16, 0.74, 0.0896, 6)]\n",
    "#   4 2471 [(1, 4, 0, 0.18, 0.55, 0.0, 11), (1, 4, 1, 0.16, 0.64, 0.0, 4)]\n",
    "#   5 2487 [(1, 5, 0, 0.2, 0.64, 0.19399999999999998, 17), (1, 5, 1, 0.2, 0.69, 0.2239, 7)]\n",
    "#   6 2512 [(1, 6, 0, 0.24, 0.81, 0.0, 16), (1, 6, 1, 0.22, 0.8, 0.0, 40)]\n",
    "\n",
    "for dia in grupos:\n",
    "    print(dia, len(grupos[dia]), grupos[dia][:2])"
   ]
  },
  {
   "cell_type": "markdown",
   "metadata": {},
   "source": [
    "## 3. Visualización (2 puntos)"
   ]
  },
  {
   "cell_type": "markdown",
   "metadata": {},
   "source": [
    "La función de visualización que implementaremos será <code>muestra_distribucion_dias</code>. Toma como entrada una lista de registros, y genera un diagrama de barras en el que cada barra corresponde al número total de bicicletas alquiladas un día de la semana."
   ]
  },
  {
   "cell_type": "code",
   "execution_count": null,
   "metadata": {
    "collapsed": true
   },
   "outputs": [],
   "source": [
    "def muestra_distribucion_dias(registros):\n",
    "    ''' Genera una diagrama de barras con la distribución por días del número de\n",
    "        bicicletas alquiladas\n",
    "        \n",
    "        Toma como entrada una lista de registros. Genera un diagrama de barras en\n",
    "        el que cada barra corresponde al número total de bicicletas alquiladas un\n",
    "        día de la semana.\n",
    "    \n",
    "        Se usarán las siguientes instrucciones matplotlib para generar el diagrama\n",
    "        de barras:\n",
    "            plt.bar(range(len(nombres_dias)), conteos_dias, tick_label=nombres_dias)\n",
    "            plt.show()\n",
    "        \n",
    "        Donde las variables significan lo siguiente:\n",
    "            - nombres_dias: lista con los nombres de los días\n",
    "            - conteos_dias: lista con el número de bicicletas alquiladas cada día\n",
    "    '''\n",
    "    pass"
   ]
  },
  {
   "cell_type": "markdown",
   "metadata": {},
   "source": [
    "La salida de la celda de test debería ser la siguiente:\n",
    "![title](./diagrama_barras.png)"
   ]
  },
  {
   "cell_type": "code",
   "execution_count": null,
   "metadata": {
    "collapsed": true
   },
   "outputs": [],
   "source": [
    "# Test de la función muestra_distribucion_dias\n",
    "muestra_distribucion_dias(registros)"
   ]
  }
 ],
 "metadata": {
  "kernelspec": {
   "display_name": "Python 3",
   "language": "python",
   "name": "python3"
  },
  "language_info": {
   "codemirror_mode": {
    "name": "ipython",
    "version": 3
   },
   "file_extension": ".py",
   "mimetype": "text/x-python",
   "name": "python",
   "nbconvert_exporter": "python",
   "pygments_lexer": "ipython3",
   "version": "3.6.3"
  }
 },
 "nbformat": 4,
 "nbformat_minor": 2
}
