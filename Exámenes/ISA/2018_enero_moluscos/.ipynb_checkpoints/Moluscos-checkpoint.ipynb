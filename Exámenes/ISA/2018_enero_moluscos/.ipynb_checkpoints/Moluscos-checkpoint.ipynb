{
 "cells": [
  {
   "cell_type": "markdown",
   "metadata": {},
   "source": [
    "# Prueba de laboratorio: Moluscos\n",
    "**Fecha:** 18/01/2018"
   ]
  },
  {
   "cell_type": "markdown",
   "metadata": {},
   "source": [
    "Antes de empezar, ejecutaremos la siguiente celda con las importaciones necesarias para poder realizar el ejercicio:"
   ]
  },
  {
   "cell_type": "code",
   "execution_count": 1,
   "metadata": {},
   "outputs": [],
   "source": [
    "import csv\n",
    "from matplotlib import pylab as plt"
   ]
  },
  {
   "cell_type": "markdown",
   "metadata": {},
   "source": [
    "## 1. Carga de datos (2 puntos)"
   ]
  },
  {
   "cell_type": "markdown",
   "metadata": {},
   "source": [
    "Tomaremos los datos de un fichero de entrada llamado <code>moluscos.csv</code> en el que se encuentran distintas mediciones de una especie de moluscos (abalones, también conocidos como _orejas de mar_). El fichero se encuentra en la carpeta <code>./csv</code>. Cada línea del fichero de entrada se corresponde con la medición de un molusco y contiene seis informaciones:\n",
    "\n",
    "- sexo: M (masculino), F (femenino), I (infante)\n",
    "- longitud de la concha\n",
    "- diámetro de la concha\n",
    "- altura de la concha\n",
    "- peso del cuerpo\n",
    "- edad en años\n",
    "\n",
    "He aquí un fragmento con las primeras líneas del fichero de entrada:\n",
    "<pre>\n",
    "    sexo,longitud,diametro,altura,peso,edad\n",
    "    M,0.455,0.365,0.095,0.514,15\n",
    "    M,0.35,0.265,0.09,0.2255,7\n",
    "    F,0.53,0.42,0.135,0.677,9\n",
    "    M,0.44,0.365,0.125,0.516,10\n",
    "    I,0.33,0.255,0.08,0.205,7\n",
    "</pre>\n",
    "\n",
    "La primera función que implementaremos será la de lectura. Será la encargada de leer los datos del fichero de entrada y cargarlos en una lista de tuplas:"
   ]
  },
  {
   "cell_type": "code",
   "execution_count": 3,
   "metadata": {},
   "outputs": [],
   "source": [
    "def lee_moluscos(fichero):\n",
    "    ''' Lee el fichero de entrada y devuelve una lista de medidas de moluscos\n",
    "\n",
    "    Cada línea del fichero se corresponde con un molusco, y se representa\n",
    "    con una tupla con los siguientes valores:\n",
    "       - sexo: M (masculino), F (femenino), I (infante)\n",
    "       - longitud de la concha\n",
    "       - diámetro de la concha\n",
    "       - altura de la concha\n",
    "       - peso del cuerpo\n",
    "       - edad en años\n",
    "    Hay que transformar ciertos elementos de la entrada en valores numéricos\n",
    "    para que puedan ser procesados posteriormente.\n",
    "    '''\n",
    "    medidas = []\n",
    "    with open(fichero, 'r') as f:\n",
    "        lector = csv.reader(f)\n",
    "        next(lector)\n",
    "        for sexo, longitud, diametro, altura, peso, edad in lector:\n",
    "            longitud = float(longitud)\n",
    "            diametro = float(diametro)\n",
    "            altura = float(altura)\n",
    "            peso = float(peso)\n",
    "            edad = float(edad)\n",
    "            medidas.append((sexo, longitud, diametro, altura, peso, edad))\n",
    "    return medidas"
   ]
  },
  {
   "cell_type": "code",
   "execution_count": 4,
   "metadata": {},
   "outputs": [
    {
     "name": "stdout",
     "output_type": "stream",
     "text": [
      "4177 [('M', 0.455, 0.365, 0.095, 0.514, 15.0), ('M', 0.35, 0.265, 0.09, 0.2255, 7.0)]\n"
     ]
    }
   ],
   "source": [
    "# Test de la función lee_moluscos\n",
    "medidas = lee_moluscos(r'moluscos.csv')\n",
    "\n",
    "# La salida esperada de la siguiente instrucción es: \n",
    "#    4177 [('M', 0.455, 0.365, 0.095, 0.514, 15.0), ('M', 0.35, 0.265, 0.09, 0.2255, 7.0)]\n",
    "print(len(medidas), medidas[:2])"
   ]
  },
  {
   "cell_type": "markdown",
   "metadata": {
    "collapsed": true
   },
   "source": [
    "## 2. Consulta y filtrado (6 puntos)"
   ]
  },
  {
   "cell_type": "markdown",
   "metadata": {},
   "source": [
    "Una vez que hemos cargado los datos en una estructura en memoria ya podemos empezar procesarlos. En esta sección implementaremos algunas funciones de consulta y filtrado que nos permitirán trabajar con ellos.\n",
    "\n",
    "La primera función que implementaremos se llama <code>numero_ejemplares_por_sexo</code>. La función toma una lista de tuplas de medidas, y produce como salida un diccionario con el número de ejemplares de cada sexo presente en la colección:"
   ]
  },
  {
   "cell_type": "code",
   "execution_count": 5,
   "metadata": {},
   "outputs": [],
   "source": [
    "def numero_ejemplares_por_sexo(medidas):\n",
    "    ''' Calcula el número de ejemplares por sexo presentes en la colección\n",
    "\n",
    "    Toma como entrada una lista de tuplas de medidas. Produce como salida un\n",
    "    diccionario cuyas claves son los posibles sexos ('M', 'F', 'I') y los valores\n",
    "    son el número de ejemplares de cada sexo.\n",
    "    '''\n",
    "    diccionario = {}\n",
    "    diccionario[\"M\"] = 0\n",
    "    diccionario[\"F\"] = 0\n",
    "    diccionario[\"I\"] = 0\n",
    "    for i in medidas:\n",
    "        if i[0] == \"M\":\n",
    "            diccionario[\"M\"] = diccionario[\"M\"] + 1\n",
    "            \n",
    "        if i[0] == \"F\":\n",
    "            diccionario[\"F\"] = diccionario[\"F\"] + 1\n",
    "            \n",
    "        if i[0] == \"I\":\n",
    "            diccionario[\"I\"] = diccionario[\"I\"] + 1\n",
    "            \n",
    "    return diccionario"
   ]
  },
  {
   "cell_type": "code",
   "execution_count": 6,
   "metadata": {},
   "outputs": [
    {
     "name": "stdout",
     "output_type": "stream",
     "text": [
      "1528\n",
      "1307\n",
      "1342\n"
     ]
    }
   ],
   "source": [
    "# Test de la función numero_ejemplares_por_sexo\n",
    "diccionario = numero_ejemplares_por_sexo(medidas)\n",
    "\n",
    "# La salida esperada de las siguientes instrucciones es: \n",
    "#   1528\n",
    "#   1307\n",
    "#   1342\n",
    "print(diccionario['M'])\n",
    "print(diccionario['F'])\n",
    "print(diccionario['I'])"
   ]
  },
  {
   "cell_type": "markdown",
   "metadata": {},
   "source": [
    "La segunda función se llama <code>filtra_por_volumen</code>, toma una lista de tuplas de medidas y selecciona solo aquellas cuyo volumen estimado se encuentra entre los valores <code>max_volumen</code> y <code>min_volumen</code>. Para ello nos apoyaremos en la función <code>volumen_estimado</code> que se proporciona implementada en la siguiente celda:"
   ]
  },
  {
   "cell_type": "code",
   "execution_count": 8,
   "metadata": {},
   "outputs": [],
   "source": [
    "def volumen_estimado(longitud, diametro, altura):\n",
    "    ''' Estimación del volumen a partir de longitud, diámetro y altura\n",
    "    '''\n",
    "    volumen = 3.14 * longitud * diametro * (altura/2)\n",
    "    return volumen\n",
    "    \n",
    "\n",
    "def filtra_por_volumen(medidas, min_volumen, max_volumen):\n",
    "    ''' Selecciona tuplas de medidas en función del volumen estimado\n",
    "\n",
    "    Toma como entrada una lista de tuplas de medidas, y produce como\n",
    "    salida otra lista de tuplas en la que solo se incluyen aquellas cuyo\n",
    "    volumen se encuentra entre min_volumen y max_volumen.\n",
    "    '''\n",
    "    solucion = []\n",
    "    for i in medidas:\n",
    "        if volumen_estimado(i[1], i[2], i[3]) >= min_volumen and volumen_estimado(i[1], i[2], i[3]) <= max_volumen:\n",
    "            solucion.append(i)\n",
    "            \n",
    "    return solucion"
   ]
  },
  {
   "cell_type": "code",
   "execution_count": 9,
   "metadata": {},
   "outputs": [
    {
     "name": "stdout",
     "output_type": "stream",
     "text": [
      "2158 [('F', 0.53, 0.415, 0.15, 0.7775, 20.0), ('F', 0.55, 0.44, 0.15, 0.8945, 19.0)]\n"
     ]
    }
   ],
   "source": [
    "# Test de la función filtra_por_volumen\n",
    "filtradas = filtra_por_volumen(medidas, 0.05, 0.2)\n",
    "\n",
    "# La salida esperada de la siguiente instrucción es: \n",
    "# 2158 [('F', 0.53, 0.415, 0.15, 0.7775, 20.0), ('F', 0.55, 0.44, 0.15, 0.8945, 19.0)]\n",
    "print(len(filtradas), filtradas[:2])"
   ]
  },
  {
   "cell_type": "markdown",
   "metadata": {},
   "source": [
    "La última función de consulta se llama <code>agrupa_por_volumen</code>. Toma como entrada una lista de tuplas de medidas y una lista de rangos de volúmenes, y produce como salida un diccionario cuyas claves son los rangos de volúmenes. Los valores del diccionario son listas de tuplas con las correspondientes medidas. Cada rango de volumen es una tupla con los dos límites del rango, por ejemplo <code>(0.5,0.7)</code>."
   ]
  },
  {
   "cell_type": "code",
   "execution_count": null,
   "metadata": {
    "collapsed": true
   },
   "outputs": [],
   "source": [
    "def agrupa_por_volumen(medidas, rangos):\n",
    "    ''' Crea un diccionario de medidas indexado por rangos de volúmenes\n",
    "    \n",
    "    Toma como entrada una lista de tuplas de medidas y una lista de rangos de \n",
    "    volúmenes. Cada rango de volumen se determina con una tupla con los límites\n",
    "    inferior y superior del rango. Por ejemplo, una posible lista de rangos es:\n",
    "        [(0.0,0.05), (0.05,0.1), (0.1,0.15), (0.15,0.2)]\n",
    "    \n",
    "    Produce como salida un diccionario cuyas claves son cada uno de los rangos,\n",
    "    y los valores serán las listas de tuplas de medidas cuyo volumen está dentro\n",
    "    de cada rango.\n",
    "    '''\n",
    "    pass"
   ]
  },
  {
   "cell_type": "code",
   "execution_count": null,
   "metadata": {
    "collapsed": true
   },
   "outputs": [],
   "source": [
    "# Test de la función agrupa_por_volumen\n",
    "grupos = agrupa_por_volumen(medidas, [(0.0,0.05), (0.05,0.1), (0.1,0.15), (0.15,0.2)])\n",
    "\n",
    "# La salida esperada de las siguientes instrucciones es: \n",
    "#     (0.0, 0.05) 2016 [('M', 0.455, 0.365, 0.095, 0.514, 15.0), ('M', 0.35, 0.265, 0.09, 0.2255, 7.0)]\n",
    "#     (0.05, 0.1) 1768 [('F', 0.53, 0.415, 0.15, 0.7775, 20.0), ('F', 0.55, 0.44, 0.15, 0.8945, 19.0)]\n",
    "#     (0.1, 0.15) 370 [('F', 0.68, 0.55, 0.175, 1.798, 19.0), ('F', 0.705, 0.55, 0.2, 1.7095, 13.0)]\n",
    "#     (0.15, 0.2) 20 [('M', 0.735, 0.59, 0.225, 1.756, 21.0), ('M', 0.73, 0.595, 0.23, 2.8255, 17.0)]\n",
    "for rango in grupos:\n",
    "    print(rango, len(grupos[rango]), grupos[rango][:2])"
   ]
  },
  {
   "cell_type": "markdown",
   "metadata": {},
   "source": [
    "## 3. Visualización (2 puntos)"
   ]
  },
  {
   "cell_type": "markdown",
   "metadata": {},
   "source": [
    "La función de visualización que implementaremos será <code>muestra_puntos_longitud_diametro</code>. Toma como entrada una lista de tuplas de medidas y genera un diagrama de puntos (longitud,diamentro) usando un color distinto para cada sexo."
   ]
  },
  {
   "cell_type": "code",
   "execution_count": null,
   "metadata": {
    "collapsed": true
   },
   "outputs": [],
   "source": [
    "def muestra_puntos_longitud_diametro(medidas):\n",
    "    ''' Genera una diagrama de puntos con la distribución por sexo\n",
    "\n",
    "    Toma como entrada una lista de tuplas de medidas y genera un diagrama de puntos\n",
    "    (longitud,diamentro) usando un color distinto para cada uno de los tres sexos\n",
    "    presentes en la colección.\n",
    "    \n",
    "    Se usarán las siguientes instrucciones matplotlib para generar el diagrama\n",
    "    de puntos:\n",
    "        plt.scatter(longitudes_M, diametros_M, color='blue', marker='.')\n",
    "        plt.scatter(longitudes_F, diametros_F, color='red', marker='.')\n",
    "        plt.scatter(longitudes_I, diametros_I, color='green', marker='.')\n",
    "        plt.show()\n",
    "    '''\n",
    "    pass"
   ]
  },
  {
   "cell_type": "markdown",
   "metadata": {},
   "source": [
    "La salida de la celda de test debería ser la siguiente:\n",
    "![title](./diagrama_puntos.png)"
   ]
  },
  {
   "cell_type": "code",
   "execution_count": null,
   "metadata": {
    "collapsed": true
   },
   "outputs": [],
   "source": [
    "# Test de la función muestra_puntos_longitud_diametro\n",
    "muestra_puntos_longitud_diametro(medidas)"
   ]
  }
 ],
 "metadata": {
  "kernelspec": {
   "display_name": "Python 3",
   "language": "python",
   "name": "python3"
  },
  "language_info": {
   "codemirror_mode": {
    "name": "ipython",
    "version": 3
   },
   "file_extension": ".py",
   "mimetype": "text/x-python",
   "name": "python",
   "nbconvert_exporter": "python",
   "pygments_lexer": "ipython3",
   "version": "3.8.8"
  }
 },
 "nbformat": 4,
 "nbformat_minor": 2
}
