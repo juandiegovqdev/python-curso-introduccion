{
 "cells": [
  {
   "cell_type": "markdown",
   "metadata": {},
   "source": [
    "# Fundamentos de la Programación (Grado en Ingeniería de la Salud)\n",
    "## Ejercicio \"La Liga\" (9 de diciembre de 2020)"
   ]
  },
  {
   "cell_type": "markdown",
   "metadata": {},
   "source": [
    "Antes de empezar, ejecutaremos la siguiente celda con las importaciones necesarias para poder realizar el ejercicio:"
   ]
  },
  {
   "cell_type": "code",
   "execution_count": 1,
   "metadata": {},
   "outputs": [],
   "source": [
    "import csv\n",
    "from datetime import datetime\n",
    "from matplotlib import pyplot as plt\n",
    "from collections import namedtuple"
   ]
  },
  {
   "cell_type": "markdown",
   "metadata": {},
   "source": [
    "## 1. Carga de datos (0.5 puntos)"
   ]
  },
  {
   "attachments": {},
   "cell_type": "markdown",
   "metadata": {},
   "source": [
    "Tomaremos la información de un fichero de entrada llamado <code>la_liga.csv</code> en el que se encuentran registrados datos de partidos de fútbol de la liga española desde 2014 hasta 2020. El fichero se encuentra en la carpeta <code>./data/</code>. Cada línea del fichero de entrada contiene las siguientes informaciones:\n",
    "\n",
    "- **Date:** fecha en la que se jugó el partido. \n",
    "- **Season:** temporada a la que pertenece el partido.\n",
    "- **Home_Team:** equipo local.\n",
    "- **Away_Team:** equipo visitante.\n",
    "- **Home_Goals:** goles del equipo local.\n",
    "- **Away_Goals:** goles del equipo visitante.\n",
    "\n",
    "He aquí un fragmento con las primeras líneas del fichero de entrada: \n",
    "\n",
    "<img src=\"./img/datos.png\" alt=\"Drawing\" style=\"width:12cm;\"/>\n",
    "\n",
    "Como se puede observar, los registros no están ordenados por fecha. Necesitaremos ordenarlos por ese campo para las consultas que realizaremos.\n",
    "\n",
    "La primera función que implementaremos será <code>lee_partidos</code>. Será la encargada de leer los datos del fichero de entrada, y devolver una lista de tuplas con dichos datos **ordenada por fecha**."
   ]
  },
  {
   "cell_type": "code",
   "execution_count": null,
   "metadata": {},
   "outputs": [],
   "source": [
    "Partido = namedtuple('Partido', 'fecha temporada local visitante goles_local goles_visitante')\n",
    "\n",
    "def lee_partidos(fichero):\n",
    "    ''' Lee el fichero de entrada y devuelve una lista de registros ordenados por fecha.\n",
    "\n",
    "    ENTRADA:\n",
    "       - fichero: nombre del fichero de entrada\n",
    "    SALIDA:\n",
    "       - lista de partidos -> [Partido(datetime, str, str, str, int, int)]\n",
    "       \n",
    "    Se llevarán a cabo las conversiones necesarias. Las fechas deben convertirse a objetos 'datetime' \n",
    "    con la siguiente instrucción:\n",
    "                datetime.strptime(fecha, '%Y-%m-%d')\n",
    "                \n",
    "    La lista de partidos resultantes debe estar ordenada por fechas.\n",
    "    '''\n",
    "    registros = []\n",
    "    with open(fichero, 'r', encoding='utf-8') as f:\n",
    "        lector = csv.reader(f)\n",
    "        next(lector)\n",
    "        registros = [Partido(datetime.strptime(fecha, '%Y-%m-%d'), temporada, local, visitante, int(goles_local), int(goles_visitante))\n",
    "                    for fecha, temporada, local, visitante, goles_local, goles_visitante in lector]\n",
    "    return sorted(registros)"
   ]
  },
  {
   "cell_type": "code",
   "execution_count": null,
   "metadata": {},
   "outputs": [],
   "source": [
    "# TEST de 'lee_partidos', la salida esperada es:\n",
    "#   2281 \n",
    "#[Partido(fecha=datetime.datetime(2014, 8, 23, 0, 0), temporada='2014/2015', local='Almería', visitante='Espanyol', goles_local=1, goles_visitante=1), \n",
    "# Partido(fecha=datetime.datetime(2014, 8, 23, 0, 0), temporada='2014/2015', local='Granada', visitante='Deportivo La Coruña', goles_local=2, goles_visitante=1), \n",
    "# Partido(fecha=datetime.datetime(2014, 8, 23, 0, 0), temporada='2014/2015', local='Málaga', visitante='Athletic Club', goles_local=1, goles_visitante=0), \n",
    "# Partido(fecha=datetime.datetime(2014, 8, 23, 0, 0), temporada='2014/2015', local='Sevilla', visitante='Valencia', goles_local=1, goles_visitante=1),\n",
    "# Partido(fecha=datetime.datetime(2014, 8, 24, 0, 0), temporada='2014/2015', local='Barcelona', visitante='Elche', goles_local=3, goles_visitante=0)]\n",
    "PARTIDOS = lee_partidos('./data/la_liga.csv')\n",
    "print(len(PARTIDOS))\n",
    "print(PARTIDOS[:5])"
   ]
  },
  {
   "cell_type": "markdown",
   "metadata": {},
   "source": [
    "## 2. Consulta y filtrado (7.5 puntos)"
   ]
  },
  {
   "cell_type": "markdown",
   "metadata": {},
   "source": [
    "Una vez que hemos cargado los datos en una estructura en memoria ya podemos empezar a procesarlos. En esta sección implementaremos algunas funciones de consulta y filtrado que nos permitirán trabajar con ellos.\n",
    "\n",
    "La primera función se llama <code>calcula_equipos</code> y obtiene la lista de equipos, ordenada alfabéticamente, que han jugado algún partido como local o como visitantes."
   ]
  },
  {
   "cell_type": "code",
   "execution_count": null,
   "metadata": {},
   "outputs": [],
   "source": [
    "def calcula_equipos(partidos):\n",
    "    ''' Equipos que han jugado al menos un partido como local o como visitante.\n",
    "    \n",
    "    ENTRADA:\n",
    "       - partidos: lista de partidos -> [Partido(datetime, str, str, str, int, int)]\n",
    "    SALIDA:\n",
    "       - Lista de equipos ordenanda alfabéticamente -> [str]\n",
    "    '''\n",
    "    pass"
   ]
  },
  {
   "cell_type": "code",
   "execution_count": null,
   "metadata": {},
   "outputs": [],
   "source": [
    "# TEST de 'calcula_equipos', la salida esperada es:\n",
    "#   105\n",
    "#   ['Almería', 'Athletic Club', 'Atlético Madrid', 'Barcelona', 'Celta de Vigo']\n",
    "print(len(calcula_equipos(PARTIDOS)))\n",
    "print(calcula_equipos(PARTIDOS)[:5])"
   ]
  },
  {
   "cell_type": "markdown",
   "metadata": {},
   "source": [
    "La siguiente función es <code>calcula_puntos_partido</code>. La función toma un único partido y devuelve un diccionario con los puntos que ha obtenido cada uno de los dos equipos en ese partido (0, 1 ó 3)."
   ]
  },
  {
   "cell_type": "code",
   "execution_count": null,
   "metadata": {},
   "outputs": [],
   "source": [
    "def calcula_puntos_partido(partido):\n",
    "    ''' Puntos que ha obtenido cada equipo tras el resultado del partido.\n",
    "    \n",
    "    ENTRADA:\n",
    "       - partido: tupla con los datos del partido ->  Partido(datetime, str, str, str, int, int)\n",
    "    SALIDA:\n",
    "       - Diccionario con los puntos obtenidos por cada equipo -> {str:int}\n",
    "       \n",
    "    Los puntos otorgados por cada resultado son:\n",
    "        - Victoria: 3 puntos\n",
    "        - Empate: 1 punto\n",
    "        - Derrota: 0 puntos\n",
    "    '''\n",
    "    pass"
   ]
  },
  {
   "cell_type": "code",
   "execution_count": null,
   "metadata": {},
   "outputs": [],
   "source": [
    "# TEST de 'calcula_puntos_partido', la salida esperada es:\n",
    "#  Almería-Espanyol: 1-1\n",
    "#  {'Almería': 1, 'Espanyol': 1} \n",
    "#\n",
    "#  Granada-Deportivo La Coruña: 2-1\n",
    "#  {'Granada': 3, 'Deportivo La Coruña': 0} \n",
    "#\n",
    "#  Málaga-Athletic Club: 1-0\n",
    "#  {'Málaga': 3, 'Athletic Club': 0} \n",
    "#\n",
    "#  Sevilla-Valencia: 1-1\n",
    "#  {'Sevilla': 1, 'Valencia': 1} \n",
    "\n",
    "for i in range(4):\n",
    "    p= PARTIDOS[i]\n",
    "    puntos = calcula_puntos_partido(p)\n",
    "    print('{}-{}: {}-{}'.format(p.local, p.visitante, p.goles_local, p.goles_visitante))\n",
    "    print(puntos, '\\n')"
   ]
  },
  {
   "cell_type": "markdown",
   "metadata": {},
   "source": [
    "La siguiente función que implementarremos es <code>calcula_puntos_equipo</code>, que calcula el total de puntos que ha obtenido un equipo en una lista de partidos."
   ]
  },
  {
   "cell_type": "code",
   "execution_count": null,
   "metadata": {},
   "outputs": [],
   "source": [
    "def calcula_puntos_equipo(partidos, equipo):\n",
    "    ''' Puntos acumulados por un equipo en una lista de partidos\n",
    "    \n",
    "    ENTRADA:\n",
    "       - partidos: lista de partidos -> [Partido(datetime, str, str, str, int, int)]\n",
    "       - equipo: nombre del equipo del que se quieren calcular los puntos -> str\n",
    "    SALIDA:\n",
    "       - suma de los puntos obtenidos ->  int\n",
    "    '''\n",
    "    pass"
   ]
  },
  {
   "cell_type": "code",
   "execution_count": null,
   "metadata": {},
   "outputs": [],
   "source": [
    "# TEST de 'calcula_puntos_equipo', la salida esperada es:\n",
    "#   Real Betis: 235\n",
    "#   Sevilla: 387\n",
    "#   Barcelona: 537\n",
    "#   Real Madrid: 506\n",
    "for equipo in ['Real Betis', 'Sevilla', 'Barcelona', 'Real Madrid']:\n",
    "    puntos = calcula_puntos_equipo(PARTIDOS, equipo)\n",
    "    print('{}: {}'.format(equipo, puntos))"
   ]
  },
  {
   "cell_type": "markdown",
   "metadata": {},
   "source": [
    "La siguiente función es <code>calcula_secuencia_puntos_equipo</code>, que obtiene la secuencia de puntos obtenidos por un equipo entre dos fechas, ambas incluidas."
   ]
  },
  {
   "cell_type": "code",
   "execution_count": null,
   "metadata": {},
   "outputs": [],
   "source": [
    "def calcula_secuencia_puntos_equipo(partidos, equipo, fecha_inicio, fecha_fin):\n",
    "    ''' Secuencia de puntos obtenidos por un equipo entre dos fechas, ambas incluidas.\n",
    "    \n",
    "    ENTRADA:\n",
    "       - partidos: lista de partidos -> [Partido(datetime, str, str, str, int, int)]\n",
    "       - equipo: nombre del equipo del que se quiere calcular la secuencia de puntos -> str\n",
    "       - fecha_inicio: fecha incial del rango de fechas de los partidos a considerar\n",
    "       - fecha_fin: fecha final del rango de fechas de los partidos a considerar\n",
    "    SALIDA:\n",
    "       - secuencia de puntos obtenidos ->  [int]\n",
    "       \n",
    "    NOTA:\n",
    "       - Puede ayudar filtrar primero los partidos para quedarnos solo con los del equipo.\n",
    "    '''\n",
    "    pass"
   ]
  },
  {
   "cell_type": "code",
   "execution_count": null,
   "metadata": {},
   "outputs": [],
   "source": [
    "# TEST de 'calcula_secuencia_puntos_equipo', la salida esperada es:\n",
    "#   Real Betis: [0, 1, 0, 3, 0, 0, 1, 3, 0, 0, 0]\n",
    "#   Sevilla: [3, 1, 1, 1, 1, 3, 3, 3, 3, 1, 3]\n",
    "#   Barcelona: [3, 3, 1, 3, 1, 1, 3, 3, 3, 0, 3]\n",
    "#   Real Madrid: [3, 3, 3, 3, 3, 3, 3, 3, 3, 3, 1]\n",
    "for equipo in ['Real Betis', 'Sevilla', 'Barcelona', 'Real Madrid']:\n",
    "    inicio = datetime.strptime('2020-06-01', '%Y-%m-%d')\n",
    "    fin = datetime.strptime('2020-08-01', '%Y-%m-%d')\n",
    "    puntos = calcula_secuencia_puntos_equipo(PARTIDOS, equipo, inicio, fin)\n",
    "    print('{}: {}'.format(equipo, puntos))"
   ]
  },
  {
   "cell_type": "markdown",
   "metadata": {},
   "source": [
    "La siguiente función es <code>goles_por_temporada</code>, y calcula un diccionario con el número de goles totales marcados en cada temporada."
   ]
  },
  {
   "cell_type": "code",
   "execution_count": null,
   "metadata": {},
   "outputs": [],
   "source": [
    "def calcula_goles_por_temporada(partidos):\n",
    "    ''' Cálculo del número de goles por temporada\n",
    "    \n",
    "    ENTRADA:\n",
    "       - partidos: lista de partidos -> [Partido(datetime, str, str, str, int, int)]\n",
    "    SALIDA:\n",
    "       - diccionario con el número de goles por temporada ->  {str:int}\n",
    "    '''\n",
    "    pass"
   ]
  },
  {
   "cell_type": "code",
   "execution_count": null,
   "metadata": {},
   "outputs": [],
   "source": [
    "# TEST de 'calcula_goles_por_temporada', la salida esperada es:\n",
    "#  {'2019/2020': 942,\n",
    "#   '2018/2019': 983,\n",
    "#   '2016/2017': 1118,\n",
    "#   '2017/2018': 1024,\n",
    "#   '2015/2016': 1043,\n",
    "#   '2014/2015': 1009}\n",
    "calcula_goles_por_temporada(PARTIDOS)"
   ]
  },
  {
   "cell_type": "markdown",
   "metadata": {},
   "source": [
    "## 3. Visualización (2 puntos)"
   ]
  },
  {
   "cell_type": "markdown",
   "metadata": {},
   "source": [
    "La función de visualización que implementaremos será <code>muestra_goles_por_equipo</code>. Toma como entrada una lista de partidos, y muestra un diagrama de barras con el número de goles marcados por los equipos más goleadores."
   ]
  },
  {
   "cell_type": "code",
   "execution_count": null,
   "metadata": {},
   "outputs": [],
   "source": [
    "def muestra_goles_por_equipo(partidos, top=10):\n",
    "    ''' Genera un diagrama de barras con el número de goles marcados por los equipos más goleadores.\n",
    "    \n",
    "    ENTRADA:\n",
    "        - partidos: lista de partidos -> [Partido(datetime, str, str, str, int, int)]\n",
    "        - top: número máximo de equipos a mostrar (por defecto, 10) -> int\n",
    "    SALIDA EN PANTALLA:\n",
    "        - Diagrama de barras con los equipos en el eje 'y', y los goles en el eje 'x'\n",
    "           \n",
    "    Se usarán las siguientes instrucciones matplotlib para generar la gráfica:\n",
    "        plt.barh(equipos, goles)\n",
    "        plt.show()\n",
    "            \n",
    "    Donde las dos variables usadas significan lo siguiente:\n",
    "        - equipos: lista (de longitud 'top') de los equipos más goleadores, ordenada de mayor a menor número de goles\n",
    "        - goles: lista (alineada con la anterior) con el número de goles de cada equipo\n",
    "        \n",
    "    NOTA:\n",
    "       - Puede ayudar calcular previamente el diccionario 'goles_por_equipo', con el número de goles marcados por cada equipo.\n",
    "    '''\n",
    "    pass"
   ]
  },
  {
   "cell_type": "code",
   "execution_count": null,
   "metadata": {},
   "outputs": [],
   "source": [
    "# TEST de 'muestra_goles_por_equipo'\n",
    "muestra_goles_por_equipo(PARTIDOS)"
   ]
  },
  {
   "attachments": {},
   "cell_type": "markdown",
   "metadata": {},
   "source": [
    "La salida de la celda de test anterior debería ser la siguiente:\n",
    "\n",
    "\n",
    "<img src=\"./img/goles_por_equipo.png\" alt=\"Drawing\" style=\"width:10cm;\"/> "
   ]
  }
 ],
 "metadata": {
  "kernelspec": {
   "display_name": "Python 3 (ipykernel)",
   "language": "python",
   "name": "python3"
  },
  "language_info": {
   "codemirror_mode": {
    "name": "ipython",
    "version": 3
   },
   "file_extension": ".py",
   "mimetype": "text/x-python",
   "name": "python",
   "nbconvert_exporter": "python",
   "pygments_lexer": "ipython3",
   "version": "3.9.12"
  }
 },
 "nbformat": 4,
 "nbformat_minor": 4
}
