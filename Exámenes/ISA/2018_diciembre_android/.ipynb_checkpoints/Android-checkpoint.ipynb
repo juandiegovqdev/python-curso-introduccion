{
 "cells": [
  {
   "cell_type": "markdown",
   "metadata": {},
   "source": [
    "# Fundamentos de la Programación (Grado en Ingeniería de la Salud)\n",
    "## Ejercicio \"Aplicaciones Android\" (13 de diciembre 2018)"
   ]
  },
  {
   "cell_type": "markdown",
   "metadata": {},
   "source": [
    "Antes de empezar, ejecutaremos la siguiente celda con las importaciones necesarias para poder realizar el ejercicio:"
   ]
  },
  {
   "cell_type": "code",
   "execution_count": 1,
   "metadata": {},
   "outputs": [],
   "source": [
    "import csv\n",
    "from matplotlib import pyplot as plt"
   ]
  },
  {
   "cell_type": "markdown",
   "metadata": {},
   "source": [
    "## 1. Carga de datos (1 punto)"
   ]
  },
  {
   "cell_type": "markdown",
   "metadata": {},
   "source": [
    "Tomaremos los datos de un fichero de entrada llamado <code>aplicaciones_android.csv</code> en el que se encuentran registradas estadísticas sobre distintas aplicaciones del _android market_. El fichero se encuentra en la carpeta <code>./data</code>. Cada línea del fichero de entrada contiene las siguientes cuatro informaciones sobre una determinada aplicación:\n",
    "\n",
    "- **Category:** nombre de la categoría en la que se incluye la aplicación\n",
    "- **Rating:** puntuación media otorgada por los usuarios\n",
    "- **Reviews:** número de usuarios que han opinado sobre la aplicación\n",
    "- **Type:** tipo de la aplicación (<code>Free</code> o <code>Paid</code>)\n",
    "\n",
    "He aquí un fragmento con las primeras líneas del fichero de entrada:\n",
    "<pre>\n",
    "    Category,Rating,Reviews,Type\n",
    "    ART_AND_DESIGN,4.1,159,Free\n",
    "    ART_AND_DESIGN,3.9,967,Free\n",
    "    ART_AND_DESIGN,4.7,87510,Free\n",
    "    ART_AND_DESIGN,4.5,215644,Free\n",
    "    ART_AND_DESIGN,4.3,967,Free\n",
    "\n",
    "</pre>\n",
    "\n",
    "La primera función que implementaremos será la de lectura. Será la encargada de leer los datos del fichero de entrada y cargarlos en una lista de tuplas:"
   ]
  },
  {
   "cell_type": "code",
   "execution_count": 2,
   "metadata": {},
   "outputs": [],
   "source": [
    "def lee_aplicaciones(fichero):\n",
    "    ''' Lee el fichero de entrada y devuelve una lista de tuplas\n",
    "    \n",
    "    ENTRADA:\n",
    "       - fichero: nombre del fichero de entrada\n",
    "    SALIDA:\n",
    "       - lista de registros -> [(str, float, int, str)]\n",
    "\n",
    "    Hay que transformar ciertos elementos de la entrada en valores numéricos\n",
    "    para que puedan ser procesados posteriormente.\n",
    "    '''\n",
    "    registros = []\n",
    "    with open(fichero, 'r', encoding='utf-8') as f:\n",
    "        lector = csv.reader(f)\n",
    "        next(lector)\n",
    "        registros = [(categoria, float(valoracion), int(opiniones), tipo)\n",
    "                    for categoria, valoracion, opiniones, tipo in lector]\n",
    "    return registros"
   ]
  },
  {
   "cell_type": "code",
   "execution_count": 4,
   "metadata": {},
   "outputs": [
    {
     "name": "stdout",
     "output_type": "stream",
     "text": [
      "9366 [('ART_AND_DESIGN', 4.1, 159, 'Free'), ('ART_AND_DESIGN', 3.9, 967, 'Free')]\n"
     ]
    }
   ],
   "source": [
    "# Test de la función lee_estadisticas\n",
    "registros = lee_aplicaciones(r'aplicaciones_android.csv')\n",
    "\n",
    "# La salida esperada de la siguiente instrucción es: \n",
    "#    9366 [('ART_AND_DESIGN', 4.1, 159, 'Free'), ('ART_AND_DESIGN', 3.9, 967, 'Free')] \n",
    "print(len(registros), registros[:2])"
   ]
  },
  {
   "cell_type": "markdown",
   "metadata": {
    "collapsed": true
   },
   "source": [
    "## 2. Consulta y filtrado (7 puntos)"
   ]
  },
  {
   "cell_type": "markdown",
   "metadata": {},
   "source": [
    "Una vez que hemos cargado los datos en una estructura en memoria ya podemos empezar a procesarlos. En esta sección implementaremos algunas funciones de consulta y filtrado que nos permitirán trabajar con ellos.\n",
    "\n",
    "La primera función que implementaremos se llama <code>proporcion_gratuitas</code>. La función toma una lista de tuplas de registros y calcula qué proporción de aplicaciones son gratuitas:"
   ]
  },
  {
   "cell_type": "code",
   "execution_count": 5,
   "metadata": {},
   "outputs": [],
   "source": [
    "def proporcion_gratuitas(registros):\n",
    "    ''' Proporcion de aplicaciones gratuitas\n",
    "    \n",
    "    ENTRADA:\n",
    "       - registros: lista de registros -> [(str, float, int, str)]\n",
    "    SALIDA:\n",
    "       - proporcion de aplicacionres gratuitas -> float\n",
    "    '''\n",
    "    numeroAppsTotales = len(registros)\n",
    "    numeroAppsGratuitas = 0 \n",
    "    for i in registros:\n",
    "        if i[3] == \"Free\":\n",
    "            numeroAppsGratuitas = numeroAppsGratuitas + 1\n",
    "    return numeroAppsGratuitas/numeroAppsTotales        "
   ]
  },
  {
   "cell_type": "code",
   "execution_count": 6,
   "metadata": {},
   "outputs": [
    {
     "name": "stdout",
     "output_type": "stream",
     "text": [
      "0.9309203502028615\n"
     ]
    }
   ],
   "source": [
    "# Test de la función proporcion_gratuitas\n",
    "proporcion = proporcion_gratuitas(registros)\n",
    "\n",
    "# La salida esperada de la siguiente instrucción es: \n",
    "#   0.9309203502028615\n",
    "print(proporcion)"
   ]
  },
  {
   "cell_type": "markdown",
   "metadata": {},
   "source": [
    "La segunda función se llama <code>calcula_categorias</code>. Toma una lista de registros y produce como salida un conjunto con los nombres de todas las categorías distintas que aparecen en dicha lista de registros:\n"
   ]
  },
  {
   "cell_type": "code",
   "execution_count": 7,
   "metadata": {},
   "outputs": [],
   "source": [
    "def calcula_categorias(registros):\n",
    "    ''' Calcula las categorias presentes en una lista de registros\n",
    "    \n",
    "    ENTRADA:\n",
    "       - registros: lista de registros -> [(str, float, int, str)]\n",
    "    SALIDA:\n",
    "       - conjunto de categorias presentes en los registros -> {str}\n",
    "    '''\n",
    "    solucion = []\n",
    "    for i in registros:\n",
    "        solucion.append(i[0])\n",
    "    return set(solucion)"
   ]
  },
  {
   "cell_type": "code",
   "execution_count": 19,
   "metadata": {},
   "outputs": [
    {
     "name": "stdout",
     "output_type": "stream",
     "text": [
      "33 {'FAMILY', 'LIBRARIES_AND_DEMO', 'DATING', 'PRODUCTIVITY', 'COMICS', 'COMMUNICATION', 'HOUSE_AND_HOME', 'PERSONALIZATION', 'BEAUTY', 'PHOTOGRAPHY', 'GAME', 'SOCIAL', 'ART_AND_DESIGN', 'FINANCE', 'EDUCATION', 'HEALTH_AND_FITNESS', 'LIFESTYLE', 'TOOLS', 'PARENTING', 'MAPS_AND_NAVIGATION', 'FOOD_AND_DRINK', 'ENTERTAINMENT', 'SPORTS', 'BOOKS_AND_REFERENCE', 'AUTO_AND_VEHICLES', 'MEDICAL', 'NEWS_AND_MAGAZINES', 'TRAVEL_AND_LOCAL', 'BUSINESS', 'WEATHER', 'SHOPPING', 'EVENTS', 'VIDEO_PLAYERS'}\n"
     ]
    }
   ],
   "source": [
    "# Test de la función calcula_categorias\n",
    "categorias = calcula_categorias(registros)\n",
    "\n",
    "# La salida siguiente instrucción es la siguiente, al ser un conjunto el orden puede no coincidir: \n",
    "#    33 {'COMMUNICATION', 'SOCIAL', 'DATING', 'BOOKS_AND_REFERENCE', 'SHOPPING', 'EDUCATION', 'PHOTOGRAPHY', 'HOUSE_AND_HOME', \n",
    "#        'VIDEO_PLAYERS', 'LIFESTYLE', 'FINANCE', 'FOOD_AND_DRINK', 'MAPS_AND_NAVIGATION', 'MEDICAL', 'ENTERTAINMENT', \n",
    "#        'LIBRARIES_AND_DEMO', 'TRAVEL_AND_LOCAL', 'GAME', 'BUSINESS', 'PRODUCTIVITY', 'TOOLS', 'PERSONALIZATION', 'SPORTS',\n",
    "#        'HEALTH_AND_FITNESS', 'BEAUTY', 'ART_AND_DESIGN', 'PARENTING', 'NEWS_AND_MAGAZINES', 'FAMILY', 'EVENTS', 'WEATHER', \n",
    "#        'AUTO_AND_VEHICLES', 'COMICS'}\n",
    "print(len(categorias), categorias)"
   ]
  },
  {
   "cell_type": "markdown",
   "metadata": {},
   "source": [
    "La siguiente función se llama <code>filtra_por_categorias</code>. Toma una lista de registros y una lista de categorias, y selecciona solo los registros de las categorias indicadas:"
   ]
  },
  {
   "cell_type": "code",
   "execution_count": 20,
   "metadata": {},
   "outputs": [],
   "source": [
    "def filtra_por_categorias(registros, categorias):\n",
    "    ''' Selecciona registros por categorias\n",
    "    \n",
    "    ENTRADA:\n",
    "       - registros: lista de registros -> [(str, float, int, str)]\n",
    "       - categorias: lista de categorias a seleccionar -> [str]\n",
    "    SALIDA:\n",
    "       - lista de registros de las categorias indicadas -> [(str, float, int, str)]\n",
    "    '''\n",
    "    solucion = []\n",
    "    for i in registros:\n",
    "        if i[0] in categorias:\n",
    "            solucion.append(i)\n",
    "    return solucion"
   ]
  },
  {
   "cell_type": "code",
   "execution_count": 21,
   "metadata": {},
   "outputs": [
    {
     "name": "stdout",
     "output_type": "stream",
     "text": [
      "620 [('BEAUTY', 4.7, 18900, 'Free'), ('BEAUTY', 4.9, 49790, 'Free')]\n"
     ]
    }
   ],
   "source": [
    "# Test de la función filtra_por_categorias\n",
    "filtrados = filtra_por_categorias(registros, ['BEAUTY','SPORTS','SOCIAL'])\n",
    "\n",
    "# La salida esperada de la siguiente instrucción es: \n",
    "#    620 [('BEAUTY', 4.7, 18900, 'Free'), ('BEAUTY', 4.9, 49790, 'Free')] \n",
    "print(len(filtrados), filtrados[:2])"
   ]
  },
  {
   "cell_type": "markdown",
   "metadata": {},
   "source": [
    "La siguiente función de esta sección se llama <code>puntuacion_media_por_categoria</code>. Toma como entrada una lista de registros, y produce como salida un diccionario cuyas claves son las categorías. Los valores del diccionario son las puntuaciones medias correspondientes a cada categoría."
   ]
  },
  {
   "cell_type": "code",
   "execution_count": 22,
   "metadata": {},
   "outputs": [],
   "source": [
    "'''\n",
    "Función para obtener número de reseñas dada una categoría.\n",
    "'''\n",
    "def numeroReseñas(registros, categoria):\n",
    "    solucion = 0\n",
    "    for i in registros:\n",
    "        if categoria == i[0]:\n",
    "            solucion = solucion + 1\n",
    "    return solucion"
   ]
  },
  {
   "cell_type": "code",
   "execution_count": 23,
   "metadata": {},
   "outputs": [],
   "source": [
    "'''\n",
    "Función para obtener suma de todas las reseñas dada una categoría.\n",
    "'''\n",
    "def sumaReseñas(registros, categoria):\n",
    "    solucion = 0\n",
    "    for i in registros:\n",
    "        if categoria == i[0]:\n",
    "            solucion = solucion + i[1]\n",
    "    return solucion"
   ]
  },
  {
   "cell_type": "code",
   "execution_count": 26,
   "metadata": {},
   "outputs": [],
   "source": [
    "def puntuacion_media_por_categoria(registros):\n",
    "    ''' Crea un diccionario con la puntuación media por categorías\n",
    "    \n",
    "    ENTRADA:\n",
    "       - registros: lista de registros -> [(str, float, int, str)]\n",
    "    SALIDA:\n",
    "       - diccionario con la puntuación media por categoría -> {str: float}\n",
    "    '''\n",
    "    solucion = {}\n",
    "    for i in registros:\n",
    "        solucion[i[0]] = sumaReseñas(registros, i[0]) / numeroReseñas(registros, i[0])\n",
    "    return solucion"
   ]
  },
  {
   "cell_type": "code",
   "execution_count": 27,
   "metadata": {},
   "outputs": [
    {
     "name": "stdout",
     "output_type": "stream",
     "text": [
      "BEAUTY               4.279\n",
      "SPORTS               4.224\n",
      "SOCIAL               4.256\n",
      "ART_AND_DESIGN       4.358\n"
     ]
    }
   ],
   "source": [
    "# Test de la función puntuacion_media_por_categoria\n",
    "medias = puntuacion_media_por_categoria(registros)\n",
    "\n",
    "# La salida esperada de la siguiente instrucción es: \n",
    "#    BEAUTY               4.279\n",
    "#    SPORTS               4.224\n",
    "#    SOCIAL               4.256\n",
    "#    ART_AND_DESIGN       4.358\n",
    "for categoria in ['BEAUTY','SPORTS','SOCIAL', 'ART_AND_DESIGN']:\n",
    "    print('{:20} {:1.3f}'.format(categoria, medias[categoria]))"
   ]
  },
  {
   "cell_type": "markdown",
   "metadata": {},
   "source": [
    "## 3. Visualización (2 puntos)"
   ]
  },
  {
   "cell_type": "markdown",
   "metadata": {},
   "source": [
    "La función de visualización que implementaremos será <code>muestra_puntuaciones_medias</code>. Toma como entrada un diccionario de puntuaciones medias, y genera un diagrama de barras en el que cada barra se corresponde con la puntuación media de una categoría. La gráfica cumplirá los siguientes requisitos:\n",
    "- Las categorías se mostrarán ordenadas de mayor a menor puntuación media\n",
    "- Se mostrarán como máximo un número _limite_ de barras, siendo _limite_ un parámetro que recibe un número entero (o <code>None</code> si se decide mostrar todas las categorías)"
   ]
  },
  {
   "cell_type": "code",
   "execution_count": null,
   "metadata": {},
   "outputs": [],
   "source": [
    "def muestra_puntuaciones_medias(puntuaciones, limite=None):\n",
    "    ''' Genera una diagrama de barras con la puntuación media por categorías\n",
    "        \n",
    "        ENTRADA:\n",
    "           - puntuaciones: diccionario con la puntuación media por categoría -> {str: float}\n",
    "           - limite: número máximo de barras a mostrar -> int\n",
    "        SALIDA EN PANTALLA:\n",
    "           - diagrama de barras con la puntuación media por categoría:\n",
    "               * ordenadas de mayor a menor\n",
    "               * respetando el limite de barras indicado por el parámetro\n",
    "    \n",
    "        Se usarán las siguientes instrucciones matplotlib para generar el diagrama\n",
    "        de barras:\n",
    "            plt.barh(range(len(categorias)), puntuaciones_medias, tick_label=categorias)\n",
    "            plt.show()\n",
    "        \n",
    "        Donde las dos variables usadas significan lo siguiente:\n",
    "            - categorias: lista con los nombres de las categorias con las medias más altas\n",
    "                          (respetando el límite recibido como parámetro)\n",
    "            - puntuaciones_medias: lista con las puntuaciones medias correspondientes\n",
    "                                   (respetando el orden de la lista anterior)\n",
    "    '''\n",
    "    pass"
   ]
  },
  {
   "attachments": {
    "image.png": {
     "image/png": "[encoded data removed]"
    }
   },
   "cell_type": "markdown",
   "metadata": {},
   "source": [
    "Las salidas de las dos siguientes celdas de test deberían ser las siguientes:\n",
    "![image.png](attachment:image.png)"
   ]
  },
  {
   "cell_type": "code",
   "execution_count": null,
   "metadata": {},
   "outputs": [],
   "source": [
    "# Test de la función muestra_puntuaciones_medias sobre un diccionario de prueba\n",
    "medias_prueba = {'DATING': 3.971,\n",
    "                 'TOOLS': 4.047,\n",
    "                 'SOCIAL': 4.256,\n",
    "                 'ART_AND_DESIGN': 4.358}\n",
    "muestra_puntuaciones_medias(medias_prueba, 3)"
   ]
  },
  {
   "cell_type": "code",
   "execution_count": null,
   "metadata": {},
   "outputs": [],
   "source": [
    "# Test de la función muestra_puntuaciones_medias sobre el diccionario completo\n",
    "muestra_puntuaciones_medias(medias, 5)  # Solo se puede ejecutar si el ejercicio puntuacion_media_por_categoria está resuelto"
   ]
  }
 ],
 "metadata": {
  "kernelspec": {
   "display_name": "Python 3 (ipykernel)",
   "language": "python",
   "name": "python3"
  },
  "language_info": {
   "codemirror_mode": {
    "name": "ipython",
    "version": 3
   },
   "file_extension": ".py",
   "mimetype": "text/x-python",
   "name": "python",
   "nbconvert_exporter": "python",
   "pygments_lexer": "ipython3",
   "version": "3.9.7"
  }
 },
 "nbformat": 4,
 "nbformat_minor": 2
}
